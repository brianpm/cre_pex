{
 "cells": [
  {
   "cell_type": "code",
   "execution_count": 1,
   "metadata": {},
   "outputs": [],
   "source": [
    "from collections import namedtuple\n",
    "import xarray as xr\n",
    "import numpy as np\n",
    "\n",
    "import matplotlib as mpl\n",
    "import matplotlib.pyplot as plt\n",
    "from matplotlib.lines import Line2D\n",
    "\n",
    "from pathlib import Path\n",
    "\n",
    "# from sklearn.neighbors import KernelDensity\n",
    "import colorcet as cc\n",
    "\n",
    "from pathlib import Path\n",
    "import esmlab\n",
    "import scipy.stats as stats"
   ]
  },
  {
   "cell_type": "code",
   "execution_count": 2,
   "metadata": {},
   "outputs": [],
   "source": [
    "model_colors = {}\n",
    "for i, m in enumerate([\"cesm\", \"cnrm\", \"ipsl\", \"mri\"]):\n",
    "    model_colors[m] = cc.cm.glasbey_hv(i)\n",
    "# hard code locking to other blues, assumes CESM is first in list.\n",
    "model_colors['f-lock'] = cc.cm.glasbey_hv(5)\n",
    "model_colors['f-cntl'] = model_colors['f-lock']\n",
    "model_colors['c-lock'] = cc.cm.glasbey_hv(8)\n",
    "model_colors['c-cntl'] = model_colors['c-lock']"
   ]
  },
  {
   "cell_type": "code",
   "execution_count": 3,
   "metadata": {},
   "outputs": [],
   "source": [
    "def quick_load_var(loc, var, table, model, experiment, member):\n",
    "    fils = sorted(\n",
    "        list(Path(loc).glob(\"_\".join([var, table, model, experiment, member, \"*.nc\"])))\n",
    "    )\n",
    "    if len(fils) == 0:\n",
    "        raise IOError(\"Can not find the files.\")\n",
    "    elif len(fils) == 1:\n",
    "        ds = xr.open_dataset(fils[0])\n",
    "    else:\n",
    "        ds = xr.open_mfdataset(fils, combine=\"by_coords\")\n",
    "    return ds[var].compute()"
   ]
  },
  {
   "cell_type": "code",
   "execution_count": 4,
   "metadata": {},
   "outputs": [],
   "source": [
    "data_loc = Path(\"/Volumes/Glyph6TB/CMIP6\")"
   ]
  },
  {
   "cell_type": "code",
   "execution_count": 5,
   "metadata": {},
   "outputs": [],
   "source": [
    "## do these:\n",
    "\n",
    "exp0 = \"amip\"\n",
    "exp1 = \"amip-4xCO2\"\n",
    "exp3 = \"aqua-control\"\n",
    "exp4 = \"aqua-4xCO2\"\n",
    "\n",
    "sims = {\"cesm-amip\": (\"CESM2\", exp0, \"r1i1p1f1\"),\n",
    "        \"cesm-amip-4x\": (\"CESM2\", exp1, \"r1i1p1f1\"),\n",
    "        \"cesm-aqua\": (\"CESM2\", exp3, \"r1i1p1f1\"),\n",
    "        \"cesm-aqua-4x\": (\"CESM2\", exp4, \"r1i1p1f1\"),\n",
    "        \"ipsl-amip\": (\"IPSL-CM6A-LR\", exp0, \"r1i1p1f1\"),\n",
    "        \"ipsl-amip-4x\": (\"IPSL-CM6A-LR\", exp1, \"r1i1p1f1\"),\n",
    "        \"ipsl-aqua\": (\"IPSL-CM6A-LR\", exp3, \"r1i1p1f1\"),\n",
    "        \"ipsl-aqua-4x\": (\"IPSL-CM6A-LR\", exp4, \"r1i1p1f1\"),\n",
    "        \"cnrm-amip\": (\"CNRM-CM6-1\", exp0, \"r1i1p1f2\"),\n",
    "        \"cnrm-amip-4x\": (\"CNRM-CM6-1\", exp1, \"r1i1p1f2\"),\n",
    "        \"cnrm-aqua\": (\"CNRM-CM6-1\", exp3, \"r1i1p1f2\"),\n",
    "        \"cnrm-aqua-4x\": (\"CNRM-CM6-1\", exp4, \"r1i1p1f2\"),\n",
    "        \"mri-amip\" : (\"MRI-ESM2-0\", exp0, \"r1i1p1f1\"),\n",
    "        \"mri-amip-4x\" : (\"MRI-ESM2-0\", exp1, \"r1i1p1f1\"),\n",
    "       }"
   ]
  },
  {
   "cell_type": "code",
   "execution_count": 6,
   "metadata": {},
   "outputs": [
    {
     "name": "stdout",
     "output_type": "stream",
     "text": [
      "working on cesm-amip\n"
     ]
    },
    {
     "name": "stderr",
     "output_type": "stream",
     "text": [
      "/Users/brianpm/miniconda3/envs/py38/lib/python3.8/site-packages/xarray/conventions.py:490: SerializationWarning: variable 'pr' has multiple fill values {1e+20, 1e+20}, decoding all values to NaN.\n",
      "  new_vars[k] = decode_cf_variable(\n",
      "/Users/brianpm/miniconda3/envs/py38/lib/python3.8/site-packages/xarray/conventions.py:490: SerializationWarning: variable 'sftlf' has multiple fill values {1e+20, 1e+20}, decoding all values to NaN.\n",
      "  new_vars[k] = decode_cf_variable(\n",
      "/Users/brianpm/miniconda3/envs/py38/lib/python3.8/site-packages/xarray/core/nanops.py:142: RuntimeWarning: Mean of empty slice\n",
      "  return np.nanmean(a, axis=axis, dtype=dtype)\n"
     ]
    },
    {
     "name": "stdout",
     "output_type": "stream",
     "text": [
      "working on cesm-amip-4x\n"
     ]
    },
    {
     "name": "stderr",
     "output_type": "stream",
     "text": [
      "/Users/brianpm/miniconda3/envs/py38/lib/python3.8/site-packages/xarray/conventions.py:490: SerializationWarning: variable 'pr' has multiple fill values {1e+20, 1e+20}, decoding all values to NaN.\n",
      "  new_vars[k] = decode_cf_variable(\n",
      "/Users/brianpm/miniconda3/envs/py38/lib/python3.8/site-packages/xarray/conventions.py:490: SerializationWarning: variable 'sftlf' has multiple fill values {1e+20, 1e+20}, decoding all values to NaN.\n",
      "  new_vars[k] = decode_cf_variable(\n",
      "/Users/brianpm/miniconda3/envs/py38/lib/python3.8/site-packages/xarray/core/nanops.py:142: RuntimeWarning: Mean of empty slice\n",
      "  return np.nanmean(a, axis=axis, dtype=dtype)\n"
     ]
    },
    {
     "name": "stdout",
     "output_type": "stream",
     "text": [
      "working on cesm-aqua\n"
     ]
    },
    {
     "name": "stderr",
     "output_type": "stream",
     "text": [
      "/Users/brianpm/miniconda3/envs/py38/lib/python3.8/site-packages/xarray/conventions.py:490: SerializationWarning: variable 'pr' has multiple fill values {1e+20, 1e+20}, decoding all values to NaN.\n",
      "  new_vars[k] = decode_cf_variable(\n"
     ]
    },
    {
     "name": "stdout",
     "output_type": "stream",
     "text": [
      "working on cesm-aqua-4x\n",
      "working on ipsl-amip\n"
     ]
    },
    {
     "name": "stderr",
     "output_type": "stream",
     "text": [
      "/Users/brianpm/miniconda3/envs/py38/lib/python3.8/site-packages/xarray/core/nanops.py:142: RuntimeWarning: Mean of empty slice\n",
      "  return np.nanmean(a, axis=axis, dtype=dtype)\n"
     ]
    },
    {
     "name": "stdout",
     "output_type": "stream",
     "text": [
      "working on ipsl-amip-4x\n"
     ]
    },
    {
     "name": "stderr",
     "output_type": "stream",
     "text": [
      "/Users/brianpm/miniconda3/envs/py38/lib/python3.8/site-packages/xarray/core/nanops.py:142: RuntimeWarning: Mean of empty slice\n",
      "  return np.nanmean(a, axis=axis, dtype=dtype)\n"
     ]
    },
    {
     "name": "stdout",
     "output_type": "stream",
     "text": [
      "working on ipsl-aqua\n",
      "working on ipsl-aqua-4x\n",
      "working on cnrm-amip\n"
     ]
    },
    {
     "name": "stderr",
     "output_type": "stream",
     "text": [
      "/Users/brianpm/miniconda3/envs/py38/lib/python3.8/site-packages/xarray/core/nanops.py:142: RuntimeWarning: Mean of empty slice\n",
      "  return np.nanmean(a, axis=axis, dtype=dtype)\n"
     ]
    },
    {
     "name": "stdout",
     "output_type": "stream",
     "text": [
      "working on cnrm-amip-4x\n"
     ]
    },
    {
     "name": "stderr",
     "output_type": "stream",
     "text": [
      "/Users/brianpm/miniconda3/envs/py38/lib/python3.8/site-packages/xarray/core/nanops.py:142: RuntimeWarning: Mean of empty slice\n",
      "  return np.nanmean(a, axis=axis, dtype=dtype)\n"
     ]
    },
    {
     "name": "stdout",
     "output_type": "stream",
     "text": [
      "working on cnrm-aqua\n",
      "working on cnrm-aqua-4x\n",
      "working on mri-amip\n"
     ]
    },
    {
     "name": "stderr",
     "output_type": "stream",
     "text": [
      "/Users/brianpm/miniconda3/envs/py38/lib/python3.8/site-packages/xarray/core/nanops.py:142: RuntimeWarning: Mean of empty slice\n",
      "  return np.nanmean(a, axis=axis, dtype=dtype)\n"
     ]
    },
    {
     "name": "stdout",
     "output_type": "stream",
     "text": [
      "working on mri-amip-4x\n"
     ]
    },
    {
     "name": "stderr",
     "output_type": "stream",
     "text": [
      "/Users/brianpm/miniconda3/envs/py38/lib/python3.8/site-packages/xarray/core/nanops.py:142: RuntimeWarning: Mean of empty slice\n",
      "  return np.nanmean(a, axis=axis, dtype=dtype)\n"
     ]
    }
   ],
   "source": [
    "# for each simulation, I want to get:\n",
    "# - global mean precip\n",
    "# - global mean precip, ocean only\n",
    "# - tropical mean precip\n",
    "# - tropical mean precip, ocean only\n",
    "# - tropical UNWEIGHTED mean precip, ocean only\n",
    "# - 95th percentile of tropical ocean precip\n",
    "# - sum of tropical ocean precip with p >= p95\n",
    "# - sum of tropical ocean precip\n",
    "# Define a namedtuple:\n",
    "Result = namedtuple('Result', ['case', 'gavg', 'goavg', 'tavg', 'toavg', 'toavg_uw', 'p95', 'tsum', 'xsum'])\n",
    "\n",
    "\n",
    "def get_pr_info(dloc, model, experiment, member):\n",
    "    tropics = slice(-30,30)\n",
    "    pr = quick_load_var(data_loc, \"pr\", \"day\", model, experiment, member)\n",
    "    lat = pr['lat']\n",
    "    wgt = np.cos(np.radians(lat))\n",
    "    gavg = esmlab.weighted_mean(pr.mean(dim=('time','lon')), dim=[\"lat\"], weights=wgt).item()\n",
    "    tavg = esmlab.weighted_mean(pr.sel(lat=tropics).mean(dim=('time','lon')), dim=[\"lat\"], weights=wgt.sel(lat=tropics)).item()\n",
    "    if 'amip' in c:\n",
    "        land = quick_load_var(data_loc, \"sftlf\", \"fx\", model, experiment, member)\n",
    "        land_trop = land.sel(lat=tropics)\n",
    "        msk, _ = xr.broadcast(land, pr)\n",
    "        pr = pr.where(msk <= 0)\n",
    "        goavg = esmlab.weighted_mean(pr.mean(dim=('time','lon')), dim=[\"lat\"], weights=wgt).item()\n",
    "        toavg = esmlab.weighted_mean(pr.sel(lat=tropics).mean(dim=('time','lon')), dim=[\"lat\"], weights=wgt.sel(lat=tropics)).item()\n",
    "    else:\n",
    "        goavg = gavg\n",
    "        toavg = tavg\n",
    "    ptrop = pr.sel(lat=tropics)\n",
    "    toavg_uw = ptrop.mean().item()\n",
    "    p95 = np.nanquantile(ptrop.values.flatten(), 0.95)\n",
    "    tsum = np.nansum(ptrop.values.flatten())\n",
    "    xsum = np.nansum(ptrop.where(ptrop>=p95).values.flatten())\n",
    "    return Result(\"_\".join([model,experiment,member]), gavg, goavg, tavg, toavg, toavg_uw, p95, tsum, xsum)\n",
    "\n",
    "\n",
    "R = {}\n",
    "for c in sims:\n",
    "    print(f\"working on {c}\")\n",
    "    R[c] = get_pr_info(data_loc, *sims[c])"
   ]
  },
  {
   "cell_type": "code",
   "execution_count": 7,
   "metadata": {},
   "outputs": [],
   "source": [
    "def frac_diff(acase, bcase):\n",
    "    return (bcase - acase)/acase"
   ]
  },
  {
   "cell_type": "code",
   "execution_count": 21,
   "metadata": {},
   "outputs": [
    {
     "data": {
      "image/png": "[encoded data removed]",
      "text/plain": [
       "<Figure size 432x288 with 1 Axes>"
      ]
     },
     "metadata": {
      "needs_background": "light"
     },
     "output_type": "display_data"
    }
   ],
   "source": [
    "\n",
    "pairs1 = []\n",
    "for m in ('cesm', 'cnrm', 'ipsl', 'mri'):\n",
    "    for a in ('amip', 'aqua'):\n",
    "        if \"-\".join([m,a]) in R:\n",
    "            pairs1.append((\"-\".join([m,a]), \"-\".join([m,a,'4x'])))  # base vs p4K\n",
    "\n",
    "\n",
    "fig, ax = plt.subplots()\n",
    "\n",
    "# now get the fractional change in extreme rain\n",
    "# for each experiment and keep in a dict:\n",
    "# the key should just be the 'experiment' name\n",
    "delta_xfrac = {}\n",
    "delta_mean = {}\n",
    "for c in pairs1:\n",
    "    k = c[1]\n",
    "    model = k.split('-')[0]\n",
    "    if (c[0] in R) and (c[1] in R):\n",
    "        xfrac0 = R[c[0]].xsum/R[c[0]].tsum\n",
    "        xfrac1 = R[c[1]].xsum/R[c[1]].tsum\n",
    "        delta_xfrac[k] = frac_diff(xfrac0, xfrac1)\n",
    "        delta_mean[k] = frac_diff(R[c[0]].toavg, R[c[1]].toavg)\n",
    "        if 'aqua' in k:\n",
    "            m = 'o'\n",
    "        else:\n",
    "            m = '^'\n",
    "        xval = delta_mean[k]\n",
    "        yval = delta_xfrac[k]\n",
    "        ax.plot(xval, yval, marker=m, color=model_colors[model], markersize=10)\n",
    "ax.spines['top'].set_visible(False)\n",
    "ax.spines['right'].set_visible(False)\n",
    "ax.set_xlabel(\"\\u03b4 P\", loc='center', fontsize=18)\n",
    "ax.set_ylabel(\"\\u03b4 \\u03c6\", loc='center', fontsize=18)\n",
    "ax.set_xlim([-0.25, 0.0])\n",
    "ax.set_ylim([-0.125, 0.125])\n",
    "ax.set_title(\"4\\u00D7CO$_2$\")\n",
    "legend_elements = [Line2D([0], [0], marker=\"None\", linestyle=\"None\", color=model_colors['cesm'], label='CESM2'),\n",
    "                   Line2D([0], [0], marker=\"None\", linestyle=\"None\", color=model_colors['cnrm'], label='CNRM'),\n",
    "                   Line2D([0], [0], marker=\"None\", linestyle=\"None\", color=model_colors['ipsl'], label='IPSL'),\n",
    "                   Line2D([0], [0], marker=\"None\", linestyle=\"None\", color=model_colors['mri'], label='MRI'),\n",
    "                   Line2D([0], [0], marker='^', color='gray', linestyle=\"None\", label='AMIP'),\n",
    "                   Line2D([0], [0], marker='o', color='gray', linestyle=\"None\", label='AQUA'),\n",
    "                  ]\n",
    "\n",
    "ax.legend(handles=legend_elements, loc='lower left', labelcolor='linecolor')\n",
    "\n",
    "fig.savefig(\"/Users/brianpm/Dropbox/Manuscripts/M_cre_pex/mean_vs_extreme_4xCO2.pdf\", bbox_inches='tight')"
   ]
  },
  {
   "cell_type": "code",
   "execution_count": null,
   "metadata": {},
   "outputs": [],
   "source": []
  }
 ],
 "metadata": {
  "kernelspec": {
   "display_name": "Python 3",
   "language": "python",
   "name": "python3"
  },
  "language_info": {
   "codemirror_mode": {
    "name": "ipython",
    "version": 3
   },
   "file_extension": ".py",
   "mimetype": "text/x-python",
   "name": "python",
   "nbconvert_exporter": "python",
   "pygments_lexer": "ipython3",
   "version": "3.8.5"
  }
 },
 "nbformat": 4,
 "nbformat_minor": 4
}
