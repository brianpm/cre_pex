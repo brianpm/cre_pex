{
 "cells": [
  {
   "cell_type": "code",
   "execution_count": 1,
   "metadata": {},
   "outputs": [],
   "source": [
    "from collections import namedtuple\n",
    "import xarray as xr\n",
    "import numpy as np\n",
    "import matplotlib as mpl\n",
    "import matplotlib.pyplot as plt\n",
    "from pathlib import Path\n",
    "# from sklearn.neighbors import KernelDensity\n",
    "import colorcet as cc\n",
    "from pathlib import Path\n",
    "import esmlab\n",
    "import scipy.stats as stats"
   ]
  },
  {
   "cell_type": "code",
   "execution_count": 2,
   "metadata": {},
   "outputs": [],
   "source": [
    "model_colors = {}\n",
    "# for i, m in enumerate([\"cesm\", \"cnrm\", \"ipsl\", \"mri\", \"hadgem\"]):\n",
    "#     model_colors[m] = cc.cm.glasbey_hv(i)\n",
    "for i, m in [(0, \"cesm\"), (1, \"cnrm\"), (2, \"ipsl\"), (3, \"mri\"), (6, \"hadgem\")]:\n",
    "    model_colors[m] = cc.cm.glasbey_hv(i) \n",
    "\n",
    "# hard code locking to other blues, assumes CESM is first in list.\n",
    "model_colors['f-lock'] = cc.cm.glasbey_hv(5)\n",
    "model_colors['f-cntl'] = model_colors['f-lock']\n",
    "model_colors['c-lock'] = cc.cm.glasbey_hv(8)\n",
    "model_colors['c-cntl'] = model_colors['c-lock']"
   ]
  },
  {
   "cell_type": "code",
   "execution_count": 3,
   "metadata": {},
   "outputs": [],
   "source": [
    "def quick_load_var(loc, var, table, model, experiment, member):\n",
    "    fils = sorted(\n",
    "        list(Path(loc).glob(\"_\".join([var, table, model, experiment, member, \"*.nc\"])))\n",
    "    )\n",
    "    if len(fils) == 0:\n",
    "        raise IOError(\"Can not find the files.\")\n",
    "    elif len(fils) == 1:\n",
    "        ds = xr.open_dataset(fils[0])\n",
    "    else:\n",
    "        ds = xr.open_mfdataset(fils, combine=\"by_coords\")\n",
    "    return ds[var].compute()"
   ]
  },
  {
   "cell_type": "code",
   "execution_count": 4,
   "metadata": {},
   "outputs": [],
   "source": [
    "data_loc = Path(\"/Volumes/Jedha/CMIP6\")"
   ]
  },
  {
   "cell_type": "code",
   "execution_count": 9,
   "metadata": {},
   "outputs": [],
   "source": [
    "## do these:\n",
    "\n",
    "sims = {\"cesm-amip\": (\"CESM2\", \"amip\", \"r1i1p1f1\"),\n",
    "        \"cesm-amip-off\": (\"CESM2\",\"amip-lwoff\",\"r1i1p1f1\"),\n",
    "        \"cesm-aqua\": (\"CESM2\", \"aqua-control\", \"r1i1p1f1\"),\n",
    "        \"cesm-aqua-off\": (\"CESM2\", \"aqua-control-lwoff\", \"r1i1p1f1\"),\n",
    "        \"ipsl-amip\": (\"IPSL-CM6A-LR\", \"amip\", \"r1i1p1f1\"),\n",
    "        \"ipsl-amip-off\": (\"IPSL-CM6A-LR\", \"amip-lwoff\", \"r1i1p1f1\"),\n",
    "        \"ipsl-aqua\": (\"IPSL-CM6A-LR\", \"aqua-control\", \"r1i1p1f1\"),\n",
    "        \"ipsl-aqua-off\": (\"IPSL-CM6A-LR\", \"aqua-control-lwoff\", \"r1i1p1f1\"),\n",
    "        \"cnrm-amip\": (\"CNRM-CM6-1\", \"amip\", \"r1i1p1f2\"),\n",
    "        \"cnrm-amip-off\": (\"CNRM-CM6-1\", \"amip-lwoff\", \"r1i1p1f2\"),\n",
    "        \"cnrm-aqua\": (\"CNRM-CM6-1\", \"aqua-control\", \"r1i1p1f2\"),\n",
    "        \"cnrm-aqua-off\": (\"CNRM-CM6-1\", \"aqua-control-lwoff\", \"r1i1p1f2\"),\n",
    "        \"mri-amip\" : (\"MRI-ESM2-0\", \"amip\", \"r1i1p1f1\"),\n",
    "        \"mri-amip-off\" : (\"MRI-ESM2-0\", \"amip-lwoff\", \"r1i1p1f1\"),\n",
    "        \"hadgem-amip\" : (\"HadGEM3-GC31-LL\", \"amip\", \"r1i1p1f3\"),\n",
    "        \"hadgem-amip-off\" : (\"HadGEM3-GC31-LL\", \"amip-lwoff\", \"r5i1p1f2\"),\n",
    "        \"hadgem-aqua\" : (\"HadGEM3-GC31-LL\", \"aqua-control\", \"r1i1p1f3\"),\n",
    "        \"hadgem-aqua-off\" : (\"HadGEM3-GC31-LL\", \"aqua-control-lwoff\", \"r1i1p1f3\")\n",
    "       }\n"
   ]
  },
  {
   "cell_type": "code",
   "execution_count": 10,
   "metadata": {},
   "outputs": [
    {
     "name": "stdout",
     "output_type": "stream",
     "text": [
      "working on cesm-amip\n"
     ]
    },
    {
     "name": "stderr",
     "output_type": "stream",
     "text": [
      "/Users/brianpm/miniconda3/envs/py38/lib/python3.8/site-packages/xarray/conventions.py:492: SerializationWarning: variable 'pr' has multiple fill values {1e+20, 1e+20}, decoding all values to NaN.\n",
      "  new_vars[k] = decode_cf_variable(\n",
      "/Users/brianpm/miniconda3/envs/py38/lib/python3.8/site-packages/xarray/conventions.py:492: SerializationWarning: variable 'sftlf' has multiple fill values {1e+20, 1e+20}, decoding all values to NaN.\n",
      "  new_vars[k] = decode_cf_variable(\n"
     ]
    },
    {
     "name": "stdout",
     "output_type": "stream",
     "text": [
      "working on cesm-amip-off\n"
     ]
    },
    {
     "name": "stderr",
     "output_type": "stream",
     "text": [
      "/Users/brianpm/miniconda3/envs/py38/lib/python3.8/site-packages/xarray/conventions.py:492: SerializationWarning: variable 'pr' has multiple fill values {1e+20, 1e+20}, decoding all values to NaN.\n",
      "  new_vars[k] = decode_cf_variable(\n",
      "/Users/brianpm/miniconda3/envs/py38/lib/python3.8/site-packages/xarray/conventions.py:492: SerializationWarning: variable 'sftlf' has multiple fill values {1e+20, 1e+20}, decoding all values to NaN.\n",
      "  new_vars[k] = decode_cf_variable(\n"
     ]
    },
    {
     "name": "stdout",
     "output_type": "stream",
     "text": [
      "working on cesm-aqua\n"
     ]
    },
    {
     "name": "stderr",
     "output_type": "stream",
     "text": [
      "/Users/brianpm/miniconda3/envs/py38/lib/python3.8/site-packages/xarray/conventions.py:492: SerializationWarning: variable 'pr' has multiple fill values {1e+20, 1e+20}, decoding all values to NaN.\n",
      "  new_vars[k] = decode_cf_variable(\n"
     ]
    },
    {
     "name": "stdout",
     "output_type": "stream",
     "text": [
      "working on cesm-aqua-off\n"
     ]
    },
    {
     "name": "stderr",
     "output_type": "stream",
     "text": [
      "/Users/brianpm/miniconda3/envs/py38/lib/python3.8/site-packages/xarray/conventions.py:492: SerializationWarning: variable 'pr' has multiple fill values {1e+20, 1e+20}, decoding all values to NaN.\n",
      "  new_vars[k] = decode_cf_variable(\n"
     ]
    },
    {
     "name": "stdout",
     "output_type": "stream",
     "text": [
      "working on ipsl-amip\n",
      "working on ipsl-amip-off\n",
      "working on ipsl-aqua\n",
      "working on ipsl-aqua-off\n",
      "working on cnrm-amip\n",
      "working on cnrm-amip-off\n",
      "working on cnrm-aqua\n",
      "working on cnrm-aqua-off\n",
      "working on mri-amip\n",
      "working on mri-amip-off\n",
      "working on hadgem-amip\n",
      "working on hadgem-amip-off\n",
      "working on hadgem-aqua\n",
      "working on hadgem-aqua-off\n"
     ]
    },
    {
     "data": {
      "text/plain": [
       "{'cesm-amip': Result(case='CESM2_amip_r1i1p1f1', gavg=3.335214581376049e-05, goavg=3.510287202056346e-05, tavg=3.972882151858157e-05, toavg=3.810103323664371e-05, toavg_uw=3.799505066126585e-05, p95=0.00016276335591101053, tsum=11771.402, xsum=4660.9253),\n",
       " 'cesm-amip-off': Result(case='CESM2_amip-lwoff_r1i1p1f1', gavg=3.1898189656810654e-05, goavg=3.6691127216183814e-05, tavg=4.0337348532039076e-05, toavg=4.451005603576896e-05, toavg_uw=4.439959229785018e-05, p95=0.00017272413679165783, tsum=7618.756, xsum=2492.2173),\n",
       " 'cesm-aqua': Result(case='CESM2_aqua-control_r1i1p1f1', gavg=3.8199234236945356e-05, goavg=3.8199234236945356e-05, tavg=4.669582324942678e-05, toavg=4.669582324942678e-05, toavg_uw=4.54123510280624e-05, p95=0.00019911886047339054, tsum=3056.0347, xsum=1136.4103),\n",
       " 'cesm-aqua-off': Result(case='CESM2_aqua-control-lwoff_r1i1p1f1', gavg=3.29666995469341e-05, goavg=3.29666995469341e-05, tavg=4.349748845682736e-05, toavg=4.349748845682736e-05, toavg_uw=4.274130697012879e-05, p95=0.0001470438000978902, tsum=2876.2861, xsum=747.7706),\n",
       " 'ipsl-amip': Result(case='IPSL-CM6A-LR_amip_r1i1p1f1', gavg=3.524060593917966e-05, goavg=3.637862391769886e-05, tavg=4.1667939512990415e-05, toavg=3.897442002198659e-05, toavg_uw=3.8684163882862777e-05, p95=0.0001171608862932771, tsum=2565.1653, xsum=1002.51984),\n",
       " 'ipsl-amip-off': Result(case='IPSL-CM6A-LR_amip-lwoff_r1i1p1f1', gavg=3.3550342777743936e-05, goavg=3.5845834645442665e-05, tavg=4.2562394810374826e-05, toavg=4.228220132063143e-05, toavg_uw=4.203513890388422e-05, p95=0.00011516892263898617, tsum=2572.9119, xsum=617.3226),\n",
       " 'ipsl-aqua': Result(case='IPSL-CM6A-LR_aqua-control_r1i1p1f1', gavg=3.74919873138424e-05, goavg=3.74919873138424e-05, tavg=4.3372743675718084e-05, toavg=4.3372743675718084e-05, toavg_uw=4.2379600927233696e-05, p95=0.00012036662592436183, tsum=1135.8275, xsum=410.48297),\n",
       " 'ipsl-aqua-off': Result(case='IPSL-CM6A-LR_aqua-control-lwoff_r1i1p1f1', gavg=3.4100739867426455e-05, goavg=3.4100739867426455e-05, tavg=4.408869062899612e-05, toavg=4.408869062899612e-05, toavg_uw=4.3223772081546485e-05, p95=0.0001085830233932938, tsum=1158.4524, xsum=227.93706),\n",
       " 'cnrm-amip': Result(case='CNRM-CM6-1_amip_r1i1p1f2', gavg=3.4340141726356325e-05, goavg=3.878288835097966e-05, tavg=4.120439857927485e-05, toavg=4.4454349775372726e-05, toavg_uw=4.4503580284072086e-05, p95=0.00024274253737530658, tsum=4226.1523, xsum=2056.1082),\n",
       " 'cnrm-amip-off': Result(case='CNRM-CM6-1_amip-lwoff_r1i1p1f2', gavg=3.259602454775244e-05, goavg=4.015651122194292e-05, tavg=4.108919110385553e-05, toavg=5.005037512698122e-05, toavg_uw=4.999546581530012e-05, p95=0.00025542627554386854, tsum=4747.6733, xsum=1996.4293),\n",
       " 'cnrm-aqua': Result(case='CNRM-CM6-1_aqua-control_r1i1p1f2', gavg=3.6850641451165745e-05, goavg=3.6850641451165745e-05, tavg=4.517692816840705e-05, toavg=4.517692816840705e-05, toavg_uw=4.40364601672627e-05, p95=0.00022888192688697018, tsum=1729.6226, xsum=756.9929),\n",
       " 'cnrm-aqua-off': Result(case='CNRM-CM6-1_aqua-control-lwoff_r1i1p1f2', gavg=3.407762387203342e-05, goavg=3.407762387203342e-05, tavg=4.5323695443411205e-05, toavg=4.5323695443411205e-05, toavg_uw=4.438329779077321e-05, p95=0.00021453136650961824, tsum=1743.2452, xsum=737.55414),\n",
       " 'mri-amip': Result(case='MRI-ESM2-0_amip_r1i1p1f1', gavg=3.467894547813345e-05, goavg=3.666483117623455e-05, tavg=4.065503786469254e-05, toavg=3.982882838669824e-05, toavg_uw=3.966895383200608e-05, p95=0.000198718205501791, tsum=6338.0474, xsum=2632.849),\n",
       " 'mri-amip-off': Result(case='MRI-ESM2-0_amip-lwoff_r1i1p1f1', gavg=3.332971709487176e-05, goavg=3.689531949552828e-05, tavg=4.1905609217658335e-05, toavg=4.346558858779948e-05, toavg_uw=4.329719740781002e-05, p95=0.0001950505262357182, tsum=6917.7446, xsum=2278.846),\n",
       " 'hadgem-amip': Result(case='HadGEM3-GC31-LL_amip_r1i1p1f3', gavg=3.6221579488211625e-05, goavg=4.109380211574865e-05, tavg=4.3641184962569774e-05, toavg=4.723158428959843e-05, toavg_uw=4.7029840061441064e-05, p95=0.00024728564312681556, tsum=3898.405, xsum=1872.7053),\n",
       " 'hadgem-amip-off': Result(case='HadGEM3-GC31-LL_amip-lwoff_r5i1p1f2', gavg=3.4926754170444035e-05, goavg=4.117807240912427e-05, tavg=4.423388130348245e-05, toavg=5.031238203693338e-05, toavg_uw=5.012338806409389e-05, p95=0.00023647405541851155, tsum=4154.836, xsum=1617.2174),\n",
       " 'hadgem-aqua': Result(case='HadGEM3-GC31-LL_aqua-control_r1i1p1f3', gavg=3.8657482254848346e-05, goavg=3.8657482254848346e-05, tavg=4.5891523348801204e-05, toavg=4.5891523348801204e-05, toavg_uw=4.4626394810620695e-05, p95=0.00022948442056076575, tsum=1480.5967, xsum=629.43207),\n",
       " 'hadgem-aqua-off': Result(case='HadGEM3-GC31-LL_aqua-control-lwoff_r1i1p1f3', gavg=3.613022467591852e-05, goavg=3.613022467591852e-05, tavg=4.6079605154802934e-05, toavg=4.6079605154802934e-05, toavg_uw=4.498550697462633e-05, p95=0.00019454662324278602, tsum=1492.5111, xsum=496.61697)}"
      ]
     },
     "execution_count": 10,
     "metadata": {},
     "output_type": "execute_result"
    }
   ],
   "source": [
    "# for each simulation, I want to get:\n",
    "# - global mean precip\n",
    "# - global mean precip, ocean only\n",
    "# - tropical mean precip\n",
    "# - tropical mean precip, ocean only\n",
    "# - tropical UNWEIGHTED mean precip, ocean only\n",
    "# - 95th percentile of tropical ocean precip\n",
    "# - sum of tropical ocean precip with p >= p95\n",
    "# - sum of tropical ocean precip\n",
    "# Define a namedtuple:\n",
    "Result = namedtuple('Result', ['case', 'gavg', 'goavg', 'tavg', 'toavg', 'toavg_uw', 'p95', 'tsum', 'xsum'])\n",
    "\n",
    "\n",
    "def get_pr_info(dloc, model, experiment, member):\n",
    "    tropics = slice(-30,30)\n",
    "    pr = quick_load_var(data_loc, \"pr\", \"day\", model, experiment, member)\n",
    "    lat = pr['lat']\n",
    "    wgt = np.cos(np.radians(lat))\n",
    "    gavg = esmlab.weighted_mean(pr.mean(dim=('time','lon')), dim=[\"lat\"], weights=wgt).item()\n",
    "    tavg = esmlab.weighted_mean(pr.sel(lat=tropics).mean(dim=('time','lon')), dim=[\"lat\"], weights=wgt.sel(lat=tropics)).item()\n",
    "    if 'amip' in c:\n",
    "        land = quick_load_var(data_loc, \"sftlf\", \"fx\", model, experiment, member)\n",
    "        land_trop = land.sel(lat=tropics)\n",
    "        msk, _ = xr.broadcast(land, pr)\n",
    "        pr = pr.where(msk <= 0)\n",
    "        goavg = esmlab.weighted_mean(pr.mean(dim=('time','lon')), dim=[\"lat\"], weights=wgt).item()\n",
    "        toavg = esmlab.weighted_mean(pr.sel(lat=tropics).mean(dim=('time','lon')), dim=[\"lat\"], weights=wgt.sel(lat=tropics)).item()\n",
    "    else:\n",
    "        goavg = gavg\n",
    "        toavg = tavg\n",
    "    ptrop = pr.sel(lat=tropics)\n",
    "    toavg_uw = ptrop.mean().item()\n",
    "    p95 = np.nanquantile(ptrop.values.flatten(), 0.95)\n",
    "    tsum = np.nansum(ptrop.values.flatten())\n",
    "    xsum = np.nansum(ptrop.where(ptrop>=p95).values.flatten())\n",
    "    return Result(\"_\".join([model,experiment,member]), gavg, goavg, tavg, toavg, toavg_uw, p95, tsum, xsum)\n",
    "\n",
    "\n",
    "R = {}\n",
    "for c in sims:\n",
    "    print(f\"working on {c}\")\n",
    "    R[c] = get_pr_info(data_loc, *sims[c])\n",
    "\n",
    "R"
   ]
  },
  {
   "cell_type": "code",
   "execution_count": 11,
   "metadata": {},
   "outputs": [
    {
     "name": "stdout",
     "output_type": "stream",
     "text": [
      "f-lock\n",
      "f-cntl\n",
      "c-lock\n",
      "c-cntl\n"
     ]
    }
   ],
   "source": [
    "# Add the locking results:\n",
    "variable = \"PRECT\"\n",
    "cases = {\n",
    "    'f-lock': '/Volumes/Samsung_T5/F1850JJB_c201_CLOCK.cam.h2.ncrcat.PRECT.nc',\n",
    "    'f-cntl': '/Volumes/Samsung_T5/F1850JJB_c201_CTL.cam.h2.ncrcat.PRECT.nc',\n",
    "    'c-lock': '/Volumes/Samsung_T5/B1850_c201_CLOCK/daily/B1850_c201_CLOCK.cam.h2.ncrcat.PRECT.nc',\n",
    "    'c-cntl': '/Volumes/Samsung_T5/B1850_c201_CTL/daily/B1850_c201_CTL.cam.h2.ncrcat.PRECT.nc'}\n",
    "\n",
    "case_names = {'f-lock': 'F1850JJB_c201_CLOCK',\n",
    "    'f-cntl': 'F1850JJB_c201_CTL',\n",
    "    'c-lock': 'B1850_c201_CLOCK',\n",
    "    'c-cntl': 'B1850_c201_CTL'}\n",
    "\n",
    "# f-cntl ntime = 9126\n",
    "# f-lock ntime = 9126\n",
    "# c-cntl ntime = 10982\n",
    "# c-lock ntime = 9491\n",
    "\n",
    "\n",
    "# LAND\n",
    "land_file = xr.open_dataset(\"/Users/brianpm/Dropbox/Data/cesm2_f09_land.nc\")\n",
    "LAND = land_file['LANDFRAC'].squeeze()\n",
    "\n",
    "def get_cesm_pr_info(fil, experiment, land=None):\n",
    "    tropics = slice(-30,30)\n",
    "    pr_ds = xr.open_dataset(fil)\n",
    "    pr = pr_ds['PRECT']*1000. # converts to same units as CMIP6 pr\n",
    "    lat = pr['lat']\n",
    "    wgt = np.cos(np.radians(lat))\n",
    "    gavg = esmlab.weighted_mean(pr.mean(dim=('time','lon')), dim=[\"lat\"], weights=wgt).item()\n",
    "    tavg = esmlab.weighted_mean(pr.sel(lat=tropics).mean(dim=('time','lon')), dim=[\"lat\"], weights=wgt.sel(lat=tropics)).item()\n",
    "    if land is not None:\n",
    "        land_trop = land.sel(lat=tropics)\n",
    "        msk, _ = xr.broadcast(land, pr)\n",
    "        pr = pr.where(msk <= 0)\n",
    "        goavg = esmlab.weighted_mean(pr.mean(dim=('time','lon')), dim=[\"lat\"], weights=wgt).item()\n",
    "        toavg = esmlab.weighted_mean(pr.sel(lat=tropics).mean(dim=('time','lon')), dim=[\"lat\"], weights=wgt.sel(lat=tropics)).item()\n",
    "    else:\n",
    "        goavg = gavg\n",
    "        toavg = tavg\n",
    "    ptrop = pr.sel(lat=tropics)\n",
    "    toavg_uw = ptrop.mean().item()\n",
    "    p95 = np.nanquantile(ptrop.values.flatten(), 0.95)\n",
    "    tsum = np.nansum(ptrop.values.flatten())\n",
    "    xsum = np.nansum(ptrop.where(ptrop>=p95).values.flatten())\n",
    "    return Result(experiment, gavg, goavg, tavg, toavg, toavg_uw, p95, tsum, xsum)\n",
    "\n",
    "for c in cases:\n",
    "    print(c)\n",
    "    R[c] = get_cesm_pr_info(cases[c], c, land=LAND)\n"
   ]
  },
  {
   "cell_type": "code",
   "execution_count": 12,
   "metadata": {},
   "outputs": [
    {
     "data": {
      "text/plain": [
       "{'f-cntl': Result(case='f-cntl', gavg=3.399501545619739e-05, goavg=3.690918554878124e-05, tavg=4.046486323974127e-05, toavg=4.059613737778296e-05, toavg_uw=4.053293014294468e-05, p95=0.00018806360603775777, tsum=4830.2, xsum=2091.629),\n",
       " 'f-lock': Result(case='f-lock', gavg=3.429638060268712e-05, goavg=3.662185058473464e-05, tavg=4.05637034288092e-05, toavg=3.9702983240719116e-05, toavg_uw=3.965625001001172e-05, p95=0.0001827990534366106, tsum=4725.7285, xsum=1936.4758),\n",
       " 'c-cntl': Result(case='c-cntl', gavg=3.38783865575725e-05, goavg=3.676528283864096e-05, tavg=4.031647605733698e-05, toavg=4.040782806078191e-05, toavg_uw=4.034433368360624e-05, p95=0.00018834964066627435, tsum=5785.4966, xsum=2481.867),\n",
       " 'c-lock': Result(case='c-lock', gavg=3.421870559067287e-05, goavg=3.6597212433264605e-05, tavg=4.038255076461343e-05, toavg=3.968286160013134e-05, toavg_uw=3.960659523727372e-05, p95=0.0001865355734480545, tsum=4908.583, xsum=2048.8516),\n",
       " 'cesm-amip': Result(case='CESM2_amip_r1i1p1f1', gavg=3.335214581376049e-05, goavg=3.510287202056346e-05, tavg=3.972882151858157e-05, toavg=3.810103323664371e-05, toavg_uw=3.799505066126585e-05, p95=0.00016276335591101053, tsum=11771.402, xsum=4660.9253),\n",
       " 'cesm-amip-off': Result(case='CESM2_amip-lwoff_r1i1p1f1', gavg=3.1898189656810654e-05, goavg=3.6691127216183814e-05, tavg=4.0337348532039076e-05, toavg=4.451005603576896e-05, toavg_uw=4.439959229785018e-05, p95=0.00017272413679165783, tsum=7618.756, xsum=2492.2173),\n",
       " 'cesm-aqua': Result(case='CESM2_aqua-control_r1i1p1f1', gavg=3.8199234236945356e-05, goavg=3.8199234236945356e-05, tavg=4.669582324942678e-05, toavg=4.669582324942678e-05, toavg_uw=4.54123510280624e-05, p95=0.00019911886047339054, tsum=3056.0347, xsum=1136.4103),\n",
       " 'cesm-aqua-off': Result(case='CESM2_aqua-control-lwoff_r1i1p1f1', gavg=3.29666995469341e-05, goavg=3.29666995469341e-05, tavg=4.349748845682736e-05, toavg=4.349748845682736e-05, toavg_uw=4.274130697012879e-05, p95=0.0001470438000978902, tsum=2876.2861, xsum=747.7706),\n",
       " 'cnrm-amip': Result(case='CNRM-CM6-1_amip_r1i1p1f2', gavg=3.4340141726356325e-05, goavg=3.878288835097966e-05, tavg=4.120439857927485e-05, toavg=4.4454349775372726e-05, toavg_uw=4.4503580284072086e-05, p95=0.00024274253737530658, tsum=4226.1523, xsum=2056.1082),\n",
       " 'cnrm-amip-off': Result(case='CNRM-CM6-1_amip-lwoff_r1i1p1f2', gavg=3.259602454775244e-05, goavg=4.015651122194292e-05, tavg=4.108919110385553e-05, toavg=5.005037512698122e-05, toavg_uw=4.999546581530012e-05, p95=0.00025542627554386854, tsum=4747.6733, xsum=1996.4293),\n",
       " 'cnrm-aqua': Result(case='CNRM-CM6-1_aqua-control_r1i1p1f2', gavg=3.6850641451165745e-05, goavg=3.6850641451165745e-05, tavg=4.517692816840705e-05, toavg=4.517692816840705e-05, toavg_uw=4.40364601672627e-05, p95=0.00022888192688697018, tsum=1729.6226, xsum=756.9929),\n",
       " 'cnrm-aqua-off': Result(case='CNRM-CM6-1_aqua-control-lwoff_r1i1p1f2', gavg=3.407762387203342e-05, goavg=3.407762387203342e-05, tavg=4.5323695443411205e-05, toavg=4.5323695443411205e-05, toavg_uw=4.438329779077321e-05, p95=0.00021453136650961824, tsum=1743.2452, xsum=737.55414),\n",
       " 'hadgem-amip': Result(case='HadGEM3-GC31-LL_amip_r1i1p1f3', gavg=3.6221579488211625e-05, goavg=4.109380211574865e-05, tavg=4.3641184962569774e-05, toavg=4.723158428959843e-05, toavg_uw=4.7029840061441064e-05, p95=0.00024728564312681556, tsum=3898.405, xsum=1872.7053),\n",
       " 'hadgem-amip-off': Result(case='HadGEM3-GC31-LL_amip-lwoff_r5i1p1f2', gavg=3.4926754170444035e-05, goavg=4.117807240912427e-05, tavg=4.423388130348245e-05, toavg=5.031238203693338e-05, toavg_uw=5.012338806409389e-05, p95=0.00023647405541851155, tsum=4154.836, xsum=1617.2174),\n",
       " 'hadgem-aqua': Result(case='HadGEM3-GC31-LL_aqua-control_r1i1p1f3', gavg=3.8657482254848346e-05, goavg=3.8657482254848346e-05, tavg=4.5891523348801204e-05, toavg=4.5891523348801204e-05, toavg_uw=4.4626394810620695e-05, p95=0.00022948442056076575, tsum=1480.5967, xsum=629.43207),\n",
       " 'hadgem-aqua-off': Result(case='HadGEM3-GC31-LL_aqua-control-lwoff_r1i1p1f3', gavg=3.613022467591852e-05, goavg=3.613022467591852e-05, tavg=4.6079605154802934e-05, toavg=4.6079605154802934e-05, toavg_uw=4.498550697462633e-05, p95=0.00019454662324278602, tsum=1492.5111, xsum=496.61697),\n",
       " 'ipsl-amip': Result(case='IPSL-CM6A-LR_amip_r1i1p1f1', gavg=3.524060593917966e-05, goavg=3.637862391769886e-05, tavg=4.1667939512990415e-05, toavg=3.897442002198659e-05, toavg_uw=3.8684163882862777e-05, p95=0.0001171608862932771, tsum=2565.1653, xsum=1002.51984),\n",
       " 'ipsl-amip-off': Result(case='IPSL-CM6A-LR_amip-lwoff_r1i1p1f1', gavg=3.3550342777743936e-05, goavg=3.5845834645442665e-05, tavg=4.2562394810374826e-05, toavg=4.228220132063143e-05, toavg_uw=4.203513890388422e-05, p95=0.00011516892263898617, tsum=2572.9119, xsum=617.3226),\n",
       " 'ipsl-aqua': Result(case='IPSL-CM6A-LR_aqua-control_r1i1p1f1', gavg=3.74919873138424e-05, goavg=3.74919873138424e-05, tavg=4.3372743675718084e-05, toavg=4.3372743675718084e-05, toavg_uw=4.2379600927233696e-05, p95=0.00012036662592436183, tsum=1135.8275, xsum=410.48297),\n",
       " 'ipsl-aqua-off': Result(case='IPSL-CM6A-LR_aqua-control-lwoff_r1i1p1f1', gavg=3.4100739867426455e-05, goavg=3.4100739867426455e-05, tavg=4.408869062899612e-05, toavg=4.408869062899612e-05, toavg_uw=4.3223772081546485e-05, p95=0.0001085830233932938, tsum=1158.4524, xsum=227.93706),\n",
       " 'mri-amip': Result(case='MRI-ESM2-0_amip_r1i1p1f1', gavg=3.467894547813345e-05, goavg=3.666483117623455e-05, tavg=4.065503786469254e-05, toavg=3.982882838669824e-05, toavg_uw=3.966895383200608e-05, p95=0.000198718205501791, tsum=6338.0474, xsum=2632.849),\n",
       " 'mri-amip-off': Result(case='MRI-ESM2-0_amip-lwoff_r1i1p1f1', gavg=3.332971709487176e-05, goavg=3.689531949552828e-05, tavg=4.1905609217658335e-05, toavg=4.346558858779948e-05, toavg_uw=4.329719740781002e-05, p95=0.0001950505262357182, tsum=6917.7446, xsum=2278.846)}"
      ]
     },
     "execution_count": 12,
     "metadata": {},
     "output_type": "execute_result"
    }
   ],
   "source": [
    "\n",
    "# ensure correct order:\n",
    "order = ['f-cntl', 'f-lock', 'c-cntl', 'c-lock',\n",
    "'cesm-amip',\n",
    "'cesm-amip-off',\n",
    "'cesm-aqua',\n",
    "'cesm-aqua-off',\n",
    "'cnrm-amip',\n",
    "'cnrm-amip-off',\n",
    "'cnrm-aqua',\n",
    "'cnrm-aqua-off',\n",
    "'hadgem-amip', 'hadgem-amip-off', 'hadgem-aqua', 'hadgem-aqua-off',\n",
    "'ipsl-amip',\n",
    "'ipsl-amip-off',\n",
    "'ipsl-aqua',\n",
    "'ipsl-aqua-off',\n",
    "'mri-amip',\n",
    "'mri-amip-off',\n",
    "]\n",
    "RR = {r:R[r] for r in order}\n",
    "RR"
   ]
  },
  {
   "cell_type": "code",
   "execution_count": 14,
   "metadata": {},
   "outputs": [
    {
     "name": "stdout",
     "output_type": "stream",
     "text": [
      "f-cntl f-cntl\n",
      "f-lock f-lock\n",
      "c-cntl c-cntl\n",
      "c-lock c-lock\n",
      "cesm-amip cesm\n",
      "cesm-amip-off cesm\n",
      "cesm-aqua cesm\n",
      "cesm-aqua-off cesm\n",
      "cnrm-amip cnrm\n",
      "cnrm-amip-off cnrm\n",
      "cnrm-aqua cnrm\n",
      "cnrm-aqua-off cnrm\n",
      "hadgem-amip hadgem\n",
      "hadgem-amip-off hadgem\n",
      "hadgem-aqua hadgem\n",
      "hadgem-aqua-off hadgem\n",
      "ipsl-amip ipsl\n",
      "ipsl-amip-off ipsl\n",
      "ipsl-aqua ipsl\n",
      "ipsl-aqua-off ipsl\n",
      "mri-amip mri\n",
      "mri-amip-off mri\n"
     ]
    },
    {
     "data": {
      "image/png": "[encoded data removed]",
      "text/plain": [
       "<Figure size 360x648 with 4 Axes>"
      ]
     },
     "metadata": {
      "needs_background": "light"
     },
     "output_type": "display_data"
    }
   ],
   "source": [
    "# Now we have R which can be used to make a summary plot:\n",
    "# R is a dict of namedtuples ... so to access: R[case].field\n",
    "\n",
    "\n",
    "fig, ax = plt.subplots(figsize=(5,9), nrows=4, sharex=True, constrained_layout=True)\n",
    "xval = 1\n",
    "for c in RR:\n",
    "    pieces = c.split(\"-\")\n",
    "    if c not in ['f-cntl', 'f-lock', 'c-cntl', 'c-lock']:\n",
    "        model = pieces[0]\n",
    "    else:\n",
    "        model = c\n",
    "    if ('amip' in c):\n",
    "        m = '^'\n",
    "    elif (c in ['f-cntl', 'f-lock', 'c-cntl', 'c-lock']):\n",
    "        m = \"s\"\n",
    "    else:\n",
    "        m = 'o'\n",
    "    print(c, model)\n",
    "    mfill = 'full'\n",
    "    mafill = 'none'\n",
    "\n",
    "    if ('amip' in c) or (c in ['f-cntl', 'f-lock', 'c-cntl', 'c-lock']):\n",
    "        ax[0].plot(xval, RR[c].gavg*86400.0, marker=m, color=model_colors[model], fillstyle=mafill)\n",
    "        ax[1].plot(xval, RR[c].tavg*86400.0, marker=m, color=model_colors[model], fillstyle=mafill)\n",
    "    ax[0].plot(xval, RR[c].goavg*86400.0, marker=m, color=model_colors[model], fillstyle=mfill)\n",
    "    ax[1].plot(xval, RR[c].toavg*86400.0, marker=m, color=model_colors[model], fillstyle=mfill)\n",
    "    #ax[1].plot(xval, RR[c].toavg_uw*86400.0, marker='*', color=model_colors[model], fillstyle=mfill)\n",
    "    ax[2].plot(xval, RR[c].p95*86400.0, marker=m, fillstyle=mfill, color=model_colors[model])\n",
    "    ax[3].plot(xval, RR[c].xsum/R[c].tsum, marker=m, fillstyle=mfill, color=model_colors[model])\n",
    "    xval += 1\n",
    "\n",
    "ax[0].set_title(\"Global Mean Precipitation (mm/day)\", loc='left')\n",
    "ax[1].set_title(\"Tropical Mean Precipitation (mm/day)\", loc='left')\n",
    "ax[2].set_title(\"Tropical Ocean Precipitation 95$^{\\mathrm{th}}$ Percentile (mm/day)\", loc='left')\n",
    "ax[3].set_title(\"Tropical Ocean Extreme Fraction ( \\u03c6)\", loc='left')\n",
    "ax[-1].set_xticks(np.arange(1, len(RR)+1))\n",
    "ax[-1].set_xticklabels(RR.keys(), rotation=90)\n",
    "\n",
    "[a.spines['top'].set_visible(False) for a in ax]\n",
    "[a.spines['right'].set_visible(False) for a in ax]\n",
    "\n",
    "#\n",
    "from matplotlib.lines import Line2D\n",
    "legend_elements_last = [Line2D([0], [0], marker=\"^\", linestyle=\"None\", fillstyle='full', color=\"darkgray\", label='AMIP Ocean'),\n",
    "                        Line2D([0], [0], marker=\"^\", linestyle=\"None\", fillstyle='none', color=\"darkgray\", label='AMIP All'),            \n",
    "                        Line2D([0], [0], marker=\"o\", linestyle=\"None\", fillstyle='full', color=\"darkgray\", label='Aqua'),\n",
    "                        Line2D([0], [0], marker=\"s\", linestyle=\"None\", fillstyle='full', color=\"darkgray\", label='Locking Ocean'),\n",
    "                        Line2D([0], [0], marker=\"s\", linestyle=\"None\", fillstyle='none', color=\"darkgray\", label='Locking All'),\n",
    "                  ]\n",
    "\n",
    "fig.legend(handles=legend_elements_last, loc='lower center', bbox_to_anchor=(.5, -0.09), frameon=True, ncol=2)\n",
    "\n",
    "\n",
    "fig.savefig(\"/Users/brianpm/Dropbox/Manuscripts/M_cre_pex/summary_stats_withHadGEM.pdf\", bbox_inches='tight')"
   ]
  },
  {
   "cell_type": "code",
   "execution_count": 16,
   "metadata": {},
   "outputs": [
    {
     "name": "stdout",
     "output_type": "stream",
     "text": [
      "[('f-cntl', 'f-lock'), ('c-cntl', 'c-lock'), ('cesm-amip', 'cesm-amip-off'), ('cesm-aqua', 'cesm-aqua-off'), ('cnrm-amip', 'cnrm-amip-off'), ('cnrm-aqua', 'cnrm-aqua-off'), ('hadgem-amip', 'hadgem-amip-off'), ('hadgem-aqua', 'hadgem-aqua-off'), ('ipsl-amip', 'ipsl-amip-off'), ('ipsl-aqua', 'ipsl-aqua-off'), ('mri-amip', 'mri-amip-off')]\n",
      "Model is f-cntl : Compare RR[f-lock] to RR[f-cntl] ... deltaMean = -0.02200096350921898\n",
      "Model is c-cntl : Compare RR[c-lock] to RR[c-cntl] ... deltaMean = -0.017941238008637065\n",
      "Model is cesm : Compare RR[cesm-amip-off] to RR[cesm-amip] ... deltaMean = 0.16821125976608337\n",
      "Model is cesm : Compare RR[cesm-aqua-off] to RR[cesm-aqua] ... deltaMean = -0.0684929522607502\n",
      "Model is cnrm : Compare RR[cnrm-amip-off] to RR[cnrm-amip] ... deltaMean = 0.12588251498188904\n",
      "Model is cnrm : Compare RR[cnrm-aqua-off] to RR[cnrm-aqua] ... deltaMean = 0.0032487218798287077\n",
      "Model is hadgem : Compare RR[hadgem-amip-off] to RR[hadgem-amip] ... deltaMean = 0.06522749117296536\n",
      "Model is hadgem : Compare RR[hadgem-aqua-off] to RR[hadgem-aqua] ... deltaMean = 0.00409839971038231\n",
      "Model is ipsl : Compare RR[ipsl-amip-off] to RR[ipsl-amip] ... deltaMean = 0.08487057143579882\n",
      "Model is ipsl : Compare RR[ipsl-aqua-off] to RR[ipsl-aqua] ... deltaMean = 0.0165068403011556\n",
      "Model is mri : Compare RR[mri-amip-off] to RR[mri-amip] ... deltaMean = 0.09130974594060176\n"
     ]
    },
    {
     "data": {
      "image/png": "[encoded data removed]",
      "text/plain": [
       "<Figure size 432x288 with 1 Axes>"
      ]
     },
     "metadata": {
      "needs_background": "light"
     },
     "output_type": "display_data"
    }
   ],
   "source": [
    "# this just gets the pairs of simulations to form \"experiments\"\n",
    "\n",
    "epair = []\n",
    "for i, c in enumerate(RR):\n",
    "    m = RR[c].case[0:4]\n",
    "    if i%2 == 1:\n",
    "        epair.append((prior_case, c))\n",
    "    else:\n",
    "        prior_case = c\n",
    "print(epair)\n",
    "# now for each experiment, I want to get:\n",
    "# tavg[1]-tavg[0] / tavg[0]\n",
    "# xfrac[1]-xfrac[0]/xfrac[0]\n",
    "fig, ax = plt.subplots(nrows=1, sharex=True, constrained_layout=True)\n",
    "xval = 1\n",
    "for c in epair:\n",
    "    pieces = c[0].split(\"-\")\n",
    "    if c[0] not in ['f-cntl', 'f-lock', 'c-cntl', 'c-lock']:\n",
    "        model = pieces[0]\n",
    "    else:\n",
    "        model = c[0]\n",
    "    if 'aqua' in c[0]:\n",
    "        m = 'o'\n",
    "    elif c[0] in ['f-cntl', 'f-lock', 'c-cntl', 'c-lock']:\n",
    "        m = \"s\"\n",
    "    else:\n",
    "        m = '^'\n",
    "    mfill = 'full'\n",
    "    mafill = 'none'\n",
    "    delta_mean = ((RR[c[1]].toavg - RR[c[0]].toavg)/RR[c[0]].toavg)\n",
    "    xfrac0 = RR[c[0]].xsum/RR[c[0]].tsum\n",
    "    xfrac1 = RR[c[1]].xsum/RR[c[1]].tsum\n",
    "    delta_xfrac = (xfrac1-xfrac0)/xfrac0\n",
    "    print(f\"Model is {model} : Compare RR[{c[1]}] to RR[{c[0]}] ... deltaMean = {delta_mean}\")\n",
    "\n",
    "\n",
    "#     ax[0].plot(xval, delta_mean, marker=m, color='tab:blue', fillstyle=mafill)\n",
    "#     ax[1].plot(xval, delta_xfrac, marker=m, color='tab:blue', fillstyle=mafill)\n",
    "#     xval += 1\n",
    "    ax.plot(delta_mean, delta_xfrac, marker=m, color=model_colors[model], fillstyle=mfill, markersize=10)\n",
    "\n",
    "ax.plot([-1, 1], [-1, 1], linestyle=\":\", color='gray')\n",
    "ax.set_xlabel(\"\\u03b4 P\", loc='center', fontsize=18)\n",
    "ax.set_ylabel(\"\\u03b4 \\u03c6\", loc='center', fontsize=18)\n",
    "ax.spines['top'].set_visible(False)\n",
    "ax.spines['right'].set_visible(False)\n",
    "ax.set_xlim([-0.25, 0.25])\n",
    "ax.set_ylim([-0.5, 0.])\n",
    "ax.set_aspect('equal')\n",
    "\n",
    "\n",
    "from matplotlib.lines import Line2D\n",
    "\n",
    "legend_elements = [Line2D([0], [0], marker=\"None\", linestyle=\"None\", color=model_colors['cesm'], label='CESM2'),\n",
    "                   Line2D([0], [0], marker=\"None\", linestyle=\"None\", color=model_colors['cnrm'], label='CNRM'),\n",
    "                   Line2D([0], [0], marker=\"None\", linestyle=\"None\", color=model_colors['ipsl'], label='IPSL'),\n",
    "                   Line2D([0], [0], marker=\"None\", linestyle=\"None\", color=model_colors['mri'], label='MRI'),\n",
    "                   Line2D([0], [0], marker='s', color='gray', linestyle=\"None\", label='Locking'),\n",
    "                   Line2D([0], [0], marker='^', color='gray', linestyle=\"None\", label='AMIP LWoff'),\n",
    "                   Line2D([0], [0], marker='o', color='gray', linestyle=\"None\", label='AQUA LWoff'),\n",
    "                   \n",
    "                  ]\n",
    "\n",
    "ax.legend(handles=legend_elements, loc='upper left', labelcolor='linecolor')\n",
    "ax.axvline(0.0, linestyle=':', color='gray')\n",
    "fig.savefig(\"/Users/brianpm/Dropbox/Manuscripts/M_cre_pex/mean_versus_extreme_withHadGEM.pdf\", bbox_inches='tight')"
   ]
  },
  {
   "cell_type": "code",
   "execution_count": 129,
   "metadata": {},
   "outputs": [
    {
     "name": "stdout",
     "output_type": "stream",
     "text": [
      "4.669582324942678e-05\n",
      "4.349748845682736e-05\n",
      "-0.0684929522607502\n",
      "4.4454349775372726e-05\n",
      "5.005037512698122e-05\n",
      "0.12588251498188904\n"
     ]
    }
   ],
   "source": [
    "print(RR['cesm-aqua'].tavg)\n",
    "print(RR['cesm-aqua-off'].tavg)\n",
    "print((RR['cesm-aqua-off'].tavg - RR['cesm-aqua'].tavg)/RR['cesm-aqua'].tavg  )\n",
    "\n",
    "\n",
    "print(RR['cnrm-amip'].toavg)\n",
    "print(RR['cnrm-amip-off'].toavg)\n",
    "print((RR['cnrm-amip-off'].toavg - RR['cnrm-amip'].toavg)/RR['cnrm-amip'].toavg  )\n"
   ]
  },
  {
   "cell_type": "code",
   "execution_count": 9,
   "metadata": {},
   "outputs": [
    {
     "name": "stderr",
     "output_type": "stream",
     "text": [
      "/Users/brianpm/anaconda3/lib/python3.7/site-packages/xarray/conventions.py:494: SerializationWarning: variable 'sftlf' has multiple fill values {1e+20, 1e+20}, decoding all values to NaN.\n",
      "  use_cftime=use_cftime,\n"
     ]
    }
   ],
   "source": [
    "# for the amip runs, we need the land fraction:\n",
    "land = {}\n",
    "for s in sims:\n",
    "    if 'amip' in s:\n",
    "        land[s] = quick_load_var(data_loc, \"sftlf\", \"fx\", *sims[s])"
   ]
  },
  {
   "cell_type": "code",
   "execution_count": 10,
   "metadata": {},
   "outputs": [],
   "source": [
    "# remove land points from the amip runs:\n",
    "for c in pr:\n",
    "    if 'amip' in c:\n",
    "        pr[c] = pr[c].where(land[c] <= 0)"
   ]
  },
  {
   "cell_type": "code",
   "execution_count": 14,
   "metadata": {},
   "outputs": [],
   "source": [
    "def get_tropics_quantiles(da, threshold=None, q=0.99):\n",
    "    da_tropics = da.sel(lat=slice(-30, 30))  # SHOULD BE ADJUSTABLE\n",
    "    da_tropics_val = np.nanquantile(da_tropics, q)\n",
    "    if threshold is not None:\n",
    "        da_climo = da.mean(dim=\"time\")\n",
    "        da_process = np.where(\n",
    "            (da_climo >= threshold).sel(lat=slice(-30, 30)).broadcast_like(da_tropics),\n",
    "            da_tropics,\n",
    "            np.nan,\n",
    "        )\n",
    "        da_threshold_val = np.nanquantile(da_process, q)\n",
    "        print(\n",
    "            f\"Compare the tropics region ({da_tropics_val}) to the rainy tropics ({da_threshold_val})\"\n",
    "        )\n",
    "        return da_threshold_val\n",
    "    else:\n",
    "        print(f\"Quantile value: {da_tropics_val}\")\n",
    "        return da_tropics_val\n",
    "\n",
    "\n",
    "def conf_interval(data_series, **kwargs):\n",
    "    \"\"\"\n",
    "    Calculate the confidence interval for the data distribution under the assumptions that it can be calculated using \\\n",
    "    a student-t distribution.\n",
    "    \n",
    "    This function expects just a simple series. To apply to an array, we will need to adjust.\n",
    "    \n",
    "    :return conf_int: confidence interval, to apply around mean value\n",
    "    \"\"\"\n",
    "    if 'confidence_level' in kwargs and (kwargs['confidence_level'] is not None):\n",
    "        confidence_level = kwargs[\"confidence_level\"]\n",
    "    else:\n",
    "        confidence_level = 0.95\n",
    "        \n",
    "    n = len(data_series)\n",
    "    mean = np.mean(data_series)\n",
    "    # Allow a known \"population standard deviation\" to be passed in.\n",
    "    if 'known_std' in kwargs:\n",
    "        sem = kwargs['known_std'] / np.sqrt(n)\n",
    "    else:\n",
    "        sem = stats.sem(data_series)\n",
    "    \n",
    "    # The population standard deviation will be estimated by the sample standard deviation.\n",
    "    # Therefore Students t distribution is used as the critical value:\n",
    "    # confidence level: C\n",
    "    # degrees of freedom = (N - 1)\n",
    "    # critical value t* = t_α(r) where r is dof (N-1) and α = (1 - C)/2\n",
    "    # This follows the same form as Forster et al. 2016:\n",
    "    # CI = t_value * SE\n",
    "    # with SE = σ / sqrt[N]\n",
    "    conf_int = sem * stats.t.ppf((1 + confidence_level) / 2, n - 1)\n",
    "\n",
    "    # If you wanted to give the actual interval, it's just around the mean:\n",
    "    # start = mean - conf_int\n",
    "    # end = mean + conf_int\n",
    "\n",
    "    return conf_int\n",
    "\n",
    "\n",
    "def report_global_mean_with_ci(arr, doprint=False, confidence_level=None):\n",
    "    \"\"\"Calculate the global average and confidence interval for DataArray arr.\"\"\"\n",
    "    wgt = np.cos(np.radians(arr['lat']))\n",
    "    w, _ = xr.broadcast(wgt, arr)\n",
    "    global_average = esmlab.weighted_mean(arr, dim=[\"lat\",\"lon\"], weights=w)\n",
    "    ci = conf_interval(global_average, **{\"confidence_level\":confidence_level})\n",
    "    if doprint:\n",
    "        print(f\"The mean (95% ci): {global_average.mean().values.item()} \\u00B1 {ci}\")\n",
    "    return global_average, ci"
   ]
  },
  {
   "cell_type": "code",
   "execution_count": 15,
   "metadata": {},
   "outputs": [
    {
     "name": "stdout",
     "output_type": "stream",
     "text": [
      "Quantile value: 0.0003849748443462888\n",
      "Quantile value: 0.0003567487851250904\n",
      "Quantile value: 0.00042201049131108427\n",
      "Quantile value: 0.00026625057216733694\n",
      "Quantile value: 0.00042169346357695406\n",
      "Quantile value: 0.00023998573160497524\n",
      "Quantile value: 0.00044758025964256433\n",
      "Quantile value: 0.0001830892966245307\n",
      "Quantile value: 0.0005445090576540693\n",
      "Quantile value: 0.000518587381811814\n",
      "Quantile value: 0.0004815489955944949\n",
      "Quantile value: 0.00047797238366911266\n"
     ]
    }
   ],
   "source": [
    "# get the 99th percentile of precipitation for tropical oceans\n",
    "pr99 = {}\n",
    "prAV = {}\n",
    "prAVci = {}\n",
    "for c in pr:\n",
    "    pr99[c] = get_tropics_quantiles(pr[c])\n",
    "    prAV[c], prAVci[c] = report_global_mean_with_ci(pr[c])"
   ]
  },
  {
   "cell_type": "code",
   "execution_count": 37,
   "metadata": {},
   "outputs": [
    {
     "data": {
      "image/png": "[encoded data removed]",
      "text/plain": [
       "<Figure size 432x288 with 2 Axes>"
      ]
     },
     "metadata": {
      "needs_background": "light"
     },
     "output_type": "display_data"
    }
   ],
   "source": [
    "fig, ax = plt.subplots(nrows=2, sharex=True, constrained_layout=True)\n",
    "xval = 1\n",
    "for c in pr99:\n",
    "    if 'amip' in c:\n",
    "        m = 'o'\n",
    "    else:\n",
    "        m = '^'\n",
    "    ax[0].plot(xval, prAV[c].mean()*86400.0, marker=m, color='darkgray')\n",
    "    ax[1].plot(xval, pr99[c].mean()*86400.0, marker=m, color='darkgray')\n",
    "    xval += 1\n",
    "\n",
    "ax[0].set_title(\"Mean Precipitation (mm/day)\", loc='left')\n",
    "ax[1].set_title(\"99th Percentile (mm/day)\", loc='left')\n",
    "ax[1].set_xticks(np.arange(1, len(pr99)+1))\n",
    "ax[1].set_xticklabels(pr99.keys(), rotation=90)\n",
    "ax[0].spines['top'].set_visible(False)\n",
    "ax[0].spines['right'].set_visible(False)\n",
    "ax[1].spines['top'].set_visible(False)\n",
    "ax[1].spines['right'].set_visible(False)"
   ]
  },
  {
   "cell_type": "code",
   "execution_count": 36,
   "metadata": {},
   "outputs": [
    {
     "data": {
      "text/plain": [
       "[0.0022061409212938516,\n",
       " 0.0028942716559749036,\n",
       " 0.004375811522960663,\n",
       " 0.0035248446633134273,\n",
       " 0.002688452406247731,\n",
       " 0.002457532420799608,\n",
       " 0.0035701220627936017,\n",
       " 0.002981181726090687,\n",
       " 0.0031770461478454336,\n",
       " 0.0029570117492605436,\n",
       " 0.004094379932565495,\n",
       " 0.0037504784400485443]"
      ]
     },
     "execution_count": 36,
     "metadata": {},
     "output_type": "execute_result"
    }
   ],
   "source": [
    "[prAVci[c]*86400. for c in prAVci]"
   ]
  },
  {
   "cell_type": "code",
   "execution_count": null,
   "metadata": {},
   "outputs": [],
   "source": [
    "MODEL & Simulation               & [N_events]   & N_total    & [Duration]  & [Size]      & [Size_max]    Intensity //\n",
    "IPSL  & aqua-control             & 20.60 ± 3.72 & 43432.00,  & 1.88 ± 1.62 & 2.40 ± 1.89 & 3.15 ± 3.24  & 38.67093334198003 //\n",
    "IPSL  & aqua-control-lwoff       & 15.42 ± 3.54 & 33228.00,  & 1.84 ± 1.69 & 2.59 ± 2.82 & 3.59 ± 5.12  & 15.818915185928397 //\n",
    "CNRM-CM6-1 & aqua-control        & 14.55 ± 3.15 & 33565.00,  & 1.58 ± 1.77 & 4.36 ± 4.33 & 5.54 ± 7.26  & 41.60583381652839 //\n",
    "CNRM-CM6-1 & aqua-control-lwoff  & 12.74 ± 2.93 & 33339.00,  & 1.40 ± 1.21 & 5.12 ± 5.96 & 6.05 ± 8.43  & 41.29681282043464 //\n",
    "CESM2 & aqua-control             & 13.66 ± 3.37 & 29816.00,  & 1.67 ± 1.95 & 6.73 ± 7.95 & 8.91 ± 14.11 & 36.46170570373533 //\n",
    "CESM2 & aqua-control-lwoff       & 17.30 ± 3.37 & 35752.00,  & 1.77 ± 1.63 & 7.04 ± 7.40 & 9.49 ± 12.45 & 23.00404930114746 //\n",
    "CNRM-CM6-1 & amip                & 12.08 ± 2.90 & 89594.00,  & 1.77 ± 2.06 & 3.49 ± 3.59 & 4.54 ± 6.21  & 47.04558120727552 //\n",
    "CNRM-CM6-1 & amip-lwoff          & 12.48 ± 3.06 & 106396.00, & 1.54 ± 2.03 & 3.69 ± 3.81 & 4.49 ± 5.85  & 44.80594955444349 //\n",
    "IPSL-CM6A-LR &  amip             & 13.44 ± 3.51 & 79114.00,  & 2.42 ± 2.97 & 2.19 ± 1.84 & 2.99 ± 3.41  & 36.43431427001923 //\n",
    "IPSL-CM6A-LR & amip-lwoff        & 12.61 ± 3.74 & 81788.00,  & 2.03 ± 2.18 & 2.14 ± 2.30 & 2.92 ± 4.28  & 20.73476715087895 //\n",
    "CESM2 & amip                     & 13.81 ± 3.28 & 175658.00, & 1.87 ± 1.99 & 5.45 ± 6.14 & 7.54 ± 10.98 & 33.26182556152344 //\n",
    "CESM2 & amip-lwoff               & 12.34 ± 3.15 & 91516.00,  & 1.77 ± 2.00 & 5.88 ± 6.83 & 7.97 ± 12.27 & 30.823095607757466\n"
   ]
  },
  {
   "cell_type": "code",
   "execution_count": 45,
   "metadata": {},
   "outputs": [
    {
     "data": {
      "text/plain": [
       "Text(0.5, 1.0, 'Average Number')"
      ]
     },
     "execution_count": 45,
     "metadata": {},
     "output_type": "execute_result"
    },
    {
     "data": {
      "image/png": "[encoded data removed]",
      "text/plain": [
       "<Figure size 432x288 with 2 Axes>"
      ]
     },
     "metadata": {
      "needs_background": "light"
     },
     "output_type": "display_data"
    }
   ],
   "source": [
    "# what about stick diagram with yaxis being 99th percentile pr and xaxis being any of these custering metrics\n",
    "epairs = ((\"cesm-amip\", \"cesm-amip-off\"), (\"ipsl-amip\", \"ipsl-amip-off\"), (\"cnrm-amip\", \"cnrm-amip-off\"), (\"cesm-aqua\", \"cesm-aqua-off\"), (\"ipsl-aqua\", \"ipsl-aqua-off\"), (\"cnrm-aqua\", \"cnrm-aqua-off\"))\n",
    "avg_n = {\"cesm-amip\": 13.81,\n",
    "        \"cesm-amip-off\": 12.34,\n",
    "        \"cesm-aqua\": 13.66,\n",
    "        \"cesm-aqua-off\": 17.30,\n",
    "        \"ipsl-amip\": 13.44,\n",
    "        \"ipsl-amip-off\": 12.61,\n",
    "        \"ipsl-aqua\": 20.60,\n",
    "        \"ipsl-aqua-off\": 15.42,\n",
    "        \"cnrm-amip\": 12.08,\n",
    "        \"cnrm-amip-off\": 12.48,\n",
    "        \"cnrm-aqua\": 14.55,\n",
    "        \"cnrm-aqua-off\": 12.74,\n",
    "       }\n",
    "\n",
    "avg_d = {\"cesm-amip\": 1.87,\n",
    "        \"cesm-amip-off\": 1.77,\n",
    "        \"cesm-aqua\": 1.67,\n",
    "        \"cesm-aqua-off\": 1.77,\n",
    "        \"ipsl-amip\": 2.42,\n",
    "        \"ipsl-amip-off\": 2.03,\n",
    "        \"ipsl-aqua\": 1.88,\n",
    "        \"ipsl-aqua-off\": 1.84,\n",
    "        \"cnrm-amip\": 1.77,\n",
    "        \"cnrm-amip-off\": 1.54,\n",
    "        \"cnrm-aqua\": 1.58,\n",
    "        \"cnrm-aqua-off\": 1.40,\n",
    "       }\n",
    "\n",
    "mclr = {\"cesm-amip\": 'blue',\n",
    "        \"cesm-amip-off\": 'blue',\n",
    "        \"cesm-aqua\": 'dodgerblue',\n",
    "        \"cesm-aqua-off\": 'dodgerblue',\n",
    "        \"ipsl-amip\": 'red',\n",
    "        \"ipsl-amip-off\": 'red',\n",
    "        \"ipsl-aqua\": 'pink',\n",
    "        \"ipsl-aqua-off\": 'pink',\n",
    "        \"cnrm-amip\": 'seagreen',\n",
    "        \"cnrm-amip-off\": 'seagreen',\n",
    "        \"cnrm-aqua\": 'green',\n",
    "        \"cnrm-aqua-off\": 'green',\n",
    "       }\n",
    "\n",
    "\n",
    "\n",
    "fig, ax = plt.subplots(ncols=2, constrained_layout=True, sharey=True)\n",
    "for p in epairs:\n",
    "    ax[0].plot([avg_d[p[0]], avg_d[p[1]]], [pr99[p[0]], pr99[p[1]]], color=mclr[p[0]])\n",
    "    ax[0].plot(avg_d[p[0]], pr99[p[0]], marker='o', color=mclr[p[0]])\n",
    "    ax[0].plot(avg_d[p[1]], pr99[p[1]], marker='.', color=mclr[p[0]])\n",
    "    ax[1].plot([avg_n[p[0]], avg_n[p[1]]], [pr99[p[0]], pr99[p[1]]], color=mclr[p[0]])\n",
    "    ax[1].plot(avg_n[p[0]], pr99[p[0]], marker='o', color=mclr[p[0]])\n",
    "    ax[1].plot(avg_n[p[1]], pr99[p[1]], marker='.', color=mclr[p[0]])\n",
    "ax[0].set_title(\"Average Duration\")\n",
    "ax[1].set_title(\"Average Number\")"
   ]
  },
  {
   "cell_type": "code",
   "execution_count": 9,
   "metadata": {},
   "outputs": [
    {
     "data": {
      "text/plain": [
       "6.0"
      ]
     },
     "execution_count": 9,
     "metadata": {},
     "output_type": "execute_result"
    }
   ],
   "source": [
    "np.nansum([np.nan, 2, 2, 2])"
   ]
  },
  {
   "cell_type": "code",
   "execution_count": 136,
   "metadata": {},
   "outputs": [
    {
     "data": {
      "text/plain": [
       "'precpi'"
      ]
     },
     "execution_count": 136,
     "metadata": {},
     "output_type": "execute_result"
    }
   ],
   "source": [
    "\"PrEcpi\".casefold()"
   ]
  },
  {
   "cell_type": "code",
   "execution_count": null,
   "metadata": {},
   "outputs": [],
   "source": []
  }
 ],
 "metadata": {
  "kernelspec": {
   "display_name": "Python 3",
   "language": "python",
   "name": "python3"
  },
  "language_info": {
   "codemirror_mode": {
    "name": "ipython",
    "version": 3
   },
   "file_extension": ".py",
   "mimetype": "text/x-python",
   "name": "python",
   "nbconvert_exporter": "python",
   "pygments_lexer": "ipython3",
   "version": "3.8.5"
  }
 },
 "nbformat": 4,
 "nbformat_minor": 4
}
