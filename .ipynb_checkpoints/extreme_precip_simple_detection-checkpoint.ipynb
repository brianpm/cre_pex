{
 "cells": [
  {
   "cell_type": "code",
   "execution_count": 9,
   "metadata": {},
   "outputs": [],
   "source": [
    "%%capture\n",
    "from tqdm.notebook import tqdm\n",
    "tqdm().pandas()\n",
    "## This is for progress bars only ... not sure what `%%capture` does."
   ]
  },
  {
   "cell_type": "code",
   "execution_count": 19,
   "metadata": {},
   "outputs": [],
   "source": [
    "import numpy as np\n",
    "import pandas as pd\n",
    "import xarray as xr\n",
    "import matplotlib as mpl\n",
    "import matplotlib.pyplot as plt\n",
    "from pathlib import Path\n",
    "# from sklearn.neighbors import KernelDensity\n",
    "import colorcet as cc\n",
    "from scipy.ndimage import label, generate_binary_structure"
   ]
  },
  {
   "cell_type": "code",
   "execution_count": 11,
   "metadata": {},
   "outputs": [],
   "source": [
    "def get_tropics_quantiles(da, threshold=None, q=0.99):\n",
    "    da_tropics = da.sel(lat=slice(-30, 30))  # SHOULD BE ADJUSTABLE\n",
    "    da_tropics_val = np.nanquantile(da_tropics, q)\n",
    "    if threshold is not None:\n",
    "        da_climo = da.mean(dim=\"time\")\n",
    "        da_process = np.where(\n",
    "            (da_climo >= threshold).sel(lat=slice(-30, 30)).broadcast_like(da_tropics),\n",
    "            da_tropics,\n",
    "            np.nan,\n",
    "        )\n",
    "        da_threshold_val = np.nanquantile(da_process, q)\n",
    "        print(\n",
    "            f\"Compare the tropics region ({da_tropics_val}) to the rainy tropics ({da_threshold_val})\"\n",
    "        )\n",
    "        return da_threshold_val\n",
    "    else:\n",
    "        print(f\"Quantile value: {da_tropics_val}\")\n",
    "        return da_tropics_val\n",
    "\n",
    "\n",
    "def get_labels(da, crit):\n",
    "    assert \"time\" in da.dims\n",
    "    assert \"lat\" in da.dims\n",
    "    assert \"lon\" in da.dims\n",
    "    mask = np.where(da >= crit, 1, 0)\n",
    "    assert len(mask.shape) == 3  # has to be time,lat,lon\n",
    "    labeled_arrays = []\n",
    "    n_features = []\n",
    "    for t in range(mask.shape[0]):\n",
    "        la, nf = label(mask[t, :, :], structure=generate_binary_structure(2, 2))\n",
    "        la = xr.DataArray(\n",
    "            la, dims=(\"lat\", \"lon\"), coords={\"lat\": da.lat, \"lon\": da.lon}\n",
    "        )\n",
    "        labeled_arrays.append(la)\n",
    "        n_features.append(nf)\n",
    "    nfarr = xr.DataArray(np.array(n_features), dims=\"time\", coords={\"time\": da.time})\n",
    "    lbarr = xr.concat(labeled_arrays, dim=\"time\")\n",
    "    lbarr = lbarr.assign_coords({\"time\": da.time})\n",
    "    return lbarr, nfarr\n",
    "\n",
    "\n",
    "def get_labels3d(da, crit):\n",
    "    \"\"\"Label events through time.\"\"\"\n",
    "    assert \"time\" in da.dims\n",
    "    assert \"lat\" in da.dims\n",
    "    assert \"lon\" in da.dims\n",
    "    mask = np.where(da >= crit, 1, 0)\n",
    "    assert len(mask.shape) == 3  # has to be time,lat,lon\n",
    "    la, nf = label(mask, structure=generate_binary_structure(3, 2))\n",
    "    la = xr.DataArray(la, dims=da.dims, coords=da.coords)\n",
    "    # nf is just an integer\n",
    "    return la, nf\n",
    "\n",
    "\n",
    "def pr_labeler(p, pcrit, track=False, latitude=None):\n",
    "    \"\"\"This method just controls the flow to the different labeling functions.\"\"\"\n",
    "    if latitude is not None:\n",
    "        pw = p.sel(lat=latitude)\n",
    "    else:\n",
    "        pw = p\n",
    "    if track:\n",
    "        labels, nfeatures = get_labels3d(pw, pcrit)\n",
    "    else:\n",
    "        labels, nfeatures = get_labels(pw, pcrit)\n",
    "    return labels, nfeatures\n",
    "\n",
    "\n",
    "def get_events_per_time(larr):\n",
    "    return [len(np.unique(larr[t,:,:]))-1 for t in range(larr.shape[0])]\n",
    "\n",
    "\n",
    "def get_simple_size(larr):\n",
    "    \"\"\"larr is set of labeled arrays. \n",
    "    Count how many points have each label, \n",
    "    return average and standard deviation \n",
    "    of that count for each time.\"\"\"\n",
    "    a_size = []\n",
    "    a_sizestd = []\n",
    "    for i, tim in enumerate(larr[\"time\"]):\n",
    "        ctr = np.bincount(larr[i, :, :].values.flatten())\n",
    "        a_size.append(ctr[1::].mean())\n",
    "        a_sizestd.append(ctr[1::].std())\n",
    "    a_size = np.array(a_size)\n",
    "    a_sizestd = np.array(a_sizestd)\n",
    "    return a_size, a_sizestd\n",
    "\n",
    "\n",
    "def quick_load_var(loc, var, table, model, experiment, member):\n",
    "    fils = sorted(\n",
    "        list(Path(loc).glob(\"_\".join([var, table, model, experiment, member, \"*.nc\"])))\n",
    "    )\n",
    "    if len(fils) == 0:\n",
    "        raise IOError(\"Can not find the files.\")\n",
    "    elif len(fils) == 1:\n",
    "        ds = xr.open_dataset(fils[0])\n",
    "    else:\n",
    "        ds = xr.open_mfdataset(fils, combine=\"by_coords\")\n",
    "    return ds[var].compute()"
   ]
  },
  {
   "cell_type": "code",
   "execution_count": 12,
   "metadata": {},
   "outputs": [],
   "source": [
    "# We should account for wrapping around longitude\n",
    "# * https://stackoverflow.com/questions/55953353/how-to-specify-a-periodic-connection-for-features-of-scipy-ndimage-label\n",
    "# if this is fast enough, it will also provide a vector of features per time\n",
    "\n",
    "# Performance notes:\n",
    "# This is potentially very slow.\n",
    "# Naive approach would loop over all times and all latitudes, which is already a bit slow.\n",
    "# Pretty easy to reduce that by checking whether there are any values to check. \n",
    "# Even reducing the loops to what I think is minimal, it is slow if we \n",
    "# try to update the array with boolean indexing for each identified wrapped feature.\n",
    "# For example, doing new_labels[new_labels == new_labels[t, y, 0]] = older_feature\n",
    "# I'm not sure exactly why this is so slow.\n",
    "# MUCH, MUCH faster is to make a list of changes that need to be made.\n",
    "# Here, `transformer` is the list, just a dictionary with keys being the feature to change\n",
    "# and values being the corrected value. Creating this dictionary is very fast.\n",
    "# Then a separate step loops through the dictionary and actually does the change,\n",
    "# for example using labels = np.where(labels==dictkey, dictvalue, labels)\n",
    "# In my test case, my initial attempts were going to run for ~2.5 hours,\n",
    "# but in the transformer/where steps, that was reduced to ~5 minutes.\n",
    "\n",
    "def wrap_events(input_labels):\n",
    "    if isinstance(input_labels, xr.DataArray):\n",
    "        labels = input_labels.values\n",
    "    else:\n",
    "        labels = input_labels\n",
    "    new_labels = labels.copy()\n",
    "    transformer = dict()\n",
    "    for t in tqdm(range(new_labels.shape[0])):\n",
    "        if np.all(new_labels[t,:,0] == 0) or np.all(new_labels[t,:,-1] == 0):\n",
    "            continue  # no reason to check if no events on edges\n",
    "        check_lats = np.intersect1d(np.nonzero(new_labels[t, :, 0]), np.nonzero(new_labels[t, :, -1]))\n",
    "        if len(check_lats) == 0:\n",
    "            continue\n",
    "        for y in check_lats:\n",
    "            if new_labels[t,y,0] != new_labels[t,y,-1]:\n",
    "                # now we know that [t, y, 0] and [t, y, -1] should be part of same feature, and the label should be the smaller of the two\n",
    "                older_feature = np.min([new_labels[t, y, 0], new_labels[t, y, -1]])\n",
    "                if new_labels[t, y, 0] < new_labels[t, y, -1]:\n",
    "                    transformer[new_labels[t, y, -1]] = older_feature\n",
    "                else:\n",
    "                    transformer[new_labels[t, y, 0]] = older_feature\n",
    "    return transformer\n",
    "\n",
    "\n",
    "def event_wrapper(labels, transformer_dict):\n",
    "    if isinstance(labels, xr.DataArray):\n",
    "        lll = labels.values\n",
    "    else:\n",
    "        lll = labels\n",
    "    new_labels = lll.copy()\n",
    "    for k in tqdm(transformer_dict):\n",
    "        new_labels = np.where(new_labels==k, transformer_dict[k], new_labels)\n",
    "    if isinstance(labels, xr.DataArray):\n",
    "        new_labels = xr.DataArray(new_labels, dims=labels.dims, coords=labels.coords)\n",
    "    return new_labels\n",
    "\n",
    "\n",
    "def get_initial_tindex(labels, ev):\n",
    "    if isinstance(labels, np.ndarray):\n",
    "        labv = labels\n",
    "    else:\n",
    "        labv = labels.values  # converts to numpy array\n",
    "    for t in range(labv.shape[0]):\n",
    "        tmp = labv[t,:,:] # temporary time slice\n",
    "        present_events = set(tmp[tmp != 0]) # uniq events in this time\n",
    "        if ev in present_events:\n",
    "            return t\n",
    "    return None\n",
    "\n",
    "\n"
   ]
  },
  {
   "cell_type": "code",
   "execution_count": 13,
   "metadata": {},
   "outputs": [],
   "source": [
    "def pr_label_workflow(\n",
    "    model,\n",
    "    exp0,\n",
    "    exp1,\n",
    "    mem0,\n",
    "    mem1,\n",
    "    remove_land=False,\n",
    "    label=\"2d\",\n",
    "    latitude=None,\n",
    "    lon_wrap=True,\n",
    "):\n",
    "    \"\"\"Loads daily precipitation data for 2 simulations, \n",
    "    calculates the 99th percentile of tropical precipitation,\n",
    "    detects precipitation features.\n",
    "    Options:\n",
    "        - remove_land : loads land fraction for the simulation and removes land.\n",
    "        - label : if '2d' do detection on time slices independently, \n",
    "                  if '3d' do detection in time (cheap tracking).\n",
    "        - latitude : use a subset of latitudes, typically provide a slice object.\n",
    "        - lon_wrap : if true run the code to connect events across longitude boundary.\n",
    "        \n",
    "    Commented out the `get_simple_size` lines... do those afterward.\n",
    "    \n",
    "    No longer return number of features. Depends on whether tracking or not, also changes\n",
    "    if lon_wrap is True, so need to re-calculate either way. \n",
    "    \"\"\"\n",
    "    m0 = quick_load_var(data_loc, \"pr\", \"day\", model, exp0, mem0)\n",
    "    m0 *= 86400.0  # unit conversion\n",
    "    if remove_land:\n",
    "        land0 = quick_load_var(data_loc, \"sftlf\", \"fx\", model, exp0, mem0)\n",
    "        m0 = m0.where(land0 <= 0)\n",
    "    m0_threshold = get_tropics_quantiles(m0, q=0.99)\n",
    "\n",
    "    if label == \"2d\":\n",
    "        track = False\n",
    "    elif label == \"3d\":\n",
    "        track = True\n",
    "\n",
    "    m0_labels, m0_nfeatures = pr_labeler(\n",
    "        m0, m0_threshold, track=track, latitude=latitude\n",
    "    )\n",
    "\n",
    "    m1 = quick_load_var(data_loc, \"pr\", \"day\", model, exp1, mem1)\n",
    "    m1 *= 86400.0  # unit conversion\n",
    "    if remove_land:\n",
    "        land1 = quick_load_var(data_loc, \"sftlf\", \"fx\", model, exp1, mem1)\n",
    "        m1 = m1.where(land1 <= 0)\n",
    "    m1_threshold = get_tropics_quantiles(m1, q=0.99)\n",
    "    m1_labels, m1_nfeatures = pr_labeler(\n",
    "        m1, m1_threshold, track=track, latitude=latitude\n",
    "    )\n",
    "\n",
    "    if lon_wrap:\n",
    "        m0_transformer = wrap_events(m0_labels)\n",
    "        m1_transformer = wrap_events(m1_labels)\n",
    "        m0_labels = event_wrapper(m0_labels, m0_transformer)\n",
    "        m1_labels = event_wrapper(m1_labels, m1_transformer)\n",
    "\n",
    "    # m0_size, m0_sizestd = get_simple_size(m0_labels)\n",
    "    # m1_size, m1_sizestd = get_simple_size(m1_labels)\n",
    "    return m0_labels, m1_labels"
   ]
  },
  {
   "cell_type": "code",
   "execution_count": 14,
   "metadata": {},
   "outputs": [],
   "source": [
    "def get_duration(lab):\n",
    "    \"\"\"Returns a dictionary with keys that are event labels and values that are duration (days).\"\"\"\n",
    "    dur = dict()\n",
    "    if isinstance(lab, np.ndarray):\n",
    "        labv = lab\n",
    "    else:\n",
    "        labv = lab.values  # converts to numpy array\n",
    "    for t in range(lab.shape[0]):\n",
    "        tmp = labv[t,:,:] # temporary time slice\n",
    "        present_events = set(tmp[tmp != 0]) # uniq events in this time\n",
    "        if len(present_events) > 0:\n",
    "            for ev in present_events:\n",
    "                if ev in dur:\n",
    "                    dur[ev] += 1 # continuing\n",
    "                else:\n",
    "                    dur[ev] = 1 # new event\n",
    "    return dur"
   ]
  },
  {
   "cell_type": "code",
   "execution_count": 49,
   "metadata": {},
   "outputs": [],
   "source": [
    "def get_duration_and_size(lab, rettype='df'):\n",
    "    \"\"\"Returns either a Pandas DataFrame (default) or dictionary with keys that are event labels and values that are duration (days).\"\"\"\n",
    "    dur = dict()\n",
    "    # put eventID as key, values are dict: {duration: D, size: [s_0, ..., s_d]}\n",
    "    if isinstance(lab, np.ndarray):\n",
    "        labv = lab\n",
    "    else:\n",
    "        labv = lab.values  # converts to numpy array\n",
    "    for t in range(lab.shape[0]):\n",
    "        tmp = labv[t,:,:] # temporary time slice\n",
    "        present_events = set(tmp[tmp != 0]) # uniq events in this time\n",
    "        if len(present_events) > 0:\n",
    "            for ev in present_events:\n",
    "                if ev in dur:\n",
    "                    dur[ev]['duration'] += 1 # continuing\n",
    "                    dur[ev]['size'].append(np.count_nonzero(tmp==ev))\n",
    "                else:\n",
    "                    dur[ev] = dict() # new event\n",
    "                    dur[ev]['duration'] = 1\n",
    "                    dur[ev]['size'] = [np.count_nonzero(tmp==ev)]\n",
    "    if rettype == 'df':\n",
    "        # convert to dataFrame\n",
    "        df = pd.DataFrame.from_dict(dur, orient ='index')\n",
    "        # compute average size and include as a column\n",
    "        asiz = []\n",
    "        msiz = []\n",
    "        for s in df['size']:\n",
    "            asiz.append(np.mean(s))\n",
    "            msiz.append(np.max(s))\n",
    "        df['AvgSiz'] = asiz\n",
    "        df['MaxSiz'] = msiz\n",
    "        # get distribution of average size\n",
    "        return df\n",
    "    else:\n",
    "        return dur  # AvgSiz and MaxSiz not included in output dict."
   ]
  },
  {
   "cell_type": "code",
   "execution_count": 73,
   "metadata": {},
   "outputs": [],
   "source": [
    "def summarize_events(labels, mstr, estr):\n",
    "    X = get_events_per_time(labels)\n",
    "    Y = get_duration_and_size(labels)  # Y is a pandas DF with columns: duration, size, AvgSiz, MaxSiz\n",
    "    tot_number_events = len(Y)\n",
    "#     dur = []\n",
    "#     avgsiz = []\n",
    "#     mxsiz = []\n",
    "#     for ev in Y:\n",
    "#         dur.append(Y[ev][\"duration\"])\n",
    "#         avgsiz.append(np.mean(Y[ev][\"size\"]))\n",
    "#         mxsiz.append(np.max(Y[ev][\"size\"]))\n",
    "    avg_duration = np.mean(Y['duration'])\n",
    "    std_duration = np.std(Y['duration'])\n",
    "    avg_size = np.mean(Y['AvgSiz'])\n",
    "    std_size = np.std(Y['AvgSiz'])\n",
    "    avg_mx_size = np.mean(Y['MaxSiz'])\n",
    "    std_mx_size = np.std(Y['MaxSiz'])\n",
    "    print(\n",
    "        f\"{mstr} {estr}: [N_events] = {np.mean(X):.2f} ± {np.std(X):.2f}, Ntot: {tot_number_events:.2f}, [D] = {avg_duration:.2f} ± {std_duration:.2f}, [S] = {avg_size:.2f} ± {std_size:.2f}, [Smx] = {avg_mx_size:.2f} ± {std_mx_size:.2f}\"\n",
    "    )"
   ]
  },
  {
   "cell_type": "code",
   "execution_count": 93,
   "metadata": {},
   "outputs": [],
   "source": [
    "#\n",
    "# Make a map of event frequency & change\n",
    "#\n",
    "\n",
    "import palettable     # more colortables!\n",
    "import cartopy\n",
    "import cartopy.crs as ccrs\n",
    "\n",
    "\n",
    "def get_simulation_nyears(ds):\n",
    "    return len(set(ds['time.year'].values))\n",
    "\n",
    "\n",
    "def get_event_freq(cntl_labels):\n",
    "    cntl_labels_spatial_tot = np.where(cntl_labels>0,1,0).sum(axis=0)\n",
    "    cntl_labels_spatial_tot = xr.DataArray(cntl_labels_spatial_tot, dims=(\"lat\",\"lon\"), coords={\"lat\":cntl_labels['lat'], \"lon\":cntl_labels['lon']})\n",
    "    # normalize by number of years:\n",
    "    cntl_frq = cntl_labels_spatial_tot/get_simulation_nyears(cntl_labels)\n",
    "    return(cntl_frq)\n",
    "\n",
    "\n",
    "def map_event_freq(wks, f1, f2, coastlines=True, title1=None, title2=None):\n",
    "    \"\"\"\n",
    "    wks : full path for output plot\n",
    "    f1  : frequency of events in 'control'\n",
    "    f2  : frequency of events in 'experiment'\n",
    "    coastlines: bool to draw coastlines and fill continents\n",
    "    \"\"\"\n",
    "    d_frq = f2 - f1\n",
    "    cm = palettable.scientific.sequential.Acton_20_r.mpl_colormap\n",
    "    lons, lats = np.meshgrid(f1['lon'], f1['lat'])\n",
    "    fig, ax = plt.subplots(figsize=(10,5), nrows=3, subplot_kw={\"projection\":ccrs.PlateCarree()})\n",
    "    img0 = ax[0].pcolormesh(lons, lats, f1, transform=ccrs.PlateCarree(), cmap=cm, vmin=0, vmax=35, rasterized=True)\n",
    "    img1 = ax[1].pcolormesh(lons, lats, f2, transform=ccrs.PlateCarree(), cmap=cm, vmin=0, vmax=35, rasterized=True)\n",
    "    n = mpl.colors.TwoSlopeNorm(vmin=-5, vcenter=0, vmax=5)\n",
    "    cmdif =  palettable.lightbartlein.diverging.BrownBlue10_3.mpl_colormap\n",
    "    img2 = ax[2].pcolormesh(lons, lats, d_frq, transform=ccrs.PlateCarree(), cmap=cmdif, norm=n, rasterized=True)\n",
    "    cb0 = fig.colorbar(img1, ax=ax[[0,1]].ravel(), shrink=0.5)\n",
    "    cb = fig.colorbar(img2, ax=ax[2])\n",
    "\n",
    "    ax[0].set_title(title1, loc='left')\n",
    "    ax[1].set_title(title2, loc='left')\n",
    "    ax[2].set_title(\"Difference\", loc='left')\n",
    "    if coastlines:\n",
    "        ax[0].coastlines()\n",
    "        ax[1].coastlines()\n",
    "        ax[2].coastlines()\n",
    "        ax[0].add_feature(cartopy.feature.LAND, zorder=10)\n",
    "        ax[1].add_feature(cartopy.feature.LAND, zorder=10)\n",
    "        ax[2].add_feature(cartopy.feature.LAND, zorder=10)\n",
    "    fig.savefig(wks, dpi=300, bbox_inches='tight')"
   ]
  },
  {
   "cell_type": "markdown",
   "metadata": {},
   "source": [
    "For each simulation, we take the daily mean precipitaiton, calculate the 99th percentile of the precipitation in the tropical ocean, and then label each precipitating event for each day."
   ]
  },
  {
   "cell_type": "markdown",
   "metadata": {},
   "source": [
    "The next step is to track the events through time, as in Pendergrass. We start at the second day, and for each event identified we ask:\n",
    "- does the event share any locations with events in the prior day. \n",
    "    + if YES, then we have to check whether it touches more than 1:\n",
    "        - if NO, then we assign the Event ID number of the points in the event to the ID number of the event from the previous day.\n",
    "        - if YES, then this is a merger, and the points in this event are assigned the mininum Event ID of the prior events. This assumes that we prefer to keep long-lived events.\n",
    "    + if YES, we also need to check whether more than one identified event in present day touches the same event in prior day.\n",
    "        - if YES this is a splitting event. If one of the present events is larger, that one should persist the prior Event ID. Otherwise choose arbitrarily which one persists and which one gets a new ID.\n",
    "    + if NO, this is a new event and gets a new Event ID."
   ]
  },
  {
   "cell_type": "code",
   "execution_count": 17,
   "metadata": {},
   "outputs": [],
   "source": [
    "data_loc = \"/Volumes/Glyph6TB/CMIP6\""
   ]
  },
  {
   "cell_type": "code",
   "execution_count": 204,
   "metadata": {},
   "outputs": [
    {
     "name": "stdout",
     "output_type": "stream",
     "text": [
      "Quantile value: 41.60583381652839\n",
      "Quantile value: 41.29681282043464\n"
     ]
    },
    {
     "data": {
      "application/vnd.jupyter.widget-view+json": {
       "model_id": "cc5697def3a74ba49ad285a1c7c8dc53",
       "version_major": 2,
       "version_minor": 0
      },
      "text/plain": [
       "HBox(children=(FloatProgress(value=0.0, max=3653.0), HTML(value='')))"
      ]
     },
     "metadata": {},
     "output_type": "display_data"
    },
    {
     "name": "stdout",
     "output_type": "stream",
     "text": [
      "\n"
     ]
    },
    {
     "data": {
      "application/vnd.jupyter.widget-view+json": {
       "model_id": "84b25f29e5584eebb5ff3accebc297db",
       "version_major": 2,
       "version_minor": 0
      },
      "text/plain": [
       "HBox(children=(FloatProgress(value=0.0, max=3653.0), HTML(value='')))"
      ]
     },
     "metadata": {},
     "output_type": "display_data"
    },
    {
     "name": "stdout",
     "output_type": "stream",
     "text": [
      "\n"
     ]
    },
    {
     "data": {
      "application/vnd.jupyter.widget-view+json": {
       "model_id": "36801e7157084b9daae32643a896be8f",
       "version_major": 2,
       "version_minor": 0
      },
      "text/plain": [
       "HBox(children=(FloatProgress(value=0.0, max=435.0), HTML(value='')))"
      ]
     },
     "metadata": {},
     "output_type": "display_data"
    },
    {
     "name": "stdout",
     "output_type": "stream",
     "text": [
      "\n"
     ]
    },
    {
     "data": {
      "application/vnd.jupyter.widget-view+json": {
       "model_id": "677cb41914bd4759ae77c45c353821d0",
       "version_major": 2,
       "version_minor": 0
      },
      "text/plain": [
       "HBox(children=(FloatProgress(value=0.0, max=330.0), HTML(value='')))"
      ]
     },
     "metadata": {},
     "output_type": "display_data"
    },
    {
     "name": "stdout",
     "output_type": "stream",
     "text": [
      "\n",
      "CNRM-CM6-1 aqua-control: [N_events] = 14.55 ± 3.15, Ntot: 33565.00, [D] = 1.58 ± 1.77, [S] = 4.36 ± 4.33, [Smx] = 5.54 ± 7.26\n",
      "CNRM-CM6-1 aqua-control-lwoff: [N_events] = 12.74 ± 2.93, Ntot: 33339.00, [D] = 1.40 ± 1.21, [S] = 5.12 ± 5.96, [Smx] = 6.05 ± 8.43\n",
      "CPU times: user 57.3 s, sys: 11.1 s, total: 1min 8s\n",
      "Wall time: 1min 11s\n"
     ]
    }
   ],
   "source": [
    "%%time\n",
    "# list of simulations:\n",
    "# There are more ensemble members for 'amip'\n",
    "\n",
    "# tup1 = (\"IPSL-CM6A-LR\", \"amip\", \"r1i1p1f1\")\n",
    "# tup2 = (\"IPSL-CM6A-LR\", \"amip-lwoff\", \"r1i1p1f1\")\n",
    "# tup1 = (\"IPSL-CM6A-LR\", \"aqua-control\", \"r1i1p1f1\")\n",
    "# tup2 = (\"IPSL-CM6A-LR\", \"aqua-control-lwoff\", \"r1i1p1f1\")\n",
    "\n",
    "# tup1 = (\"CESM2\", \"amip\", \"r1i1p1f1\")\n",
    "# tup2 = (\"CESM2\", \"amip-lwoff\", \"r1i1p1f1\")\n",
    "# tup1 = (\"CESM2\", \"aqua-control\", \"r1i1p1f1\")\n",
    "# tup2 = (\"CESM2\", \"aqua-control-lwoff\", \"r1i1p1f1\")\n",
    "\n",
    "# tup1 = (\"CNRM-CM6-1\", \"amip\", \"r1i1p1f2\")\n",
    "# tup2 = (\"CNRM-CM6-1\", \"amip-lwoff\", \"r1i1p1f2\")\n",
    "\n",
    "tup1 = (\"CNRM-CM6-1\", \"aqua-control\", \"r1i1p1f2\")\n",
    "tup2 = (\"CNRM-CM6-1\", \"aqua-control-lwoff\", \"r1i1p1f2\")\n",
    "\n",
    "# tup1 = (\"MRI-ESM2-0\", \"amip\", \"r1i1p1f1\")\n",
    "# tup2 = (\"MRI-ESM2-0\", \"amip-lwoff\", \"r1i1p1f1\")\n",
    "\n",
    "# unpack the inputs:\n",
    "mdl1, e1, r1 = tup1\n",
    "mdl2, e2, r2 = tup2\n",
    "# r = \"r1i1p1f1\"\n",
    "# e1 = \"aqua-control\"\n",
    "# e2 = \"aqua-control-lwoff\"\n",
    "# e1 = \"amip\"\n",
    "# e2 = \"amip-lwoff\"\n",
    "\n",
    "if e1 == 'amip':\n",
    "    rmlnd = True\n",
    "elif 'aqua' in e1:\n",
    "    rmlnd = False\n",
    "else: \n",
    "    raise ValueError(\"Need to specify how to deal with land.\")\n",
    "\n",
    "if mdl1 != mdl2:\n",
    "    raise ValueError(\"We are not set up to compare models.\")\n",
    "\n",
    "# gets the labels with temporal tracking / tropical values (30S-30N) \n",
    "pr0_labels, pr1_labels = pr_label_workflow(mdl1, e1, e2, r1, r2, remove_land=rmlnd,\n",
    "    label=\"3d\",\n",
    "    latitude=slice(-30,30),\n",
    "    lon_wrap=True)\n",
    "\n",
    "summarize_events(pr0_labels, mdl1, e1)\n",
    "summarize_events(pr1_labels, mdl2, e2)"
   ]
  },
  {
   "cell_type": "code",
   "execution_count": 205,
   "metadata": {},
   "outputs": [
    {
     "name": "stdout",
     "output_type": "stream",
     "text": [
      "CPU times: user 10.2 s, sys: 602 ms, total: 10.8 s\n",
      "Wall time: 11.5 s\n"
     ]
    }
   ],
   "source": [
    "%%time\n",
    "# -- histogram of precipitation -- \n",
    "pr1 = quick_load_var(data_loc, 'pr', 'day', mdl1, e1, r1)\n",
    "pr1 *= 86400.0  # unit conversion\n",
    "if rmlnd:\n",
    "    land0 = quick_load_var(data_loc, \"sftlf\", \"fx\", mdl1, e1, r1)\n",
    "    pr1 = pr1.where(land0 <= 0)\n",
    "# only tropics:\n",
    "pr1 = pr1.sel(lat=slice(-30,30))\n",
    "hpr1, hpredge1 = np.histogram(pr1.values, bins=np.arange(-10., 210., 10), density=True)\n",
    "hpr1ctr = hpredge1[1:] + np.diff(hpredge1)\n",
    "hpr1frq = hpr1*np.diff(hpredge1)\n",
    "\n",
    "\n",
    "pr2 = quick_load_var(data_loc, 'pr', 'day', mdl2, e2, r2)\n",
    "pr2 *= 86400.0  # unit conversion\n",
    "if False:\n",
    "    land0 = quick_load_var(data_loc, \"sftlf\", \"fx\", mdl2, e2, r2)\n",
    "    pr2 = pr2.where(land0 <= 0)\n",
    "# only tropics:\n",
    "pr2 = pr2.sel(lat=slice(-30,30))\n",
    "hpr2, hpredge2 = np.histogram(pr2.values, bins=np.arange(-10., 210., 10), density=True)\n",
    "hpr2ctr = hpredge2[1:] + np.diff(hpredge2)\n",
    "hpr2frq = hpr2*np.diff(hpredge2)\n",
    "\n",
    "# -- duration and size -- \n",
    "dursiz0 = get_duration_and_size(pr0_labels)\n",
    "dursiz1 = get_duration_and_size(pr1_labels)\n",
    "\n",
    "\n",
    "hsiz0, sizedge0 = np.histogram(dursiz0['AvgSiz'], bins=np.arange(0, 50, 1), density=True)\n",
    "sizbctr0 = sizedge0[1:] + np.diff(sizedge0)\n",
    "hsizfrq0 = hsiz0 * np.diff(sizedge0)\n",
    "\n",
    "hsiz1, sizedge1 = np.histogram(dursiz1['AvgSiz'], bins=np.arange(0, 50, 1), density=True)\n",
    "sizbctr1 = sizedge1[1:] + np.diff(sizedge1)\n",
    "hsizfrq1 = hsiz1 * np.diff(sizedge1)\n",
    "\n",
    "# -- event duration --\n",
    "hdur0, duredge0 = np.histogram(dursiz0['duration'], bins=np.arange(.5, 50.5, 1), density=True)\n",
    "durfrq0 = hdur0 * np.diff(duredge0)\n",
    "durctr0 = duredge0[1:] + np.diff(duredge0)\n",
    "\n",
    "hdur1, duredge1 = np.histogram(dursiz1['duration'], bins=np.arange(.5, 50.5, 1), density=True)\n",
    "durfrq1 = hdur1 * np.diff(duredge1)\n",
    "durctr1 = duredge1[1:] + np.diff(duredge1)\n"
   ]
  },
  {
   "cell_type": "code",
   "execution_count": 206,
   "metadata": {},
   "outputs": [
    {
     "data": {
      "image/png": "[encoded data removed]",
      "text/plain": [
       "<Figure size 432x144 with 3 Axes>"
      ]
     },
     "metadata": {
      "needs_background": "light"
     },
     "output_type": "display_data"
    }
   ],
   "source": [
    "\n",
    "fig, ax = plt.subplots(figsize=(6,2), ncols=3, constrained_layout=True, sharey=True)\n",
    "ax[0].step(hpr1ctr, hpr1frq, where='mid')\n",
    "ax[0].step(hpr2ctr, hpr2frq, where='mid')\n",
    "ax[0].set_xlabel(\"Precipitation (mm/day)\")\n",
    "ax[0].set_ylabel(\"(fraction)\")\n",
    "\n",
    "ax[2].step(sizbctr0, hsizfrq0, where='mid', label=e1)\n",
    "ax[2].step(sizbctr1, hsizfrq1, where='mid', label=e2)\n",
    "ax[2].set_xlabel(\"Size (gridpoints)\")\n",
    "\n",
    "ax[1].step(durctr0, durfrq0, where='mid', label=e1)\n",
    "ax[1].step(durctr1, durfrq1, where='mid', label=e2)\n",
    "ax[1].set_xlabel(\"Duration (days)\")\n",
    "\n",
    "for a in ax:\n",
    "    a.semilogy()\n",
    "    a.spines['top'].set_visible(False)\n",
    "    a.spines['right'].set_visible(False)\n",
    "    a.patch.set_alpha(0.)\n",
    "\n",
    "ax[2].legend(frameon=False, loc='upper left', bbox_to_anchor= (.1, 1.2),)\n",
    "fig.suptitle(mdl1)\n",
    "fig.savefig(f\"/Users/brianpm/Desktop/tropical_ocean_extreme_precip_distribution_{mdl1}_{e1}_{e2}.png\", dpi=300, bbox_inches='tight')"
   ]
  },
  {
   "cell_type": "code",
   "execution_count": 207,
   "metadata": {},
   "outputs": [
    {
     "name": "stdout",
     "output_type": "stream",
     "text": [
      "CPU times: user 5.43 s, sys: 209 ms, total: 5.64 s\n",
      "Wall time: 894 ms\n"
     ]
    },
    {
     "data": {
      "image/png": "[encoded data removed]",
      "text/plain": [
       "<Figure size 720x360 with 5 Axes>"
      ]
     },
     "metadata": {
      "needs_background": "light"
     },
     "output_type": "display_data"
    }
   ],
   "source": [
    "%%time\n",
    "eventfreq0 = get_event_freq(pr0_labels)\n",
    "eventfreq1 = get_event_freq(pr1_labels)\n",
    "pname = f\"/Users/brianpm/Desktop/{mdl1}_{e1}_{e2}_precip_event_frequency.png\"\n",
    "map_event_freq(pname, eventfreq0, eventfreq1, coastlines=rmlnd, title1=e1, title2=e2)"
   ]
  },
  {
   "cell_type": "code",
   "execution_count": 208,
   "metadata": {},
   "outputs": [
    {
     "name": "stdout",
     "output_type": "stream",
     "text": [
      "Quantile value: 41.60583381652839\n",
      "Quantile value: 41.29681282043464\n",
      "Average extreme contribution in control: 0.15 \\pm 0.04, and in LWoff: 0.15 \\pm 0.05\n"
     ]
    }
   ],
   "source": [
    "# Alternative question is how much of the rain is associated with strong events?\n",
    "pr1_crit = get_tropics_quantiles(pr1, threshold=None, q=0.99)\n",
    "pr2_crit = get_tropics_quantiles(pr2, q=0.99)\n",
    "\n",
    "pr1_tot = pr1.sum(dim=(\"lat\",\"lon\"))\n",
    "pr1_xsum = pr1.where(pr1 >= pr1_crit).sum(dim=(\"lat\",\"lon\"))\n",
    "pr1_xcontrib = pr1_xsum / pr1_tot\n",
    "\n",
    "pr2_tot = pr2.sum(dim=(\"lat\",\"lon\"))\n",
    "pr2_xsum = pr2.where(pr2 >= pr2_crit).sum(dim=(\"lat\",\"lon\"))\n",
    "pr2_xcontrib = pr2_xsum / pr2_tot\n",
    "\n",
    "print(f\"Average extreme contribution in control: {pr1_xcontrib.values.mean():.2f} \\pm {pr1_xcontrib.values.std():.2f}, and in LWoff: {pr2_xcontrib.values.mean():.2f} \\pm {pr2_xcontrib.values.std():.2f}\")"
   ]
  },
  {
   "cell_type": "code",
   "execution_count": 209,
   "metadata": {},
   "outputs": [],
   "source": [
    "#\n",
    "# Save labeled events so as to enable easier filtering\n",
    "#\n",
    "pr0_labels.name = \"precip_events\"\n",
    "pr1_labels.name = \"precip_events\"\n",
    "\n",
    "if 'type' in pr0_labels.coords:\n",
    "    if pr0_labels['type'].shape == ():\n",
    "        pr0_labels = pr0_labels.drop('type')\n",
    "        \n",
    "if 'type' in pr1_labels.coords:\n",
    "    if pr1_labels['type'].shape == ():\n",
    "        pr1_labels = pr1_labels.drop('type')\n",
    "\n",
    "oname0 = data_loc + \"/\" + \"pr_events_\"+\"_\".join(tup1)+\".nc\"\n",
    "pr0_labels.to_netcdf(oname0)\n",
    "\n",
    "oname1 = data_loc + \"/\" + \"pr_events_\"+\"_\".join(tup2)+\".nc\"\n",
    "pr1_labels.to_netcdf(oname1)\n",
    "\n",
    "\n"
   ]
  },
  {
   "cell_type": "markdown",
   "metadata": {},
   "source": [
    "## END\n",
    "\n",
    "All code below here was from previous set of calculations, and can be reproduced with more generalized version above."
   ]
  },
  {
   "cell_type": "code",
   "execution_count": 55,
   "metadata": {},
   "outputs": [
    {
     "name": "stdout",
     "output_type": "stream",
     "text": [
      "Quantile value: 41.60583381652839\n",
      "Quantile value: 41.29681282043464\n"
     ]
    },
    {
     "data": {
      "application/vnd.jupyter.widget-view+json": {
       "model_id": "e81fe5845d8f4b7eb72c121df80fe1b8",
       "version_major": 2,
       "version_minor": 0
      },
      "text/plain": [
       "HBox(children=(FloatProgress(value=0.0, max=3653.0), HTML(value='')))"
      ]
     },
     "metadata": {},
     "output_type": "display_data"
    },
    {
     "name": "stdout",
     "output_type": "stream",
     "text": [
      "\n"
     ]
    },
    {
     "data": {
      "application/vnd.jupyter.widget-view+json": {
       "model_id": "ca76eaa90a1e43e789af3a895a253261",
       "version_major": 2,
       "version_minor": 0
      },
      "text/plain": [
       "HBox(children=(FloatProgress(value=0.0, max=3653.0), HTML(value='')))"
      ]
     },
     "metadata": {},
     "output_type": "display_data"
    },
    {
     "name": "stdout",
     "output_type": "stream",
     "text": [
      "\n"
     ]
    },
    {
     "data": {
      "application/vnd.jupyter.widget-view+json": {
       "model_id": "1eba5cd44a1d47758ed517b46b5dc7c7",
       "version_major": 2,
       "version_minor": 0
      },
      "text/plain": [
       "HBox(children=(FloatProgress(value=0.0, max=435.0), HTML(value='')))"
      ]
     },
     "metadata": {},
     "output_type": "display_data"
    },
    {
     "name": "stdout",
     "output_type": "stream",
     "text": [
      "\n"
     ]
    },
    {
     "data": {
      "application/vnd.jupyter.widget-view+json": {
       "model_id": "c75b23433052443f86a5005758c33929",
       "version_major": 2,
       "version_minor": 0
      },
      "text/plain": [
       "HBox(children=(FloatProgress(value=0.0, max=330.0), HTML(value='')))"
      ]
     },
     "metadata": {},
     "output_type": "display_data"
    },
    {
     "name": "stdout",
     "output_type": "stream",
     "text": [
      "\n",
      "CNRM-CM6-1 aqua-control: [N_events] = 14.55 ± 3.15, Ntot: 33565.00, [D] = 1.58 ± 1.77, [S] = 4.36 ± 4.33, [Smx] = 5.54 ± 7.26\n",
      "CNRM-CM6-1 aqua-control-lwoff: [N_events] = 12.74 ± 2.93, Ntot: 33339.00, [D] = 1.40 ± 1.21, [S] = 5.12 ± 5.96, [Smx] = 6.05 ± 8.43\n",
      "CPU times: user 1min 48s, sys: 1min, total: 2min 48s\n",
      "Wall time: 3min 4s\n"
     ]
    },
    {
     "data": {
      "image/png": "[encoded data removed]",
      "text/plain": [
       "<Figure size 432x288 with 1 Axes>"
      ]
     },
     "metadata": {
      "needs_background": "light"
     },
     "output_type": "display_data"
    }
   ],
   "source": [
    "%%time\n",
    "m = \"CNRM-CM6-1\"\n",
    "r = \"r1i1p1f2\"\n",
    "e1 = \"aqua-control\"\n",
    "e2 = \"aqua-control-lwoff\"\n",
    "eovr = \"AQUA\"\n",
    "\n",
    "# gets the labels with temporal tracking / tropical values (30S-30N) \n",
    "cnrm0_labels, cnrm1_labels = pr_label_workflow(m, e1, e2, r, r, remove_land=False,\n",
    "    label=\"3d\",\n",
    "    latitude=slice(-30,30),\n",
    "    lon_wrap=True)\n",
    "\n",
    "# need duration\n",
    "cnrm0_dur = get_duration(cnrm0_labels)\n",
    "cnrm1_dur = get_duration(cnrm1_labels)\n",
    "\n",
    "# Now we compare the histogram of event duration\n",
    "\n",
    "fig, ax = plt.subplots()\n",
    "h0, bedge0 = np.histogram(list(cnrm0_dur.values()), bins=np.arange(.5, 50.5, 1), density=True)\n",
    "bctr0 = bedge0[1:] + np.diff(bedge0)\n",
    "\n",
    "h1, bedge1 = np.histogram(list(cnrm1_dur.values()), bins=np.arange(.5, 50.5, 1), density=True)\n",
    "bctr1 = bedge1[1:] + np.diff(bedge1)\n",
    "\n",
    "ax.step(bctr0, (h0*np.diff(bedge0)), where='mid')\n",
    "ax.step(bctr1, (h1*np.diff(bedge1)), where='mid')\n",
    "ax.set_ylim([0., 0.01])\n",
    "ax.set_xlabel(\"Duration (days)\")\n",
    "ax.set_ylabel(\"log(Probability) (fraction)\")\n",
    "ax.set_title(f\"{m} {eovr}, tropics\")\n",
    "\n",
    "summarize_events(cnrm0_labels, m, e1)\n",
    "summarize_events(cnrm1_labels, m, e2)\n",
    "\n"
   ]
  },
  {
   "cell_type": "code",
   "execution_count": 56,
   "metadata": {},
   "outputs": [
    {
     "name": "stderr",
     "output_type": "stream",
     "text": [
      "/Users/brianpm/anaconda3/lib/python3.7/site-packages/xarray/conventions.py:494: SerializationWarning: variable 'pr' has multiple fill values {1e+20, 1e+20}, decoding all values to NaN.\n",
      "  use_cftime=use_cftime,\n"
     ]
    },
    {
     "name": "stdout",
     "output_type": "stream",
     "text": [
      "Quantile value: 36.46170570373533\n",
      "Quantile value: 23.00404930114746\n"
     ]
    },
    {
     "data": {
      "application/vnd.jupyter.widget-view+json": {
       "model_id": "62c694cfa8a84d35b45c48001e2d8674",
       "version_major": 2,
       "version_minor": 0
      },
      "text/plain": [
       "HBox(children=(FloatProgress(value=0.0, max=3651.0), HTML(value='')))"
      ]
     },
     "metadata": {},
     "output_type": "display_data"
    },
    {
     "name": "stdout",
     "output_type": "stream",
     "text": [
      "\n"
     ]
    },
    {
     "data": {
      "application/vnd.jupyter.widget-view+json": {
       "model_id": "1c395f8b3964450ba51dae3a85a0d2a4",
       "version_major": 2,
       "version_minor": 0
      },
      "text/plain": [
       "HBox(children=(FloatProgress(value=0.0, max=3651.0), HTML(value='')))"
      ]
     },
     "metadata": {},
     "output_type": "display_data"
    },
    {
     "name": "stdout",
     "output_type": "stream",
     "text": [
      "\n"
     ]
    },
    {
     "data": {
      "application/vnd.jupyter.widget-view+json": {
       "model_id": "32e38bf000ca4ed49aff6bdb5716cf51",
       "version_major": 2,
       "version_minor": 0
      },
      "text/plain": [
       "HBox(children=(FloatProgress(value=0.0, max=508.0), HTML(value='')))"
      ]
     },
     "metadata": {},
     "output_type": "display_data"
    },
    {
     "name": "stdout",
     "output_type": "stream",
     "text": [
      "\n"
     ]
    },
    {
     "data": {
      "application/vnd.jupyter.widget-view+json": {
       "model_id": "2f540c2a66834716827be50e9165563e",
       "version_major": 2,
       "version_minor": 0
      },
      "text/plain": [
       "HBox(children=(FloatProgress(value=0.0, max=544.0), HTML(value='')))"
      ]
     },
     "metadata": {},
     "output_type": "display_data"
    },
    {
     "name": "stdout",
     "output_type": "stream",
     "text": [
      "\n",
      "CESM2 aqua-control: [N_events] = 13.66 ± 3.37, Ntot: 29816.00, [D] = 1.67 ± 1.95, [S] = 6.73 ± 7.95, [Smx] = 8.91 ± 14.11\n",
      "CESM2 aqua-control-lwoff: [N_events] = 17.30 ± 3.37, Ntot: 35752.00, [D] = 1.77 ± 1.63, [S] = 7.04 ± 7.40, [Smx] = 9.49 ± 12.45\n",
      "CPU times: user 3min 57s, sys: 2min 17s, total: 6min 14s\n",
      "Wall time: 6min 33s\n"
     ]
    },
    {
     "data": {
      "image/png": "[encoded data removed]",
      "text/plain": [
       "<Figure size 432x288 with 1 Axes>"
      ]
     },
     "metadata": {
      "needs_background": "light"
     },
     "output_type": "display_data"
    }
   ],
   "source": [
    "%%time\n",
    "m = \"CESM2\"\n",
    "r = \"r1i1p1f1\"\n",
    "e1 = \"aqua-control\"\n",
    "e2 = \"aqua-control-lwoff\"\n",
    "eovr = \"AQUA\"\n",
    "\n",
    "# gets the labels with temporal tracking / tropical values (30S-30N) \n",
    "cesm0_labels, cesm1_labels = pr_label_workflow(m, e1, e2, r, r, remove_land=False,\n",
    "    label=\"3d\",\n",
    "    latitude=slice(-30,30),\n",
    "    lon_wrap=True)\n",
    "\n",
    "# need duration\n",
    "cesm0_dur = get_duration(cesm0_labels)\n",
    "cesm1_dur = get_duration(cesm1_labels)\n",
    "\n",
    "# Now we compare the histogram of event duration\n",
    "\n",
    "fig, ax = plt.subplots()\n",
    "h0, bedge0 = np.histogram(list(cesm0_dur.values()), bins=np.arange(.5, 50.5, 1), density=True)\n",
    "bctr0 = bedge0[1:] + np.diff(bedge0)\n",
    "\n",
    "h1, bedge1 = np.histogram(list(cesm1_dur.values()), bins=np.arange(.5, 50.5, 1), density=True)\n",
    "bctr1 = bedge1[1:] + np.diff(bedge1)\n",
    "\n",
    "ax.step(bctr0, (h0*np.diff(bedge0)), where='mid')\n",
    "ax.step(bctr1, (h1*np.diff(bedge1)), where='mid')\n",
    "ax.set_ylim([0., 0.01])\n",
    "ax.set_xlabel(\"Duration (days)\")\n",
    "ax.set_ylabel(\"log(Probability) (fraction)\")\n",
    "ax.set_title(f\"{m} {eovr}, tropics\")\n",
    "\n",
    "summarize_events(cesm0_labels, m, e1)\n",
    "summarize_events(cesm1_labels, m, e2)\n",
    "\n",
    "\n"
   ]
  },
  {
   "cell_type": "code",
   "execution_count": 57,
   "metadata": {},
   "outputs": [
    {
     "name": "stdout",
     "output_type": "stream",
     "text": [
      "Quantile value: 47.04558120727552\n",
      "Quantile value: 44.80594955444349\n"
     ]
    },
    {
     "data": {
      "application/vnd.jupyter.widget-view+json": {
       "model_id": "619ba23dd0114482bfb7ab97c12d7cc7",
       "version_major": 2,
       "version_minor": 0
      },
      "text/plain": [
       "HBox(children=(FloatProgress(value=0.0, max=13149.0), HTML(value='')))"
      ]
     },
     "metadata": {},
     "output_type": "display_data"
    },
    {
     "name": "stdout",
     "output_type": "stream",
     "text": [
      "\n"
     ]
    },
    {
     "data": {
      "application/vnd.jupyter.widget-view+json": {
       "model_id": "88395399a2b441fd8197c7225da63417",
       "version_major": 2,
       "version_minor": 0
      },
      "text/plain": [
       "HBox(children=(FloatProgress(value=0.0, max=13149.0), HTML(value='')))"
      ]
     },
     "metadata": {},
     "output_type": "display_data"
    },
    {
     "name": "stdout",
     "output_type": "stream",
     "text": [
      "\n"
     ]
    },
    {
     "data": {
      "application/vnd.jupyter.widget-view+json": {
       "model_id": "e575b46f452340068d926f74d7b1be8b",
       "version_major": 2,
       "version_minor": 0
      },
      "text/plain": [
       "HBox(children=(FloatProgress(value=0.0, max=57.0), HTML(value='')))"
      ]
     },
     "metadata": {},
     "output_type": "display_data"
    },
    {
     "name": "stdout",
     "output_type": "stream",
     "text": [
      "\n"
     ]
    },
    {
     "data": {
      "application/vnd.jupyter.widget-view+json": {
       "model_id": "5db50ec1dda34ca69d8d55df796b0fee",
       "version_major": 2,
       "version_minor": 0
      },
      "text/plain": [
       "HBox(children=(FloatProgress(value=0.0, max=162.0), HTML(value='')))"
      ]
     },
     "metadata": {},
     "output_type": "display_data"
    },
    {
     "name": "stdout",
     "output_type": "stream",
     "text": [
      "\n",
      "CNRM-CM6-1 amip: [N_events] = 12.08 ± 2.90, Ntot: 89594.00, [D] = 1.77 ± 2.06, [S] = 3.49 ± 3.59, [Smx] = 4.54 ± 6.21\n",
      "CNRM-CM6-1 amip-lwoff: [N_events] = 12.48 ± 3.06, Ntot: 106396.00, [D] = 1.54 ± 2.03, [S] = 3.69 ± 3.81, [Smx] = 4.49 ± 5.85\n",
      "CPU times: user 2min 28s, sys: 1min 20s, total: 3min 49s\n",
      "Wall time: 4min 10s\n"
     ]
    },
    {
     "data": {
      "image/png": "[encoded data removed]",
      "text/plain": [
       "<Figure size 432x288 with 1 Axes>"
      ]
     },
     "metadata": {
      "needs_background": "light"
     },
     "output_type": "display_data"
    }
   ],
   "source": [
    "%%time\n",
    "m = \"CNRM-CM6-1\"\n",
    "r = \"r1i1p1f2\"\n",
    "e1 = \"amip\"\n",
    "e2 = \"amip-lwoff\"\n",
    "eovr = \"AMIP\"\n",
    "\n",
    "# gets the labels with temporal tracking / tropical values (30S-30N) \n",
    "cnrmA_labels, cnrmB_labels = pr_label_workflow(m, e1, e2, r, r, remove_land=True,\n",
    "    label=\"3d\",\n",
    "    latitude=slice(-30,30),\n",
    "    lon_wrap=True)\n",
    "\n",
    "# need duration\n",
    "cnrmA_dur = get_duration(cnrmA_labels)\n",
    "cnrmB_dur = get_duration(cnrmB_labels)\n",
    "\n",
    "# Now we compare the histogram of event duration\n",
    "\n",
    "fig, ax = plt.subplots()\n",
    "h0, bedge0 = np.histogram(list(cnrmA_dur.values()), bins=np.arange(.5, 50.5, 1), density=True)\n",
    "bctr0 = bedge0[1:] + np.diff(bedge0)\n",
    "\n",
    "h1, bedge1 = np.histogram(list(cnrmB_dur.values()), bins=np.arange(.5, 50.5, 1), density=True)\n",
    "bctr1 = bedge1[1:] + np.diff(bedge1)\n",
    "\n",
    "ax.step(bctr0, (h0*np.diff(bedge0)), where='mid')\n",
    "ax.step(bctr1, (h1*np.diff(bedge1)), where='mid')\n",
    "ax.set_ylim([0., 0.01])\n",
    "ax.set_xlabel(\"Duration (days)\")\n",
    "ax.set_ylabel(\"log(Probability) (fraction)\")\n",
    "ax.set_title(f\"{m} {eovr}, tropics\")\n",
    "\n",
    "summarize_events(cnrmA_labels, m, e1)\n",
    "summarize_events(cnrmB_labels, m, e2)"
   ]
  },
  {
   "cell_type": "code",
   "execution_count": 58,
   "metadata": {},
   "outputs": [
    {
     "name": "stdout",
     "output_type": "stream",
     "text": [
      "Quantile value: 36.43431427001923\n",
      "Quantile value: 20.73476715087895\n"
     ]
    },
    {
     "data": {
      "application/vnd.jupyter.widget-view+json": {
       "model_id": "50fe15e55f3a47eea9a8b78ab477a604",
       "version_major": 2,
       "version_minor": 0
      },
      "text/plain": [
       "HBox(children=(FloatProgress(value=0.0, max=14245.0), HTML(value='')))"
      ]
     },
     "metadata": {},
     "output_type": "display_data"
    },
    {
     "name": "stdout",
     "output_type": "stream",
     "text": [
      "\n"
     ]
    },
    {
     "data": {
      "application/vnd.jupyter.widget-view+json": {
       "model_id": "1789a991d5be4732a556ab7596b7f567",
       "version_major": 2,
       "version_minor": 0
      },
      "text/plain": [
       "HBox(children=(FloatProgress(value=0.0, max=13149.0), HTML(value='')))"
      ]
     },
     "metadata": {},
     "output_type": "display_data"
    },
    {
     "name": "stdout",
     "output_type": "stream",
     "text": [
      "\n"
     ]
    },
    {
     "data": {
      "application/vnd.jupyter.widget-view+json": {
       "model_id": "9c210b5556fb4ed49ce0ee7f12b13c7b",
       "version_major": 2,
       "version_minor": 0
      },
      "text/plain": [
       "HBox(children=(FloatProgress(value=0.0, max=333.0), HTML(value='')))"
      ]
     },
     "metadata": {},
     "output_type": "display_data"
    },
    {
     "name": "stdout",
     "output_type": "stream",
     "text": [
      "\n"
     ]
    },
    {
     "data": {
      "application/vnd.jupyter.widget-view+json": {
       "model_id": "237cfa59a1bf4c109773f859ca7c5609",
       "version_major": 2,
       "version_minor": 0
      },
      "text/plain": [
       "HBox(children=(FloatProgress(value=0.0, max=23.0), HTML(value='')))"
      ]
     },
     "metadata": {},
     "output_type": "display_data"
    },
    {
     "name": "stdout",
     "output_type": "stream",
     "text": [
      "\n",
      "IPSL-CM6A-LR amip: [N_events] = 13.44 ± 3.51, Ntot: 79114.00, [D] = 2.42 ± 2.97, [S] = 2.19 ± 1.84, [Smx] = 2.99 ± 3.41\n",
      "IPSL-CM6A-LR amip-lwoff: [N_events] = 12.61 ± 3.74, Ntot: 81788.00, [D] = 2.03 ± 2.18, [S] = 2.14 ± 2.30, [Smx] = 2.92 ± 4.28\n",
      "CPU times: user 2min 29s, sys: 1min 9s, total: 3min 39s\n",
      "Wall time: 3min 50s\n"
     ]
    },
    {
     "data": {
      "image/png": "[encoded data removed]",
      "text/plain": [
       "<Figure size 432x288 with 1 Axes>"
      ]
     },
     "metadata": {
      "needs_background": "light"
     },
     "output_type": "display_data"
    }
   ],
   "source": [
    "%%time\n",
    "m = \"IPSL-CM6A-LR\"\n",
    "r1 = \"r1i1p1f1\"\n",
    "r2 = \"r1i1p1f1\"\n",
    "e1 = \"amip\"\n",
    "e2 = \"amip-lwoff\"\n",
    "eovr = \"AMIP\"\n",
    "\n",
    "# gets the labels with temporal tracking / tropical values (30S-30N) \n",
    "ipslA_labels, ipslB_labels = pr_label_workflow(m, e1, e2, r1, r2, remove_land=True,\n",
    "    label=\"3d\",\n",
    "    latitude=slice(-30,30),\n",
    "    lon_wrap=True)\n",
    "\n",
    "# need duration\n",
    "ipslA_dur = get_duration(ipslA_labels)\n",
    "ipslB_dur = get_duration(ipslB_labels)\n",
    "\n",
    "# Now we compare the histogram of event duration\n",
    "\n",
    "fig, ax = plt.subplots()\n",
    "h0, bedge0 = np.histogram(list(ipslA_dur.values()), bins=np.arange(.5, 50.5, 1), density=True)\n",
    "bctr0 = bedge0[1:] + np.diff(bedge0)\n",
    "\n",
    "h1, bedge1 = np.histogram(list(ipslB_dur.values()), bins=np.arange(.5, 50.5, 1), density=True)\n",
    "bctr1 = bedge1[1:] + np.diff(bedge1)\n",
    "\n",
    "ax.step(bctr0, (h0*np.diff(bedge0)), where='mid')\n",
    "ax.step(bctr1, (h1*np.diff(bedge1)), where='mid')\n",
    "ax.set_ylim([0., 0.01])\n",
    "ax.set_xlabel(\"Duration (days)\")\n",
    "ax.set_ylabel(\"log(Probability) (fraction)\")\n",
    "ax.set_title(f\"{m} {eovr}, tropics\")\n",
    "\n",
    "summarize_events(ipslA_labels, m, e1)\n",
    "summarize_events(ipslB_labels, m, e2)"
   ]
  },
  {
   "cell_type": "code",
   "execution_count": 59,
   "metadata": {},
   "outputs": [
    {
     "name": "stderr",
     "output_type": "stream",
     "text": [
      "/Users/brianpm/anaconda3/lib/python3.7/site-packages/xarray/conventions.py:494: SerializationWarning: variable 'pr' has multiple fill values {1e+20, 1e+20}, decoding all values to NaN.\n",
      "  use_cftime=use_cftime,\n",
      "/Users/brianpm/anaconda3/lib/python3.7/site-packages/xarray/conventions.py:494: SerializationWarning: variable 'sftlf' has multiple fill values {1e+20, 1e+20}, decoding all values to NaN.\n",
      "  use_cftime=use_cftime,\n"
     ]
    },
    {
     "name": "stdout",
     "output_type": "stream",
     "text": [
      "Quantile value: 33.26182556152344\n"
     ]
    },
    {
     "name": "stderr",
     "output_type": "stream",
     "text": [
      "/Users/brianpm/anaconda3/lib/python3.7/site-packages/xarray/conventions.py:494: SerializationWarning: variable 'pr' has multiple fill values {1e+20, 1e+20}, decoding all values to NaN.\n",
      "  use_cftime=use_cftime,\n",
      "/Users/brianpm/anaconda3/lib/python3.7/site-packages/xarray/conventions.py:494: SerializationWarning: variable 'sftlf' has multiple fill values {1e+20, 1e+20}, decoding all values to NaN.\n",
      "  use_cftime=use_cftime,\n"
     ]
    },
    {
     "name": "stdout",
     "output_type": "stream",
     "text": [
      "Quantile value: 30.823095607757466\n"
     ]
    },
    {
     "data": {
      "application/vnd.jupyter.widget-view+json": {
       "model_id": "f4da0c361f6c4411afb524a00e3f27e9",
       "version_major": 2,
       "version_minor": 0
      },
      "text/plain": [
       "HBox(children=(FloatProgress(value=0.0, max=23726.0), HTML(value='')))"
      ]
     },
     "metadata": {},
     "output_type": "display_data"
    },
    {
     "name": "stdout",
     "output_type": "stream",
     "text": [
      "\n"
     ]
    },
    {
     "data": {
      "application/vnd.jupyter.widget-view+json": {
       "model_id": "6efe4896c8f74a34845962a68b5ed8f1",
       "version_major": 2,
       "version_minor": 0
      },
      "text/plain": [
       "HBox(children=(FloatProgress(value=0.0, max=13141.0), HTML(value='')))"
      ]
     },
     "metadata": {},
     "output_type": "display_data"
    },
    {
     "name": "stdout",
     "output_type": "stream",
     "text": [
      "\n"
     ]
    },
    {
     "data": {
      "application/vnd.jupyter.widget-view+json": {
       "model_id": "018b602268d44792afb23a6e6020f7e6",
       "version_major": 2,
       "version_minor": 0
      },
      "text/plain": [
       "HBox(children=(FloatProgress(value=0.0, max=114.0), HTML(value='')))"
      ]
     },
     "metadata": {},
     "output_type": "display_data"
    },
    {
     "name": "stdout",
     "output_type": "stream",
     "text": [
      "\n"
     ]
    },
    {
     "data": {
      "application/vnd.jupyter.widget-view+json": {
       "model_id": "ee6d100f467540e384e48536947f0337",
       "version_major": 2,
       "version_minor": 0
      },
      "text/plain": [
       "HBox(children=(FloatProgress(value=0.0, max=11.0), HTML(value='')))"
      ]
     },
     "metadata": {},
     "output_type": "display_data"
    },
    {
     "name": "stdout",
     "output_type": "stream",
     "text": [
      "\n",
      "CESM2 amip: [N_events] = 13.81 ± 3.28, Ntot: 175658.00, [D] = 1.87 ± 1.99, [S] = 5.45 ± 6.14, [Smx] = 7.54 ± 10.98\n",
      "CESM2 amip-lwoff: [N_events] = 12.34 ± 3.15, Ntot: 91516.00, [D] = 1.77 ± 2.00, [S] = 5.88 ± 6.83, [Smx] = 7.97 ± 12.27\n",
      "CPU times: user 4min 42s, sys: 2min 24s, total: 7min 7s\n",
      "Wall time: 8min 6s\n"
     ]
    },
    {
     "data": {
      "image/png": "[encoded data removed]",
      "text/plain": [
       "<Figure size 432x288 with 1 Axes>"
      ]
     },
     "metadata": {
      "needs_background": "light"
     },
     "output_type": "display_data"
    }
   ],
   "source": [
    "%%time\n",
    "m = \"CESM2\"\n",
    "r1 = \"r1i1p1f1\"\n",
    "r2 = \"r1i1p1f1\"\n",
    "e1 = \"amip\"\n",
    "e2 = \"amip-lwoff\"\n",
    "eovr = \"AMIP\"\n",
    "\n",
    "# gets the labels with temporal tracking / tropical values (30S-30N) \n",
    "cesmA_labels, cesmB_labels = pr_label_workflow(m, e1, e2, r1, r2, remove_land=True,\n",
    "    label=\"3d\",\n",
    "    latitude=slice(-30,30),\n",
    "    lon_wrap=True)\n",
    "\n",
    "# need duration\n",
    "cesmA_dur = get_duration(cesmA_labels)\n",
    "cesmB_dur = get_duration(cesmB_labels)\n",
    "\n",
    "# Now we compare the histogram of event duration\n",
    "\n",
    "fig, ax = plt.subplots()\n",
    "h0, bedge0 = np.histogram(list(cesmA_dur.values()), bins=np.arange(.5, 50.5, 1), density=True)\n",
    "bctr0 = bedge0[1:] + np.diff(bedge0)\n",
    "\n",
    "h1, bedge1 = np.histogram(list(cesmB_dur.values()), bins=np.arange(.5, 50.5, 1), density=True)\n",
    "bctr1 = bedge1[1:] + np.diff(bedge1)\n",
    "\n",
    "ax.step(bctr0, (h0*np.diff(bedge0)), where='mid')\n",
    "ax.step(bctr1, (h1*np.diff(bedge1)), where='mid')\n",
    "ax.set_ylim([0., 0.01])\n",
    "ax.set_xlabel(\"Duration (days)\")\n",
    "ax.set_ylabel(\"log(Probability) (fraction)\")\n",
    "ax.set_title(f\"{m} {eovr}, tropics\")\n",
    "\n",
    "summarize_events(cesmA_labels, m, e1)\n",
    "summarize_events(cesmB_labels, m, e2)"
   ]
  },
  {
   "cell_type": "code",
   "execution_count": 68,
   "metadata": {},
   "outputs": [
    {
     "data": {
      "text/plain": [
       "36542"
      ]
     },
     "execution_count": 68,
     "metadata": {},
     "output_type": "execute_result"
    }
   ],
   "source": [
    "cnrm0_nf"
   ]
  },
  {
   "cell_type": "code",
   "execution_count": 138,
   "metadata": {},
   "outputs": [
    {
     "name": "stdout",
     "output_type": "stream",
     "text": [
      "CPU times: user 253 ms, sys: 7.86 ms, total: 261 ms\n",
      "Wall time: 328 ms\n"
     ]
    }
   ],
   "source": [
    "%%time\n",
    "cnrm0_dur = get_duration(cnrm0_labels)"
   ]
  },
  {
   "cell_type": "code",
   "execution_count": 157,
   "metadata": {},
   "outputs": [
    {
     "data": {
      "text/plain": [
       "(0.0, 0.01)"
      ]
     },
     "execution_count": 157,
     "metadata": {},
     "output_type": "execute_result"
    },
    {
     "data": {
      "image/png": "[encoded data removed]",
      "text/plain": [
       "<Figure size 432x288 with 1 Axes>"
      ]
     },
     "metadata": {
      "needs_background": "light"
     },
     "output_type": "display_data"
    }
   ],
   "source": [
    "#\n",
    "# Draw the histogram of duration\n",
    "# \n",
    "\n",
    "fig, ax = plt.subplots()\n",
    "h, bedge = np.histogram(list(cnrm0_dur.values()), bins=np.arange(.5, 50.5, .5), density=True)\n",
    "bctr = bedge[1:] + np.diff(bedge)\n",
    "ax.bar(bctr, h*np.diff(bedge))\n",
    "ax.set_ylim([0., 0.01])"
   ]
  },
  {
   "cell_type": "code",
   "execution_count": 229,
   "metadata": {},
   "outputs": [
    {
     "name": "stderr",
     "output_type": "stream",
     "text": [
      "/Users/brianpm/anaconda3/lib/python3.7/site-packages/ipykernel_launcher.py:8: TqdmDeprecationWarning: This function will be removed in tqdm==5.0.0\n",
      "Please use `tqdm.notebook.tqdm` instead of `tqdm.tqdm_notebook`\n",
      "  \n"
     ]
    },
    {
     "data": {
      "application/vnd.jupyter.widget-view+json": {
       "model_id": "679f77dedf8f4ec9ab4964033ba14b21",
       "version_major": 2,
       "version_minor": 0
      },
      "text/plain": [
       "HBox(children=(FloatProgress(value=0.0, max=3653.0), HTML(value='')))"
      ]
     },
     "metadata": {},
     "output_type": "display_data"
    },
    {
     "name": "stdout",
     "output_type": "stream",
     "text": [
      "\n",
      "CPU times: user 357 ms, sys: 211 ms, total: 568 ms\n",
      "Wall time: 585 ms\n"
     ]
    }
   ],
   "source": [
    "%%time\n",
    "cnrm0_wrap_transformer = wrap_events(cnrm0_labels.values)\n",
    "cnrm0_wrap_labels = cnrm0_labels.copy()\n",
    "for k in tqdm(cnrm0_wrap_transformer):\n",
    "    cnrm0_wrap_labels = np.where(cnrm0_wrap_labels==k, cnrm0_wrap_transformer[k], cnrm0_wrap_labels)\n",
    "# updated duration estimates:\n",
    "cnrm0_wrap_dur = get_duration(cnrm0_wrap_labels)"
   ]
  },
  {
   "cell_type": "code",
   "execution_count": 270,
   "metadata": {},
   "outputs": [
    {
     "data": {
      "application/vnd.jupyter.widget-view+json": {
       "model_id": "189994c715ac4ffeaaadc66d662fcc25",
       "version_major": 2,
       "version_minor": 0
      },
      "text/plain": [
       "HBox(children=(FloatProgress(value=0.0, max=3653.0), HTML(value='')))"
      ]
     },
     "metadata": {},
     "output_type": "display_data"
    },
    {
     "name": "stdout",
     "output_type": "stream",
     "text": [
      "\n"
     ]
    },
    {
     "data": {
      "application/vnd.jupyter.widget-view+json": {
       "model_id": "544846efdd85446ea733a86ce01339cc",
       "version_major": 2,
       "version_minor": 0
      },
      "text/plain": [
       "HBox(children=(FloatProgress(value=0.0, max=356.0), HTML(value='')))"
      ]
     },
     "metadata": {},
     "output_type": "display_data"
    },
    {
     "name": "stdout",
     "output_type": "stream",
     "text": [
      "\n",
      "CPU times: user 2min 13s, sys: 1min 21s, total: 3min 35s\n",
      "Wall time: 3min 41s\n"
     ]
    }
   ],
   "source": [
    "%%time\n",
    "# moving to the second simulation\n",
    "cnrm1_wrap_transformer = wrap_events(cnrm1_labels.values)\n",
    "cnrm1_wrap_labels = event_wrapper(cnrm1_labels.values, cnrm1_wrap_transformer)\n",
    "cnrm1_wrap_dur = get_duration(cnrm1_wrap_labels)"
   ]
  },
  {
   "cell_type": "code",
   "execution_count": 288,
   "metadata": {},
   "outputs": [
    {
     "data": {
      "text/plain": [
       "Text(0.5, 1.0, 'CNRM aqua, global')"
      ]
     },
     "execution_count": 288,
     "metadata": {},
     "output_type": "execute_result"
    },
    {
     "data": {
      "image/png": "[encoded data removed]",
      "text/plain": [
       "<Figure size 432x288 with 1 Axes>"
      ]
     },
     "metadata": {
      "needs_background": "light"
     },
     "output_type": "display_data"
    }
   ],
   "source": [
    "# Now we compare the histogram of event duration\n",
    "\n",
    "fig, ax = plt.subplots()\n",
    "h0, bedge0 = np.histogram(list(cnrm0_wrap_dur.values()), bins=np.arange(.5, 50.5, 1), density=True)\n",
    "bctr0 = bedge0[1:] + np.diff(bedge0)\n",
    "\n",
    "h1, bedge1 = np.histogram(list(cnrm1_wrap_dur.values()), bins=np.arange(.5, 50.5, 1), density=True)\n",
    "bctr1 = bedge1[1:] + np.diff(bedge1)\n",
    "\n",
    "ax.step(bctr0, (h0*np.diff(bedge0)), where='mid')\n",
    "ax.step(bctr1, (h1*np.diff(bedge1)), where='mid')\n",
    "ax.set_ylim([0., 0.01])\n",
    "ax.set_xlabel(\"Duration (days)\")\n",
    "ax.set_ylabel(\"log(Probability) (fraction)\")\n",
    "ax.set_title(\"CNRM aqua, global\")\n",
    "\n",
    "# TO DO: switch to tropics only\n",
    "#        think about how to show this better ... exclude short events? Use a cumulative distribution?\n",
    "# Apply to other models and experiments\n",
    "\n",
    "# Also need to get \"event size\" in some way"
   ]
  },
  {
   "cell_type": "code",
   "execution_count": 285,
   "metadata": {},
   "outputs": [
    {
     "data": {
      "text/plain": [
       "array([ 1.5,  2. ,  2.5,  3. ,  3.5,  4. ,  4.5,  5. ,  5.5,  6. ,  6.5,\n",
       "        7. ,  7.5,  8. ,  8.5,  9. ,  9.5, 10. , 10.5, 11. , 11.5, 12. ,\n",
       "       12.5, 13. , 13.5, 14. , 14.5, 15. , 15.5, 16. , 16.5, 17. , 17.5,\n",
       "       18. , 18.5, 19. , 19.5, 20. , 20.5, 21. , 21.5, 22. , 22.5, 23. ,\n",
       "       23.5, 24. , 24.5, 25. , 25.5, 26. , 26.5, 27. , 27.5, 28. , 28.5,\n",
       "       29. , 29.5, 30. , 30.5, 31. , 31.5, 32. , 32.5, 33. , 33.5, 34. ,\n",
       "       34.5, 35. , 35.5, 36. , 36.5, 37. , 37.5, 38. , 38.5, 39. , 39.5,\n",
       "       40. , 40.5, 41. , 41.5, 42. , 42.5, 43. , 43.5, 44. , 44.5, 45. ,\n",
       "       45.5, 46. , 46.5, 47. , 47.5, 48. , 48.5, 49. , 49.5, 50. , 50.5])"
      ]
     },
     "execution_count": 285,
     "metadata": {},
     "output_type": "execute_result"
    }
   ],
   "source": [
    "bctr"
   ]
  },
  {
   "cell_type": "code",
   "execution_count": 265,
   "metadata": {},
   "outputs": [
    {
     "data": {
      "text/plain": [
       "<matplotlib.collections.QuadMesh at 0x7fc744315710>"
      ]
     },
     "execution_count": 265,
     "metadata": {},
     "output_type": "execute_result"
    },
    {
     "data": {
      "image/png": "[encoded data removed]",
      "text/plain": [
       "<Figure size 432x288 with 1 Axes>"
      ]
     },
     "metadata": {
      "needs_background": "light"
     },
     "output_type": "display_data"
    }
   ],
   "source": [
    "\n",
    "\n",
    "mxd = max(cnrm0_wrap_dur.values())\n",
    "# for k in cnrm0_wrap_dur:\n",
    "#     if cnrm0_wrap_dur[k] == mxd:\n",
    "#         print(k)\n",
    "\n",
    "mxd_event_init = get_initial_tindex(cnrm0_wrap_labels, 15494)\n",
    "\n",
    "plt.pcolormesh(cnrm0_wrap_labels[mxd_event_init,:,:])"
   ]
  },
  {
   "cell_type": "code",
   "execution_count": 268,
   "metadata": {},
   "outputs": [
    {
     "data": {
      "text/plain": [
       "<matplotlib.collections.QuadMesh at 0x7fc971f5b710>"
      ]
     },
     "execution_count": 268,
     "metadata": {},
     "output_type": "execute_result"
    },
    {
     "data": {
      "image/png": "[encoded data removed]",
      "text/plain": [
       "<Figure size 432x288 with 1 Axes>"
      ]
     },
     "metadata": {
      "needs_background": "light"
     },
     "output_type": "display_data"
    }
   ],
   "source": [
    "#\n",
    "# Now that we have events identified and duration estimated -- need average number of events per day\n",
    "#"
   ]
  },
  {
   "cell_type": "code",
   "execution_count": 51,
   "metadata": {},
   "outputs": [
    {
     "name": "stderr",
     "output_type": "stream",
     "text": [
      "/Users/brianpm/anaconda3/lib/python3.7/site-packages/xarray/conventions.py:494: SerializationWarning: variable 'pr' has multiple fill values {1e+20, 1e+20}, decoding all values to NaN.\n",
      "  use_cftime=use_cftime,\n"
     ]
    },
    {
     "name": "stdout",
     "output_type": "stream",
     "text": [
      "Quantile value: 36.46170570373533\n",
      "Quantile value: 23.00404930114746\n",
      "CONTROL: avg # = 18.06463982470556, std = 3.6107035637076463; avg size (gridpoints): 11.736600365345765\n",
      "LWOFF: avg # = 22.85456039441249, std = 4.128641220344849; avg size (gridpoints): 11.175506144349514\n",
      "(tropics) CONTROL: avg # = 16.545330046562587, std = 3.4087569844351773; avg size (gridpoints): 11.575559843815972\n",
      "(tropics) LWOFF: avg # = 19.082717063818134, std = 3.6921014483762313; avg size (gridpoints): 9.805762126246387\n",
      "CPU times: user 42.6 s, sys: 6.55 s, total: 49.1 s\n",
      "Wall time: 54.7 s\n"
     ]
    }
   ],
   "source": [
    "%%time\n",
    "cesm0_labels, cesm1_labels = full_workflow(\"CESM2\", \"aqua-control\", \"aqua-control-lwoff\", \"r1i1p1f1\", \"r1i1p1f1\")"
   ]
  },
  {
   "cell_type": "code",
   "execution_count": 54,
   "metadata": {},
   "outputs": [
    {
     "name": "stderr",
     "output_type": "stream",
     "text": [
      "/Users/brianpm/anaconda3/lib/python3.7/site-packages/xarray/conventions.py:494: SerializationWarning: variable 'pr' has multiple fill values {1e+20, 1e+20}, decoding all values to NaN.\n",
      "  use_cftime=use_cftime,\n",
      "/Users/brianpm/anaconda3/lib/python3.7/site-packages/xarray/conventions.py:494: SerializationWarning: variable 'sftlf' has multiple fill values {1e+20, 1e+20}, decoding all values to NaN.\n",
      "  use_cftime=use_cftime,\n"
     ]
    },
    {
     "name": "stdout",
     "output_type": "stream",
     "text": [
      "Quantile value: 33.26182556152344\n"
     ]
    },
    {
     "name": "stderr",
     "output_type": "stream",
     "text": [
      "/Users/brianpm/anaconda3/lib/python3.7/site-packages/xarray/conventions.py:494: SerializationWarning: variable 'pr' has multiple fill values {1e+20, 1e+20}, decoding all values to NaN.\n",
      "  use_cftime=use_cftime,\n",
      "/Users/brianpm/anaconda3/lib/python3.7/site-packages/xarray/conventions.py:494: SerializationWarning: variable 'sftlf' has multiple fill values {1e+20, 1e+20}, decoding all values to NaN.\n",
      "  use_cftime=use_cftime,\n"
     ]
    },
    {
     "name": "stdout",
     "output_type": "stream",
     "text": [
      "Quantile value: 30.823095607757466\n",
      "CONTROL: avg # = 20.45629267470286, std = 3.9907070648153455; avg size (gridpoints): 9.49132693965473\n",
      "LWOFF: avg # = 17.933034015676128, std = 3.885558207687537; avg size (gridpoints): 10.2834673130478\n",
      "(tropics) CONTROL: avg # = 15.372292000337183, std = 3.5114277663532656; avg size (gridpoints): 8.747929064341013\n",
      "(tropics) LWOFF: avg # = 13.621337797732288, std = 3.38723882708889; avg size (gridpoints): 9.87184019522661\n",
      "CPU times: user 4min 17s, sys: 1min 20s, total: 5min 37s\n",
      "Wall time: 6min 42s\n"
     ]
    }
   ],
   "source": [
    "%%time\n",
    "cesmA_labels, cesmB_labels = full_workflow(\"CESM2\", \"amip\", \"amip-lwoff\", \"r1i1p1f1\", \"r1i1p1f1\", remove_land=True)"
   ]
  },
  {
   "cell_type": "code",
   "execution_count": 55,
   "metadata": {},
   "outputs": [
    {
     "name": "stdout",
     "output_type": "stream",
     "text": [
      "Quantile value: 47.04558120727552\n",
      "Quantile value: 44.80594955444349\n",
      "CONTROL: avg # = 15.537379268385429, std = 3.444781633524618; avg size (gridpoints): 5.6036357049921905\n",
      "LWOFF: avg # = 15.388242451897483, std = 3.4962798943059408; avg size (gridpoints): 5.4762172337823865\n",
      "(tropics) CONTROL: avg # = 13.339721651836642, std = 3.116803200944427; avg size (gridpoints): 5.540935853838045\n",
      "(tropics) LWOFF: avg # = 13.583694577534413, std = 3.2355159869774592; avg size (gridpoints): 5.4636039901193945\n",
      "CPU times: user 1min 56s, sys: 20.8 s, total: 2min 17s\n",
      "Wall time: 2min 34s\n"
     ]
    }
   ],
   "source": [
    "%%time\n",
    "cnrmA_labels, cnrmB_labels = full_workflow(\"CNRM-CM6-1\", \"amip\", \"amip-lwoff\", \"r1i1p1f2\", \"r1i1p1f2\", remove_land=True)"
   ]
  },
  {
   "cell_type": "code",
   "execution_count": 56,
   "metadata": {},
   "outputs": [
    {
     "name": "stdout",
     "output_type": "stream",
     "text": [
      "Quantile value: 36.43431427001923\n",
      "Quantile value: 20.73476715087895\n",
      "CONTROL: avg # = 28.08101088101088, std = 5.104293222134666; avg size (gridpoints): 3.064631642682226\n",
      "LWOFF: avg # = 37.07711613050422, std = 6.021268135152983; avg size (gridpoints): 4.096528236984537\n",
      "(tropics) CONTROL: avg # = 15.692383292383292, std = 3.9908637640010562; avg size (gridpoints): 3.0279030848700663\n",
      "(tropics) LWOFF: avg # = 14.016655258955053, std = 4.2941979835614985; avg size (gridpoints): 3.4145005671953377\n",
      "CPU times: user 1min 42s, sys: 12.2 s, total: 1min 55s\n",
      "Wall time: 2min\n"
     ]
    }
   ],
   "source": [
    "%%time\n",
    "ipslA_labels, ipslB_labels = full_workflow(\"IPSL-CM6A-LR\", \"amip\", \"amip-lwoff\", \"r1i1p1f1\", \"r1i1p1f1\", remove_land=True)"
   ]
  },
  {
   "cell_type": "code",
   "execution_count": 57,
   "metadata": {},
   "outputs": [
    {
     "name": "stdout",
     "output_type": "stream",
     "text": [
      "Quantile value: 34.88654716491703\n",
      "Quantile value: 28.994909439086996\n",
      "CONTROL: avg # = 20.098790782569015, std = 4.545162717392183; avg size (gridpoints): 8.5946455798435\n",
      "LWOFF: avg # = 22.005855958628032, std = 4.932077624527365; avg size (gridpoints): 8.341323917650415\n",
      "(tropics) CONTROL: avg # = 15.399117803635258, std = 4.060398719902338; avg size (gridpoints): 8.099314646802833\n",
      "(tropics) LWOFF: avg # = 16.060993231424444, std = 4.381904411883038; avg size (gridpoints): 7.67833131813183\n",
      "CPU times: user 2min 13s, sys: 38.5 s, total: 2min 51s\n",
      "Wall time: 3min 33s\n"
     ]
    }
   ],
   "source": [
    "%%time\n",
    "mriA_labels, mriB_labels = full_workflow(\"MRI-ESM2-0\", \"amip\", \"amip-lwoff\", \"r1i1p1f1\", \"r1i1p1f1\", remove_land=True)"
   ]
  },
  {
   "cell_type": "code",
   "execution_count": 34,
   "metadata": {},
   "outputs": [
    {
     "name": "stdout",
     "output_type": "stream",
     "text": [
      "CPU times: user 7.89 s, sys: 1.89 s, total: 9.78 s\n",
      "Wall time: 10.5 s\n"
     ]
    }
   ],
   "source": [
    "%%time\n",
    "# try with the funcs & another data set\n",
    "ds2 = xr.open_dataset(\"/Volumes/Glyph6TB/CMIP6/pr_day_CNRM-CM6-1_aqua-control-lwoff_r1i1p1f2_gr_19790101-19881231.nc\")\n",
    "z = ds2['pr'] * 86400.\n",
    "z_threshold = get_tropics_quantiles(z, q=.99)\n",
    "z_labels, z_nfeatures = get_labels(z, z_threshold)\n"
   ]
  },
  {
   "cell_type": "code",
   "execution_count": 35,
   "metadata": {},
   "outputs": [
    {
     "data": {
      "text/plain": [
       "[<matplotlib.lines.Line2D at 0x7f901f34c390>]"
      ]
     },
     "execution_count": 35,
     "metadata": {},
     "output_type": "execute_result"
    },
    {
     "data": {
      "image/png": "[encoded data removed]",
      "text/plain": [
       "<Figure size 432x288 with 1 Axes>"
      ]
     },
     "metadata": {
      "needs_background": "light"
     },
     "output_type": "display_data"
    }
   ],
   "source": [
    "plt.plot(np.arange(1, len(nfarr)+1), nfarr)\n",
    "plt.plot(np.arange(1, len(z_nfeatures)+1), z_nfeatures)"
   ]
  },
  {
   "cell_type": "code",
   "execution_count": 37,
   "metadata": {},
   "outputs": [
    {
     "name": "stdout",
     "output_type": "stream",
     "text": [
      "CONTROL: avg = 10.061866958664112, std = 2.869934298265324\n",
      "LWOFF: avg = 9.287708732548591, std = 2.695750938798444\n"
     ]
    }
   ],
   "source": [
    "print(f\"CONTROL: avg = {nfarr.mean().item()}, std = {nfarr.std().item()}\")\n",
    "print(f\"LWOFF: avg = {z_nfeatures.mean().item()}, std = {z_nfeatures.std().item()}\")"
   ]
  },
  {
   "cell_type": "code",
   "execution_count": 47,
   "metadata": {},
   "outputs": [
    {
     "data": {
      "text/html": [
       "<div><svg style=\"position: absolute; width: 0; height: 0; overflow: hidden\">\n",
       "<defs>\n",
       "<symbol id=\"icon-database\" viewBox=\"0 0 32 32\">\n",
       "<title>Show/Hide data repr</title>\n",
       "<path d=\"M16 0c-8.837 0-16 2.239-16 5v4c0 2.761 7.163 5 16 5s16-2.239 16-5v-4c0-2.761-7.163-5-16-5z\"></path>\n",
       "<path d=\"M16 17c-8.837 0-16-2.239-16-5v6c0 2.761 7.163 5 16 5s16-2.239 16-5v-6c0 2.761-7.163 5-16 5z\"></path>\n",
       "<path d=\"M16 26c-8.837 0-16-2.239-16-5v6c0 2.761 7.163 5 16 5s16-2.239 16-5v-6c0 2.761-7.163 5-16 5z\"></path>\n",
       "</symbol>\n",
       "<symbol id=\"icon-file-text2\" viewBox=\"0 0 32 32\">\n",
       "<title>Show/Hide attributes</title>\n",
       "<path d=\"M28.681 7.159c-0.694-0.947-1.662-2.053-2.724-3.116s-2.169-2.030-3.116-2.724c-1.612-1.182-2.393-1.319-2.841-1.319h-15.5c-1.378 0-2.5 1.121-2.5 2.5v27c0 1.378 1.122 2.5 2.5 2.5h23c1.378 0 2.5-1.122 2.5-2.5v-19.5c0-0.448-0.137-1.23-1.319-2.841zM24.543 5.457c0.959 0.959 1.712 1.825 2.268 2.543h-4.811v-4.811c0.718 0.556 1.584 1.309 2.543 2.268zM28 29.5c0 0.271-0.229 0.5-0.5 0.5h-23c-0.271 0-0.5-0.229-0.5-0.5v-27c0-0.271 0.229-0.5 0.5-0.5 0 0 15.499-0 15.5 0v7c0 0.552 0.448 1 1 1h7v19.5z\"></path>\n",
       "<path d=\"M23 26h-14c-0.552 0-1-0.448-1-1s0.448-1 1-1h14c0.552 0 1 0.448 1 1s-0.448 1-1 1z\"></path>\n",
       "<path d=\"M23 22h-14c-0.552 0-1-0.448-1-1s0.448-1 1-1h14c0.552 0 1 0.448 1 1s-0.448 1-1 1z\"></path>\n",
       "<path d=\"M23 18h-14c-0.552 0-1-0.448-1-1s0.448-1 1-1h14c0.552 0 1 0.448 1 1s-0.448 1-1 1z\"></path>\n",
       "</symbol>\n",
       "</defs>\n",
       "</svg>\n",
       "<style>/* CSS stylesheet for displaying xarray objects in jupyterlab.\n",
       " *\n",
       " */\n",
       "\n",
       ":root {\n",
       "  --xr-font-color0: var(--jp-content-font-color0, rgba(0, 0, 0, 1));\n",
       "  --xr-font-color2: var(--jp-content-font-color2, rgba(0, 0, 0, 0.54));\n",
       "  --xr-font-color3: var(--jp-content-font-color3, rgba(0, 0, 0, 0.38));\n",
       "  --xr-border-color: var(--jp-border-color2, #e0e0e0);\n",
       "  --xr-disabled-color: var(--jp-layout-color3, #bdbdbd);\n",
       "  --xr-background-color: var(--jp-layout-color0, white);\n",
       "  --xr-background-color-row-even: var(--jp-layout-color1, white);\n",
       "  --xr-background-color-row-odd: var(--jp-layout-color2, #eeeeee);\n",
       "}\n",
       "\n",
       ".xr-wrap {\n",
       "  min-width: 300px;\n",
       "  max-width: 700px;\n",
       "}\n",
       "\n",
       ".xr-header {\n",
       "  padding-top: 6px;\n",
       "  padding-bottom: 6px;\n",
       "  margin-bottom: 4px;\n",
       "  border-bottom: solid 1px var(--xr-border-color);\n",
       "}\n",
       "\n",
       ".xr-header > div,\n",
       ".xr-header > ul {\n",
       "  display: inline;\n",
       "  margin-top: 0;\n",
       "  margin-bottom: 0;\n",
       "}\n",
       "\n",
       ".xr-obj-type,\n",
       ".xr-array-name {\n",
       "  margin-left: 2px;\n",
       "  margin-right: 10px;\n",
       "}\n",
       "\n",
       ".xr-obj-type {\n",
       "  color: var(--xr-font-color2);\n",
       "}\n",
       "\n",
       ".xr-sections {\n",
       "  padding-left: 0 !important;\n",
       "  display: grid;\n",
       "  grid-template-columns: 150px auto auto 1fr 20px 20px;\n",
       "}\n",
       "\n",
       ".xr-section-item {\n",
       "  display: contents;\n",
       "}\n",
       "\n",
       ".xr-section-item input {\n",
       "  display: none;\n",
       "}\n",
       "\n",
       ".xr-section-item input + label {\n",
       "  color: var(--xr-disabled-color);\n",
       "}\n",
       "\n",
       ".xr-section-item input:enabled + label {\n",
       "  cursor: pointer;\n",
       "  color: var(--xr-font-color2);\n",
       "}\n",
       "\n",
       ".xr-section-item input:enabled + label:hover {\n",
       "  color: var(--xr-font-color0);\n",
       "}\n",
       "\n",
       ".xr-section-summary {\n",
       "  grid-column: 1;\n",
       "  color: var(--xr-font-color2);\n",
       "  font-weight: 500;\n",
       "}\n",
       "\n",
       ".xr-section-summary > span {\n",
       "  display: inline-block;\n",
       "  padding-left: 0.5em;\n",
       "}\n",
       "\n",
       ".xr-section-summary-in:disabled + label {\n",
       "  color: var(--xr-font-color2);\n",
       "}\n",
       "\n",
       ".xr-section-summary-in + label:before {\n",
       "  display: inline-block;\n",
       "  content: '►';\n",
       "  font-size: 11px;\n",
       "  width: 15px;\n",
       "  text-align: center;\n",
       "}\n",
       "\n",
       ".xr-section-summary-in:disabled + label:before {\n",
       "  color: var(--xr-disabled-color);\n",
       "}\n",
       "\n",
       ".xr-section-summary-in:checked + label:before {\n",
       "  content: '▼';\n",
       "}\n",
       "\n",
       ".xr-section-summary-in:checked + label > span {\n",
       "  display: none;\n",
       "}\n",
       "\n",
       ".xr-section-summary,\n",
       ".xr-section-inline-details {\n",
       "  padding-top: 4px;\n",
       "  padding-bottom: 4px;\n",
       "}\n",
       "\n",
       ".xr-section-inline-details {\n",
       "  grid-column: 2 / -1;\n",
       "}\n",
       "\n",
       ".xr-section-details {\n",
       "  display: none;\n",
       "  grid-column: 1 / -1;\n",
       "  margin-bottom: 5px;\n",
       "}\n",
       "\n",
       ".xr-section-summary-in:checked ~ .xr-section-details {\n",
       "  display: contents;\n",
       "}\n",
       "\n",
       ".xr-array-wrap {\n",
       "  grid-column: 1 / -1;\n",
       "  display: grid;\n",
       "  grid-template-columns: 20px auto;\n",
       "}\n",
       "\n",
       ".xr-array-wrap > label {\n",
       "  grid-column: 1;\n",
       "  vertical-align: top;\n",
       "}\n",
       "\n",
       ".xr-preview {\n",
       "  color: var(--xr-font-color3);\n",
       "}\n",
       "\n",
       ".xr-array-preview,\n",
       ".xr-array-data {\n",
       "  padding: 0 5px !important;\n",
       "  grid-column: 2;\n",
       "}\n",
       "\n",
       ".xr-array-data,\n",
       ".xr-array-in:checked ~ .xr-array-preview {\n",
       "  display: none;\n",
       "}\n",
       "\n",
       ".xr-array-in:checked ~ .xr-array-data,\n",
       ".xr-array-preview {\n",
       "  display: inline-block;\n",
       "}\n",
       "\n",
       ".xr-dim-list {\n",
       "  display: inline-block !important;\n",
       "  list-style: none;\n",
       "  padding: 0 !important;\n",
       "  margin: 0;\n",
       "}\n",
       "\n",
       ".xr-dim-list li {\n",
       "  display: inline-block;\n",
       "  padding: 0;\n",
       "  margin: 0;\n",
       "}\n",
       "\n",
       ".xr-dim-list:before {\n",
       "  content: '(';\n",
       "}\n",
       "\n",
       ".xr-dim-list:after {\n",
       "  content: ')';\n",
       "}\n",
       "\n",
       ".xr-dim-list li:not(:last-child):after {\n",
       "  content: ',';\n",
       "  padding-right: 5px;\n",
       "}\n",
       "\n",
       ".xr-has-index {\n",
       "  font-weight: bold;\n",
       "}\n",
       "\n",
       ".xr-var-list,\n",
       ".xr-var-item {\n",
       "  display: contents;\n",
       "}\n",
       "\n",
       ".xr-var-item > div,\n",
       ".xr-var-item label,\n",
       ".xr-var-item > .xr-var-name span {\n",
       "  background-color: var(--xr-background-color-row-even);\n",
       "  margin-bottom: 0;\n",
       "}\n",
       "\n",
       ".xr-var-item > .xr-var-name:hover span {\n",
       "  padding-right: 5px;\n",
       "}\n",
       "\n",
       ".xr-var-list > li:nth-child(odd) > div,\n",
       ".xr-var-list > li:nth-child(odd) > label,\n",
       ".xr-var-list > li:nth-child(odd) > .xr-var-name span {\n",
       "  background-color: var(--xr-background-color-row-odd);\n",
       "}\n",
       "\n",
       ".xr-var-name {\n",
       "  grid-column: 1;\n",
       "}\n",
       "\n",
       ".xr-var-dims {\n",
       "  grid-column: 2;\n",
       "}\n",
       "\n",
       ".xr-var-dtype {\n",
       "  grid-column: 3;\n",
       "  text-align: right;\n",
       "  color: var(--xr-font-color2);\n",
       "}\n",
       "\n",
       ".xr-var-preview {\n",
       "  grid-column: 4;\n",
       "}\n",
       "\n",
       ".xr-var-name,\n",
       ".xr-var-dims,\n",
       ".xr-var-dtype,\n",
       ".xr-preview,\n",
       ".xr-attrs dt {\n",
       "  white-space: nowrap;\n",
       "  overflow: hidden;\n",
       "  text-overflow: ellipsis;\n",
       "  padding-right: 10px;\n",
       "}\n",
       "\n",
       ".xr-var-name:hover,\n",
       ".xr-var-dims:hover,\n",
       ".xr-var-dtype:hover,\n",
       ".xr-attrs dt:hover {\n",
       "  overflow: visible;\n",
       "  width: auto;\n",
       "  z-index: 1;\n",
       "}\n",
       "\n",
       ".xr-var-attrs,\n",
       ".xr-var-data {\n",
       "  display: none;\n",
       "  background-color: var(--xr-background-color) !important;\n",
       "  padding-bottom: 5px !important;\n",
       "}\n",
       "\n",
       ".xr-var-attrs-in:checked ~ .xr-var-attrs,\n",
       ".xr-var-data-in:checked ~ .xr-var-data {\n",
       "  display: block;\n",
       "}\n",
       "\n",
       ".xr-var-data > table {\n",
       "  float: right;\n",
       "}\n",
       "\n",
       ".xr-var-name span,\n",
       ".xr-var-data,\n",
       ".xr-attrs {\n",
       "  padding-left: 25px !important;\n",
       "}\n",
       "\n",
       ".xr-attrs,\n",
       ".xr-var-attrs,\n",
       ".xr-var-data {\n",
       "  grid-column: 1 / -1;\n",
       "}\n",
       "\n",
       "dl.xr-attrs {\n",
       "  padding: 0;\n",
       "  margin: 0;\n",
       "  display: grid;\n",
       "  grid-template-columns: 125px auto;\n",
       "}\n",
       "\n",
       ".xr-attrs dt, dd {\n",
       "  padding: 0;\n",
       "  margin: 0;\n",
       "  float: left;\n",
       "  padding-right: 10px;\n",
       "  width: auto;\n",
       "}\n",
       "\n",
       ".xr-attrs dt {\n",
       "  font-weight: normal;\n",
       "  grid-column: 1;\n",
       "}\n",
       "\n",
       ".xr-attrs dt:hover span {\n",
       "  display: inline-block;\n",
       "  background: var(--xr-background-color);\n",
       "  padding-right: 10px;\n",
       "}\n",
       "\n",
       ".xr-attrs dd {\n",
       "  grid-column: 2;\n",
       "  white-space: pre-wrap;\n",
       "  word-break: break-all;\n",
       "}\n",
       "\n",
       ".xr-icon-database,\n",
       ".xr-icon-file-text2 {\n",
       "  display: inline-block;\n",
       "  vertical-align: middle;\n",
       "  width: 1em;\n",
       "  height: 1.5em !important;\n",
       "  stroke-width: 0;\n",
       "  stroke: currentColor;\n",
       "  fill: currentColor;\n",
       "}\n",
       "</style><div class='xr-wrap'><div class='xr-header'><div class='xr-obj-type'>xarray.DataArray</div><div class='xr-array-name'></div></div><ul class='xr-sections'><li class='xr-section-item'><div class='xr-array-wrap'><input id='section-58b9852f-b2bf-412d-92d2-2be6c99b1caa' class='xr-array-in' type='checkbox' ><label for='section-58b9852f-b2bf-412d-92d2-2be6c99b1caa' title='Show/hide data repr'><svg class='icon xr-icon-database'><use xlink:href='#icon-database'></use></svg></label><div class='xr-array-preview xr-preview'><span>90</span></div><pre class='xr-array-data'>array(90)</pre></div></li><li class='xr-section-item'><input id='section-f972218a-4710-4552-b544-7536f082ce28' class='xr-section-summary-in' type='checkbox'  checked><label for='section-f972218a-4710-4552-b544-7536f082ce28' class='xr-section-summary' >Coordinates: <span>(1)</span></label><div class='xr-section-inline-details'></div><div class='xr-section-details'><ul class='xr-var-list'><li class='xr-var-item'><div class='xr-var-name'><span>time</span></div><div class='xr-var-dims'>()</div><div class='xr-var-dtype'>object</div><div class='xr-var-preview xr-preview'>1979-01-01 12:00:00</div><input id='attrs-b5b029dd-3244-4722-895d-e12efca2c0b7' class='xr-var-attrs-in' type='checkbox' ><label for='attrs-b5b029dd-3244-4722-895d-e12efca2c0b7' title='Show/Hide attributes'><svg class='icon xr-icon-file-text2'><use xlink:href='#icon-file-text2'></use></svg></label><input id='data-0b02c90b-1731-426d-89ab-af1d28e98210' class='xr-var-data-in' type='checkbox'><label for='data-0b02c90b-1731-426d-89ab-af1d28e98210' title='Show/Hide data repr'><svg class='icon xr-icon-database'><use xlink:href='#icon-database'></use></svg></label><div class='xr-var-attrs'><dl class='xr-attrs'><dt><span>axis :</span></dt><dd>T</dd><dt><span>standard_name :</span></dt><dd>time</dd><dt><span>long_name :</span></dt><dd>Time axis</dd><dt><span>time_origin :</span></dt><dd>1979-01-01 00:00:00</dd><dt><span>bounds :</span></dt><dd>time_bounds</dd></dl></div><pre class='xr-var-data'>array(cftime.Datetime360Day(1979-01-01 12:00:00), dtype=object)</pre></li></ul></div></li><li class='xr-section-item'><input id='section-523332af-7779-452a-9ede-01306c3e0b45' class='xr-section-summary-in' type='checkbox' disabled ><label for='section-523332af-7779-452a-9ede-01306c3e0b45' class='xr-section-summary'  title='Expand/collapse section'>Attributes: <span>(0)</span></label><div class='xr-section-inline-details'></div><div class='xr-section-details'><dl class='xr-attrs'></dl></div></li></ul></div></div>"
      ],
      "text/plain": [
       "<xarray.DataArray ()>\n",
       "array(90)\n",
       "Coordinates:\n",
       "    time     object 1979-01-01 12:00:00"
      ]
     },
     "execution_count": 47,
     "metadata": {},
     "output_type": "execute_result"
    }
   ],
   "source": [
    "# very interesting --- we need to know whether the size of the features changes:\n",
    "for i, f in enumerate(ipsl1_nfeatures):\n",
    "    A = ipsl1_labels[i,:,:]\n",
    "    for j in range(1,f+1):\n",
    "        "
   ]
  },
  {
   "cell_type": "code",
   "execution_count": 50,
   "metadata": {},
   "outputs": [
    {
     "name": "stdout",
     "output_type": "stream",
     "text": [
      "CPU times: user 1.76 ms, sys: 139 µs, total: 1.9 ms\n",
      "Wall time: 13.1 ms\n"
     ]
    },
    {
     "data": {
      "text/html": [
       "<div><svg style=\"position: absolute; width: 0; height: 0; overflow: hidden\">\n",
       "<defs>\n",
       "<symbol id=\"icon-database\" viewBox=\"0 0 32 32\">\n",
       "<title>Show/Hide data repr</title>\n",
       "<path d=\"M16 0c-8.837 0-16 2.239-16 5v4c0 2.761 7.163 5 16 5s16-2.239 16-5v-4c0-2.761-7.163-5-16-5z\"></path>\n",
       "<path d=\"M16 17c-8.837 0-16-2.239-16-5v6c0 2.761 7.163 5 16 5s16-2.239 16-5v-6c0 2.761-7.163 5-16 5z\"></path>\n",
       "<path d=\"M16 26c-8.837 0-16-2.239-16-5v6c0 2.761 7.163 5 16 5s16-2.239 16-5v-6c0 2.761-7.163 5-16 5z\"></path>\n",
       "</symbol>\n",
       "<symbol id=\"icon-file-text2\" viewBox=\"0 0 32 32\">\n",
       "<title>Show/Hide attributes</title>\n",
       "<path d=\"M28.681 7.159c-0.694-0.947-1.662-2.053-2.724-3.116s-2.169-2.030-3.116-2.724c-1.612-1.182-2.393-1.319-2.841-1.319h-15.5c-1.378 0-2.5 1.121-2.5 2.5v27c0 1.378 1.122 2.5 2.5 2.5h23c1.378 0 2.5-1.122 2.5-2.5v-19.5c0-0.448-0.137-1.23-1.319-2.841zM24.543 5.457c0.959 0.959 1.712 1.825 2.268 2.543h-4.811v-4.811c0.718 0.556 1.584 1.309 2.543 2.268zM28 29.5c0 0.271-0.229 0.5-0.5 0.5h-23c-0.271 0-0.5-0.229-0.5-0.5v-27c0-0.271 0.229-0.5 0.5-0.5 0 0 15.499-0 15.5 0v7c0 0.552 0.448 1 1 1h7v19.5z\"></path>\n",
       "<path d=\"M23 26h-14c-0.552 0-1-0.448-1-1s0.448-1 1-1h14c0.552 0 1 0.448 1 1s-0.448 1-1 1z\"></path>\n",
       "<path d=\"M23 22h-14c-0.552 0-1-0.448-1-1s0.448-1 1-1h14c0.552 0 1 0.448 1 1s-0.448 1-1 1z\"></path>\n",
       "<path d=\"M23 18h-14c-0.552 0-1-0.448-1-1s0.448-1 1-1h14c0.552 0 1 0.448 1 1s-0.448 1-1 1z\"></path>\n",
       "</symbol>\n",
       "</defs>\n",
       "</svg>\n",
       "<style>/* CSS stylesheet for displaying xarray objects in jupyterlab.\n",
       " *\n",
       " */\n",
       "\n",
       ":root {\n",
       "  --xr-font-color0: var(--jp-content-font-color0, rgba(0, 0, 0, 1));\n",
       "  --xr-font-color2: var(--jp-content-font-color2, rgba(0, 0, 0, 0.54));\n",
       "  --xr-font-color3: var(--jp-content-font-color3, rgba(0, 0, 0, 0.38));\n",
       "  --xr-border-color: var(--jp-border-color2, #e0e0e0);\n",
       "  --xr-disabled-color: var(--jp-layout-color3, #bdbdbd);\n",
       "  --xr-background-color: var(--jp-layout-color0, white);\n",
       "  --xr-background-color-row-even: var(--jp-layout-color1, white);\n",
       "  --xr-background-color-row-odd: var(--jp-layout-color2, #eeeeee);\n",
       "}\n",
       "\n",
       ".xr-wrap {\n",
       "  min-width: 300px;\n",
       "  max-width: 700px;\n",
       "}\n",
       "\n",
       ".xr-header {\n",
       "  padding-top: 6px;\n",
       "  padding-bottom: 6px;\n",
       "  margin-bottom: 4px;\n",
       "  border-bottom: solid 1px var(--xr-border-color);\n",
       "}\n",
       "\n",
       ".xr-header > div,\n",
       ".xr-header > ul {\n",
       "  display: inline;\n",
       "  margin-top: 0;\n",
       "  margin-bottom: 0;\n",
       "}\n",
       "\n",
       ".xr-obj-type,\n",
       ".xr-array-name {\n",
       "  margin-left: 2px;\n",
       "  margin-right: 10px;\n",
       "}\n",
       "\n",
       ".xr-obj-type {\n",
       "  color: var(--xr-font-color2);\n",
       "}\n",
       "\n",
       ".xr-sections {\n",
       "  padding-left: 0 !important;\n",
       "  display: grid;\n",
       "  grid-template-columns: 150px auto auto 1fr 20px 20px;\n",
       "}\n",
       "\n",
       ".xr-section-item {\n",
       "  display: contents;\n",
       "}\n",
       "\n",
       ".xr-section-item input {\n",
       "  display: none;\n",
       "}\n",
       "\n",
       ".xr-section-item input + label {\n",
       "  color: var(--xr-disabled-color);\n",
       "}\n",
       "\n",
       ".xr-section-item input:enabled + label {\n",
       "  cursor: pointer;\n",
       "  color: var(--xr-font-color2);\n",
       "}\n",
       "\n",
       ".xr-section-item input:enabled + label:hover {\n",
       "  color: var(--xr-font-color0);\n",
       "}\n",
       "\n",
       ".xr-section-summary {\n",
       "  grid-column: 1;\n",
       "  color: var(--xr-font-color2);\n",
       "  font-weight: 500;\n",
       "}\n",
       "\n",
       ".xr-section-summary > span {\n",
       "  display: inline-block;\n",
       "  padding-left: 0.5em;\n",
       "}\n",
       "\n",
       ".xr-section-summary-in:disabled + label {\n",
       "  color: var(--xr-font-color2);\n",
       "}\n",
       "\n",
       ".xr-section-summary-in + label:before {\n",
       "  display: inline-block;\n",
       "  content: '►';\n",
       "  font-size: 11px;\n",
       "  width: 15px;\n",
       "  text-align: center;\n",
       "}\n",
       "\n",
       ".xr-section-summary-in:disabled + label:before {\n",
       "  color: var(--xr-disabled-color);\n",
       "}\n",
       "\n",
       ".xr-section-summary-in:checked + label:before {\n",
       "  content: '▼';\n",
       "}\n",
       "\n",
       ".xr-section-summary-in:checked + label > span {\n",
       "  display: none;\n",
       "}\n",
       "\n",
       ".xr-section-summary,\n",
       ".xr-section-inline-details {\n",
       "  padding-top: 4px;\n",
       "  padding-bottom: 4px;\n",
       "}\n",
       "\n",
       ".xr-section-inline-details {\n",
       "  grid-column: 2 / -1;\n",
       "}\n",
       "\n",
       ".xr-section-details {\n",
       "  display: none;\n",
       "  grid-column: 1 / -1;\n",
       "  margin-bottom: 5px;\n",
       "}\n",
       "\n",
       ".xr-section-summary-in:checked ~ .xr-section-details {\n",
       "  display: contents;\n",
       "}\n",
       "\n",
       ".xr-array-wrap {\n",
       "  grid-column: 1 / -1;\n",
       "  display: grid;\n",
       "  grid-template-columns: 20px auto;\n",
       "}\n",
       "\n",
       ".xr-array-wrap > label {\n",
       "  grid-column: 1;\n",
       "  vertical-align: top;\n",
       "}\n",
       "\n",
       ".xr-preview {\n",
       "  color: var(--xr-font-color3);\n",
       "}\n",
       "\n",
       ".xr-array-preview,\n",
       ".xr-array-data {\n",
       "  padding: 0 5px !important;\n",
       "  grid-column: 2;\n",
       "}\n",
       "\n",
       ".xr-array-data,\n",
       ".xr-array-in:checked ~ .xr-array-preview {\n",
       "  display: none;\n",
       "}\n",
       "\n",
       ".xr-array-in:checked ~ .xr-array-data,\n",
       ".xr-array-preview {\n",
       "  display: inline-block;\n",
       "}\n",
       "\n",
       ".xr-dim-list {\n",
       "  display: inline-block !important;\n",
       "  list-style: none;\n",
       "  padding: 0 !important;\n",
       "  margin: 0;\n",
       "}\n",
       "\n",
       ".xr-dim-list li {\n",
       "  display: inline-block;\n",
       "  padding: 0;\n",
       "  margin: 0;\n",
       "}\n",
       "\n",
       ".xr-dim-list:before {\n",
       "  content: '(';\n",
       "}\n",
       "\n",
       ".xr-dim-list:after {\n",
       "  content: ')';\n",
       "}\n",
       "\n",
       ".xr-dim-list li:not(:last-child):after {\n",
       "  content: ',';\n",
       "  padding-right: 5px;\n",
       "}\n",
       "\n",
       ".xr-has-index {\n",
       "  font-weight: bold;\n",
       "}\n",
       "\n",
       ".xr-var-list,\n",
       ".xr-var-item {\n",
       "  display: contents;\n",
       "}\n",
       "\n",
       ".xr-var-item > div,\n",
       ".xr-var-item label,\n",
       ".xr-var-item > .xr-var-name span {\n",
       "  background-color: var(--xr-background-color-row-even);\n",
       "  margin-bottom: 0;\n",
       "}\n",
       "\n",
       ".xr-var-item > .xr-var-name:hover span {\n",
       "  padding-right: 5px;\n",
       "}\n",
       "\n",
       ".xr-var-list > li:nth-child(odd) > div,\n",
       ".xr-var-list > li:nth-child(odd) > label,\n",
       ".xr-var-list > li:nth-child(odd) > .xr-var-name span {\n",
       "  background-color: var(--xr-background-color-row-odd);\n",
       "}\n",
       "\n",
       ".xr-var-name {\n",
       "  grid-column: 1;\n",
       "}\n",
       "\n",
       ".xr-var-dims {\n",
       "  grid-column: 2;\n",
       "}\n",
       "\n",
       ".xr-var-dtype {\n",
       "  grid-column: 3;\n",
       "  text-align: right;\n",
       "  color: var(--xr-font-color2);\n",
       "}\n",
       "\n",
       ".xr-var-preview {\n",
       "  grid-column: 4;\n",
       "}\n",
       "\n",
       ".xr-var-name,\n",
       ".xr-var-dims,\n",
       ".xr-var-dtype,\n",
       ".xr-preview,\n",
       ".xr-attrs dt {\n",
       "  white-space: nowrap;\n",
       "  overflow: hidden;\n",
       "  text-overflow: ellipsis;\n",
       "  padding-right: 10px;\n",
       "}\n",
       "\n",
       ".xr-var-name:hover,\n",
       ".xr-var-dims:hover,\n",
       ".xr-var-dtype:hover,\n",
       ".xr-attrs dt:hover {\n",
       "  overflow: visible;\n",
       "  width: auto;\n",
       "  z-index: 1;\n",
       "}\n",
       "\n",
       ".xr-var-attrs,\n",
       ".xr-var-data {\n",
       "  display: none;\n",
       "  background-color: var(--xr-background-color) !important;\n",
       "  padding-bottom: 5px !important;\n",
       "}\n",
       "\n",
       ".xr-var-attrs-in:checked ~ .xr-var-attrs,\n",
       ".xr-var-data-in:checked ~ .xr-var-data {\n",
       "  display: block;\n",
       "}\n",
       "\n",
       ".xr-var-data > table {\n",
       "  float: right;\n",
       "}\n",
       "\n",
       ".xr-var-name span,\n",
       ".xr-var-data,\n",
       ".xr-attrs {\n",
       "  padding-left: 25px !important;\n",
       "}\n",
       "\n",
       ".xr-attrs,\n",
       ".xr-var-attrs,\n",
       ".xr-var-data {\n",
       "  grid-column: 1 / -1;\n",
       "}\n",
       "\n",
       "dl.xr-attrs {\n",
       "  padding: 0;\n",
       "  margin: 0;\n",
       "  display: grid;\n",
       "  grid-template-columns: 125px auto;\n",
       "}\n",
       "\n",
       ".xr-attrs dt, dd {\n",
       "  padding: 0;\n",
       "  margin: 0;\n",
       "  float: left;\n",
       "  padding-right: 10px;\n",
       "  width: auto;\n",
       "}\n",
       "\n",
       ".xr-attrs dt {\n",
       "  font-weight: normal;\n",
       "  grid-column: 1;\n",
       "}\n",
       "\n",
       ".xr-attrs dt:hover span {\n",
       "  display: inline-block;\n",
       "  background: var(--xr-background-color);\n",
       "  padding-right: 10px;\n",
       "}\n",
       "\n",
       ".xr-attrs dd {\n",
       "  grid-column: 2;\n",
       "  white-space: pre-wrap;\n",
       "  word-break: break-all;\n",
       "}\n",
       "\n",
       ".xr-icon-database,\n",
       ".xr-icon-file-text2 {\n",
       "  display: inline-block;\n",
       "  vertical-align: middle;\n",
       "  width: 1em;\n",
       "  height: 1.5em !important;\n",
       "  stroke-width: 0;\n",
       "  stroke: currentColor;\n",
       "  fill: currentColor;\n",
       "}\n",
       "</style><div class='xr-wrap'><div class='xr-header'><div class='xr-obj-type'>xarray.DataArray</div><div class='xr-array-name'></div></div><ul class='xr-sections'><li class='xr-section-item'><div class='xr-array-wrap'><input id='section-2e58c55d-14ce-40b8-a875-ee1f55f0c8ff' class='xr-array-in' type='checkbox' ><label for='section-2e58c55d-14ce-40b8-a875-ee1f55f0c8ff' title='Show/hide data repr'><svg class='icon xr-icon-database'><use xlink:href='#icon-database'></use></svg></label><div class='xr-array-preview xr-preview'><span>1</span></div><pre class='xr-array-data'>array(1)</pre></div></li><li class='xr-section-item'><input id='section-0043738a-3787-4efa-a093-d52e64e5c25a' class='xr-section-summary-in' type='checkbox' disabled ><label for='section-0043738a-3787-4efa-a093-d52e64e5c25a' class='xr-section-summary'  title='Expand/collapse section'>Coordinates: <span>(0)</span></label><div class='xr-section-inline-details'></div><div class='xr-section-details'><ul class='xr-var-list'></ul></div></li><li class='xr-section-item'><input id='section-259f2123-b12c-4ac2-ac94-6d9e4f15f5dd' class='xr-section-summary-in' type='checkbox' disabled ><label for='section-259f2123-b12c-4ac2-ac94-6d9e4f15f5dd' class='xr-section-summary'  title='Expand/collapse section'>Attributes: <span>(0)</span></label><div class='xr-section-inline-details'></div><div class='xr-section-details'><dl class='xr-attrs'></dl></div></li></ul></div></div>"
      ],
      "text/plain": [
       "<xarray.DataArray ()>\n",
       "array(1)"
      ]
     },
     "execution_count": 50,
     "metadata": {},
     "output_type": "execute_result"
    }
   ],
   "source": [
    "%%time\n",
    "(ipsl1_labels[0,:,:] == 2).sum()"
   ]
  },
  {
   "cell_type": "code",
   "execution_count": 57,
   "metadata": {},
   "outputs": [
    {
     "name": "stdout",
     "output_type": "stream",
     "text": [
      "CPU times: user 457 µs, sys: 263 µs, total: 720 µs\n",
      "Wall time: 503 µs\n"
     ]
    },
    {
     "data": {
      "text/plain": [
       "1"
      ]
     },
     "execution_count": 57,
     "metadata": {},
     "output_type": "execute_result"
    }
   ],
   "source": [
    "%%time\n",
    "indices = np.where(ipsl1_labels.values[0,:,:] == 2)\n",
    "len(indices[0])"
   ]
  },
  {
   "cell_type": "code",
   "execution_count": 67,
   "metadata": {},
   "outputs": [
    {
     "name": "stdout",
     "output_type": "stream",
     "text": [
      "CPU times: user 3.2 s, sys: 24.6 ms, total: 3.22 s\n",
      "Wall time: 3.32 s\n"
     ]
    }
   ],
   "source": [
    "%%time\n",
    "ipsl1_size = []\n",
    "ipsl1_sizestd = []\n",
    "for i, tim in enumerate(ipsl1_labels['time']):\n",
    "    ctr = np.bincount(ipsl1_labels[i,:,:].values.flatten())\n",
    "    ipsl1_size.append(ctr[1::].mean())\n",
    "    ipsl1_sizestd.append(ctr[1::].std())\n",
    "ipsl1_size = np.array(ipsl1_size)\n",
    "ipsl1_sizestd = np.array(ipsl1_sizestd)"
   ]
  },
  {
   "cell_type": "code",
   "execution_count": 78,
   "metadata": {},
   "outputs": [
    {
     "data": {
      "text/plain": [
       "2.3724918827250585"
      ]
     },
     "execution_count": 78,
     "metadata": {},
     "output_type": "execute_result"
    }
   ],
   "source": [
    "ipsl0_size.mean()"
   ]
  },
  {
   "cell_type": "code",
   "execution_count": 64,
   "metadata": {},
   "outputs": [
    {
     "data": {
      "text/plain": [
       "array([[[False,  True, False],\n",
       "        [ True,  True,  True],\n",
       "        [False,  True, False]],\n",
       "\n",
       "       [[ True,  True,  True],\n",
       "        [ True,  True,  True],\n",
       "        [ True,  True,  True]],\n",
       "\n",
       "       [[False,  True, False],\n",
       "        [ True,  True,  True],\n",
       "        [False,  True, False]]])"
      ]
     },
     "execution_count": 64,
     "metadata": {},
     "output_type": "execute_result"
    }
   ],
   "source": [
    "generate_binary_structure(3,2)"
   ]
  },
  {
   "cell_type": "code",
   "execution_count": 20,
   "metadata": {},
   "outputs": [
    {
     "data": {
      "text/plain": [
       "\u001b[0;31mSignature:\u001b[0m\n",
       "\u001b[0mnp\u001b[0m\u001b[0;34m.\u001b[0m\u001b[0munique\u001b[0m\u001b[0;34m(\u001b[0m\u001b[0;34m\u001b[0m\n",
       "\u001b[0;34m\u001b[0m    \u001b[0mar\u001b[0m\u001b[0;34m,\u001b[0m\u001b[0;34m\u001b[0m\n",
       "\u001b[0;34m\u001b[0m    \u001b[0mreturn_index\u001b[0m\u001b[0;34m=\u001b[0m\u001b[0;32mFalse\u001b[0m\u001b[0;34m,\u001b[0m\u001b[0;34m\u001b[0m\n",
       "\u001b[0;34m\u001b[0m    \u001b[0mreturn_inverse\u001b[0m\u001b[0;34m=\u001b[0m\u001b[0;32mFalse\u001b[0m\u001b[0;34m,\u001b[0m\u001b[0;34m\u001b[0m\n",
       "\u001b[0;34m\u001b[0m    \u001b[0mreturn_counts\u001b[0m\u001b[0;34m=\u001b[0m\u001b[0;32mFalse\u001b[0m\u001b[0;34m,\u001b[0m\u001b[0;34m\u001b[0m\n",
       "\u001b[0;34m\u001b[0m    \u001b[0maxis\u001b[0m\u001b[0;34m=\u001b[0m\u001b[0;32mNone\u001b[0m\u001b[0;34m,\u001b[0m\u001b[0;34m\u001b[0m\n",
       "\u001b[0;34m\u001b[0m\u001b[0;34m)\u001b[0m\u001b[0;34m\u001b[0m\u001b[0;34m\u001b[0m\u001b[0m\n",
       "\u001b[0;31mDocstring:\u001b[0m\n",
       "Find the unique elements of an array.\n",
       "\n",
       "Returns the sorted unique elements of an array. There are three optional\n",
       "outputs in addition to the unique elements:\n",
       "\n",
       "* the indices of the input array that give the unique values\n",
       "* the indices of the unique array that reconstruct the input array\n",
       "* the number of times each unique value comes up in the input array\n",
       "\n",
       "Parameters\n",
       "----------\n",
       "ar : array_like\n",
       "    Input array. Unless `axis` is specified, this will be flattened if it\n",
       "    is not already 1-D.\n",
       "return_index : bool, optional\n",
       "    If True, also return the indices of `ar` (along the specified axis,\n",
       "    if provided, or in the flattened array) that result in the unique array.\n",
       "return_inverse : bool, optional\n",
       "    If True, also return the indices of the unique array (for the specified\n",
       "    axis, if provided) that can be used to reconstruct `ar`.\n",
       "return_counts : bool, optional\n",
       "    If True, also return the number of times each unique item appears\n",
       "    in `ar`.\n",
       "\n",
       "    .. versionadded:: 1.9.0\n",
       "\n",
       "axis : int or None, optional\n",
       "    The axis to operate on. If None, `ar` will be flattened. If an integer,\n",
       "    the subarrays indexed by the given axis will be flattened and treated\n",
       "    as the elements of a 1-D array with the dimension of the given axis,\n",
       "    see the notes for more details.  Object arrays or structured arrays\n",
       "    that contain objects are not supported if the `axis` kwarg is used. The\n",
       "    default is None.\n",
       "\n",
       "    .. versionadded:: 1.13.0\n",
       "\n",
       "Returns\n",
       "-------\n",
       "unique : ndarray\n",
       "    The sorted unique values.\n",
       "unique_indices : ndarray, optional\n",
       "    The indices of the first occurrences of the unique values in the\n",
       "    original array. Only provided if `return_index` is True.\n",
       "unique_inverse : ndarray, optional\n",
       "    The indices to reconstruct the original array from the\n",
       "    unique array. Only provided if `return_inverse` is True.\n",
       "unique_counts : ndarray, optional\n",
       "    The number of times each of the unique values comes up in the\n",
       "    original array. Only provided if `return_counts` is True.\n",
       "\n",
       "    .. versionadded:: 1.9.0\n",
       "\n",
       "See Also\n",
       "--------\n",
       "numpy.lib.arraysetops : Module with a number of other functions for\n",
       "                        performing set operations on arrays.\n",
       "\n",
       "Notes\n",
       "-----\n",
       "When an axis is specified the subarrays indexed by the axis are sorted.\n",
       "This is done by making the specified axis the first dimension of the array\n",
       "and then flattening the subarrays in C order. The flattened subarrays are\n",
       "then viewed as a structured type with each element given a label, with the\n",
       "effect that we end up with a 1-D array of structured types that can be\n",
       "treated in the same way as any other 1-D array. The result is that the\n",
       "flattened subarrays are sorted in lexicographic order starting with the\n",
       "first element.\n",
       "\n",
       "Examples\n",
       "--------\n",
       ">>> np.unique([1, 1, 2, 2, 3, 3])\n",
       "array([1, 2, 3])\n",
       ">>> a = np.array([[1, 1], [2, 3]])\n",
       ">>> np.unique(a)\n",
       "array([1, 2, 3])\n",
       "\n",
       "Return the unique rows of a 2D array\n",
       "\n",
       ">>> a = np.array([[1, 0, 0], [1, 0, 0], [2, 3, 4]])\n",
       ">>> np.unique(a, axis=0)\n",
       "array([[1, 0, 0], [2, 3, 4]])\n",
       "\n",
       "Return the indices of the original array that give the unique values:\n",
       "\n",
       ">>> a = np.array(['a', 'b', 'b', 'c', 'a'])\n",
       ">>> u, indices = np.unique(a, return_index=True)\n",
       ">>> u\n",
       "array(['a', 'b', 'c'], dtype='<U1')\n",
       ">>> indices\n",
       "array([0, 1, 3])\n",
       ">>> a[indices]\n",
       "array(['a', 'b', 'c'], dtype='<U1')\n",
       "\n",
       "Reconstruct the input array from the unique values:\n",
       "\n",
       ">>> a = np.array([1, 2, 6, 4, 2, 3, 2])\n",
       ">>> u, indices = np.unique(a, return_inverse=True)\n",
       ">>> u\n",
       "array([1, 2, 3, 4, 6])\n",
       ">>> indices\n",
       "array([0, 1, 4, ..., 1, 2, 1])\n",
       ">>> u[indices]\n",
       "array([1, 2, 6, ..., 2, 3, 2])\n",
       "\u001b[0;31mFile:\u001b[0m      ~/anaconda3/lib/python3.7/site-packages/numpy/lib/arraysetops.py\n",
       "\u001b[0;31mType:\u001b[0m      function\n"
      ]
     },
     "metadata": {},
     "output_type": "display_data"
    }
   ],
   "source": [
    "np.unique?"
   ]
  },
  {
   "cell_type": "code",
   "execution_count": 31,
   "metadata": {},
   "outputs": [
    {
     "data": {
      "text/plain": [
       "array([[ 0,  0,  0, ..., 22, 22, 22],\n",
       "       [ 0,  0,  0, ...,  0,  0,  0],\n",
       "       [ 0,  0,  0, ...,  0,  0,  0],\n",
       "       ...,\n",
       "       [ 0,  0,  0, ...,  0,  0,  0],\n",
       "       [ 0,  0,  0, ...,  0,  0,  0],\n",
       "       [ 0,  0,  0, ...,  0,  0,  0]], dtype=int32)"
      ]
     },
     "execution_count": 31,
     "metadata": {},
     "output_type": "execute_result"
    }
   ],
   "source": [
    "s = ipsl0_labels.shape\n",
    "(ipsl0_labels.values.reshape((s[0], s[1]*s[2])), axis=1)"
   ]
  },
  {
   "cell_type": "code",
   "execution_count": 32,
   "metadata": {},
   "outputs": [
    {
     "data": {
      "text/plain": [
       "array([ 0,  1,  2,  3,  4,  5,  6,  7,  8,  9, 10, 11, 12, 13, 14, 15, 16,\n",
       "       17, 18, 19, 20, 21, 22], dtype=int32)"
      ]
     },
     "execution_count": 32,
     "metadata": {},
     "output_type": "execute_result"
    }
   ],
   "source": [
    "np.unique(ipsl0_labels[0, :, :])"
   ]
  },
  {
   "cell_type": "code",
   "execution_count": 33,
   "metadata": {},
   "outputs": [
    {
     "data": {
      "text/plain": [
       "array([ 0,  3,  4,  7,  8, 27, 33, 35, 41, 44, 50, 51, 52, 53, 54, 55, 56,\n",
       "       57, 58], dtype=int32)"
      ]
     },
     "execution_count": 33,
     "metadata": {},
     "output_type": "execute_result"
    }
   ],
   "source": [
    "np.unique(ipsl0_labels[4, :, :])"
   ]
  },
  {
   "cell_type": "code",
   "execution_count": 44,
   "metadata": {},
   "outputs": [
    {
     "name": "stdout",
     "output_type": "stream",
     "text": [
      "(10, [1, 2, 3])\n"
     ]
    },
    {
     "ename": "TypeError",
     "evalue": "'tuple' object does not support item assignment",
     "output_type": "error",
     "traceback": [
      "\u001b[0;31m---------------------------------------------------------------------------\u001b[0m",
      "\u001b[0;31mTypeError\u001b[0m                                 Traceback (most recent call last)",
      "\u001b[0;32m<ipython-input-44-b2a9b1695054>\u001b[0m in \u001b[0;36m<module>\u001b[0;34m\u001b[0m\n\u001b[1;32m      1\u001b[0m \u001b[0mfoo\u001b[0m \u001b[0;34m=\u001b[0m \u001b[0;34m(\u001b[0m\u001b[0;36m10\u001b[0m\u001b[0;34m,\u001b[0m \u001b[0;34m[\u001b[0m\u001b[0;36m1\u001b[0m\u001b[0;34m,\u001b[0m \u001b[0;36m2\u001b[0m\u001b[0;34m,\u001b[0m \u001b[0;36m3\u001b[0m\u001b[0;34m]\u001b[0m\u001b[0;34m)\u001b[0m\u001b[0;34m\u001b[0m\u001b[0;34m\u001b[0m\u001b[0m\n\u001b[1;32m      2\u001b[0m \u001b[0mprint\u001b[0m\u001b[0;34m(\u001b[0m\u001b[0mfoo\u001b[0m\u001b[0;34m)\u001b[0m\u001b[0;34m\u001b[0m\u001b[0;34m\u001b[0m\u001b[0m\n\u001b[0;32m----> 3\u001b[0;31m \u001b[0mfoo\u001b[0m\u001b[0;34m[\u001b[0m\u001b[0;36m0\u001b[0m\u001b[0;34m]\u001b[0m \u001b[0;34m=\u001b[0m \u001b[0;36m15\u001b[0m\u001b[0;34m\u001b[0m\u001b[0;34m\u001b[0m\u001b[0m\n\u001b[0m\u001b[1;32m      4\u001b[0m \u001b[0mprint\u001b[0m\u001b[0;34m(\u001b[0m\u001b[0mfoo\u001b[0m\u001b[0;34m)\u001b[0m\u001b[0;34m\u001b[0m\u001b[0;34m\u001b[0m\u001b[0m\n",
      "\u001b[0;31mTypeError\u001b[0m: 'tuple' object does not support item assignment"
     ]
    }
   ],
   "source": [
    "foo = (10, [1, 2, 3])\n",
    "print(foo)\n",
    "foo[0] = 15\n",
    "print(foo)"
   ]
  },
  {
   "cell_type": "code",
   "execution_count": null,
   "metadata": {},
   "outputs": [],
   "source": []
  }
 ],
 "metadata": {
  "kernelspec": {
   "display_name": "Python 3",
   "language": "python",
   "name": "python3"
  },
  "language_info": {
   "codemirror_mode": {
    "name": "ipython",
    "version": 3
   },
   "file_extension": ".py",
   "mimetype": "text/x-python",
   "name": "python",
   "nbconvert_exporter": "python",
   "pygments_lexer": "ipython3",
   "version": "3.8.5"
  }
 },
 "nbformat": 4,
 "nbformat_minor": 4
}
