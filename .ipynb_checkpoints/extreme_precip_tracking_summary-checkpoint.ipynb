{
 "cells": [
  {
   "cell_type": "code",
   "execution_count": 1,
   "metadata": {},
   "outputs": [],
   "source": [
    "from pathlib import Path\n",
    "from collections import namedtuple\n",
    "\n",
    "import numpy as np\n",
    "import pandas as pd\n",
    "import xarray as xr\n",
    "\n",
    "import esmlab\n",
    "import scipy.stats as stats\n",
    "\n",
    "import matplotlib as mpl\n",
    "import matplotlib.pyplot as plt\n",
    "import colorcet as cc # colortables\n",
    "import palettable     # more colortables!\n"
   ]
  },
  {
   "cell_type": "code",
   "execution_count": 2,
   "metadata": {},
   "outputs": [],
   "source": [
    "model_colors = {}\n",
    "for i, m in enumerate([\"cesm\", \"cnrm\", \"ipsl\", \"mri\"]):\n",
    "    model_colors[m] = cc.cm.glasbey_hv(i)\n",
    "# hard code locking to other blues, assumes CESM is first in list.\n",
    "model_colors['f-lock'] = cc.cm.glasbey_hv(5)\n",
    "model_colors['f-cntl'] = model_colors['f-lock']\n",
    "model_colors['c-lock'] = cc.cm.glasbey_hv(8)\n",
    "model_colors['c-cntl'] = model_colors['c-lock']"
   ]
  },
  {
   "cell_type": "code",
   "execution_count": 3,
   "metadata": {},
   "outputs": [],
   "source": [
    "def get_duration_and_size(lab, rettype='df'):\n",
    "    \"\"\"Returns either a Pandas DataFrame (default) or dictionary with keys that are event labels and values that are duration (days).\"\"\"\n",
    "    dur = dict()\n",
    "    # put eventID as key, values are dict: {duration: D, size: [s_0, ..., s_d]}\n",
    "    if isinstance(lab, np.ndarray):\n",
    "        labv = lab\n",
    "    else:\n",
    "        labv = lab.values  # converts to numpy array\n",
    "    for t in range(lab.shape[0]):\n",
    "        tmp = labv[t,:,:] # temporary time slice\n",
    "        present_events = set(tmp[tmp != 0]) # uniq events in this time\n",
    "        if len(present_events) > 0:\n",
    "            for ev in present_events:\n",
    "                if ev in dur:\n",
    "                    dur[ev]['duration'] += 1 # continuing\n",
    "                    dur[ev]['size'].append(np.count_nonzero(tmp==ev))\n",
    "                else:\n",
    "                    dur[ev] = dict() # new event\n",
    "                    dur[ev]['duration'] = 1\n",
    "                    dur[ev]['size'] = [np.count_nonzero(tmp==ev)]\n",
    "    if rettype == 'df':\n",
    "        # convert to dataFrame\n",
    "        df = pd.DataFrame.from_dict(dur, orient ='index')\n",
    "        # compute average size and include as a column\n",
    "        asiz = []\n",
    "        msiz = []\n",
    "        for s in df['size']:\n",
    "            asiz.append(np.mean(s))\n",
    "            msiz.append(np.max(s))\n",
    "        df['AvgSiz'] = asiz\n",
    "        df['MaxSiz'] = msiz\n",
    "        # get distribution of average size\n",
    "        return df\n",
    "    else:\n",
    "        return dur  # AvgSiz and MaxSiz not included in output dict.\n",
    "\n",
    "\n",
    "def summarize_events(labels, mstr, estr):\n",
    "    X = get_events_per_time(labels)\n",
    "    Y = get_duration_and_size(labels)  # Y is a pandas DF with columns: duration, size, AvgSiz, MaxSiz\n",
    "    tot_number_events = len(Y)\n",
    "#     dur = []\n",
    "#     avgsiz = []\n",
    "#     mxsiz = []\n",
    "#     for ev in Y:\n",
    "#         dur.append(Y[ev][\"duration\"])\n",
    "#         avgsiz.append(np.mean(Y[ev][\"size\"]))\n",
    "#         mxsiz.append(np.max(Y[ev][\"size\"]))\n",
    "    avg_duration = np.mean(Y['duration'])\n",
    "    std_duration = np.std(Y['duration'])\n",
    "    avg_size = np.mean(Y['AvgSiz'])\n",
    "    std_size = np.std(Y['AvgSiz'])\n",
    "    avg_mx_size = np.mean(Y['MaxSiz'])\n",
    "    std_mx_size = np.std(Y['MaxSiz'])\n",
    "    print(\n",
    "        f\"{mstr} {estr}: [N_events] = {np.mean(X):.2f} ± {np.std(X):.2f}, Ntot: {tot_number_events:.2f}, [D] = {avg_duration:.2f} ± {std_duration:.2f}, [S] = {avg_size:.2f} ± {std_size:.2f}, [Smx] = {avg_mx_size:.2f} ± {std_mx_size:.2f}\"\n",
    "    )"
   ]
  },
  {
   "cell_type": "code",
   "execution_count": 4,
   "metadata": {},
   "outputs": [],
   "source": [
    "#\n",
    "# In order to normalize \"size\", we need to get the number of tropical ocean points\n",
    "#\n",
    "def quick_load_var(loc, var, table, model, experiment, member):\n",
    "    fils = sorted(\n",
    "        list(Path(loc).glob(\"_\".join([var, table, model, experiment, member, \"*.nc\"])))\n",
    "    )\n",
    "    if len(fils) == 0:\n",
    "        raise IOError(f\"Can not find the files: {str(loc)}, {var}, {table}, {model}, {experiment}, {member}\")\n",
    "    elif len(fils) == 1:\n",
    "        ds = xr.open_dataset(fils[0])\n",
    "    else:\n",
    "        ds = xr.open_mfdataset(fils, combine=\"by_coords\")\n",
    "    return ds[var].compute()\n",
    "\n",
    "def get_cmip_npoints(loc, model, experiment, member):\n",
    "    tropics = slice(-30,30)\n",
    "    land = quick_load_var(data_loc, \"sftlf\", \"fx\", model, experiment, member)\n",
    "    land_trop = land.sel(lat=tropics)\n",
    "    ocean = np.where(land_trop <= 0, 1, 0)\n",
    "    return np.sum(ocean.flatten())\n",
    "        \n",
    "def get_cesm_npoints():\n",
    "    land_f = xr.open_dataset(\"/Users/brianpm/Dropbox/Data/cesm2_f09_land.nc\")\n",
    "    landx = land_f['LANDFRAC'].squeeze()\n",
    "    tropics = slice(-30,30)\n",
    "    land_trop = landx.sel(lat=tropics)\n",
    "    ocean = np.where(land_trop <= 0, 1, 0)\n",
    "    return np.sum(ocean.flatten())"
   ]
  },
  {
   "cell_type": "code",
   "execution_count": 5,
   "metadata": {},
   "outputs": [
    {
     "name": "stdout",
     "output_type": "stream",
     "text": [
      "working on f-cntl\n",
      "working on f-lock\n",
      "working on c-cntl\n",
      "working on c-lock\n",
      "working on cesm-amip\n"
     ]
    },
    {
     "name": "stderr",
     "output_type": "stream",
     "text": [
      "/Users/brianpm/miniconda3/envs/py38/lib/python3.8/site-packages/xarray/conventions.py:490: SerializationWarning: variable 'sftlf' has multiple fill values {1e+20, 1e+20}, decoding all values to NaN.\n",
      "  new_vars[k] = decode_cf_variable(\n"
     ]
    },
    {
     "name": "stdout",
     "output_type": "stream",
     "text": [
      "working on cesm-amip-off\n",
      "working on cesm-aqua\n",
      "working on cesm-aqua-off\n",
      "working on ipsl-amip\n",
      "working on ipsl-amip-off\n",
      "working on ipsl-aqua\n",
      "working on ipsl-aqua-off\n",
      "working on cnrm-amip\n",
      "working on cnrm-amip-off\n",
      "working on cnrm-aqua\n",
      "working on cnrm-aqua-off\n",
      "working on mri-amip\n",
      "working on mri-amip-off\n"
     ]
    }
   ],
   "source": [
    "data_loc = Path(\"/Volumes/Glyph6TB/CMIP6\")\n",
    "## do these:\n",
    "\n",
    "sims = {\"cesm-amip\": (\"CESM2\", \"amip\", \"r1i1p1f1\"),\n",
    "        \"cesm-amip-off\": (\"CESM2\",\"amip-lwoff\",\"r1i1p1f1\"),\n",
    "        \"cesm-aqua\": (\"CESM2\", \"aqua-control\", \"r1i1p1f1\"),\n",
    "        \"cesm-aqua-off\": (\"CESM2\", \"aqua-control-lwoff\", \"r1i1p1f1\"),\n",
    "        \"ipsl-amip\": (\"IPSL-CM6A-LR\", \"amip\", \"r1i1p1f1\"),\n",
    "        \"ipsl-amip-off\": (\"IPSL-CM6A-LR\", \"amip-lwoff\", \"r1i1p1f1\"),\n",
    "        \"ipsl-aqua\": (\"IPSL-CM6A-LR\", \"aqua-control\", \"r1i1p1f1\"),\n",
    "        \"ipsl-aqua-off\": (\"IPSL-CM6A-LR\", \"aqua-control-lwoff\", \"r1i1p1f1\"),\n",
    "        \"cnrm-amip\": (\"CNRM-CM6-1\", \"amip\", \"r1i1p1f2\"),\n",
    "        \"cnrm-amip-off\": (\"CNRM-CM6-1\", \"amip-lwoff\", \"r1i1p1f2\"),\n",
    "        \"cnrm-aqua\": (\"CNRM-CM6-1\", \"aqua-control\", \"r1i1p1f2\"),\n",
    "        \"cnrm-aqua-off\": (\"CNRM-CM6-1\", \"aqua-control-lwoff\", \"r1i1p1f2\"),\n",
    "        \"mri-amip\" : (\"MRI-ESM2-0\", \"amip\", \"r1i1p1f1\"),\n",
    "        \"mri-amip-off\" : (\"MRI-ESM2-0\", \"amip-lwoff\", \"r1i1p1f1\")\n",
    "       }\n",
    "\n",
    "# Add the locking results:\n",
    "locking_loc = Path(\"/Volumes/Glyph6TB/cloud_locking/pr_events\")\n",
    "variable = \"PRECT\"\n",
    "cases = {\n",
    "    'f-lock': locking_loc / 'pr_events_F1850JJB_c201_CLOCK.nc',\n",
    "    'f-cntl': locking_loc / 'pr_events_F1850JJB_c201_CTL.nc',\n",
    "    'c-lock': locking_loc / 'pr_events_B1850_c201_CLOCK.nc',\n",
    "    'c-cntl': locking_loc / 'pr_events_B1850_c201_CTL.nc'}\n",
    "\n",
    "case_names = {'f-lock': 'F1850JJB_c201_CLOCK',\n",
    "    'f-cntl': 'F1850JJB_c201_CTL',\n",
    "    'c-lock': 'B1850_c201_CLOCK',\n",
    "    'c-cntl': 'B1850_c201_CTL'}\n",
    "\n",
    "\n",
    "# ensure correct order:\n",
    "order = ['f-cntl', 'f-lock', 'c-cntl', 'c-lock',\n",
    "'cesm-amip',\n",
    "'cesm-amip-off',\n",
    "'cesm-aqua',\n",
    "'cesm-aqua-off',\n",
    "'ipsl-amip',\n",
    "'ipsl-amip-off',\n",
    "'ipsl-aqua',\n",
    "'ipsl-aqua-off',\n",
    "'cnrm-amip',\n",
    "'cnrm-amip-off',\n",
    "'cnrm-aqua',\n",
    "'cnrm-aqua-off',\n",
    "'mri-amip',\n",
    "'mri-amip-off',\n",
    "]\n",
    "\n",
    "R = {}\n",
    "OceanPoints = {}\n",
    "for c in order:\n",
    "    print(f\"working on {c}\")\n",
    "    if c in sims:\n",
    "        R[c] = xr.open_dataset(data_loc / f\"pr_events_{'_'.join(sims[c])}.nc\")\n",
    "        OceanPoints[c] = get_cmip_npoints(data_loc, *sims[c])\n",
    "    else:\n",
    "        R[c] = xr.open_dataset(cases[c])\n",
    "        OceanPoints[c] = get_cesm_npoints()\n",
    "        \n"
   ]
  },
  {
   "cell_type": "code",
   "execution_count": 6,
   "metadata": {},
   "outputs": [
    {
     "name": "stdout",
     "output_type": "stream",
     "text": [
      "f-cntl\n",
      "f-lock\n",
      "c-cntl\n",
      "c-lock\n",
      "cesm-amip\n",
      "cesm-amip-off\n",
      "cesm-aqua\n",
      "cesm-aqua-off\n",
      "ipsl-amip\n",
      "ipsl-amip-off\n",
      "ipsl-aqua\n",
      "ipsl-aqua-off\n",
      "cnrm-amip\n",
      "cnrm-amip-off\n",
      "cnrm-aqua\n",
      "cnrm-aqua-off\n",
      "mri-amip\n",
      "mri-amip-off\n"
     ]
    }
   ],
   "source": [
    "D = {}\n",
    "for c in R:\n",
    "    print(c)\n",
    "    evnt = R[c]['precip_events']\n",
    "    D[c] = get_duration_and_size(evnt, rettype='df')"
   ]
  },
  {
   "cell_type": "code",
   "execution_count": 7,
   "metadata": {},
   "outputs": [],
   "source": [
    "# get the number of events at each time, then get the median & iqr\n",
    "def get_n_events(events):\n",
    "    unvals = np.zeros(events.shape[0])\n",
    "    for t in range(events.shape[0]):\n",
    "        unvals[t] = np.unique(events[t,:,:]).shape[0]\n",
    "        if unvals[t] > 0:\n",
    "            unvals[t] -= 1\n",
    "    return np.quantile(unvals, [0.25, 0.5, 0.75])\n",
    "\n",
    "\n",
    "N = {}\n",
    "for c in R:\n",
    "    evnt = R[c]['precip_events'].values\n",
    "    N[c] = get_n_events(evnt)\n",
    "    "
   ]
  },
  {
   "cell_type": "code",
   "execution_count": 8,
   "metadata": {},
   "outputs": [],
   "source": [
    "#\n",
    "# We need to know the number, duration, and size when we exclude events that only last 1-day or have max size of 1 point\n",
    "#\n",
    "Dlg = {}\n",
    "for c in D:\n",
    "    dursiz1 = D[c]\n",
    "    evlong1 = dursiz1.where(dursiz1['duration'] > 2).dropna()\n",
    "    evlarg = evlong1.where(evlong1['MaxSiz'] > 2).dropna()\n",
    "    Dlg[c] = evlarg\n"
   ]
  },
  {
   "cell_type": "code",
   "execution_count": 9,
   "metadata": {},
   "outputs": [
    {
     "name": "stdout",
     "output_type": "stream",
     "text": [
      "f-cntl f-cntl\n",
      "f-lock f-lock\n",
      "c-cntl c-cntl\n",
      "c-lock c-lock\n",
      "cesm-amip cesm\n",
      "cesm-amip-off cesm\n",
      "cesm-aqua cesm\n",
      "cesm-aqua-off cesm\n",
      "ipsl-amip ipsl\n",
      "ipsl-amip-off ipsl\n",
      "ipsl-aqua ipsl\n",
      "ipsl-aqua-off ipsl\n",
      "cnrm-amip cnrm\n",
      "cnrm-amip-off cnrm\n",
      "cnrm-aqua cnrm\n",
      "cnrm-aqua-off cnrm\n",
      "mri-amip mri\n",
      "mri-amip-off mri\n"
     ]
    },
    {
     "data": {
      "text/plain": [
       "[None, None, None]"
      ]
     },
     "execution_count": 9,
     "metadata": {},
     "output_type": "execute_result"
    },
    {
     "data": {
      "image/png": "[encoded data removed]",
      "text/plain": [
       "<Figure size 360x504 with 3 Axes>"
      ]
     },
     "metadata": {
      "needs_background": "light"
     },
     "output_type": "display_data"
    }
   ],
   "source": [
    "\n",
    "fig, ax = plt.subplots(figsize=(5,7), nrows=3, sharex=True, constrained_layout=True)\n",
    "xval = 1\n",
    "for c in N:\n",
    "    pieces = c.split(\"-\")\n",
    "    if c not in ['f-cntl', 'f-lock', 'c-cntl', 'c-lock']:\n",
    "        model = pieces[0]\n",
    "    else:\n",
    "        model = c\n",
    "    if ('amip' in c):\n",
    "        m = '^'\n",
    "    elif (c in ['f-cntl', 'f-lock', 'c-cntl', 'c-lock']):\n",
    "        m = \"s\"\n",
    "    else:\n",
    "        m = 'o'\n",
    "    print(c, model)\n",
    "    mfill = 'full'\n",
    "    mafill = 'none'\n",
    "\n",
    "    # NUMBER\n",
    "    ax[0].plot(xval, N[c][1], marker=m, color=model_colors[model], fillstyle=mfill) # MEDIAN\n",
    "    ax[0].plot([xval,xval], [N[c][0], N[c][2]], color=model_colors[model]) # IQR\n",
    "    \n",
    "    # DURATION\n",
    "    qtmp = np.quantile(D[c]['duration'].values, [0.25, 0.5, 0.75])\n",
    "    ax[1].plot(xval, qtmp[1], marker=m, color='gray', fillstyle=mfill)\n",
    "    ax[1].plot([xval, xval], [qtmp[0], qtmp[2]], color='gray')\n",
    "    qtmp = np.quantile(Dlg[c]['duration'].values, [0.25, 0.5, 0.75])\n",
    "    ax[1].plot(xval, qtmp[1], marker=m, color=model_colors[model], fillstyle=mfill)\n",
    "    ax[1].plot([xval, xval], [qtmp[0], qtmp[2]], color=model_colors[model])\n",
    "    \n",
    "\n",
    "    #ax[1].plot(xval, RR[c].toavg_uw*86400.0, marker='*', color=model_colors[model], fillstyle=mfill)\n",
    "    \n",
    "    # SIZE\n",
    "    ax[2].plot(xval, D[c]['AvgSiz'].median()/OceanPoints[c], marker=m, fillstyle=mfill, color='gray')\n",
    "    ax[2].plot(xval, Dlg[c]['AvgSiz'].median()/OceanPoints[c], marker=m, fillstyle=mfill, color=model_colors[model])\n",
    "#     ax[3].plot(xval, R[c].xsum/R[c].tsum, marker=m, fillstyle=mfill, color=model_colors[model])\n",
    "    xval += 1\n",
    "\n",
    "ax[0].set_title(\"Number\", loc='left')\n",
    "ax[1].set_title(\"Duration (days)\", loc='left')\n",
    "ax[2].set_title(\"Size (fraction of tropical ocean)\", loc='left')\n",
    "\n",
    "ax[-1].set_xticks(np.arange(1, len(R)+1))\n",
    "ax[-1].set_xticklabels(R.keys(), rotation=90)\n",
    "\n",
    "[a.spines['top'].set_visible(False) for a in ax]\n",
    "[a.spines['right'].set_visible(False) for a in ax]\n",
    "\n",
    "# #\n",
    "# from matplotlib.lines import Line2D\n",
    "# legend_elements_last = [Line2D([0], [0], marker=\"^\", linestyle=\"None\", fillstyle='full', color=\"darkgray\", label='AMIP Ocean'),\n",
    "#                         Line2D([0], [0], marker=\"^\", linestyle=\"None\", fillstyle='none', color=\"darkgray\", label='AMIP All'),            \n",
    "#                         Line2D([0], [0], marker=\"o\", linestyle=\"None\", fillstyle='full', color=\"darkgray\", label='Aqua'),\n",
    "#                         Line2D([0], [0], marker=\"s\", linestyle=\"None\", fillstyle='full', color=\"darkgray\", label='Locking Ocean'),\n",
    "#                         Line2D([0], [0], marker=\"s\", linestyle=\"None\", fillstyle='none', color=\"darkgray\", label='Locking All'),\n",
    "#                   ]\n",
    "\n",
    "# fig.legend(handles=legend_elements_last, loc='lower center', bbox_to_anchor=(.5, -0.09), frameon=True, ncol=2)\n",
    "\n",
    "\n",
    "# fig.savefig(\"/Users/brianpm/Dropbox/Manuscripts/M_cre_pex/summary_event_stats.pdf\", bbox_inches='tight')"
   ]
  },
  {
   "cell_type": "code",
   "execution_count": 32,
   "metadata": {},
   "outputs": [
    {
     "name": "stdout",
     "output_type": "stream",
     "text": [
      "f-cntl f-cntl\n",
      "f-lock f-lock\n",
      "c-cntl c-cntl\n",
      "c-lock c-lock\n",
      "cesm-amip cesm\n",
      "cesm-amip-off cesm\n",
      "cesm-aqua cesm\n",
      "cesm-aqua-off cesm\n",
      "ipsl-amip ipsl\n",
      "ipsl-amip-off ipsl\n",
      "ipsl-aqua ipsl\n",
      "ipsl-aqua-off ipsl\n",
      "cnrm-amip cnrm\n",
      "cnrm-amip-off cnrm\n",
      "cnrm-aqua cnrm\n",
      "cnrm-aqua-off cnrm\n",
      "mri-amip mri\n",
      "mri-amip-off mri\n"
     ]
    },
    {
     "data": {
      "text/plain": [
       "[None, None, None]"
      ]
     },
     "execution_count": 32,
     "metadata": {},
     "output_type": "execute_result"
    },
    {
     "data": {
      "image/png": "[encoded data removed]",
      "text/plain": [
       "<Figure size 360x504 with 3 Axes>"
      ]
     },
     "metadata": {
      "needs_background": "light"
     },
     "output_type": "display_data"
    }
   ],
   "source": [
    "\n",
    "fig, ax = plt.subplots(figsize=(5,7), nrows=3, sharex=True, constrained_layout=True)\n",
    "\n",
    "violins1 = []\n",
    "violins2 = []\n",
    "violins2g = []\n",
    "\n",
    "vdata = [Dlg[c]['AvgSiz']/OceanPoints[c] for c in Dlg]\n",
    "\n",
    "xval = 1\n",
    "for c in N:\n",
    "    pieces = c.split(\"-\")\n",
    "    if c not in ['f-cntl', 'f-lock', 'c-cntl', 'c-lock']:\n",
    "        model = pieces[0]\n",
    "    else:\n",
    "        model = c\n",
    "    if ('amip' in c):\n",
    "        m = '^'\n",
    "    elif (c in ['f-cntl', 'f-lock', 'c-cntl', 'c-lock']):\n",
    "        m = \"s\"\n",
    "    else:\n",
    "        m = 'o'\n",
    "    print(c, model)\n",
    "    mfill = 'full'\n",
    "    mafill = 'none'\n",
    "\n",
    "    # NUMBER\n",
    "    ax[0].plot(xval, N[c][1], marker=m, color=model_colors[model], fillstyle=mfill) # MEDIAN\n",
    "    ax[0].plot([xval,xval], [N[c][0], N[c][2]], color=model_colors[model]) # IQR\n",
    "    \n",
    "    # DURATION\n",
    "    qtmp = D[c]['duration']\n",
    "    violins1.append(ax[1].violinplot(qtmp, [xval], vert=True, showmedians=True, showextrema=False))\n",
    "    [pc.set_facecolor(model_colors[model]) for pc in violins1[-1]['bodies']]\n",
    "    \n",
    "\n",
    "    #ax[1].plot(xval, RR[c].toavg_uw*86400.0, marker='*', color=model_colors[model], fillstyle=mfill)\n",
    "    \n",
    "    # SIZE\n",
    "    violins2g.append(ax[2].violinplot(D[c]['AvgSiz']/OceanPoints[c], [xval], vert=True, showextrema=False,\n",
    "                                    showmedians=True))\n",
    "    [pc.set_facecolor(\"gray\") for pc in violins2g[-1]['bodies']]\n",
    "#     violins2g[-1]['cmedians'].set_color(\"gray\")\n",
    "\n",
    "\n",
    "#     violins2.append(ax[2].violinplot(Dlg[c]['AvgSiz']/OceanPoints[c], [xval], vert=True, showextrema=False,\n",
    "#                                     showmedians=True))\n",
    "#     [pc.set_facecolor(model_colors[model]) for pc in violins2[-1]['bodies']]\n",
    "#     violins2[-1]['cmedians'].set_color(model_colors[model])\n",
    "\n",
    "\n",
    "\n",
    "#     ax[2].plot(xval, D[c]['AvgSiz'].median()/OceanPoints[c], marker=m, fillstyle=mfill, color='gray')\n",
    "#     ax[2].plot(xval, Dlg[c]['AvgSiz'].median()/OceanPoints[c], marker=m, fillstyle=mfill, color=model_colors[model])\n",
    "#     ax[3].plot(xval, R[c].xsum/R[c].tsum, marker=m, fillstyle=mfill, color=model_colors[model])\n",
    "\n",
    "    xval += 1\n",
    "\n",
    "ax[2].violinplot(vdata, vert=True, showextrema=False, showmedians=True)    \n",
    "\n",
    "ax[0].set_title(\"Number\", loc='left')\n",
    "ax[1].set_title(\"Duration (days)\", loc='left')\n",
    "ax[2].set_title(\"Size (fraction of tropical ocean)\", loc='left')\n",
    "ax[2].set_ylim([0, 0.001])\n",
    "\n",
    "ax[-1].set_xticks(np.arange(1, len(R)+1))\n",
    "ax[-1].set_xticklabels(R.keys(), rotation=90)\n",
    "\n",
    "[a.spines['top'].set_visible(False) for a in ax]\n",
    "[a.spines['right'].set_visible(False) for a in ax]\n",
    "\n",
    "# #\n",
    "# from matplotlib.lines import Line2D\n",
    "# legend_elements_last = [Line2D([0], [0], marker=\"^\", linestyle=\"None\", fillstyle='full', color=\"darkgray\", label='AMIP Ocean'),\n",
    "#                         Line2D([0], [0], marker=\"^\", linestyle=\"None\", fillstyle='none', color=\"darkgray\", label='AMIP All'),            \n",
    "#                         Line2D([0], [0], marker=\"o\", linestyle=\"None\", fillstyle='full', color=\"darkgray\", label='Aqua'),\n",
    "#                         Line2D([0], [0], marker=\"s\", linestyle=\"None\", fillstyle='full', color=\"darkgray\", label='Locking Ocean'),\n",
    "#                         Line2D([0], [0], marker=\"s\", linestyle=\"None\", fillstyle='none', color=\"darkgray\", label='Locking All'),\n",
    "#                   ]\n",
    "\n",
    "# fig.legend(handles=legend_elements_last, loc='lower center', bbox_to_anchor=(.5, -0.09), frameon=True, ncol=2)\n",
    "\n",
    "\n",
    "# fig.savefig(\"/Users/brianpm/Dropbox/Manuscripts/M_cre_pex/summary_event_stats.pdf\", bbox_inches='tight')"
   ]
  },
  {
   "cell_type": "code",
   "execution_count": 31,
   "metadata": {},
   "outputs": [
    {
     "data": {
      "text/plain": [
       "[<matplotlib.collections.PolyCollection at 0x7fb7ab8659a0>]"
      ]
     },
     "execution_count": 31,
     "metadata": {},
     "output_type": "execute_result"
    }
   ],
   "source": [
    "violins2[0]['bodies']"
   ]
  },
  {
   "cell_type": "code",
   "execution_count": 43,
   "metadata": {},
   "outputs": [
    {
     "data": {
      "text/plain": [
       "array([[[0, 0, 0, ..., 0, 0, 0],\n",
       "        [0, 0, 0, ..., 0, 0, 0],\n",
       "        [0, 0, 0, ..., 0, 0, 0],\n",
       "        ...,\n",
       "        [0, 0, 0, ..., 0, 0, 0],\n",
       "        [0, 0, 0, ..., 0, 0, 0],\n",
       "        [0, 0, 0, ..., 0, 0, 0]],\n",
       "\n",
       "       [[0, 0, 0, ..., 0, 0, 0],\n",
       "        [0, 0, 0, ..., 0, 0, 0],\n",
       "        [0, 0, 0, ..., 0, 0, 0],\n",
       "        ...,\n",
       "        [0, 0, 0, ..., 0, 0, 0],\n",
       "        [0, 0, 0, ..., 0, 0, 0],\n",
       "        [0, 0, 0, ..., 0, 0, 0]],\n",
       "\n",
       "       [[0, 0, 0, ..., 0, 0, 0],\n",
       "        [0, 0, 0, ..., 0, 0, 0],\n",
       "        [0, 0, 0, ..., 0, 0, 0],\n",
       "        ...,\n",
       "        [0, 0, 0, ..., 0, 0, 0],\n",
       "        [0, 0, 0, ..., 0, 0, 0],\n",
       "        [0, 0, 0, ..., 0, 0, 0]],\n",
       "\n",
       "       ...,\n",
       "\n",
       "       [[0, 0, 0, ..., 0, 0, 0],\n",
       "        [0, 0, 0, ..., 0, 0, 0],\n",
       "        [0, 0, 0, ..., 0, 0, 0],\n",
       "        ...,\n",
       "        [0, 0, 0, ..., 0, 0, 0],\n",
       "        [0, 0, 0, ..., 0, 0, 0],\n",
       "        [0, 0, 0, ..., 0, 0, 0]],\n",
       "\n",
       "       [[0, 0, 0, ..., 0, 0, 0],\n",
       "        [0, 0, 0, ..., 0, 0, 0],\n",
       "        [0, 0, 0, ..., 0, 0, 0],\n",
       "        ...,\n",
       "        [0, 0, 0, ..., 0, 0, 0],\n",
       "        [0, 0, 0, ..., 0, 0, 0],\n",
       "        [0, 0, 0, ..., 0, 0, 0]],\n",
       "\n",
       "       [[0, 0, 0, ..., 0, 0, 0],\n",
       "        [0, 0, 0, ..., 0, 0, 0],\n",
       "        [0, 0, 0, ..., 0, 0, 0],\n",
       "        ...,\n",
       "        [0, 0, 0, ..., 0, 0, 0],\n",
       "        [0, 0, 0, ..., 0, 0, 0],\n",
       "        [0, 0, 0, ..., 0, 0, 0]]], dtype=int32)"
      ]
     },
     "execution_count": 43,
     "metadata": {},
     "output_type": "execute_result"
    }
   ],
   "source": [
    "R['cesm-amip']['precip_events'].values\n"
   ]
  },
  {
   "cell_type": "code",
   "execution_count": 38,
   "metadata": {},
   "outputs": [
    {
     "data": {
      "text/plain": [
       "array([21.,  9., 11., ..., 14., 15., 15.])"
      ]
     },
     "execution_count": 38,
     "metadata": {},
     "output_type": "execute_result"
    }
   ],
   "source": [
    "unvals"
   ]
  },
  {
   "cell_type": "code",
   "execution_count": null,
   "metadata": {},
   "outputs": [],
   "source": []
  }
 ],
 "metadata": {
  "kernelspec": {
   "display_name": "Python 3",
   "language": "python",
   "name": "python3"
  },
  "language_info": {
   "codemirror_mode": {
    "name": "ipython",
    "version": 3
   },
   "file_extension": ".py",
   "mimetype": "text/x-python",
   "name": "python",
   "nbconvert_exporter": "python",
   "pygments_lexer": "ipython3",
   "version": "3.8.5"
  }
 },
 "nbformat": 4,
 "nbformat_minor": 4
}
