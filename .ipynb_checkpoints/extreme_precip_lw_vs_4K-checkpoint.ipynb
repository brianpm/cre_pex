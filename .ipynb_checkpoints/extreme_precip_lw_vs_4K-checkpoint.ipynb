{
 "cells": [
  {
   "cell_type": "markdown",
   "metadata": {},
   "source": [
    "Compare the change in extreme precipitation between the LWoff and +4K experiments.... is there correspondence? "
   ]
  },
  {
   "cell_type": "code",
   "execution_count": 1,
   "metadata": {},
   "outputs": [],
   "source": [
    "from collections import namedtuple\n",
    "import xarray as xr\n",
    "import numpy as np\n",
    "\n",
    "import matplotlib as mpl\n",
    "import matplotlib.pyplot as plt\n",
    "from matplotlib.lines import Line2D\n",
    "\n",
    "from pathlib import Path\n",
    "\n",
    "# from sklearn.neighbors import KernelDensity\n",
    "import colorcet as cc\n",
    "\n",
    "from pathlib import Path\n",
    "import esmlab\n",
    "import scipy.stats as stats"
   ]
  },
  {
   "cell_type": "code",
   "execution_count": 2,
   "metadata": {},
   "outputs": [],
   "source": [
    "model_colors = {}\n",
    "for i, m in enumerate([\"cesm\", \"cnrm\", \"ipsl\", \"mri\"]):\n",
    "    model_colors[m] = cc.cm.glasbey_hv(i)\n",
    "# hard code locking to other blues, assumes CESM is first in list.\n",
    "model_colors['f-lock'] = cc.cm.glasbey_hv(5)\n",
    "model_colors['f-cntl'] = model_colors['f-lock']\n",
    "model_colors['c-lock'] = cc.cm.glasbey_hv(8)\n",
    "model_colors['c-cntl'] = model_colors['c-lock']"
   ]
  },
  {
   "cell_type": "code",
   "execution_count": 3,
   "metadata": {},
   "outputs": [],
   "source": [
    "def quick_load_var(loc, var, table, model, experiment, member):\n",
    "    fils = sorted(\n",
    "        list(Path(loc).glob(\"_\".join([var, table, model, experiment, member, \"*.nc\"])))\n",
    "    )\n",
    "    if len(fils) == 0:\n",
    "        raise IOError(\"Can not find the files.\")\n",
    "    elif len(fils) == 1:\n",
    "        ds = xr.open_dataset(fils[0])\n",
    "    else:\n",
    "        ds = xr.open_mfdataset(fils, combine=\"by_coords\")\n",
    "    return ds[var].compute()"
   ]
  },
  {
   "cell_type": "code",
   "execution_count": 4,
   "metadata": {},
   "outputs": [],
   "source": [
    "data_loc = Path(\"/Volumes/Glyph6TB/CMIP6\")"
   ]
  },
  {
   "cell_type": "code",
   "execution_count": 5,
   "metadata": {},
   "outputs": [],
   "source": [
    "## do these:\n",
    "\n",
    "exp0 = \"amip\"\n",
    "exp1 = \"amip-lwoff\"\n",
    "exp2 = \"amip-p4K\"\n",
    "exp2a = \"amip-p4K-lwoff\"\n",
    "exp3 = \"aqua-control\"\n",
    "exp4 = \"aqua-control-lwoff\"\n",
    "exp5 = \"aqua-p4K\"\n",
    "exp5a = \"aqua-p4K-lwoff\"\n",
    "\n",
    "sims = {\"cesm-amip\": (\"CESM2\", exp0, \"r1i1p1f1\"),\n",
    "        \"cesm-amip-off\": (\"CESM2\", exp1, \"r1i1p1f1\"),\n",
    "        \"cesm-amip-4k\": (\"CESM2\", exp2, \"r1i1p1f1\"),\n",
    "        \"cesm-amip-4k-off\": (\"CESM2\", exp2a, \"r1i1p1f1\"),\n",
    "        \"cesm-aqua\": (\"CESM2\", exp3, \"r1i1p1f1\"),\n",
    "        \"cesm-aqua-off\": (\"CESM2\", exp4, \"r1i1p1f1\"),\n",
    "        \"cesm-aqua-4k\": (\"CESM2\", exp5, \"r1i1p1f1\"), \n",
    "        \"cesm-aqua-4k-off\": (\"CESM2\", exp5a, \"r1i1p1f1\"),\n",
    "        \"ipsl-amip\": (\"IPSL-CM6A-LR\", exp0, \"r1i1p1f1\"),\n",
    "        \"ipsl-amip-off\": (\"IPSL-CM6A-LR\", exp1, \"r1i1p1f1\"),\n",
    "        \"ipsl-amip-4k\": (\"IPSL-CM6A-LR\", exp2, \"r1i1p1f1\"),\n",
    "        \"ipsl-amip-4k-off\": (\"IPSL-CM6A-LR\", exp2a, \"r1i1p1f1\"),\n",
    "        \"ipsl-aqua\": (\"IPSL-CM6A-LR\", exp3, \"r1i1p1f1\"),\n",
    "        \"ipsl-aqua-off\": (\"IPSL-CM6A-LR\", exp4, \"r1i1p1f1\"),\n",
    "        \"ipsl-aqua-4k\": (\"IPSL-CM6A-LR\", exp5, \"r1i1p1f1\"),\n",
    "        \"ipsl-aqua-4k-off\": (\"IPSL-CM6A-LR\", exp5a, \"r1i1p1f1\"),\n",
    "        \"cnrm-amip\": (\"CNRM-CM6-1\", exp0, \"r1i1p1f2\"),\n",
    "        \"cnrm-amip-off\": (\"CNRM-CM6-1\", exp1, \"r1i1p1f2\"),\n",
    "        \"cnrm-amip-4k\": (\"CNRM-CM6-1\", exp2, \"r1i1p1f2\"),\n",
    "        \"cnrm-amip-4k-off\": (\"CNRM-CM6-1\", exp2a, \"r1i1p1f2\"),\n",
    "        \"cnrm-aqua\": (\"CNRM-CM6-1\", exp3, \"r1i1p1f2\"),\n",
    "        \"cnrm-aqua-off\": (\"CNRM-CM6-1\", exp4, \"r1i1p1f2\"),\n",
    "        \"cnrm-aqua-4k\": (\"CNRM-CM6-1\", exp5, \"r1i1p1f2\"),\n",
    "        \"cnrm-aqua-4k-off\": (\"CNRM-CM6-1\", exp5a, \"r1i1p1f2\"),\n",
    "        \"mri-amip\" : (\"MRI-ESM2-0\", exp0, \"r1i1p1f1\"),\n",
    "        \"mri-amip-off\" : (\"MRI-ESM2-0\", exp1, \"r1i1p1f1\"),\n",
    "        \"mri-amip-4k\" : (\"MRI-ESM2-0\", exp2, \"r1i1p1f1\"),\n",
    "        \"mri-amip-4k-off\" : (\"MRI-ESM2-0\", exp2a, \"r1i1p1f1\")\n",
    "       }\n"
   ]
  },
  {
   "cell_type": "code",
   "execution_count": 6,
   "metadata": {},
   "outputs": [
    {
     "name": "stdout",
     "output_type": "stream",
     "text": [
      "working on cesm-amip\n"
     ]
    },
    {
     "name": "stderr",
     "output_type": "stream",
     "text": [
      "/Users/brianpm/miniconda3/envs/py38/lib/python3.8/site-packages/xarray/conventions.py:490: SerializationWarning: variable 'pr' has multiple fill values {1e+20, 1e+20}, decoding all values to NaN.\n",
      "  new_vars[k] = decode_cf_variable(\n",
      "/Users/brianpm/miniconda3/envs/py38/lib/python3.8/site-packages/xarray/conventions.py:490: SerializationWarning: variable 'sftlf' has multiple fill values {1e+20, 1e+20}, decoding all values to NaN.\n",
      "  new_vars[k] = decode_cf_variable(\n",
      "/Users/brianpm/miniconda3/envs/py38/lib/python3.8/site-packages/xarray/core/nanops.py:142: RuntimeWarning: Mean of empty slice\n",
      "  return np.nanmean(a, axis=axis, dtype=dtype)\n"
     ]
    },
    {
     "name": "stdout",
     "output_type": "stream",
     "text": [
      "working on cesm-amip-off\n"
     ]
    },
    {
     "name": "stderr",
     "output_type": "stream",
     "text": [
      "/Users/brianpm/miniconda3/envs/py38/lib/python3.8/site-packages/xarray/conventions.py:490: SerializationWarning: variable 'pr' has multiple fill values {1e+20, 1e+20}, decoding all values to NaN.\n",
      "  new_vars[k] = decode_cf_variable(\n",
      "/Users/brianpm/miniconda3/envs/py38/lib/python3.8/site-packages/xarray/conventions.py:490: SerializationWarning: variable 'sftlf' has multiple fill values {1e+20, 1e+20}, decoding all values to NaN.\n",
      "  new_vars[k] = decode_cf_variable(\n",
      "/Users/brianpm/miniconda3/envs/py38/lib/python3.8/site-packages/xarray/core/nanops.py:142: RuntimeWarning: Mean of empty slice\n",
      "  return np.nanmean(a, axis=axis, dtype=dtype)\n"
     ]
    },
    {
     "name": "stdout",
     "output_type": "stream",
     "text": [
      "working on cesm-amip-4k\n"
     ]
    },
    {
     "name": "stderr",
     "output_type": "stream",
     "text": [
      "/Users/brianpm/miniconda3/envs/py38/lib/python3.8/site-packages/xarray/conventions.py:490: SerializationWarning: variable 'pr' has multiple fill values {1e+20, 1e+20}, decoding all values to NaN.\n",
      "  new_vars[k] = decode_cf_variable(\n",
      "/Users/brianpm/miniconda3/envs/py38/lib/python3.8/site-packages/xarray/conventions.py:490: SerializationWarning: variable 'sftlf' has multiple fill values {1e+20, 1e+20}, decoding all values to NaN.\n",
      "  new_vars[k] = decode_cf_variable(\n",
      "/Users/brianpm/miniconda3/envs/py38/lib/python3.8/site-packages/xarray/core/nanops.py:142: RuntimeWarning: Mean of empty slice\n",
      "  return np.nanmean(a, axis=axis, dtype=dtype)\n"
     ]
    },
    {
     "name": "stdout",
     "output_type": "stream",
     "text": [
      "working on cesm-amip-4k-off\n"
     ]
    },
    {
     "name": "stderr",
     "output_type": "stream",
     "text": [
      "/Users/brianpm/miniconda3/envs/py38/lib/python3.8/site-packages/xarray/conventions.py:490: SerializationWarning: variable 'pr' has multiple fill values {1e+20, 1e+20}, decoding all values to NaN.\n",
      "  new_vars[k] = decode_cf_variable(\n",
      "/Users/brianpm/miniconda3/envs/py38/lib/python3.8/site-packages/xarray/conventions.py:490: SerializationWarning: variable 'sftlf' has multiple fill values {1e+20, 1e+20}, decoding all values to NaN.\n",
      "  new_vars[k] = decode_cf_variable(\n",
      "/Users/brianpm/miniconda3/envs/py38/lib/python3.8/site-packages/xarray/core/nanops.py:142: RuntimeWarning: Mean of empty slice\n",
      "  return np.nanmean(a, axis=axis, dtype=dtype)\n"
     ]
    },
    {
     "name": "stdout",
     "output_type": "stream",
     "text": [
      "working on cesm-aqua\n"
     ]
    },
    {
     "name": "stderr",
     "output_type": "stream",
     "text": [
      "/Users/brianpm/miniconda3/envs/py38/lib/python3.8/site-packages/xarray/conventions.py:490: SerializationWarning: variable 'pr' has multiple fill values {1e+20, 1e+20}, decoding all values to NaN.\n",
      "  new_vars[k] = decode_cf_variable(\n"
     ]
    },
    {
     "name": "stdout",
     "output_type": "stream",
     "text": [
      "working on cesm-aqua-off\n",
      "working on cesm-aqua-4k\n",
      "working on cesm-aqua-4k-off\n",
      "working on ipsl-amip\n"
     ]
    },
    {
     "name": "stderr",
     "output_type": "stream",
     "text": [
      "/Users/brianpm/miniconda3/envs/py38/lib/python3.8/site-packages/xarray/core/nanops.py:142: RuntimeWarning: Mean of empty slice\n",
      "  return np.nanmean(a, axis=axis, dtype=dtype)\n"
     ]
    },
    {
     "name": "stdout",
     "output_type": "stream",
     "text": [
      "working on ipsl-amip-off\n"
     ]
    },
    {
     "name": "stderr",
     "output_type": "stream",
     "text": [
      "/Users/brianpm/miniconda3/envs/py38/lib/python3.8/site-packages/xarray/core/nanops.py:142: RuntimeWarning: Mean of empty slice\n",
      "  return np.nanmean(a, axis=axis, dtype=dtype)\n"
     ]
    },
    {
     "name": "stdout",
     "output_type": "stream",
     "text": [
      "working on ipsl-amip-4k\n"
     ]
    },
    {
     "name": "stderr",
     "output_type": "stream",
     "text": [
      "/Users/brianpm/miniconda3/envs/py38/lib/python3.8/site-packages/xarray/core/nanops.py:142: RuntimeWarning: Mean of empty slice\n",
      "  return np.nanmean(a, axis=axis, dtype=dtype)\n"
     ]
    },
    {
     "name": "stdout",
     "output_type": "stream",
     "text": [
      "working on ipsl-amip-4k-off\n"
     ]
    },
    {
     "name": "stderr",
     "output_type": "stream",
     "text": [
      "/Users/brianpm/miniconda3/envs/py38/lib/python3.8/site-packages/xarray/core/nanops.py:142: RuntimeWarning: Mean of empty slice\n",
      "  return np.nanmean(a, axis=axis, dtype=dtype)\n"
     ]
    },
    {
     "name": "stdout",
     "output_type": "stream",
     "text": [
      "working on ipsl-aqua\n",
      "working on ipsl-aqua-off\n",
      "working on ipsl-aqua-4k\n",
      "working on ipsl-aqua-4k-off\n",
      "working on cnrm-amip\n"
     ]
    },
    {
     "name": "stderr",
     "output_type": "stream",
     "text": [
      "/Users/brianpm/miniconda3/envs/py38/lib/python3.8/site-packages/xarray/core/nanops.py:142: RuntimeWarning: Mean of empty slice\n",
      "  return np.nanmean(a, axis=axis, dtype=dtype)\n"
     ]
    },
    {
     "name": "stdout",
     "output_type": "stream",
     "text": [
      "working on cnrm-amip-off\n"
     ]
    },
    {
     "name": "stderr",
     "output_type": "stream",
     "text": [
      "/Users/brianpm/miniconda3/envs/py38/lib/python3.8/site-packages/xarray/core/nanops.py:142: RuntimeWarning: Mean of empty slice\n",
      "  return np.nanmean(a, axis=axis, dtype=dtype)\n"
     ]
    },
    {
     "name": "stdout",
     "output_type": "stream",
     "text": [
      "working on cnrm-amip-4k\n"
     ]
    },
    {
     "name": "stderr",
     "output_type": "stream",
     "text": [
      "/Users/brianpm/miniconda3/envs/py38/lib/python3.8/site-packages/xarray/core/nanops.py:142: RuntimeWarning: Mean of empty slice\n",
      "  return np.nanmean(a, axis=axis, dtype=dtype)\n"
     ]
    },
    {
     "name": "stdout",
     "output_type": "stream",
     "text": [
      "working on cnrm-amip-4k-off\n"
     ]
    },
    {
     "name": "stderr",
     "output_type": "stream",
     "text": [
      "/Users/brianpm/miniconda3/envs/py38/lib/python3.8/site-packages/xarray/core/nanops.py:142: RuntimeWarning: Mean of empty slice\n",
      "  return np.nanmean(a, axis=axis, dtype=dtype)\n"
     ]
    },
    {
     "name": "stdout",
     "output_type": "stream",
     "text": [
      "working on cnrm-aqua\n",
      "working on cnrm-aqua-off\n",
      "working on cnrm-aqua-4k\n",
      "working on cnrm-aqua-4k-off\n",
      "working on mri-amip\n"
     ]
    },
    {
     "name": "stderr",
     "output_type": "stream",
     "text": [
      "/Users/brianpm/miniconda3/envs/py38/lib/python3.8/site-packages/xarray/core/nanops.py:142: RuntimeWarning: Mean of empty slice\n",
      "  return np.nanmean(a, axis=axis, dtype=dtype)\n"
     ]
    },
    {
     "name": "stdout",
     "output_type": "stream",
     "text": [
      "working on mri-amip-off\n"
     ]
    },
    {
     "name": "stderr",
     "output_type": "stream",
     "text": [
      "/Users/brianpm/miniconda3/envs/py38/lib/python3.8/site-packages/xarray/core/nanops.py:142: RuntimeWarning: Mean of empty slice\n",
      "  return np.nanmean(a, axis=axis, dtype=dtype)\n"
     ]
    },
    {
     "name": "stdout",
     "output_type": "stream",
     "text": [
      "working on mri-amip-4k\n"
     ]
    },
    {
     "name": "stderr",
     "output_type": "stream",
     "text": [
      "/Users/brianpm/miniconda3/envs/py38/lib/python3.8/site-packages/xarray/core/nanops.py:142: RuntimeWarning: Mean of empty slice\n",
      "  return np.nanmean(a, axis=axis, dtype=dtype)\n"
     ]
    },
    {
     "name": "stdout",
     "output_type": "stream",
     "text": [
      "working on mri-amip-4k-off\n"
     ]
    },
    {
     "name": "stderr",
     "output_type": "stream",
     "text": [
      "/Users/brianpm/miniconda3/envs/py38/lib/python3.8/site-packages/xarray/core/nanops.py:142: RuntimeWarning: Mean of empty slice\n",
      "  return np.nanmean(a, axis=axis, dtype=dtype)\n"
     ]
    }
   ],
   "source": [
    "# for each simulation, I want to get:\n",
    "# - global mean precip\n",
    "# - global mean precip, ocean only\n",
    "# - tropical mean precip\n",
    "# - tropical mean precip, ocean only\n",
    "# - tropical UNWEIGHTED mean precip, ocean only\n",
    "# - 95th percentile of tropical ocean precip\n",
    "# - sum of tropical ocean precip with p >= p95\n",
    "# - sum of tropical ocean precip\n",
    "# Define a namedtuple:\n",
    "Result = namedtuple('Result', ['case', 'gavg', 'goavg', 'tavg', 'toavg', 'toavg_uw', 'p95', 'tsum', 'xsum'])\n",
    "\n",
    "\n",
    "def get_pr_info(dloc, model, experiment, member):\n",
    "    tropics = slice(-30,30)\n",
    "    pr = quick_load_var(data_loc, \"pr\", \"day\", model, experiment, member)\n",
    "    lat = pr['lat']\n",
    "    wgt = np.cos(np.radians(lat))\n",
    "    gavg = esmlab.weighted_mean(pr.mean(dim=('time','lon')), dim=[\"lat\"], weights=wgt).item()\n",
    "    tavg = esmlab.weighted_mean(pr.sel(lat=tropics).mean(dim=('time','lon')), dim=[\"lat\"], weights=wgt.sel(lat=tropics)).item()\n",
    "    if 'amip' in c:\n",
    "        land = quick_load_var(data_loc, \"sftlf\", \"fx\", model, experiment, member)\n",
    "        land_trop = land.sel(lat=tropics)\n",
    "        msk, _ = xr.broadcast(land, pr)\n",
    "        pr = pr.where(msk <= 0)\n",
    "        goavg = esmlab.weighted_mean(pr.mean(dim=('time','lon')), dim=[\"lat\"], weights=wgt).item()\n",
    "        toavg = esmlab.weighted_mean(pr.sel(lat=tropics).mean(dim=('time','lon')), dim=[\"lat\"], weights=wgt.sel(lat=tropics)).item()\n",
    "    else:\n",
    "        goavg = gavg\n",
    "        toavg = tavg\n",
    "    ptrop = pr.sel(lat=tropics)\n",
    "    toavg_uw = ptrop.mean().item()\n",
    "    p95 = np.nanquantile(ptrop.values.flatten(), 0.95)\n",
    "    tsum = np.nansum(ptrop.values.flatten())\n",
    "    xsum = np.nansum(ptrop.where(ptrop>=p95).values.flatten())\n",
    "    return Result(\"_\".join([model,experiment,member]), gavg, goavg, tavg, toavg, toavg_uw, p95, tsum, xsum)\n",
    "\n",
    "\n",
    "R = {}\n",
    "for c in sims:\n",
    "    print(f\"working on {c}\")\n",
    "    R[c] = get_pr_info(data_loc, *sims[c])"
   ]
  },
  {
   "cell_type": "code",
   "execution_count": 7,
   "metadata": {},
   "outputs": [],
   "source": [
    "def frac_diff(acase, bcase):\n",
    "    return (bcase - acase)/acase\n",
    "\n"
   ]
  },
  {
   "cell_type": "code",
   "execution_count": 82,
   "metadata": {},
   "outputs": [
    {
     "data": {
      "image/png": "[encoded data removed]",
      "text/plain": [
       "<Figure size 648x216 with 3 Axes>"
      ]
     },
     "metadata": {
      "needs_background": "light"
     },
     "output_type": "display_data"
    }
   ],
   "source": [
    "#\n",
    "# I want to make plot of fractional change in Extreme vs Mean for :\n",
    "# - warming (base-climate vs p4K)\n",
    "# - warming w/o LWCRE (lwoff vs p4K-lwoff)\n",
    "# - CRE in warmer climate (p4K vs p4K-lwoff)\n",
    "\n",
    "pairs1 = []\n",
    "pairs2 = []\n",
    "pairs3 = []\n",
    "for m in ('cesm', 'cnrm', 'ipsl', 'mri'):\n",
    "    for a in ('amip', 'aqua'):\n",
    "        if \"-\".join([m,a]) in R:\n",
    "            pairs1.append((\"-\".join([m,a]), \"-\".join([m,a,'4k'])))  # base vs p4K\n",
    "            pairs2.append((\"-\".join([m,a,'off']), \"-\".join([m,a,'4k-off'])))  # warming w/o LWCRE\n",
    "            pairs3.append((\"-\".join([m,a,'4k']), \"-\".join([m,a,'4k-off'])))  # CRE in warmer climate\n",
    "\n",
    "fig, ax = plt.subplots(figsize=(9,3), ncols=3, constrained_layout=True)\n",
    "\n",
    "for i, pairs in enumerate([pairs1, pairs2, pairs3]):\n",
    "    # now get the fractional change in extreme rain\n",
    "    # for each experiment and keep in a dict:\n",
    "    # the key should just be the 'experiment' name\n",
    "    delta_xfrac = {}\n",
    "    delta_mean = {}\n",
    "    for c in pairs:\n",
    "        k = c[1]\n",
    "        model = k.split('-')[0]\n",
    "        if (c[0] in R) and (c[1] in R):\n",
    "            xfrac0 = R[c[0]].xsum/R[c[0]].tsum\n",
    "            xfrac1 = R[c[1]].xsum/R[c[1]].tsum\n",
    "            delta_xfrac[k] = frac_diff(xfrac0, xfrac1)\n",
    "            delta_mean[k] = frac_diff(R[c[0]].toavg, R[c[1]].toavg)\n",
    "            if 'aqua' in k:\n",
    "                m = 'o'\n",
    "            else:\n",
    "                m = '^'\n",
    "            xval = delta_mean[k]\n",
    "            yval = delta_xfrac[k]\n",
    "            ax[i].plot(xval, yval, marker=m, color=model_colors[model], markersize=10)\n",
    "\n",
    "#     ax.plot([-1, 1], [-1, 1], linestyle=\":\", color='gray')\n",
    "[a.set_xlabel(\"\\u03b4 P\", loc='center', fontsize=18) for a in ax]\n",
    "[a.set_ylabel(\"\\u03b4 \\u03c6\", loc='center', fontsize=18) for a in ax]\n",
    "[a.spines['top'].set_visible(False) for a in ax]\n",
    "[a.spines['right'].set_visible(False) for a in ax]\n",
    "[a.set_ylim([-0.5, 0.11]) for a in ax]\n",
    "[a.set_xlim([-0.02, .2]) for a in ax]\n",
    "\n",
    "ax[0].set_title(\"SST+4K\")\n",
    "ax[1].set_title(\"SST+4K without LWCRE\")\n",
    "ax[2].set_title(\"LWoff in SST+4K\")\n",
    "\n",
    "legend_elements = [Line2D([0], [0], marker=\"None\", linestyle=\"None\", color=model_colors['cesm'], label='CESM2'),\n",
    "                   Line2D([0], [0], marker=\"None\", linestyle=\"None\", color=model_colors['cnrm'], label='CNRM'),\n",
    "                   Line2D([0], [0], marker=\"None\", linestyle=\"None\", color=model_colors['ipsl'], label='IPSL'),\n",
    "                   Line2D([0], [0], marker=\"None\", linestyle=\"None\", color=model_colors['mri'], label='MRI'),\n",
    "                   Line2D([0], [0], marker='^', color='gray', linestyle=\"None\", label='AMIP'),\n",
    "                   Line2D([0], [0], marker='o', color='gray', linestyle=\"None\", label='AQUA'),\n",
    "                  ]\n",
    "\n",
    "ax[0].legend(handles=legend_elements, loc='lower left', labelcolor='linecolor')\n",
    "\n",
    "fig.savefig(\"/Users/brianpm/Dropbox/Manuscripts/M_cre_pex/mean_versus_extreme_OtherExperiments.pdf\", bbox_inches='tight')"
   ]
  },
  {
   "cell_type": "code",
   "execution_count": 9,
   "metadata": {},
   "outputs": [
    {
     "name": "stdout",
     "output_type": "stream",
     "text": [
      "auto\n"
     ]
    },
    {
     "data": {
      "image/png": "[encoded data removed]",
      "text/plain": [
       "<Figure size 432x288 with 1 Axes>"
      ]
     },
     "metadata": {
      "needs_background": "light"
     },
     "output_type": "display_data"
    }
   ],
   "source": [
    "fig, ax = plt.subplots()\n",
    "\n",
    "\n",
    "for x in delta_xfrac:\n",
    "    model = x.split('-')[0]    \n",
    "    if 'aqua' in x:\n",
    "        m = 'o'\n",
    "    else:\n",
    "        m = '^'\n",
    "    if 'off' in x:\n",
    "        continue  # skip off -- just doing +4K\n",
    "    xval = delta_mean[x]\n",
    "    yval = delta_xfrac[x]\n",
    "    ax.plot(xval, yval, marker=m, color=model_colors[model], markersize=10)\n",
    "\n",
    "ax.set_xlabel(\"\\u03b4 P\", loc='center', fontsize=18)\n",
    "ax.set_ylabel(\"\\u03b4 \\u03c6\", loc='center', fontsize=18)\n",
    "ax.spines['top'].set_visible(False)\n",
    "ax.spines['right'].set_visible(False)\n",
    "ax.set_xlim([0, 0.2])\n",
    "ax.set_ylim([-0.1, 0.1])\n",
    "# ax.set_aspect('equal')\n",
    "print(ax.get_aspect())"
   ]
  },
  {
   "cell_type": "code",
   "execution_count": 12,
   "metadata": {},
   "outputs": [
    {
     "data": {
      "text/plain": [
       "Text(0.5, 1.0, 'Extreme Precipitation Fraction')"
      ]
     },
     "execution_count": 12,
     "metadata": {},
     "output_type": "execute_result"
    },
    {
     "data": {
      "image/png": "[encoded data removed]",
      "text/plain": [
       "<Figure size 432x288 with 1 Axes>"
      ]
     },
     "metadata": {
      "needs_background": "light"
     },
     "output_type": "display_data"
    }
   ],
   "source": [
    "xfrac = {}\n",
    "for s in R:\n",
    "    xfrac[s] = R[s].xsum/R[s].tsum\n",
    "\n",
    "fig, ax = plt.subplots()\n",
    "ax.bar(np.arange(1, len(xfrac)+1), xfrac.values())\n",
    "ax.set_xticks(np.arange(1, len(xfrac)+1))\n",
    "ax.set_xticklabels(list(xfrac.keys()), rotation=90)\n",
    "ax.spines['top'].set_visible(False)\n",
    "ax.spines['right'].set_visible(False)\n",
    "ax.set_title(\"Extreme Precipitation Fraction\")"
   ]
  },
  {
   "cell_type": "code",
   "execution_count": 13,
   "metadata": {},
   "outputs": [
    {
     "data": {
      "text/plain": [
       "Text(0.5, 1.0, '95th Percentile')"
      ]
     },
     "execution_count": 13,
     "metadata": {},
     "output_type": "execute_result"
    },
    {
     "data": {
      "image/png": "[encoded data removed]",
      "text/plain": [
       "<Figure size 432x288 with 1 Axes>"
      ]
     },
     "metadata": {
      "needs_background": "light"
     },
     "output_type": "display_data"
    }
   ],
   "source": [
    "fig, ax = plt.subplots()\n",
    "ax.bar(np.arange(1, len(R)+1), [R[r].p95 for r in R])\n",
    "ax.set_xticks(np.arange(1, len(R)+1))\n",
    "ax.set_xticklabels(list(R.keys()), rotation=90)\n",
    "ax.spines['top'].set_visible(False)\n",
    "ax.spines['right'].set_visible(False)\n",
    "ax.set_title(\"95th Percentile\")"
   ]
  },
  {
   "cell_type": "code",
   "execution_count": 61,
   "metadata": {},
   "outputs": [
    {
     "data": {
      "image/png": "[encoded data removed]",
      "text/plain": [
       "<Figure size 864x864 with 4 Axes>"
      ]
     },
     "metadata": {},
     "output_type": "display_data"
    }
   ],
   "source": [
    "with plt.style.context('ggplot'):\n",
    "    fig, ax = plt.subplots(figsize=(12,12), nrows=4, sharex=True, constrained_layout=True)\n",
    "    ax[0].bar(np.arange(1, len(R)+1), [R[r].goavg for r in R], width=0.4, alpha=1, label='all')\n",
    "    ax[0].bar(0.4+np.arange(1, len(R)+1), [R[r].gavg for r in R], width=0.4, alpha=1, label='ocn')\n",
    "    ax[0].set_xticks(0.2+np.arange(1, len(R)+1))\n",
    "    ax[0].set_xticklabels(list(R.keys()), rotation=90)\n",
    "    ax[0].spines['top'].set_visible(False)\n",
    "    ax[0].spines['right'].set_visible(False)\n",
    "    ax[0].set_title(\"Global Average Precipitation\")\n",
    "    ax[0].legend(loc='lower right')\n",
    "    \n",
    "    ax[1].bar(np.arange(1, len(R)+1), [R[r].toavg for r in R], width=0.4, alpha=1)\n",
    "    ax[1].bar(0.4+np.arange(1, len(R)+1), [R[r].tavg for r in R], width=0.4, alpha=1)\n",
    "    ax[1].set_xticks(0.2+np.arange(1, len(R)+1))\n",
    "    ax[1].set_xticklabels(list(R.keys()), rotation=90)\n",
    "    ax[1].spines['top'].set_visible(False)\n",
    "    ax[1].spines['right'].set_visible(False)\n",
    "    ax[1].set_title(\"Tropical Average Precipitation\")\n",
    "    \n",
    "    ax[2].bar(0.2+np.arange(1, len(R)+1), [R[r].p95 for r in R], width=0.4, alpha=1, color='darkgray')\n",
    "    ax[2].set_xticks(0.2+np.arange(1, len(R)+1))\n",
    "    ax[2].set_xticklabels(list(R.keys()), rotation=90)\n",
    "    ax[2].spines['top'].set_visible(False)\n",
    "    ax[2].spines['right'].set_visible(False)\n",
    "    ax[2].set_title(\"95th Percentile Precipitation\")\n",
    "    \n",
    "    ax[3].bar(0.2+np.arange(1, len(R)+1), [R[r].xsum/R[r].tsum for r in R], width=0.4, alpha=1, color='darkgray')\n",
    "    ax[3].set_xticks(0.2+np.arange(1, len(R)+1))\n",
    "    ax[3].set_xticklabels(list(R.keys()), rotation=90)\n",
    "    ax[3].spines['top'].set_visible(False)\n",
    "    ax[3].spines['right'].set_visible(False)\n",
    "    ax[3].set_title(\"Extreme Precipitation Fraction\")\n",
    "\n",
    "    fig.savefig('/Users/brianpm/Dropbox/Manuscripts/M_cre_pex/summary_bars_base_and_p4K_and_LWoff.pdf', bbox_inches='tight')"
   ]
  },
  {
   "cell_type": "code",
   "execution_count": 43,
   "metadata": {},
   "outputs": [
    {
     "data": {
      "text/plain": [
       "(29,)"
      ]
     },
     "execution_count": 43,
     "metadata": {},
     "output_type": "execute_result"
    }
   ],
   "source": [
    "(np.linspace(1, 2*(len(R))+1, len(R)+1)).shape"
   ]
  },
  {
   "cell_type": "code",
   "execution_count": 37,
   "metadata": {},
   "outputs": [
    {
     "data": {
      "text/plain": [
       "\u001b[0;31mSignature:\u001b[0m\n",
       "\u001b[0mnp\u001b[0m\u001b[0;34m.\u001b[0m\u001b[0mlinspace\u001b[0m\u001b[0;34m(\u001b[0m\u001b[0;34m\u001b[0m\n",
       "\u001b[0;34m\u001b[0m    \u001b[0mstart\u001b[0m\u001b[0;34m,\u001b[0m\u001b[0;34m\u001b[0m\n",
       "\u001b[0;34m\u001b[0m    \u001b[0mstop\u001b[0m\u001b[0;34m,\u001b[0m\u001b[0;34m\u001b[0m\n",
       "\u001b[0;34m\u001b[0m    \u001b[0mnum\u001b[0m\u001b[0;34m=\u001b[0m\u001b[0;36m50\u001b[0m\u001b[0;34m,\u001b[0m\u001b[0;34m\u001b[0m\n",
       "\u001b[0;34m\u001b[0m    \u001b[0mendpoint\u001b[0m\u001b[0;34m=\u001b[0m\u001b[0;32mTrue\u001b[0m\u001b[0;34m,\u001b[0m\u001b[0;34m\u001b[0m\n",
       "\u001b[0;34m\u001b[0m    \u001b[0mretstep\u001b[0m\u001b[0;34m=\u001b[0m\u001b[0;32mFalse\u001b[0m\u001b[0;34m,\u001b[0m\u001b[0;34m\u001b[0m\n",
       "\u001b[0;34m\u001b[0m    \u001b[0mdtype\u001b[0m\u001b[0;34m=\u001b[0m\u001b[0;32mNone\u001b[0m\u001b[0;34m,\u001b[0m\u001b[0;34m\u001b[0m\n",
       "\u001b[0;34m\u001b[0m    \u001b[0maxis\u001b[0m\u001b[0;34m=\u001b[0m\u001b[0;36m0\u001b[0m\u001b[0;34m,\u001b[0m\u001b[0;34m\u001b[0m\n",
       "\u001b[0;34m\u001b[0m\u001b[0;34m)\u001b[0m\u001b[0;34m\u001b[0m\u001b[0;34m\u001b[0m\u001b[0m\n",
       "\u001b[0;31mDocstring:\u001b[0m\n",
       "Return evenly spaced numbers over a specified interval.\n",
       "\n",
       "Returns `num` evenly spaced samples, calculated over the\n",
       "interval [`start`, `stop`].\n",
       "\n",
       "The endpoint of the interval can optionally be excluded.\n",
       "\n",
       ".. versionchanged:: 1.16.0\n",
       "    Non-scalar `start` and `stop` are now supported.\n",
       "\n",
       "Parameters\n",
       "----------\n",
       "start : array_like\n",
       "    The starting value of the sequence.\n",
       "stop : array_like\n",
       "    The end value of the sequence, unless `endpoint` is set to False.\n",
       "    In that case, the sequence consists of all but the last of ``num + 1``\n",
       "    evenly spaced samples, so that `stop` is excluded.  Note that the step\n",
       "    size changes when `endpoint` is False.\n",
       "num : int, optional\n",
       "    Number of samples to generate. Default is 50. Must be non-negative.\n",
       "endpoint : bool, optional\n",
       "    If True, `stop` is the last sample. Otherwise, it is not included.\n",
       "    Default is True.\n",
       "retstep : bool, optional\n",
       "    If True, return (`samples`, `step`), where `step` is the spacing\n",
       "    between samples.\n",
       "dtype : dtype, optional\n",
       "    The type of the output array.  If `dtype` is not given, infer the data\n",
       "    type from the other input arguments.\n",
       "\n",
       "    .. versionadded:: 1.9.0\n",
       "\n",
       "axis : int, optional\n",
       "    The axis in the result to store the samples.  Relevant only if start\n",
       "    or stop are array-like.  By default (0), the samples will be along a\n",
       "    new axis inserted at the beginning. Use -1 to get an axis at the end.\n",
       "\n",
       "    .. versionadded:: 1.16.0\n",
       "\n",
       "Returns\n",
       "-------\n",
       "samples : ndarray\n",
       "    There are `num` equally spaced samples in the closed interval\n",
       "    ``[start, stop]`` or the half-open interval ``[start, stop)``\n",
       "    (depending on whether `endpoint` is True or False).\n",
       "step : float, optional\n",
       "    Only returned if `retstep` is True\n",
       "\n",
       "    Size of spacing between samples.\n",
       "\n",
       "\n",
       "See Also\n",
       "--------\n",
       "arange : Similar to `linspace`, but uses a step size (instead of the\n",
       "         number of samples).\n",
       "geomspace : Similar to `linspace`, but with numbers spaced evenly on a log\n",
       "            scale (a geometric progression).\n",
       "logspace : Similar to `geomspace`, but with the end points specified as\n",
       "           logarithms.\n",
       "\n",
       "Examples\n",
       "--------\n",
       ">>> np.linspace(2.0, 3.0, num=5)\n",
       "array([2.  , 2.25, 2.5 , 2.75, 3.  ])\n",
       ">>> np.linspace(2.0, 3.0, num=5, endpoint=False)\n",
       "array([2. ,  2.2,  2.4,  2.6,  2.8])\n",
       ">>> np.linspace(2.0, 3.0, num=5, retstep=True)\n",
       "(array([2.  ,  2.25,  2.5 ,  2.75,  3.  ]), 0.25)\n",
       "\n",
       "Graphical illustration:\n",
       "\n",
       ">>> import matplotlib.pyplot as plt\n",
       ">>> N = 8\n",
       ">>> y = np.zeros(N)\n",
       ">>> x1 = np.linspace(0, 10, N, endpoint=True)\n",
       ">>> x2 = np.linspace(0, 10, N, endpoint=False)\n",
       ">>> plt.plot(x1, y, 'o')\n",
       "[<matplotlib.lines.Line2D object at 0x...>]\n",
       ">>> plt.plot(x2, y + 0.5, 'o')\n",
       "[<matplotlib.lines.Line2D object at 0x...>]\n",
       ">>> plt.ylim([-0.5, 1])\n",
       "(-0.5, 1)\n",
       ">>> plt.show()\n",
       "\u001b[0;31mFile:\u001b[0m      ~/miniconda3/envs/py38/lib/python3.8/site-packages/numpy/core/function_base.py\n",
       "\u001b[0;31mType:\u001b[0m      function\n"
      ]
     },
     "metadata": {},
     "output_type": "display_data"
    }
   ],
   "source": [
    "np.linspace?"
   ]
  },
  {
   "cell_type": "code",
   "execution_count": null,
   "metadata": {},
   "outputs": [],
   "source": []
  }
 ],
 "metadata": {
  "kernelspec": {
   "display_name": "Python 3",
   "language": "python",
   "name": "python3"
  },
  "language_info": {
   "codemirror_mode": {
    "name": "ipython",
    "version": 3
   },
   "file_extension": ".py",
   "mimetype": "text/x-python",
   "name": "python",
   "nbconvert_exporter": "python",
   "pygments_lexer": "ipython3",
   "version": "3.8.5"
  }
 },
 "nbformat": 4,
 "nbformat_minor": 4
}
