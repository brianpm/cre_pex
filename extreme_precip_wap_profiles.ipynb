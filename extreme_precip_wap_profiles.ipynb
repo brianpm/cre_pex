{
 "cells": [
  {
   "cell_type": "markdown",
   "metadata": {},
   "source": [
    "# Omega Profiles\n",
    "\n",
    "We plot the OMEGA profiles (`wap`) averaged over tropical ocean areas. \n",
    "\n",
    "- The overall mean is plotted.\n",
    "- The convective mean is plotted by selecting only points with OMEGA < 0.\n",
    "- Extreme precipitation points are plotted by selecting points where pr >= the 99th percentile.\n",
    "- Long-duration events are defined as events longer than 5 days as determined by our detection/tracking method.\n",
    "- Large events are defined as events with an average size of 12 gridpoints or more as determined by our detection/tracking method."
   ]
  },
  {
   "cell_type": "code",
   "execution_count": 106,
   "metadata": {},
   "outputs": [],
   "source": [
    "from pathlib import Path\n",
    "import xarray as xr\n",
    "import matplotlib.pyplot as plt\n",
    "import numpy as np\n",
    "import sys\n",
    "from pathlib import Path\n",
    "from importlib import import_module\n",
    "import esmlab\n",
    "\n",
    "to_import = \"/Users/brianpm/Code/yellowstone/py\"\n",
    "current_path = sys.path\n",
    "if to_import not in current_path:\n",
    "    sys.path.append(to_import)\n",
    "import extreme_precipitation_functions as prf  # get_duration_and_size(events)\n",
    "import cmip_file_utils as cmip  # quick_load_var(loc, var, table, model, experiment, member)"
   ]
  },
  {
   "cell_type": "code",
   "execution_count": 100,
   "metadata": {},
   "outputs": [],
   "source": [
    "# how to reload:\n",
    "from importlib import reload\n",
    "reload(sys.modules['cmip_file_utils'])\n",
    "import cmip_file_utils as cmip"
   ]
  },
  {
   "cell_type": "code",
   "execution_count": 107,
   "metadata": {},
   "outputs": [],
   "source": [
    "def get_tropics_quantiles(da, threshold=None, q=0.99):\n",
    "    da_tropics = da.sel(lat=slice(-30, 30))  # SHOULD BE ADJUSTABLE\n",
    "    da_tropics_val = np.nanquantile(da_tropics, q)\n",
    "    if threshold is not None:\n",
    "        da_climo = da.mean(dim=\"time\")\n",
    "        da_process = np.where(\n",
    "            (da_climo >= threshold).sel(lat=slice(-30, 30)).broadcast_like(da_tropics),\n",
    "            da_tropics,\n",
    "            np.nan,\n",
    "        )\n",
    "        da_threshold_val = np.nanquantile(da_process, q)\n",
    "        print(\n",
    "            f\"Compare the tropics region ({da_tropics_val}) to the rainy tropics ({da_threshold_val})\"\n",
    "        )\n",
    "        return da_threshold_val\n",
    "    else:\n",
    "        print(f\"Quantile value: {da_tropics_val}\")\n",
    "        return da_tropics_val"
   ]
  },
  {
   "cell_type": "code",
   "execution_count": 126,
   "metadata": {},
   "outputs": [],
   "source": [
    "def wap_profs(wap, pr, land):\n",
    "    assert 'lat' in wap.coords\n",
    "    weight = np.cos(np.radians(wap['lat']))\n",
    "    if land is not None:\n",
    "        wap_ocn = wap.where(land <= 0)\n",
    "        pr_ocn = pr.where(land <= 0)\n",
    "    else:\n",
    "        wap_ocn = wap\n",
    "        pr_ocn = pr\n",
    "    wap_mean = esmlab.weighted_mean(wap_ocn.mean(dim=('time','lon')), dim=['lat'], weights=weight)\n",
    "    wap_conv = esmlab.weighted_mean(wap_ocn.where(wap_ocn < 0).mean(dim=('time','lon')), dim=['lat'], weights=weight)\n",
    "    pr_crit = get_tropics_quantiles(pr_ocn, threshold=None, q=0.99)\n",
    "    wap_extreme = esmlab.weighted_mean(wap_ocn.where(pr_ocn >= pr_crit).mean(dim=('time','lon')), dim=['lat'], weights=weight)\n",
    "    return wap_mean, wap_conv, wap_extreme"
   ]
  },
  {
   "cell_type": "code",
   "execution_count": 158,
   "metadata": {},
   "outputs": [],
   "source": [
    "dloc = \"/Volumes/Glyph6TB/CMIP6\"\n",
    "# tup1 = (\"MRI-ESM2-0\", \"amip\", \"r1i1p1f1\")\n",
    "# tup2 = (\"MRI-ESM2-0\", \"amip-lwoff\", \"r1i1p1f1\")\n",
    "\n",
    "# tup1 = ('IPSL-CM6A-LR', 'amip', 'r1i1p1f1')\n",
    "# tup2 = ('IPSL-CM6A-LR', 'amip-lwoff', 'r1i1p1f1')\n",
    "tup1 = ('IPSL-CM6A-LR', 'aqua-control', 'r1i1p1f1')\n",
    "tup2 = ('IPSL-CM6A-LR', 'aqua-control-lwoff', 'r1i1p1f1')\n",
    "# tup1 = ('CNRM-CM6-1', 'amip', 'r1i1p1f2')\n",
    "# tup2 = ('CNRM-CM6-1', 'amip-lwoff', 'r1i1p1f2')\n",
    "# tup1 = ('CNRM-CM6-1', 'aqua-control', 'r1i1p1f2')\n",
    "# tup2 = ('CNRM-CM6-1', 'aqua-control-lwoff', 'r1i1p1f2')\n",
    "# tup1 = ('CESM2', 'amip', 'r1i1p1f1')\n",
    "# tup2 = ('CESM2', 'amip-lwoff', 'r1i1p1f1')\n",
    "# tup1 = ('CESM2', 'aqua-control', 'r1i1p1f1')\n",
    "# tup2 = ('CESM2', 'aqua-control-lwoff', 'r1i1p1f1')\n",
    "\n",
    "# load the events\n",
    "ev1 = xr.open_dataset(Path(dloc) / (\"pr_events_\"+\"_\".join(tup1)+\".nc\"))['precip_events']\n",
    "ev2 = xr.open_dataset(Path(dloc) / (\"pr_events_\"+\"_\".join(tup2)+\".nc\"))['precip_events']\n",
    "\n",
    "# What if we only consider events that are longer than 1-day\n",
    "dursiz1 = prf.get_duration_and_size(ev1)\n",
    "dursiz2 = prf.get_duration_and_size(ev2)"
   ]
  },
  {
   "cell_type": "code",
   "execution_count": 159,
   "metadata": {},
   "outputs": [
    {
     "name": "stdout",
     "output_type": "stream",
     "text": [
      "Quantile value: 0.00044758025964256433\n",
      "CPU times: user 14.7 s, sys: 2.74 s, total: 17.5 s\n",
      "Wall time: 23.1 s\n"
     ]
    }
   ],
   "source": [
    "%%time\n",
    "wap1 = cmip.quick_load_var(dloc, 'wap', 'day', *tup1, compute=False)\n",
    "wap1_trop = wap1.sel(lat=slice(-30,30)).compute()\n",
    "if 'aqua' not in tup1[1]:\n",
    "    land1 = cmip.quick_load_var(dloc, \"sftlf\", \"fx\", *tup1, compute=False)\n",
    "    land1_trop = land1.sel(lat=slice(-30,30)).compute()\n",
    "else:\n",
    "    land1 = None\n",
    "    land1_trop = None\n",
    "pr1 = cmip.quick_load_var(dloc, 'pr', 'day', *tup1, compute=False)\n",
    "pr1_trop = pr1.sel(lat=slice(-30,30)).compute()\n",
    "wap1_mean, wap1_conv, wap1_extr = wap_profs(wap1_trop, pr1_trop, land1_trop)"
   ]
  },
  {
   "cell_type": "code",
   "execution_count": 160,
   "metadata": {},
   "outputs": [
    {
     "name": "stdout",
     "output_type": "stream",
     "text": [
      "Quantile value: 0.0001830892966245307\n",
      "CPU times: user 14.3 s, sys: 2.3 s, total: 16.6 s\n",
      "Wall time: 22.4 s\n"
     ]
    }
   ],
   "source": [
    "%%time\n",
    "# now we do it for the second case\n",
    "wap2 = cmip.quick_load_var(dloc, 'wap', 'day', *tup2, compute=False)\n",
    "pr2 = cmip.quick_load_var(dloc, 'pr', 'day', *tup2)\n",
    "\n",
    "wap2_trop = wap2.sel(lat=slice(-30,30)).compute()\n",
    "pr2_trop = pr2.sel(lat=slice(-30,30)).compute()\n",
    "\n",
    "if 'aqua' not in tup2[1]:\n",
    "    land2 = cmip.quick_load_var(dloc, \"sftlf\", \"fx\", *tup2, compute=False)\n",
    "    land2_trop = land2.sel(lat=slice(-30,30)).compute()\n",
    "else:\n",
    "    land2 = None\n",
    "    land2_trop = None\n",
    "\n",
    "wap2_mean, wap2_conv, wap2_extr = wap_profs(wap2_trop, pr2_trop, land2_trop)"
   ]
  },
  {
   "cell_type": "code",
   "execution_count": 161,
   "metadata": {},
   "outputs": [],
   "source": [
    "duration_crit = 5  # critical value for duration\n",
    "evlong1 = dursiz1.where(dursiz1['duration'] > duration_crit).dropna()\n",
    "# evlong1 only has event labels for longer events.\n",
    "# now we have to go and get the precipitation within those events\n",
    "evmask1 = np.in1d(ev1, evlong1.index.values).reshape(ev1.shape)\n",
    "evmask1 = xr.DataArray(evmask1, dims=ev1.dims, coords=ev1.coords)\n",
    "pr1_long_events = pr1_trop.where(evmask1)\n",
    "# now what to do with them?\n",
    "# pr1_long_events  # DataArray same size as pr1_trop & ev1\n",
    "wap1_long_events = wap1_trop.where(evmask1)\n",
    "wap1_long_events_mean = esmlab.weighted_mean(wap1_long_events.mean(dim=('time','lon')), dim=[\"lat\"], weights=np.cos(np.radians(wap1_trop['lat'])))"
   ]
  },
  {
   "cell_type": "code",
   "execution_count": 162,
   "metadata": {},
   "outputs": [],
   "source": [
    "duration_crit = 5  # critical value for duration\n",
    "evlong2 = dursiz2.where(dursiz2['duration'] > duration_crit).dropna()\n",
    "# evlong1 only has event labels for longer events.\n",
    "# now we have to go and get the precipitation within those events\n",
    "evmask2 = np.in1d(ev2, evlong2.index.values).reshape(ev2.shape)\n",
    "evmask2 = xr.DataArray(evmask2, dims=ev2.dims, coords=ev2.coords)\n",
    "pr2_long_events = pr2_trop.where(evmask2)\n",
    "# now what to do with them?\n",
    "# pr1_long_events  # DataArray same size as pr1_trop & ev1\n",
    "wap2_long_events = wap2_trop.where(evmask2)\n",
    "wap2_long_events_mean = esmlab.weighted_mean(wap2_long_events.mean(dim=('time','lon')), dim=[\"lat\"], weights=np.cos(np.radians(wap2_trop['lat'])))"
   ]
  },
  {
   "cell_type": "code",
   "execution_count": 163,
   "metadata": {},
   "outputs": [],
   "source": [
    "size_crit = 12  # critical value for duration\n",
    "evhuge1 = dursiz1.where(dursiz1['AvgSiz'] > duration_crit).dropna()\n",
    "evmask1 = np.in1d(ev1, evhuge1.index.values).reshape(ev1.shape)\n",
    "evmask1 = xr.DataArray(evmask1, dims=ev1.dims, coords=ev1.coords)\n",
    "pr1_huge_events = pr1_trop.where(evmask1)\n",
    "wap1_huge_events = wap1_trop.where(evmask1)\n",
    "wap1_huge_events_mean = esmlab.weighted_mean(wap1_huge_events.mean(dim=('time','lon')), dim=[\"lat\"], weights=np.cos(np.radians(wap1_trop['lat'])))"
   ]
  },
  {
   "cell_type": "code",
   "execution_count": 164,
   "metadata": {},
   "outputs": [],
   "source": [
    "size_crit = 12  # critical value for duration\n",
    "evhuge2 = dursiz2.where(dursiz2['AvgSiz'] > duration_crit).dropna()\n",
    "evmask2 = np.in1d(ev2, evhuge2.index.values).reshape(ev2.shape)\n",
    "evmask2 = xr.DataArray(evmask2, dims=ev1.dims, coords=ev2.coords)\n",
    "pr2_huge_events = pr2_trop.where(evmask2)\n",
    "wap2_huge_events = wap2_trop.where(evmask2)\n",
    "wap2_huge_events_mean = esmlab.weighted_mean(wap2_huge_events.mean(dim=('time','lon')), dim=[\"lat\"], weights=np.cos(np.radians(wap2_trop['lat'])))"
   ]
  },
  {
   "cell_type": "code",
   "execution_count": 165,
   "metadata": {},
   "outputs": [
    {
     "data": {
      "image/png": "[encoded data removed]",
      "text/plain": [
       "<Figure size 432x288 with 1 Axes>"
      ]
     },
     "metadata": {
      "needs_background": "light"
     },
     "output_type": "display_data"
    }
   ],
   "source": [
    "fig, ax = plt.subplots()\n",
    "plev = wap1_trop['plev'] * 0.01 # always go back to orig to re-scale\n",
    "color0 = 'gray'\n",
    "color1 = 'black'\n",
    "color2 = 'C0'\n",
    "ax.plot(wap1_mean, plev, color=color0, label='mean')\n",
    "ax.plot(wap1_conv, plev, color=color1, label='convective')\n",
    "ax.plot(wap1_extr, plev, color=color2, label='P$_{\\mathrm{extreme}}$')\n",
    "ax.plot(wap1_long_events_mean, plev, color='magenta', label='Persistent')\n",
    "ax.plot(wap1_huge_events_mean, plev, color='red', label='Large')\n",
    "\n",
    "linsty = (0, (.25,2))\n",
    "ax.plot(wap2_mean, plev, color=color0, linestyle=linsty, dash_capstyle = \"round\")\n",
    "ax.plot(wap2_conv, plev, color=color1, linestyle=linsty, dash_capstyle = \"round\")\n",
    "ax.plot(wap2_extr, plev, color=color2, linestyle=linsty, dash_capstyle = \"round\")\n",
    "ax.plot(wap2_long_events_mean, plev, color='magenta', linestyle=linsty, dash_capstyle = \"round\")\n",
    "ax.plot(wap2_huge_events_mean, plev, color='red', linestyle=linsty, dash_capstyle = \"round\")\n",
    "\n",
    "\n",
    "ax.invert_yaxis()\n",
    "ax.set_ylabel(\"Pressure (hPa)\")\n",
    "ax.set_xlabel(\"Vertical Pressure Velocity (Pa s$^{-1}$)\")\n",
    "ax.spines['top'].set_visible(False)\n",
    "ax.spines['right'].set_visible(False)\n",
    "ax.set_title(f\"{tup1[0]}, {tup1[1]}\", loc='left')\n",
    "fig.legend(bbox_to_anchor=(0.9, .1), loc='lower left', frameon=False)\n",
    "figname = f\"/Users/brianpm/Dropbox/Manuscripts/M_cre_pex/wap_profiles_{tup1[0]}_{tup1[1]}_{tup2[1]}.pdf\"\n",
    "fig.savefig(figname, bbox_inches='tight')"
   ]
  },
  {
   "cell_type": "code",
   "execution_count": null,
   "metadata": {},
   "outputs": [],
   "source": []
  }
 ],
 "metadata": {
  "kernelspec": {
   "display_name": "Python 3",
   "language": "python",
   "name": "python3"
  },
  "language_info": {
   "codemirror_mode": {
    "name": "ipython",
    "version": 3
   },
   "file_extension": ".py",
   "mimetype": "text/x-python",
   "name": "python",
   "nbconvert_exporter": "python",
   "pygments_lexer": "ipython3",
   "version": "3.9.1"
  }
 },
 "nbformat": 4,
 "nbformat_minor": 4
}
