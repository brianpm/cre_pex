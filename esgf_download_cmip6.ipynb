{
 "cells": [
  {
   "cell_type": "code",
   "execution_count": 1,
   "metadata": {},
   "outputs": [],
   "source": [
    "import requests\n",
    "import xml.etree.ElementTree as ET\n",
    "import wget\n",
    "from pathlib import Path\n",
    "\n",
    "import urllib # urllib.request, urllib.request.urlretrieve"
   ]
  },
  {
   "cell_type": "code",
   "execution_count": 2,
   "metadata": {},
   "outputs": [],
   "source": [
    "# try to make downloads in parallel (especially would be useful because some servers are very slow)\n",
    "import multiprocessing\n",
    "from itertools import product\n",
    "# reference: [[https://stackoverflow.com/questions/5442910/python-multiprocessing-pool-map-for-multiple-arguments]]"
   ]
  },
  {
   "cell_type": "code",
   "execution_count": 3,
   "metadata": {},
   "outputs": [],
   "source": [
    "def esgf_search(server=\"https://esgf-node.llnl.gov/esg-search/search\",\n",
    "                files_type=\"OPENDAP\", local_node=True, project=\"CMIP6\",\n",
    "                verbose=False, format=\"application%2Fsolr%2Bjson\",\n",
    "                use_csrf=False, **search):\n",
    "    client = requests.session()\n",
    "    payload = search\n",
    "    payload[\"project\"] = project\n",
    "    payload[\"type\"]= \"File\"\n",
    "    if local_node:\n",
    "        payload[\"distrib\"] = \"false\"\n",
    "    if use_csrf:\n",
    "        client.get(server)\n",
    "        if 'csrftoken' in client.cookies:\n",
    "            # Django 1.6 and up\n",
    "            csrftoken = client.cookies['csrftoken']\n",
    "        else:\n",
    "            # older versions\n",
    "            csrftoken = client.cookies['csrf']\n",
    "        payload[\"csrfmiddlewaretoken\"] = csrftoken\n",
    "\n",
    "    payload[\"format\"] = format\n",
    "\n",
    "    offset = 0\n",
    "    numFound = 10000\n",
    "    all_files = []\n",
    "#     files_type = files_type.upper()\n",
    "    while offset < numFound:\n",
    "        payload[\"offset\"] = offset\n",
    "        url_keys = [] \n",
    "        for k in payload:\n",
    "            url_keys += [\"{}={}\".format(k, payload[k])]\n",
    "\n",
    "        url = \"{}/?{}\".format(server, \"&\".join(url_keys))\n",
    "#         print(url)\n",
    "        r = client.get(url)\n",
    "        r.raise_for_status()\n",
    "        resp = r.json()[\"response\"]\n",
    "        numFound = int(resp[\"numFound\"])\n",
    "        resp = resp[\"docs\"]\n",
    "        offset += len(resp)\n",
    "        for d in resp:\n",
    "            if verbose:\n",
    "                for k in d:\n",
    "                    print(\"{}: {}\".format(k,d[k]))\n",
    "            url = d[\"url\"]\n",
    "            for f in d[\"url\"]:\n",
    "                sp = f.split(\"|\")\n",
    "                if sp[-1] == files_type:\n",
    "                    all_files.append(sp[0].split(\".html\")[0])\n",
    "#                 else:\n",
    "#                     print(f\"other file type: {sp[-1]}\")\n",
    "    return sorted(all_files)\n",
    "\n",
    "# ORIGIN:\n",
    "# https://medium.com/pangeo/cmip6-in-the-cloud-five-ways-96b177abe396\n",
    "# https://nbviewer.jupyter.org/github/pangeo-data/pangeo-cmip6-examples/blob/master/search_and_load_with_esgf_opendap.ipynb\n",
    "# NOTES:\n",
    "# files_type: OPENDAP, HTTPServer, GridFTP, Globus\n",
    "\n",
    "# r.json has three keys: dict_keys(['responseHeader', 'response', 'facet_counts'])\n",
    "# responseHeader has some info about the search and response, but not really useful info for us.\n",
    "# facet_counts is a dict of dicts, but they are empty:\n",
    "#     {'facet_queries': {},\n",
    "#      'facet_fields': {},\n",
    "#      'facet_ranges': {},\n",
    "#      'facet_intervals': {},\n",
    "#      'facet_heatmaps': {}}\n",
    "# response is a dict with 4 keys: dict_keys(['numFound', 'start', 'maxScore', 'docs'])\n",
    "# start and maxScore don't seem to be useful, numFound and docs are both used here; numFOund is just the total number of results\n",
    "# docs has everything; it's a list; length 10 in my example\n",
    "# the entries of the list are dicts; each appears to be a search result hit\n",
    "# 52 entries in them\n"
   ]
  },
  {
   "cell_type": "code",
   "execution_count": 4,
   "metadata": {},
   "outputs": [],
   "source": [
    "def available_experiments(MODEL, server=\"https://esgf-node.llnl.gov/esg-search/search\",\n",
    "                files_type=\"OPENDAP\", local_node=True, project=\"CMIP6\",\n",
    "                verbose=False, format=\"application%2Fsolr%2Bjson\",\n",
    "                use_csrf=False, **search):\n",
    "    \"\"\"Returns a list of all experiments available for MODEL.\"\"\"\n",
    "    client = requests.session()\n",
    "    payload = search\n",
    "    payload[\"project\"] = project\n",
    "    payload[\"type\"]= \"File\"\n",
    "    if local_node:\n",
    "        payload[\"distrib\"] = \"false\"\n",
    "    if use_csrf:\n",
    "        client.get(server)\n",
    "        if 'csrftoken' in client.cookies:\n",
    "            # Django 1.6 and up\n",
    "            csrftoken = client.cookies['csrftoken']\n",
    "        else:\n",
    "            # older versions\n",
    "            csrftoken = client.cookies['csrf']\n",
    "        payload[\"csrfmiddlewaretoken\"] = csrftoken\n",
    "\n",
    "    payload[\"format\"] = format\n",
    "    # make this a facet search:\n",
    "    payload['source_id'] = MODEL\n",
    "    payload[\"facets\"] = \"experiment_id\"\n",
    "    payload[\"limit\"] = 0 # return no results\n",
    "    all_files = []\n",
    "    url_keys = [] \n",
    "    for k in payload:\n",
    "        url_keys += [\"{}={}\".format(k, payload[k])]\n",
    "\n",
    "    url = \"{}/?{}\".format(server, \"&\".join(url_keys))\n",
    "    r = client.get(url)\n",
    "    r.raise_for_status()\n",
    "    j = r.json()\n",
    "    resp = j[\"response\"]\n",
    "    numFound = int(resp[\"numFound\"])\n",
    "    experiments = j['facet_counts']['facet_fields']['experiment_id']\n",
    "    print(f\"Total found items: {numFound}\")\n",
    "    return list(zip(experiments[0:None:2], experiments[1:None:2]))\n"
   ]
  },
  {
   "cell_type": "code",
   "execution_count": 5,
   "metadata": {},
   "outputs": [],
   "source": [
    "def parse_result_urls(r):\n",
    "    \"\"\"Construct a list of filenames from URLs returned from esgf_search\"\"\"\n",
    "    names = [i.split(\"/\")[-1] for i in r]\n",
    "    # get URLs of each unique filename\n",
    "    ndx = [names.index(elem) for elem in set(names)]\n",
    "    return [r[n] for n in ndx]"
   ]
  },
  {
   "cell_type": "code",
   "execution_count": 6,
   "metadata": {},
   "outputs": [],
   "source": [
    "def wget_list(r, downloads=None):\n",
    "    \"\"\"Download list of URLs into location downloads.\n",
    "       Default location will be `~/Downloads`.\n",
    "    \"\"\"\n",
    "    if downloads is None:\n",
    "        dest = Path(\"~/Downloads\").expanduser()\n",
    "    else:\n",
    "        dest = Path(downloads)\n",
    "    for url in r:\n",
    "        name = url.split(\"/\")[-1]\n",
    "        print(f\"Downloading {name}\")\n",
    "        wget.download(url, str(dest/name))\n",
    "    print(\"Downloads finished.\")"
   ]
  },
  {
   "cell_type": "code",
   "execution_count": 7,
   "metadata": {},
   "outputs": [],
   "source": [
    "def get_multi(inlist, location):\n",
    "    with multiprocessing.Pool(processes=4) as pool:\n",
    "        results = pool.starmap(wget.download, product(inlist, location))"
   ]
  },
  {
   "cell_type": "code",
   "execution_count": 8,
   "metadata": {},
   "outputs": [],
   "source": [
    "def wget_needed(r, downloads=None, dry_run=False, parallel=False):\n",
    "    if downloads is None:\n",
    "        dest = Path(\"~/Downloads\").expanduser()\n",
    "    else:\n",
    "        dest = Path(downloads)\n",
    "    # this function will check whether we have the file:\n",
    "    urls = []\n",
    "    for url in r:\n",
    "        name = url.split(\"/\")[-1]\n",
    "        oname = dest/name\n",
    "        if not oname.is_file():\n",
    "            print(f\"Add {name} to download list.\")\n",
    "            urls.append(url)\n",
    "        else:\n",
    "            print(f\"File already present: {name} ----> Skipping.\")\n",
    "    # now try to get all the files:\n",
    "    if not dry_run:\n",
    "        if parallel:\n",
    "            get_multi(wget.download, product(urls, str(dest/name)))\n",
    "        else:\n",
    "            for u in urls:\n",
    "                print(f\"Going to download {u}\")\n",
    "                wget.download(u, downloads)\n",
    "    else:\n",
    "        print(\"dry run; no downloading\")\n",
    "\n",
    "    print(\"Downloading complete.\")"
   ]
  },
  {
   "cell_type": "code",
   "execution_count": 9,
   "metadata": {},
   "outputs": [],
   "source": [
    "def wget_needed_tryall(r, downloads=None):\n",
    "    \"\"\"Given list of URLs (r), download if the the file is not in specified location (downloads). \n",
    "    \n",
    "    When provided a list with multiple locations for the same file (different servers), will try in order. If a server doesn't provide the file, print a message and move to next URL.\n",
    "    \n",
    "    return: the list of downloaded file names.\n",
    "    \n",
    "    \n",
    "    notes\n",
    "    -----\n",
    "        Use the urllib package instead of wget in order to get the return code when URL retrieve fails.\n",
    "        (I think wget uses urllib anyway, so same result.)\n",
    "    \"\"\"\n",
    "    print(f\"We begin with a list of {len(r)} URLs.\")\n",
    "    if downloads is None:\n",
    "        dest = Path(\"~/Downloads\").expanduser()\n",
    "    else:\n",
    "        dest = Path(downloads)\n",
    "    # this function will check whether we have the file:\n",
    "    downloaded = []\n",
    "    failed = 0\n",
    "    for url in r:\n",
    "        name = url.split(\"/\")[-1]\n",
    "        oname = dest/name\n",
    "        if not oname.is_file():\n",
    "            try:\n",
    "                urllib.request.urlretrieve(url, oname)\n",
    "                downloaded.append(name)\n",
    "            except Exception as e:\n",
    "                print('\\tThe server couldn\\'t fulfill the request.')\n",
    "                print('\\tError code: ', e.code)\n",
    "                failed += 1\n",
    "#             try:\n",
    "#                 wget.download(u, downloads)\n",
    "#                 downloaded.append(url)\n",
    "#             except:\n",
    "#                 print(\"Something happened, moving to next URL.\")\n",
    "#                 continue\n",
    "        else:\n",
    "            print(f\"File already present: {name} ----> Skipping.\")\n",
    "    print(f\"Downloading complete. Was able to complete downloading for {len(downloaded)} files. Failed to retrieve {failed} URLs.\")\n",
    "    return downloaded"
   ]
  },
  {
   "cell_type": "code",
   "execution_count": 10,
   "metadata": {},
   "outputs": [],
   "source": [
    "def download_variable_from_experiment(experiment, variable, downloads=None, table_id=None, dry_run=False):\n",
    "    \"\"\"Specify experiment name and variable name,\n",
    "       download all of the files found.\n",
    "       Options: specify download directory, specify MIP table name.\"\"\"\n",
    "    opts = {'variable_id': variable, 'experiment_id': experiment, 'latest': True}\n",
    "    if table_id is not None:\n",
    "        opts['table_id']=table_id\n",
    "    results = esgf_search(local_node=False, files_type=\"HTTPServer\", **opts)\n",
    "    if len(results) > 0:\n",
    "        print(f\"NUMBER OF RESULTS: {len(results)}\")\n",
    "        url_list = parse_result_urls(results)\n",
    "        if dry_run:\n",
    "            print(\"LIST OF URLS: \")\n",
    "            print(url_list)\n",
    "        wget_needed(url_list, downloads=downloads, dry_run=dry_run)\n",
    "    else:\n",
    "        print(\"No search results were found.\")"
   ]
  },
  {
   "cell_type": "code",
   "execution_count": 42,
   "metadata": {},
   "outputs": [
    {
     "data": {
      "text/plain": [
       "['http://aims3.llnl.gov/thredds/fileServer/css03_data/CMIP6/CFMIP/CNRM-CERFACS/CNRM-CM6-1/amip-lwoff/r1i1p1f2/day/pr/gr/v20190711/pr_day_CNRM-CM6-1_amip-lwoff_r1i1p1f2_gr_19790101-20141231.nc',\n",
       " 'http://aims3.llnl.gov/thredds/fileServer/css03_data/CMIP6/CFMIP/IPSL/IPSL-CM6A-LR/amip-lwoff/r1i1p1f1/day/pr/gr/v20180928/pr_day_IPSL-CM6A-LR_amip-lwoff_r1i1p1f1_gr_19790101-20141231.nc',\n",
       " 'http://esgf-data.ucar.edu/thredds/fileServer/esg_dataroot/CMIP6/CFMIP/NCAR/CESM2/amip-lwoff/r1i1p1f1/day/pr/gn/v20200210/pr_day_CESM2_amip-lwoff_r1i1p1f1_gn_19790101-19881231.nc',\n",
       " 'http://esgf-data.ucar.edu/thredds/fileServer/esg_dataroot/CMIP6/CFMIP/NCAR/CESM2/amip-lwoff/r1i1p1f1/day/pr/gn/v20200210/pr_day_CESM2_amip-lwoff_r1i1p1f1_gn_19890101-19981231.nc',\n",
       " 'http://esgf-data.ucar.edu/thredds/fileServer/esg_dataroot/CMIP6/CFMIP/NCAR/CESM2/amip-lwoff/r1i1p1f1/day/pr/gn/v20200210/pr_day_CESM2_amip-lwoff_r1i1p1f1_gn_19990101-20081231.nc',\n",
       " 'http://esgf-data.ucar.edu/thredds/fileServer/esg_dataroot/CMIP6/CFMIP/NCAR/CESM2/amip-lwoff/r1i1p1f1/day/pr/gn/v20200210/pr_day_CESM2_amip-lwoff_r1i1p1f1_gn_20090101-20150101.nc',\n",
       " 'http://esgf-data1.llnl.gov/thredds/fileServer/css03_data/CMIP6/CFMIP/MRI/MRI-ESM2-0/amip-lwoff/r1i1p1f1/day/pr/gn/v20190927/pr_day_MRI-ESM2-0_amip-lwoff_r1i1p1f1_gn_19790101-20141231.nc',\n",
       " 'http://esgf-data1.llnl.gov/thredds/fileServer/css03_data/CMIP6/CFMIP/NCAR/CESM2/amip-lwoff/r1i1p1f1/day/pr/gn/v20200210/pr_day_CESM2_amip-lwoff_r1i1p1f1_gn_19790101-19881231.nc',\n",
       " 'http://esgf-data1.llnl.gov/thredds/fileServer/css03_data/CMIP6/CFMIP/NCAR/CESM2/amip-lwoff/r1i1p1f1/day/pr/gn/v20200210/pr_day_CESM2_amip-lwoff_r1i1p1f1_gn_19890101-19981231.nc',\n",
       " 'http://esgf-data1.llnl.gov/thredds/fileServer/css03_data/CMIP6/CFMIP/NCAR/CESM2/amip-lwoff/r1i1p1f1/day/pr/gn/v20200210/pr_day_CESM2_amip-lwoff_r1i1p1f1_gn_19990101-20081231.nc',\n",
       " 'http://esgf-data1.llnl.gov/thredds/fileServer/css03_data/CMIP6/CFMIP/NCAR/CESM2/amip-lwoff/r1i1p1f1/day/pr/gn/v20200210/pr_day_CESM2_amip-lwoff_r1i1p1f1_gn_20090101-20150101.nc',\n",
       " 'http://esgf-data2.diasjp.net/thredds/fileServer/esg_dataroot/CMIP6/CFMIP/MRI/MRI-ESM2-0/amip-lwoff/r1i1p1f1/day/pr/gn/v20190927/pr_day_MRI-ESM2-0_amip-lwoff_r1i1p1f1_gn_19790101-20141231.nc',\n",
       " 'https://esgf-data1.llnl.gov/thredds/fileServer/css03_data/CMIP6/CFMIP/MOHC/HadGEM3-GC31-LL/amip-lwoff/r5i1p1f2/day/pr/gn/v20200825/pr_day_HadGEM3-GC31-LL_amip-lwoff_r5i1p1f2_gn_19790101-20141230.nc']"
      ]
     },
     "execution_count": 42,
     "metadata": {},
     "output_type": "execute_result"
    }
   ],
   "source": [
    "esgf_search(server=\"https://esgf-node.llnl.gov/esg-search/search\",\n",
    "                files_type=\"HTTPServer\", local_node=False, project=\"CMIP6\",\n",
    "                verbose=False, format=\"application%2Fsolr%2Bjson\",\n",
    "                use_csrf=False, variable_id='pr', experiment_id='amip-lwoff', table_id='day')"
   ]
  },
  {
   "cell_type": "code",
   "execution_count": 11,
   "metadata": {},
   "outputs": [],
   "source": [
    "# download_variable_from_experiment(\"aqua-control\", \"wap\", downloads=\"/Volumes/Glyph6TB/CMIP6\", table_id=\"day\")"
   ]
  },
  {
   "cell_type": "code",
   "execution_count": 11,
   "metadata": {},
   "outputs": [
    {
     "name": "stdout",
     "output_type": "stream",
     "text": [
      "['http://aims3.llnl.gov/thredds/fileServer/css03_data/CMIP6/CMIP/MOHC/HadGEM3-GC31-LL/amip/r1i1p1f3/Amon/ta/gn/v20190617/ta_Amon_HadGEM3-GC31-LL_amip_r1i1p1f3_gn_197901-201412.nc', 'http://esgf-data3.ceda.ac.uk/thredds/fileServer/esg_cmip6/CMIP6/CMIP/MOHC/HadGEM3-GC31-LL/amip/r1i1p1f3/Amon/ta/gn/v20190617/ta_Amon_HadGEM3-GC31-LL_amip_r1i1p1f3_gn_197901-201412.nc', 'http://esgf-data3.diasjp.net/thredds/fileServer/esg_dataroot/CMIP6/CMIP/MOHC/HadGEM3-GC31-LL/amip/r1i1p1f3/Amon/ta/gn/v20190617/ta_Amon_HadGEM3-GC31-LL_amip_r1i1p1f3_gn_197901-201412.nc', 'http://esgf3.dkrz.de/thredds/fileServer/cmip6/CMIP/MOHC/HadGEM3-GC31-LL/amip/r1i1p1f3/Amon/ta/gn/v20190617/ta_Amon_HadGEM3-GC31-LL_amip_r1i1p1f3_gn_197901-201412.nc']\n",
      "Start trying to download for HadGEM3-GC31-LL, r1i1p1f3, amip ... Found 4 URLs to try.\n",
      "NUMBER OF RESULTS: 4\n",
      "We begin with a list of 4 URLs.\n",
      "File already present: ta_Amon_HadGEM3-GC31-LL_amip_r1i1p1f3_gn_197901-201412.nc ----> Skipping.\n",
      "File already present: ta_Amon_HadGEM3-GC31-LL_amip_r1i1p1f3_gn_197901-201412.nc ----> Skipping.\n",
      "File already present: ta_Amon_HadGEM3-GC31-LL_amip_r1i1p1f3_gn_197901-201412.nc ----> Skipping.\n",
      "Downloading complete. Was able to complete downloading for 1 files. Failed to retrieve 0 URLs.\n",
      "[]\n",
      "Start trying to download for HadGEM3-GC31-LL, r1i1p1f3, amip-lwoff ... Found 0 URLs to try.\n",
      "No search results were found.\n",
      "['http://esgf-data3.ceda.ac.uk/thredds/fileServer/esg_cmip6/CMIP6/CFMIP/MOHC/HadGEM3-GC31-LL/aqua-control/r1i1p1f3/Amon/ta/gn/v20200811/ta_Amon_HadGEM3-GC31-LL_aqua-control_r1i1p1f3_gn_197901-198812.nc', 'http://esgf-data3.diasjp.net/thredds/fileServer/esg_dataroot/CMIP6/CFMIP/MOHC/HadGEM3-GC31-LL/aqua-control/r1i1p1f3/Amon/ta/gn/v20200811/ta_Amon_HadGEM3-GC31-LL_aqua-control_r1i1p1f3_gn_197901-198812.nc']\n",
      "Start trying to download for HadGEM3-GC31-LL, r1i1p1f3, aqua-control ... Found 2 URLs to try.\n",
      "NUMBER OF RESULTS: 2\n",
      "We begin with a list of 2 URLs.\n",
      "File already present: ta_Amon_HadGEM3-GC31-LL_aqua-control_r1i1p1f3_gn_197901-198812.nc ----> Skipping.\n",
      "Downloading complete. Was able to complete downloading for 1 files. Failed to retrieve 0 URLs.\n",
      "['http://esgf-data3.ceda.ac.uk/thredds/fileServer/esg_cmip6/CMIP6/CFMIP/MOHC/HadGEM3-GC31-LL/aqua-control-lwoff/r1i1p1f3/Amon/ta/gn/v20200825/ta_Amon_HadGEM3-GC31-LL_aqua-control-lwoff_r1i1p1f3_gn_197901-198812.nc', 'http://esgf-data3.diasjp.net/thredds/fileServer/esg_dataroot/CMIP6/CFMIP/MOHC/HadGEM3-GC31-LL/aqua-control-lwoff/r1i1p1f3/Amon/ta/gn/v20200825/ta_Amon_HadGEM3-GC31-LL_aqua-control-lwoff_r1i1p1f3_gn_197901-198812.nc', 'https://esgf-data1.llnl.gov/thredds/fileServer/css03_data/CMIP6/CFMIP/MOHC/HadGEM3-GC31-LL/aqua-control-lwoff/r1i1p1f3/Amon/ta/gn/v20200825/ta_Amon_HadGEM3-GC31-LL_aqua-control-lwoff_r1i1p1f3_gn_197901-198812.nc']\n",
      "Start trying to download for HadGEM3-GC31-LL, r1i1p1f3, aqua-control-lwoff ... Found 3 URLs to try.\n",
      "NUMBER OF RESULTS: 3\n",
      "We begin with a list of 3 URLs.\n",
      "File already present: ta_Amon_HadGEM3-GC31-LL_aqua-control-lwoff_r1i1p1f3_gn_197901-198812.nc ----> Skipping.\n",
      "File already present: ta_Amon_HadGEM3-GC31-LL_aqua-control-lwoff_r1i1p1f3_gn_197901-198812.nc ----> Skipping.\n",
      "Downloading complete. Was able to complete downloading for 1 files. Failed to retrieve 0 URLs.\n",
      "['http://esgf-data3.ceda.ac.uk/thredds/fileServer/esg_cmip6/CMIP6/CFMIP/MOHC/HadGEM3-GC31-LL/aqua-4xCO2/r1i1p1f3/Amon/ta/gn/v20200825/ta_Amon_HadGEM3-GC31-LL_aqua-4xCO2_r1i1p1f3_gn_197901-198812.nc', 'http://esgf-data3.diasjp.net/thredds/fileServer/esg_dataroot/CMIP6/CFMIP/MOHC/HadGEM3-GC31-LL/aqua-4xCO2/r1i1p1f3/Amon/ta/gn/v20200825/ta_Amon_HadGEM3-GC31-LL_aqua-4xCO2_r1i1p1f3_gn_197901-198812.nc', 'https://esgf-data1.llnl.gov/thredds/fileServer/css03_data/CMIP6/CFMIP/MOHC/HadGEM3-GC31-LL/aqua-4xCO2/r1i1p1f3/Amon/ta/gn/v20200825/ta_Amon_HadGEM3-GC31-LL_aqua-4xCO2_r1i1p1f3_gn_197901-198812.nc']\n",
      "Start trying to download for HadGEM3-GC31-LL, r1i1p1f3, aqua-4xCO2 ... Found 3 URLs to try.\n",
      "NUMBER OF RESULTS: 3\n",
      "We begin with a list of 3 URLs.\n",
      "File already present: ta_Amon_HadGEM3-GC31-LL_aqua-4xCO2_r1i1p1f3_gn_197901-198812.nc ----> Skipping.\n",
      "File already present: ta_Amon_HadGEM3-GC31-LL_aqua-4xCO2_r1i1p1f3_gn_197901-198812.nc ----> Skipping.\n",
      "Downloading complete. Was able to complete downloading for 1 files. Failed to retrieve 0 URLs.\n",
      "[]\n",
      "Start trying to download for HadGEM3-GC31-LL, r1i1p1f3, amip-4xCO2 ... Found 0 URLs to try.\n",
      "No search results were found.\n",
      "[]\n",
      "Start trying to download for HadGEM3-GC31-LL, r5i1p1f2, amip ... Found 0 URLs to try.\n",
      "No search results were found.\n",
      "['http://esgf-data3.ceda.ac.uk/thredds/fileServer/esg_cmip6/CMIP6/CFMIP/MOHC/HadGEM3-GC31-LL/amip-lwoff/r5i1p1f2/Amon/ta/gn/v20200825/ta_Amon_HadGEM3-GC31-LL_amip-lwoff_r5i1p1f2_gn_197901-201412.nc', 'https://esgf-data1.llnl.gov/thredds/fileServer/css03_data/CMIP6/CFMIP/MOHC/HadGEM3-GC31-LL/amip-lwoff/r5i1p1f2/Amon/ta/gn/v20200825/ta_Amon_HadGEM3-GC31-LL_amip-lwoff_r5i1p1f2_gn_197901-201412.nc']\n",
      "Start trying to download for HadGEM3-GC31-LL, r5i1p1f2, amip-lwoff ... Found 2 URLs to try.\n",
      "NUMBER OF RESULTS: 2\n",
      "We begin with a list of 2 URLs.\n",
      "File already present: ta_Amon_HadGEM3-GC31-LL_amip-lwoff_r5i1p1f2_gn_197901-201412.nc ----> Skipping.\n",
      "Downloading complete. Was able to complete downloading for 1 files. Failed to retrieve 0 URLs.\n",
      "[]\n",
      "Start trying to download for HadGEM3-GC31-LL, r5i1p1f2, aqua-control ... Found 0 URLs to try.\n",
      "No search results were found.\n",
      "[]\n",
      "Start trying to download for HadGEM3-GC31-LL, r5i1p1f2, aqua-control-lwoff ... Found 0 URLs to try.\n",
      "No search results were found.\n",
      "[]\n",
      "Start trying to download for HadGEM3-GC31-LL, r5i1p1f2, aqua-4xCO2 ... Found 0 URLs to try.\n",
      "No search results were found.\n",
      "[]\n",
      "Start trying to download for HadGEM3-GC31-LL, r5i1p1f2, amip-4xCO2 ... Found 0 URLs to try.\n",
      "No search results were found.\n",
      "['http://aims3.llnl.gov/thredds/fileServer/css03_data/CMIP6/CMIP/MRI/MRI-ESM2-0/amip/r1i1p1f1/Amon/ta/gn/v20190308/ta_Amon_MRI-ESM2-0_amip_r1i1p1f1_gn_197901-201412.nc', 'http://esgf-data2.diasjp.net/thredds/fileServer/esg_dataroot/CMIP6/CMIP/MRI/MRI-ESM2-0/amip/r1i1p1f1/Amon/ta/gn/v20190308/ta_Amon_MRI-ESM2-0_amip_r1i1p1f1_gn_197901-201412.nc', 'http://esgf-data3.ceda.ac.uk/thredds/fileServer/esg_cmip6/CMIP6/CMIP/MRI/MRI-ESM2-0/amip/r1i1p1f1/Amon/ta/gn/v20190308/ta_Amon_MRI-ESM2-0_amip_r1i1p1f1_gn_197901-201412.nc', 'http://esgf3.dkrz.de/thredds/fileServer/cmip6/CMIP/MRI/MRI-ESM2-0/amip/r1i1p1f1/Amon/ta/gn/v20190308/ta_Amon_MRI-ESM2-0_amip_r1i1p1f1_gn_197901-201412.nc']\n",
      "Start trying to download for MRI-ESM2-0, r1i1p1f1, amip ... Found 4 URLs to try.\n",
      "NUMBER OF RESULTS: 4\n",
      "We begin with a list of 4 URLs.\n",
      "File already present: ta_Amon_MRI-ESM2-0_amip_r1i1p1f1_gn_197901-201412.nc ----> Skipping.\n",
      "File already present: ta_Amon_MRI-ESM2-0_amip_r1i1p1f1_gn_197901-201412.nc ----> Skipping.\n",
      "File already present: ta_Amon_MRI-ESM2-0_amip_r1i1p1f1_gn_197901-201412.nc ----> Skipping.\n",
      "Downloading complete. Was able to complete downloading for 1 files. Failed to retrieve 0 URLs.\n",
      "['http://esgf-data1.llnl.gov/thredds/fileServer/css03_data/CMIP6/CFMIP/MRI/MRI-ESM2-0/amip-lwoff/r1i1p1f1/Amon/ta/gn/v20190927/ta_Amon_MRI-ESM2-0_amip-lwoff_r1i1p1f1_gn_197901-201412.nc', 'http://esgf-data2.diasjp.net/thredds/fileServer/esg_dataroot/CMIP6/CFMIP/MRI/MRI-ESM2-0/amip-lwoff/r1i1p1f1/Amon/ta/gn/v20190927/ta_Amon_MRI-ESM2-0_amip-lwoff_r1i1p1f1_gn_197901-201412.nc', 'http://esgf3.dkrz.de/thredds/fileServer/cmip6/CFMIP/MRI/MRI-ESM2-0/amip-lwoff/r1i1p1f1/Amon/ta/gn/v20190927/ta_Amon_MRI-ESM2-0_amip-lwoff_r1i1p1f1_gn_197901-201412.nc']\n",
      "Start trying to download for MRI-ESM2-0, r1i1p1f1, amip-lwoff ... Found 3 URLs to try.\n",
      "NUMBER OF RESULTS: 3\n",
      "We begin with a list of 3 URLs.\n",
      "File already present: ta_Amon_MRI-ESM2-0_amip-lwoff_r1i1p1f1_gn_197901-201412.nc ----> Skipping.\n",
      "File already present: ta_Amon_MRI-ESM2-0_amip-lwoff_r1i1p1f1_gn_197901-201412.nc ----> Skipping.\n",
      "Downloading complete. Was able to complete downloading for 1 files. Failed to retrieve 0 URLs.\n",
      "[]\n",
      "Start trying to download for MRI-ESM2-0, r1i1p1f1, aqua-control ... Found 0 URLs to try.\n",
      "No search results were found.\n",
      "[]\n",
      "Start trying to download for MRI-ESM2-0, r1i1p1f1, aqua-control-lwoff ... Found 0 URLs to try.\n",
      "No search results were found.\n",
      "[]\n",
      "Start trying to download for MRI-ESM2-0, r1i1p1f1, aqua-4xCO2 ... Found 0 URLs to try.\n",
      "No search results were found.\n",
      "['http://aims3.llnl.gov/thredds/fileServer/css03_data/CMIP6/CFMIP/MRI/MRI-ESM2-0/amip-4xCO2/r1i1p1f1/Amon/ta/gn/v20190625/ta_Amon_MRI-ESM2-0_amip-4xCO2_r1i1p1f1_gn_197901-201412.nc', 'http://esgf-data2.diasjp.net/thredds/fileServer/esg_dataroot/CMIP6/CFMIP/MRI/MRI-ESM2-0/amip-4xCO2/r1i1p1f1/Amon/ta/gn/v20190625/ta_Amon_MRI-ESM2-0_amip-4xCO2_r1i1p1f1_gn_197901-201412.nc', 'http://esgf-data3.ceda.ac.uk/thredds/fileServer/esg_cmip6/CMIP6/CFMIP/MRI/MRI-ESM2-0/amip-4xCO2/r1i1p1f1/Amon/ta/gn/v20190625/ta_Amon_MRI-ESM2-0_amip-4xCO2_r1i1p1f1_gn_197901-201412.nc', 'http://esgf3.dkrz.de/thredds/fileServer/cmip6/CFMIP/MRI/MRI-ESM2-0/amip-4xCO2/r1i1p1f1/Amon/ta/gn/v20190625/ta_Amon_MRI-ESM2-0_amip-4xCO2_r1i1p1f1_gn_197901-201412.nc']\n",
      "Start trying to download for MRI-ESM2-0, r1i1p1f1, amip-4xCO2 ... Found 4 URLs to try.\n",
      "NUMBER OF RESULTS: 4\n",
      "We begin with a list of 4 URLs.\n",
      "File already present: ta_Amon_MRI-ESM2-0_amip-4xCO2_r1i1p1f1_gn_197901-201412.nc ----> Skipping.\n",
      "File already present: ta_Amon_MRI-ESM2-0_amip-4xCO2_r1i1p1f1_gn_197901-201412.nc ----> Skipping.\n",
      "File already present: ta_Amon_MRI-ESM2-0_amip-4xCO2_r1i1p1f1_gn_197901-201412.nc ----> Skipping.\n",
      "Downloading complete. Was able to complete downloading for 1 files. Failed to retrieve 0 URLs.\n",
      "['http://aims3.llnl.gov/thredds/fileServer/css03_data/CMIP6/CMIP/CNRM-CERFACS/CNRM-CM6-1/amip/r1i1p1f2/Amon/ta/gr/v20181203/ta_Amon_CNRM-CM6-1_amip_r1i1p1f2_gr_197901-201412.nc', 'http://esg1.umr-cnrm.fr/thredds/fileServer/CMIP6_CNRM/CMIP/CNRM-CERFACS/CNRM-CM6-1/amip/r1i1p1f2/Amon/ta/gr/v20181203/ta_Amon_CNRM-CM6-1_amip_r1i1p1f2_gr_197901-201412.nc', 'http://esgf-data3.ceda.ac.uk/thredds/fileServer/esg_cmip6/CMIP6/CMIP/CNRM-CERFACS/CNRM-CM6-1/amip/r1i1p1f2/Amon/ta/gr/v20181203/ta_Amon_CNRM-CM6-1_amip_r1i1p1f2_gr_197901-201412.nc', 'http://esgf-data3.diasjp.net/thredds/fileServer/esg_dataroot/CMIP6/CMIP/CNRM-CERFACS/CNRM-CM6-1/amip/r1i1p1f2/Amon/ta/gr/v20181203/ta_Amon_CNRM-CM6-1_amip_r1i1p1f2_gr_197901-201412.nc', 'http://esgf3.dkrz.de/thredds/fileServer/cmip6/CMIP/CNRM-CERFACS/CNRM-CM6-1/amip/r1i1p1f2/Amon/ta/gr/v20181203/ta_Amon_CNRM-CM6-1_amip_r1i1p1f2_gr_197901-201412.nc']\n",
      "Start trying to download for CNRM-CM6-1, r1i1p1f2, amip ... Found 5 URLs to try.\n",
      "NUMBER OF RESULTS: 5\n",
      "We begin with a list of 5 URLs.\n",
      "File already present: ta_Amon_CNRM-CM6-1_amip_r1i1p1f2_gr_197901-201412.nc ----> Skipping.\n",
      "File already present: ta_Amon_CNRM-CM6-1_amip_r1i1p1f2_gr_197901-201412.nc ----> Skipping.\n",
      "File already present: ta_Amon_CNRM-CM6-1_amip_r1i1p1f2_gr_197901-201412.nc ----> Skipping.\n",
      "File already present: ta_Amon_CNRM-CM6-1_amip_r1i1p1f2_gr_197901-201412.nc ----> Skipping.\n",
      "Downloading complete. Was able to complete downloading for 1 files. Failed to retrieve 0 URLs.\n",
      "['http://aims3.llnl.gov/thredds/fileServer/css03_data/CMIP6/CFMIP/CNRM-CERFACS/CNRM-CM6-1/amip-lwoff/r1i1p1f2/Amon/ta/gr/v20190711/ta_Amon_CNRM-CM6-1_amip-lwoff_r1i1p1f2_gr_197901-201412.nc', 'http://esg1.umr-cnrm.fr/thredds/fileServer/CMIP6_CNRM/CFMIP/CNRM-CERFACS/CNRM-CM6-1/amip-lwoff/r1i1p1f2/Amon/ta/gr/v20190711/ta_Amon_CNRM-CM6-1_amip-lwoff_r1i1p1f2_gr_197901-201412.nc', 'http://esgf-data3.diasjp.net/thredds/fileServer/esg_dataroot/CMIP6/CFMIP/CNRM-CERFACS/CNRM-CM6-1/amip-lwoff/r1i1p1f2/Amon/ta/gr/v20190711/ta_Amon_CNRM-CM6-1_amip-lwoff_r1i1p1f2_gr_197901-201412.nc', 'http://esgf3.dkrz.de/thredds/fileServer/cmip6/CFMIP/CNRM-CERFACS/CNRM-CM6-1/amip-lwoff/r1i1p1f2/Amon/ta/gr/v20190711/ta_Amon_CNRM-CM6-1_amip-lwoff_r1i1p1f2_gr_197901-201412.nc']\n",
      "Start trying to download for CNRM-CM6-1, r1i1p1f2, amip-lwoff ... Found 4 URLs to try.\n",
      "NUMBER OF RESULTS: 4\n",
      "We begin with a list of 4 URLs.\n",
      "File already present: ta_Amon_CNRM-CM6-1_amip-lwoff_r1i1p1f2_gr_197901-201412.nc ----> Skipping.\n",
      "File already present: ta_Amon_CNRM-CM6-1_amip-lwoff_r1i1p1f2_gr_197901-201412.nc ----> Skipping.\n",
      "File already present: ta_Amon_CNRM-CM6-1_amip-lwoff_r1i1p1f2_gr_197901-201412.nc ----> Skipping.\n",
      "Downloading complete. Was able to complete downloading for 1 files. Failed to retrieve 0 URLs.\n",
      "['http://aims3.llnl.gov/thredds/fileServer/css03_data/CMIP6/CFMIP/CNRM-CERFACS/CNRM-CM6-1/aqua-control/r1i1p1f2/Amon/ta/gr/v20190711/ta_Amon_CNRM-CM6-1_aqua-control_r1i1p1f2_gr_197901-198812.nc', 'http://esg1.umr-cnrm.fr/thredds/fileServer/CMIP6_CNRM/CFMIP/CNRM-CERFACS/CNRM-CM6-1/aqua-control/r1i1p1f2/Amon/ta/gr/v20190711/ta_Amon_CNRM-CM6-1_aqua-control_r1i1p1f2_gr_197901-198812.nc', 'http://esgf-data3.diasjp.net/thredds/fileServer/esg_dataroot/CMIP6/CFMIP/CNRM-CERFACS/CNRM-CM6-1/aqua-control/r1i1p1f2/Amon/ta/gr/v20190711/ta_Amon_CNRM-CM6-1_aqua-control_r1i1p1f2_gr_197901-198812.nc', 'http://esgf3.dkrz.de/thredds/fileServer/cmip6/CFMIP/CNRM-CERFACS/CNRM-CM6-1/aqua-control/r1i1p1f2/Amon/ta/gr/v20190711/ta_Amon_CNRM-CM6-1_aqua-control_r1i1p1f2_gr_197901-198812.nc']\n",
      "Start trying to download for CNRM-CM6-1, r1i1p1f2, aqua-control ... Found 4 URLs to try.\n",
      "NUMBER OF RESULTS: 4\n",
      "We begin with a list of 4 URLs.\n",
      "File already present: ta_Amon_CNRM-CM6-1_aqua-control_r1i1p1f2_gr_197901-198812.nc ----> Skipping.\n",
      "File already present: ta_Amon_CNRM-CM6-1_aqua-control_r1i1p1f2_gr_197901-198812.nc ----> Skipping.\n",
      "File already present: ta_Amon_CNRM-CM6-1_aqua-control_r1i1p1f2_gr_197901-198812.nc ----> Skipping.\n",
      "Downloading complete. Was able to complete downloading for 1 files. Failed to retrieve 0 URLs.\n",
      "['http://aims3.llnl.gov/thredds/fileServer/css03_data/CMIP6/CFMIP/CNRM-CERFACS/CNRM-CM6-1/aqua-control-lwoff/r1i1p1f2/Amon/ta/gr/v20190820/ta_Amon_CNRM-CM6-1_aqua-control-lwoff_r1i1p1f2_gr_197901-198812.nc', 'http://esg1.umr-cnrm.fr/thredds/fileServer/CMIP6_CNRM/CFMIP/CNRM-CERFACS/CNRM-CM6-1/aqua-control-lwoff/r1i1p1f2/Amon/ta/gr/v20190820/ta_Amon_CNRM-CM6-1_aqua-control-lwoff_r1i1p1f2_gr_197901-198812.nc', 'http://esgf-data3.diasjp.net/thredds/fileServer/esg_dataroot/CMIP6/CFMIP/CNRM-CERFACS/CNRM-CM6-1/aqua-control-lwoff/r1i1p1f2/Amon/ta/gr/v20190820/ta_Amon_CNRM-CM6-1_aqua-control-lwoff_r1i1p1f2_gr_197901-198812.nc', 'http://esgf3.dkrz.de/thredds/fileServer/cmip6/CFMIP/CNRM-CERFACS/CNRM-CM6-1/aqua-control-lwoff/r1i1p1f2/Amon/ta/gr/v20190820/ta_Amon_CNRM-CM6-1_aqua-control-lwoff_r1i1p1f2_gr_197901-198812.nc']\n",
      "Start trying to download for CNRM-CM6-1, r1i1p1f2, aqua-control-lwoff ... Found 4 URLs to try.\n",
      "NUMBER OF RESULTS: 4\n",
      "We begin with a list of 4 URLs.\n",
      "File already present: ta_Amon_CNRM-CM6-1_aqua-control-lwoff_r1i1p1f2_gr_197901-198812.nc ----> Skipping.\n",
      "File already present: ta_Amon_CNRM-CM6-1_aqua-control-lwoff_r1i1p1f2_gr_197901-198812.nc ----> Skipping.\n",
      "File already present: ta_Amon_CNRM-CM6-1_aqua-control-lwoff_r1i1p1f2_gr_197901-198812.nc ----> Skipping.\n",
      "Downloading complete. Was able to complete downloading for 1 files. Failed to retrieve 0 URLs.\n",
      "['http://aims3.llnl.gov/thredds/fileServer/css03_data/CMIP6/CFMIP/CNRM-CERFACS/CNRM-CM6-1/aqua-4xCO2/r1i1p1f2/Amon/ta/gr/v20190820/ta_Amon_CNRM-CM6-1_aqua-4xCO2_r1i1p1f2_gr_197901-198812.nc', 'http://esg1.umr-cnrm.fr/thredds/fileServer/CMIP6_CNRM/CFMIP/CNRM-CERFACS/CNRM-CM6-1/aqua-4xCO2/r1i1p1f2/Amon/ta/gr/v20190820/ta_Amon_CNRM-CM6-1_aqua-4xCO2_r1i1p1f2_gr_197901-198812.nc', 'http://esgf-data3.diasjp.net/thredds/fileServer/esg_dataroot/CMIP6/CFMIP/CNRM-CERFACS/CNRM-CM6-1/aqua-4xCO2/r1i1p1f2/Amon/ta/gr/v20190820/ta_Amon_CNRM-CM6-1_aqua-4xCO2_r1i1p1f2_gr_197901-198812.nc', 'http://esgf3.dkrz.de/thredds/fileServer/cmip6/CFMIP/CNRM-CERFACS/CNRM-CM6-1/aqua-4xCO2/r1i1p1f2/Amon/ta/gr/v20190820/ta_Amon_CNRM-CM6-1_aqua-4xCO2_r1i1p1f2_gr_197901-198812.nc']\n",
      "Start trying to download for CNRM-CM6-1, r1i1p1f2, aqua-4xCO2 ... Found 4 URLs to try.\n",
      "NUMBER OF RESULTS: 4\n",
      "We begin with a list of 4 URLs.\n",
      "File already present: ta_Amon_CNRM-CM6-1_aqua-4xCO2_r1i1p1f2_gr_197901-198812.nc ----> Skipping.\n",
      "File already present: ta_Amon_CNRM-CM6-1_aqua-4xCO2_r1i1p1f2_gr_197901-198812.nc ----> Skipping.\n",
      "File already present: ta_Amon_CNRM-CM6-1_aqua-4xCO2_r1i1p1f2_gr_197901-198812.nc ----> Skipping.\n",
      "Downloading complete. Was able to complete downloading for 1 files. Failed to retrieve 0 URLs.\n",
      "['http://aims3.llnl.gov/thredds/fileServer/css03_data/CMIP6/CFMIP/CNRM-CERFACS/CNRM-CM6-1/amip-4xCO2/r1i1p1f2/Amon/ta/gr/v20190820/ta_Amon_CNRM-CM6-1_amip-4xCO2_r1i1p1f2_gr_197901-201412.nc', 'http://esg1.umr-cnrm.fr/thredds/fileServer/CMIP6_CNRM/CFMIP/CNRM-CERFACS/CNRM-CM6-1/amip-4xCO2/r1i1p1f2/Amon/ta/gr/v20190820/ta_Amon_CNRM-CM6-1_amip-4xCO2_r1i1p1f2_gr_197901-201412.nc', 'http://esgf-data3.diasjp.net/thredds/fileServer/esg_dataroot/CMIP6/CFMIP/CNRM-CERFACS/CNRM-CM6-1/amip-4xCO2/r1i1p1f2/Amon/ta/gr/v20190820/ta_Amon_CNRM-CM6-1_amip-4xCO2_r1i1p1f2_gr_197901-201412.nc', 'http://esgf3.dkrz.de/thredds/fileServer/cmip6/CFMIP/CNRM-CERFACS/CNRM-CM6-1/amip-4xCO2/r1i1p1f2/Amon/ta/gr/v20190820/ta_Amon_CNRM-CM6-1_amip-4xCO2_r1i1p1f2_gr_197901-201412.nc']\n",
      "Start trying to download for CNRM-CM6-1, r1i1p1f2, amip-4xCO2 ... Found 4 URLs to try.\n",
      "NUMBER OF RESULTS: 4\n",
      "We begin with a list of 4 URLs.\n",
      "File already present: ta_Amon_CNRM-CM6-1_amip-4xCO2_r1i1p1f2_gr_197901-201412.nc ----> Skipping.\n",
      "File already present: ta_Amon_CNRM-CM6-1_amip-4xCO2_r1i1p1f2_gr_197901-201412.nc ----> Skipping.\n",
      "File already present: ta_Amon_CNRM-CM6-1_amip-4xCO2_r1i1p1f2_gr_197901-201412.nc ----> Skipping.\n",
      "Downloading complete. Was able to complete downloading for 1 files. Failed to retrieve 0 URLs.\n",
      "['http://aims3.llnl.gov/thredds/fileServer/css03_data/CMIP6/CMIP/IPSL/IPSL-CM6A-LR/amip/r1i1p1f1/Amon/ta/gr/v20181109/ta_Amon_IPSL-CM6A-LR_amip_r1i1p1f1_gr_197901-201412.nc', 'http://aims3.llnl.gov/thredds/fileServer/css03_data/CMIP6/CMIP/IPSL/IPSL-CM6A-LR/amip/r1i1p1f1/Amon/ta/gr/v20181109/ta_Amon_IPSL-CM6A-LR_amip_r1i1p1f1_gr_201501-201712.nc', 'http://esgf-data3.ceda.ac.uk/thredds/fileServer/esg_cmip6/CMIP6/CMIP/IPSL/IPSL-CM6A-LR/amip/r1i1p1f1/Amon/ta/gr/v20181109/ta_Amon_IPSL-CM6A-LR_amip_r1i1p1f1_gr_197901-201412.nc', 'http://esgf-data3.ceda.ac.uk/thredds/fileServer/esg_cmip6/CMIP6/CMIP/IPSL/IPSL-CM6A-LR/amip/r1i1p1f1/Amon/ta/gr/v20181109/ta_Amon_IPSL-CM6A-LR_amip_r1i1p1f1_gr_201501-201712.nc', 'http://esgf-data3.diasjp.net/thredds/fileServer/esg_dataroot/CMIP6/CMIP/IPSL/IPSL-CM6A-LR/amip/r1i1p1f1/Amon/ta/gr/v20181109/ta_Amon_IPSL-CM6A-LR_amip_r1i1p1f1_gr_197901-201412.nc', 'http://esgf-data3.diasjp.net/thredds/fileServer/esg_dataroot/CMIP6/CMIP/IPSL/IPSL-CM6A-LR/amip/r1i1p1f1/Amon/ta/gr/v20181109/ta_Amon_IPSL-CM6A-LR_amip_r1i1p1f1_gr_201501-201712.nc', 'http://esgf3.dkrz.de/thredds/fileServer/cmip6/CMIP/IPSL/IPSL-CM6A-LR/amip/r1i1p1f1/Amon/ta/gr/v20181109/ta_Amon_IPSL-CM6A-LR_amip_r1i1p1f1_gr_197901-201412.nc', 'http://esgf3.dkrz.de/thredds/fileServer/cmip6/CMIP/IPSL/IPSL-CM6A-LR/amip/r1i1p1f1/Amon/ta/gr/v20181109/ta_Amon_IPSL-CM6A-LR_amip_r1i1p1f1_gr_201501-201712.nc', 'http://vesg.ipsl.upmc.fr/thredds/fileServer/cmip6/CMIP/IPSL/IPSL-CM6A-LR/amip/r1i1p1f1/Amon/ta/gr/v20181109/ta_Amon_IPSL-CM6A-LR_amip_r1i1p1f1_gr_197901-201412.nc', 'http://vesg.ipsl.upmc.fr/thredds/fileServer/cmip6/CMIP/IPSL/IPSL-CM6A-LR/amip/r1i1p1f1/Amon/ta/gr/v20181109/ta_Amon_IPSL-CM6A-LR_amip_r1i1p1f1_gr_201501-201712.nc']\n",
      "Start trying to download for IPSL-CM6A-LR, r1i1p1f1, amip ... Found 10 URLs to try.\n",
      "NUMBER OF RESULTS: 10\n",
      "We begin with a list of 10 URLs.\n",
      "File already present: ta_Amon_IPSL-CM6A-LR_amip_r1i1p1f1_gr_197901-201412.nc ----> Skipping.\n",
      "File already present: ta_Amon_IPSL-CM6A-LR_amip_r1i1p1f1_gr_201501-201712.nc ----> Skipping.\n",
      "File already present: ta_Amon_IPSL-CM6A-LR_amip_r1i1p1f1_gr_197901-201412.nc ----> Skipping.\n",
      "File already present: ta_Amon_IPSL-CM6A-LR_amip_r1i1p1f1_gr_201501-201712.nc ----> Skipping.\n",
      "File already present: ta_Amon_IPSL-CM6A-LR_amip_r1i1p1f1_gr_197901-201412.nc ----> Skipping.\n",
      "File already present: ta_Amon_IPSL-CM6A-LR_amip_r1i1p1f1_gr_201501-201712.nc ----> Skipping.\n",
      "File already present: ta_Amon_IPSL-CM6A-LR_amip_r1i1p1f1_gr_197901-201412.nc ----> Skipping.\n",
      "File already present: ta_Amon_IPSL-CM6A-LR_amip_r1i1p1f1_gr_201501-201712.nc ----> Skipping.\n",
      "Downloading complete. Was able to complete downloading for 2 files. Failed to retrieve 0 URLs.\n",
      "['http://aims3.llnl.gov/thredds/fileServer/css03_data/CMIP6/CFMIP/IPSL/IPSL-CM6A-LR/amip-lwoff/r1i1p1f1/Amon/ta/gr/v20180928/ta_Amon_IPSL-CM6A-LR_amip-lwoff_r1i1p1f1_gr_197901-201412.nc', 'http://esgf-data3.ceda.ac.uk/thredds/fileServer/esg_cmip6/CMIP6/CFMIP/IPSL/IPSL-CM6A-LR/amip-lwoff/r1i1p1f1/Amon/ta/gr/v20180928/ta_Amon_IPSL-CM6A-LR_amip-lwoff_r1i1p1f1_gr_197901-201412.nc', 'http://esgf-data3.diasjp.net/thredds/fileServer/esg_dataroot/CMIP6/CFMIP/IPSL/IPSL-CM6A-LR/amip-lwoff/r1i1p1f1/Amon/ta/gr/v20180928/ta_Amon_IPSL-CM6A-LR_amip-lwoff_r1i1p1f1_gr_197901-201412.nc', 'http://esgf3.dkrz.de/thredds/fileServer/cmip6/CFMIP/IPSL/IPSL-CM6A-LR/amip-lwoff/r1i1p1f1/Amon/ta/gr/v20180928/ta_Amon_IPSL-CM6A-LR_amip-lwoff_r1i1p1f1_gr_197901-201412.nc', 'http://vesg.ipsl.upmc.fr/thredds/fileServer/cmip6/CFMIP/IPSL/IPSL-CM6A-LR/amip-lwoff/r1i1p1f1/Amon/ta/gr/v20180928/ta_Amon_IPSL-CM6A-LR_amip-lwoff_r1i1p1f1_gr_197901-201412.nc']\n",
      "Start trying to download for IPSL-CM6A-LR, r1i1p1f1, amip-lwoff ... Found 5 URLs to try.\n",
      "NUMBER OF RESULTS: 5\n",
      "We begin with a list of 5 URLs.\n",
      "File already present: ta_Amon_IPSL-CM6A-LR_amip-lwoff_r1i1p1f1_gr_197901-201412.nc ----> Skipping.\n",
      "File already present: ta_Amon_IPSL-CM6A-LR_amip-lwoff_r1i1p1f1_gr_197901-201412.nc ----> Skipping.\n",
      "File already present: ta_Amon_IPSL-CM6A-LR_amip-lwoff_r1i1p1f1_gr_197901-201412.nc ----> Skipping.\n",
      "File already present: ta_Amon_IPSL-CM6A-LR_amip-lwoff_r1i1p1f1_gr_197901-201412.nc ----> Skipping.\n",
      "Downloading complete. Was able to complete downloading for 1 files. Failed to retrieve 0 URLs.\n",
      "['http://aims3.llnl.gov/thredds/fileServer/css03_data/CMIP6/CFMIP/IPSL/IPSL-CM6A-LR/aqua-control/r1i1p1f1/Amon/ta/gr/v20180912/ta_Amon_IPSL-CM6A-LR_aqua-control_r1i1p1f1_gr_197901-198812.nc', 'http://aims3.llnl.gov/thredds/fileServer/css03_data/CMIP6/CFMIP/IPSL/IPSL-CM6A-LR/aqua-control/r1i1p1f1/Amon/ta/gr/v20180912/ta_Amon_IPSL-CM6A-LR_aqua-control_r1i1p1f1_gr_198901-198912.nc', 'http://esgf-data3.ceda.ac.uk/thredds/fileServer/esg_cmip6/CMIP6/CFMIP/IPSL/IPSL-CM6A-LR/aqua-control/r1i1p1f1/Amon/ta/gr/v20180912/ta_Amon_IPSL-CM6A-LR_aqua-control_r1i1p1f1_gr_197901-198812.nc', 'http://esgf-data3.ceda.ac.uk/thredds/fileServer/esg_cmip6/CMIP6/CFMIP/IPSL/IPSL-CM6A-LR/aqua-control/r1i1p1f1/Amon/ta/gr/v20180912/ta_Amon_IPSL-CM6A-LR_aqua-control_r1i1p1f1_gr_198901-198912.nc', 'http://esgf-data3.diasjp.net/thredds/fileServer/esg_dataroot/CMIP6/CFMIP/IPSL/IPSL-CM6A-LR/aqua-control/r1i1p1f1/Amon/ta/gr/v20180912/ta_Amon_IPSL-CM6A-LR_aqua-control_r1i1p1f1_gr_197901-198812.nc', 'http://esgf-data3.diasjp.net/thredds/fileServer/esg_dataroot/CMIP6/CFMIP/IPSL/IPSL-CM6A-LR/aqua-control/r1i1p1f1/Amon/ta/gr/v20180912/ta_Amon_IPSL-CM6A-LR_aqua-control_r1i1p1f1_gr_198901-198912.nc', 'http://esgf3.dkrz.de/thredds/fileServer/cmip6/CFMIP/IPSL/IPSL-CM6A-LR/aqua-control/r1i1p1f1/Amon/ta/gr/v20180912/ta_Amon_IPSL-CM6A-LR_aqua-control_r1i1p1f1_gr_197901-198812.nc', 'http://esgf3.dkrz.de/thredds/fileServer/cmip6/CFMIP/IPSL/IPSL-CM6A-LR/aqua-control/r1i1p1f1/Amon/ta/gr/v20180912/ta_Amon_IPSL-CM6A-LR_aqua-control_r1i1p1f1_gr_198901-198912.nc', 'http://vesg.ipsl.upmc.fr/thredds/fileServer/cmip6/CFMIP/IPSL/IPSL-CM6A-LR/aqua-control/r1i1p1f1/Amon/ta/gr/v20180912/ta_Amon_IPSL-CM6A-LR_aqua-control_r1i1p1f1_gr_197901-198812.nc', 'http://vesg.ipsl.upmc.fr/thredds/fileServer/cmip6/CFMIP/IPSL/IPSL-CM6A-LR/aqua-control/r1i1p1f1/Amon/ta/gr/v20180912/ta_Amon_IPSL-CM6A-LR_aqua-control_r1i1p1f1_gr_198901-198912.nc']\n",
      "Start trying to download for IPSL-CM6A-LR, r1i1p1f1, aqua-control ... Found 10 URLs to try.\n",
      "NUMBER OF RESULTS: 10\n",
      "We begin with a list of 10 URLs.\n",
      "File already present: ta_Amon_IPSL-CM6A-LR_aqua-control_r1i1p1f1_gr_197901-198812.nc ----> Skipping.\n",
      "File already present: ta_Amon_IPSL-CM6A-LR_aqua-control_r1i1p1f1_gr_198901-198912.nc ----> Skipping.\n",
      "File already present: ta_Amon_IPSL-CM6A-LR_aqua-control_r1i1p1f1_gr_197901-198812.nc ----> Skipping.\n",
      "File already present: ta_Amon_IPSL-CM6A-LR_aqua-control_r1i1p1f1_gr_198901-198912.nc ----> Skipping.\n",
      "File already present: ta_Amon_IPSL-CM6A-LR_aqua-control_r1i1p1f1_gr_197901-198812.nc ----> Skipping.\n",
      "File already present: ta_Amon_IPSL-CM6A-LR_aqua-control_r1i1p1f1_gr_198901-198912.nc ----> Skipping.\n",
      "File already present: ta_Amon_IPSL-CM6A-LR_aqua-control_r1i1p1f1_gr_197901-198812.nc ----> Skipping.\n",
      "File already present: ta_Amon_IPSL-CM6A-LR_aqua-control_r1i1p1f1_gr_198901-198912.nc ----> Skipping.\n",
      "Downloading complete. Was able to complete downloading for 2 files. Failed to retrieve 0 URLs.\n",
      "['http://aims3.llnl.gov/thredds/fileServer/css03_data/CMIP6/CFMIP/IPSL/IPSL-CM6A-LR/aqua-control-lwoff/r1i1p1f1/Amon/ta/gr/v20180928/ta_Amon_IPSL-CM6A-LR_aqua-control-lwoff_r1i1p1f1_gr_197901-198912.nc', 'http://esgf-data3.ceda.ac.uk/thredds/fileServer/esg_cmip6/CMIP6/CFMIP/IPSL/IPSL-CM6A-LR/aqua-control-lwoff/r1i1p1f1/Amon/ta/gr/v20180928/ta_Amon_IPSL-CM6A-LR_aqua-control-lwoff_r1i1p1f1_gr_197901-198912.nc', 'http://esgf-data3.diasjp.net/thredds/fileServer/esg_dataroot/CMIP6/CFMIP/IPSL/IPSL-CM6A-LR/aqua-control-lwoff/r1i1p1f1/Amon/ta/gr/v20180928/ta_Amon_IPSL-CM6A-LR_aqua-control-lwoff_r1i1p1f1_gr_197901-198912.nc', 'http://esgf3.dkrz.de/thredds/fileServer/cmip6/CFMIP/IPSL/IPSL-CM6A-LR/aqua-control-lwoff/r1i1p1f1/Amon/ta/gr/v20180928/ta_Amon_IPSL-CM6A-LR_aqua-control-lwoff_r1i1p1f1_gr_197901-198912.nc', 'http://vesg.ipsl.upmc.fr/thredds/fileServer/cmip6/CFMIP/IPSL/IPSL-CM6A-LR/aqua-control-lwoff/r1i1p1f1/Amon/ta/gr/v20180928/ta_Amon_IPSL-CM6A-LR_aqua-control-lwoff_r1i1p1f1_gr_197901-198912.nc']\n",
      "Start trying to download for IPSL-CM6A-LR, r1i1p1f1, aqua-control-lwoff ... Found 5 URLs to try.\n",
      "NUMBER OF RESULTS: 5\n",
      "We begin with a list of 5 URLs.\n",
      "File already present: ta_Amon_IPSL-CM6A-LR_aqua-control-lwoff_r1i1p1f1_gr_197901-198912.nc ----> Skipping.\n",
      "File already present: ta_Amon_IPSL-CM6A-LR_aqua-control-lwoff_r1i1p1f1_gr_197901-198912.nc ----> Skipping.\n",
      "File already present: ta_Amon_IPSL-CM6A-LR_aqua-control-lwoff_r1i1p1f1_gr_197901-198912.nc ----> Skipping.\n",
      "File already present: ta_Amon_IPSL-CM6A-LR_aqua-control-lwoff_r1i1p1f1_gr_197901-198912.nc ----> Skipping.\n",
      "Downloading complete. Was able to complete downloading for 1 files. Failed to retrieve 0 URLs.\n",
      "['http://aims3.llnl.gov/thredds/fileServer/css03_data/CMIP6/CFMIP/IPSL/IPSL-CM6A-LR/aqua-4xCO2/r1i1p1f1/Amon/ta/gr/v20180912/ta_Amon_IPSL-CM6A-LR_aqua-4xCO2_r1i1p1f1_gr_197901-198812.nc', 'http://aims3.llnl.gov/thredds/fileServer/css03_data/CMIP6/CFMIP/IPSL/IPSL-CM6A-LR/aqua-4xCO2/r1i1p1f1/Amon/ta/gr/v20180912/ta_Amon_IPSL-CM6A-LR_aqua-4xCO2_r1i1p1f1_gr_198901-198912.nc', 'http://esgf-data3.ceda.ac.uk/thredds/fileServer/esg_cmip6/CMIP6/CFMIP/IPSL/IPSL-CM6A-LR/aqua-4xCO2/r1i1p1f1/Amon/ta/gr/v20180912/ta_Amon_IPSL-CM6A-LR_aqua-4xCO2_r1i1p1f1_gr_197901-198812.nc', 'http://esgf-data3.ceda.ac.uk/thredds/fileServer/esg_cmip6/CMIP6/CFMIP/IPSL/IPSL-CM6A-LR/aqua-4xCO2/r1i1p1f1/Amon/ta/gr/v20180912/ta_Amon_IPSL-CM6A-LR_aqua-4xCO2_r1i1p1f1_gr_198901-198912.nc', 'http://esgf-data3.diasjp.net/thredds/fileServer/esg_dataroot/CMIP6/CFMIP/IPSL/IPSL-CM6A-LR/aqua-4xCO2/r1i1p1f1/Amon/ta/gr/v20180912/ta_Amon_IPSL-CM6A-LR_aqua-4xCO2_r1i1p1f1_gr_197901-198812.nc', 'http://esgf-data3.diasjp.net/thredds/fileServer/esg_dataroot/CMIP6/CFMIP/IPSL/IPSL-CM6A-LR/aqua-4xCO2/r1i1p1f1/Amon/ta/gr/v20180912/ta_Amon_IPSL-CM6A-LR_aqua-4xCO2_r1i1p1f1_gr_198901-198912.nc', 'http://esgf3.dkrz.de/thredds/fileServer/cmip6/CFMIP/IPSL/IPSL-CM6A-LR/aqua-4xCO2/r1i1p1f1/Amon/ta/gr/v20180912/ta_Amon_IPSL-CM6A-LR_aqua-4xCO2_r1i1p1f1_gr_197901-198812.nc', 'http://esgf3.dkrz.de/thredds/fileServer/cmip6/CFMIP/IPSL/IPSL-CM6A-LR/aqua-4xCO2/r1i1p1f1/Amon/ta/gr/v20180912/ta_Amon_IPSL-CM6A-LR_aqua-4xCO2_r1i1p1f1_gr_198901-198912.nc', 'http://vesg.ipsl.upmc.fr/thredds/fileServer/cmip6/CFMIP/IPSL/IPSL-CM6A-LR/aqua-4xCO2/r1i1p1f1/Amon/ta/gr/v20180912/ta_Amon_IPSL-CM6A-LR_aqua-4xCO2_r1i1p1f1_gr_197901-198812.nc', 'http://vesg.ipsl.upmc.fr/thredds/fileServer/cmip6/CFMIP/IPSL/IPSL-CM6A-LR/aqua-4xCO2/r1i1p1f1/Amon/ta/gr/v20180912/ta_Amon_IPSL-CM6A-LR_aqua-4xCO2_r1i1p1f1_gr_198901-198912.nc']\n",
      "Start trying to download for IPSL-CM6A-LR, r1i1p1f1, aqua-4xCO2 ... Found 10 URLs to try.\n",
      "NUMBER OF RESULTS: 10\n",
      "We begin with a list of 10 URLs.\n",
      "File already present: ta_Amon_IPSL-CM6A-LR_aqua-4xCO2_r1i1p1f1_gr_197901-198812.nc ----> Skipping.\n",
      "File already present: ta_Amon_IPSL-CM6A-LR_aqua-4xCO2_r1i1p1f1_gr_198901-198912.nc ----> Skipping.\n",
      "File already present: ta_Amon_IPSL-CM6A-LR_aqua-4xCO2_r1i1p1f1_gr_197901-198812.nc ----> Skipping.\n",
      "File already present: ta_Amon_IPSL-CM6A-LR_aqua-4xCO2_r1i1p1f1_gr_198901-198912.nc ----> Skipping.\n",
      "File already present: ta_Amon_IPSL-CM6A-LR_aqua-4xCO2_r1i1p1f1_gr_197901-198812.nc ----> Skipping.\n",
      "File already present: ta_Amon_IPSL-CM6A-LR_aqua-4xCO2_r1i1p1f1_gr_198901-198912.nc ----> Skipping.\n",
      "File already present: ta_Amon_IPSL-CM6A-LR_aqua-4xCO2_r1i1p1f1_gr_197901-198812.nc ----> Skipping.\n",
      "File already present: ta_Amon_IPSL-CM6A-LR_aqua-4xCO2_r1i1p1f1_gr_198901-198912.nc ----> Skipping.\n",
      "Downloading complete. Was able to complete downloading for 2 files. Failed to retrieve 0 URLs.\n",
      "['http://aims3.llnl.gov/thredds/fileServer/css03_data/CMIP6/CFMIP/IPSL/IPSL-CM6A-LR/amip-4xCO2/r1i1p1f1/Amon/ta/gr/v20180906/ta_Amon_IPSL-CM6A-LR_amip-4xCO2_r1i1p1f1_gr_197901-201412.nc', 'http://esgf-data3.ceda.ac.uk/thredds/fileServer/esg_cmip6/CMIP6/CFMIP/IPSL/IPSL-CM6A-LR/amip-4xCO2/r1i1p1f1/Amon/ta/gr/v20180906/ta_Amon_IPSL-CM6A-LR_amip-4xCO2_r1i1p1f1_gr_197901-201412.nc', 'http://esgf-data3.diasjp.net/thredds/fileServer/esg_dataroot/CMIP6/CFMIP/IPSL/IPSL-CM6A-LR/amip-4xCO2/r1i1p1f1/Amon/ta/gr/v20180906/ta_Amon_IPSL-CM6A-LR_amip-4xCO2_r1i1p1f1_gr_197901-201412.nc', 'http://esgf3.dkrz.de/thredds/fileServer/cmip6/CFMIP/IPSL/IPSL-CM6A-LR/amip-4xCO2/r1i1p1f1/Amon/ta/gr/v20180906/ta_Amon_IPSL-CM6A-LR_amip-4xCO2_r1i1p1f1_gr_197901-201412.nc', 'http://vesg.ipsl.upmc.fr/thredds/fileServer/cmip6/CFMIP/IPSL/IPSL-CM6A-LR/amip-4xCO2/r1i1p1f1/Amon/ta/gr/v20180906/ta_Amon_IPSL-CM6A-LR_amip-4xCO2_r1i1p1f1_gr_197901-201412.nc']\n",
      "Start trying to download for IPSL-CM6A-LR, r1i1p1f1, amip-4xCO2 ... Found 5 URLs to try.\n",
      "NUMBER OF RESULTS: 5\n",
      "We begin with a list of 5 URLs.\n",
      "File already present: ta_Amon_IPSL-CM6A-LR_amip-4xCO2_r1i1p1f1_gr_197901-201412.nc ----> Skipping.\n",
      "File already present: ta_Amon_IPSL-CM6A-LR_amip-4xCO2_r1i1p1f1_gr_197901-201412.nc ----> Skipping.\n",
      "File already present: ta_Amon_IPSL-CM6A-LR_amip-4xCO2_r1i1p1f1_gr_197901-201412.nc ----> Skipping.\n",
      "File already present: ta_Amon_IPSL-CM6A-LR_amip-4xCO2_r1i1p1f1_gr_197901-201412.nc ----> Skipping.\n",
      "Downloading complete. Was able to complete downloading for 1 files. Failed to retrieve 0 URLs.\n",
      "['http://aims3.llnl.gov/thredds/fileServer/css03_data/CMIP6/CMIP/NCAR/CESM2/amip/r1i1p1f1/Amon/ta/gn/v20190218/ta_Amon_CESM2_amip_r1i1p1f1_gn_195001-201412.nc', 'http://esgf-data.ucar.edu/thredds/fileServer/esg_dataroot/CMIP6/CMIP/NCAR/CESM2/amip/r1i1p1f1/Amon/ta/gn/v20190218/ta_Amon_CESM2_amip_r1i1p1f1_gn_195001-201412.nc', 'http://esgf-data3.ceda.ac.uk/thredds/fileServer/esg_cmip6/CMIP6/CMIP/NCAR/CESM2/amip/r1i1p1f1/Amon/ta/gn/v20190218/ta_Amon_CESM2_amip_r1i1p1f1_gn_195001-201412.nc', 'http://esgf-data3.diasjp.net/thredds/fileServer/esg_dataroot/CMIP6/CMIP/NCAR/CESM2/amip/r1i1p1f1/Amon/ta/gn/v20190218/ta_Amon_CESM2_amip_r1i1p1f1_gn_195001-201412.nc', 'http://esgf3.dkrz.de/thredds/fileServer/cmip6/CMIP/NCAR/CESM2/amip/r1i1p1f1/Amon/ta/gn/v20190218/ta_Amon_CESM2_amip_r1i1p1f1_gn_195001-201412.nc']\n",
      "Start trying to download for CESM2, r1i1p1f1, amip ... Found 5 URLs to try.\n",
      "NUMBER OF RESULTS: 5\n",
      "We begin with a list of 5 URLs.\n",
      "File already present: ta_Amon_CESM2_amip_r1i1p1f1_gn_195001-201412.nc ----> Skipping.\n",
      "File already present: ta_Amon_CESM2_amip_r1i1p1f1_gn_195001-201412.nc ----> Skipping.\n",
      "File already present: ta_Amon_CESM2_amip_r1i1p1f1_gn_195001-201412.nc ----> Skipping.\n",
      "File already present: ta_Amon_CESM2_amip_r1i1p1f1_gn_195001-201412.nc ----> Skipping.\n",
      "Downloading complete. Was able to complete downloading for 1 files. Failed to retrieve 0 URLs.\n",
      "['http://esgf-data.ucar.edu/thredds/fileServer/esg_dataroot/CMIP6/CFMIP/NCAR/CESM2/amip-lwoff/r1i1p1f1/Amon/ta/gn/v20200210/ta_Amon_CESM2_amip-lwoff_r1i1p1f1_gn_197901-201412.nc', 'http://esgf-data1.llnl.gov/thredds/fileServer/css03_data/CMIP6/CFMIP/NCAR/CESM2/amip-lwoff/r1i1p1f1/Amon/ta/gn/v20200210/ta_Amon_CESM2_amip-lwoff_r1i1p1f1_gn_197901-201412.nc', 'http://esgf-data3.diasjp.net/thredds/fileServer/esg_dataroot/CMIP6/CFMIP/NCAR/CESM2/amip-lwoff/r1i1p1f1/Amon/ta/gn/v20200210/ta_Amon_CESM2_amip-lwoff_r1i1p1f1_gn_197901-201412.nc']\n",
      "Start trying to download for CESM2, r1i1p1f1, amip-lwoff ... Found 3 URLs to try.\n",
      "NUMBER OF RESULTS: 3\n",
      "We begin with a list of 3 URLs.\n",
      "File already present: ta_Amon_CESM2_amip-lwoff_r1i1p1f1_gn_197901-201412.nc ----> Skipping.\n",
      "File already present: ta_Amon_CESM2_amip-lwoff_r1i1p1f1_gn_197901-201412.nc ----> Skipping.\n",
      "Downloading complete. Was able to complete downloading for 1 files. Failed to retrieve 0 URLs.\n",
      "['http://aims3.llnl.gov/thredds/fileServer/css03_data/CMIP6/CFMIP/NCAR/CESM2/aqua-control/r1i1p1f1/Amon/ta/gn/v20190507/ta_Amon_CESM2_aqua-control_r1i1p1f1_gn_000101-001012.nc', 'http://esgf-data.ucar.edu/thredds/fileServer/esg_dataroot/CMIP6/CFMIP/NCAR/CESM2/aqua-control/r1i1p1f1/Amon/ta/gn/v20190507/ta_Amon_CESM2_aqua-control_r1i1p1f1_gn_000101-001012.nc', 'http://esgf-data3.ceda.ac.uk/thredds/fileServer/esg_cmip6/CMIP6/CFMIP/NCAR/CESM2/aqua-control/r1i1p1f1/Amon/ta/gn/v20190507/ta_Amon_CESM2_aqua-control_r1i1p1f1_gn_000101-001012.nc', 'http://esgf-data3.diasjp.net/thredds/fileServer/esg_dataroot/CMIP6/CFMIP/NCAR/CESM2/aqua-control/r1i1p1f1/Amon/ta/gn/v20190507/ta_Amon_CESM2_aqua-control_r1i1p1f1_gn_000101-001012.nc', 'http://esgf3.dkrz.de/thredds/fileServer/cmip6/CFMIP/NCAR/CESM2/aqua-control/r1i1p1f1/Amon/ta/gn/v20190507/ta_Amon_CESM2_aqua-control_r1i1p1f1_gn_000101-001012.nc']\n",
      "Start trying to download for CESM2, r1i1p1f1, aqua-control ... Found 5 URLs to try.\n",
      "NUMBER OF RESULTS: 5\n",
      "We begin with a list of 5 URLs.\n",
      "File already present: ta_Amon_CESM2_aqua-control_r1i1p1f1_gn_000101-001012.nc ----> Skipping.\n",
      "File already present: ta_Amon_CESM2_aqua-control_r1i1p1f1_gn_000101-001012.nc ----> Skipping.\n",
      "File already present: ta_Amon_CESM2_aqua-control_r1i1p1f1_gn_000101-001012.nc ----> Skipping.\n",
      "File already present: ta_Amon_CESM2_aqua-control_r1i1p1f1_gn_000101-001012.nc ----> Skipping.\n",
      "Downloading complete. Was able to complete downloading for 1 files. Failed to retrieve 0 URLs.\n",
      "['http://esgf-data.ucar.edu/thredds/fileServer/esg_dataroot/CMIP6/CFMIP/NCAR/CESM2/aqua-control-lwoff/r1i1p1f1/Amon/ta/gn/v20200210/ta_Amon_CESM2_aqua-control-lwoff_r1i1p1f1_gn_000101-001012.nc', 'http://esgf-data1.llnl.gov/thredds/fileServer/css03_data/CMIP6/CFMIP/NCAR/CESM2/aqua-control-lwoff/r1i1p1f1/Amon/ta/gn/v20200210/ta_Amon_CESM2_aqua-control-lwoff_r1i1p1f1_gn_000101-001012.nc', 'http://esgf-data3.diasjp.net/thredds/fileServer/esg_dataroot/CMIP6/CFMIP/NCAR/CESM2/aqua-control-lwoff/r1i1p1f1/Amon/ta/gn/v20200210/ta_Amon_CESM2_aqua-control-lwoff_r1i1p1f1_gn_000101-001012.nc', 'http://esgf3.dkrz.de/thredds/fileServer/cmip6/CFMIP/NCAR/CESM2/aqua-control-lwoff/r1i1p1f1/Amon/ta/gn/v20200210/ta_Amon_CESM2_aqua-control-lwoff_r1i1p1f1_gn_000101-001012.nc']\n",
      "Start trying to download for CESM2, r1i1p1f1, aqua-control-lwoff ... Found 4 URLs to try.\n",
      "NUMBER OF RESULTS: 4\n",
      "We begin with a list of 4 URLs.\n",
      "File already present: ta_Amon_CESM2_aqua-control-lwoff_r1i1p1f1_gn_000101-001012.nc ----> Skipping.\n",
      "File already present: ta_Amon_CESM2_aqua-control-lwoff_r1i1p1f1_gn_000101-001012.nc ----> Skipping.\n",
      "File already present: ta_Amon_CESM2_aqua-control-lwoff_r1i1p1f1_gn_000101-001012.nc ----> Skipping.\n",
      "Downloading complete. Was able to complete downloading for 1 files. Failed to retrieve 0 URLs.\n",
      "['http://aims3.llnl.gov/thredds/fileServer/css03_data/CMIP6/CFMIP/NCAR/CESM2/aqua-4xCO2/r1i1p1f1/Amon/ta/gn/v20190507/ta_Amon_CESM2_aqua-4xCO2_r1i1p1f1_gn_000101-001012.nc', 'http://esgf-data.ucar.edu/thredds/fileServer/esg_dataroot/CMIP6/CFMIP/NCAR/CESM2/aqua-4xCO2/r1i1p1f1/Amon/ta/gn/v20190507/ta_Amon_CESM2_aqua-4xCO2_r1i1p1f1_gn_000101-001012.nc', 'http://esgf-data3.ceda.ac.uk/thredds/fileServer/esg_cmip6/CMIP6/CFMIP/NCAR/CESM2/aqua-4xCO2/r1i1p1f1/Amon/ta/gn/v20190507/ta_Amon_CESM2_aqua-4xCO2_r1i1p1f1_gn_000101-001012.nc', 'http://esgf-data3.diasjp.net/thredds/fileServer/esg_dataroot/CMIP6/CFMIP/NCAR/CESM2/aqua-4xCO2/r1i1p1f1/Amon/ta/gn/v20190507/ta_Amon_CESM2_aqua-4xCO2_r1i1p1f1_gn_000101-001012.nc', 'http://esgf3.dkrz.de/thredds/fileServer/cmip6/CFMIP/NCAR/CESM2/aqua-4xCO2/r1i1p1f1/Amon/ta/gn/v20190507/ta_Amon_CESM2_aqua-4xCO2_r1i1p1f1_gn_000101-001012.nc']\n",
      "Start trying to download for CESM2, r1i1p1f1, aqua-4xCO2 ... Found 5 URLs to try.\n",
      "NUMBER OF RESULTS: 5\n",
      "We begin with a list of 5 URLs.\n",
      "File already present: ta_Amon_CESM2_aqua-4xCO2_r1i1p1f1_gn_000101-001012.nc ----> Skipping.\n",
      "File already present: ta_Amon_CESM2_aqua-4xCO2_r1i1p1f1_gn_000101-001012.nc ----> Skipping.\n",
      "File already present: ta_Amon_CESM2_aqua-4xCO2_r1i1p1f1_gn_000101-001012.nc ----> Skipping.\n",
      "File already present: ta_Amon_CESM2_aqua-4xCO2_r1i1p1f1_gn_000101-001012.nc ----> Skipping.\n",
      "Downloading complete. Was able to complete downloading for 1 files. Failed to retrieve 0 URLs.\n",
      "['http://aims3.llnl.gov/thredds/fileServer/css03_data/CMIP6/CFMIP/NCAR/CESM2/amip-4xCO2/r1i1p1f1/Amon/ta/gn/v20190408/ta_Amon_CESM2_amip-4xCO2_r1i1p1f1_gn_197901-201412.nc', 'http://esgf-data.ucar.edu/thredds/fileServer/esg_dataroot/CMIP6/CFMIP/NCAR/CESM2/amip-4xCO2/r1i1p1f1/Amon/ta/gn/v20190408/ta_Amon_CESM2_amip-4xCO2_r1i1p1f1_gn_197901-201412.nc', 'http://esgf-data3.ceda.ac.uk/thredds/fileServer/esg_cmip6/CMIP6/CFMIP/NCAR/CESM2/amip-4xCO2/r1i1p1f1/Amon/ta/gn/v20190408/ta_Amon_CESM2_amip-4xCO2_r1i1p1f1_gn_197901-201412.nc', 'http://esgf-data3.diasjp.net/thredds/fileServer/esg_dataroot/CMIP6/CFMIP/NCAR/CESM2/amip-4xCO2/r1i1p1f1/Amon/ta/gn/v20190408/ta_Amon_CESM2_amip-4xCO2_r1i1p1f1_gn_197901-201412.nc', 'http://esgf3.dkrz.de/thredds/fileServer/cmip6/CFMIP/NCAR/CESM2/amip-4xCO2/r1i1p1f1/Amon/ta/gn/v20190408/ta_Amon_CESM2_amip-4xCO2_r1i1p1f1_gn_197901-201412.nc']\n",
      "Start trying to download for CESM2, r1i1p1f1, amip-4xCO2 ... Found 5 URLs to try.\n",
      "NUMBER OF RESULTS: 5\n",
      "We begin with a list of 5 URLs.\n",
      "File already present: ta_Amon_CESM2_amip-4xCO2_r1i1p1f1_gn_197901-201412.nc ----> Skipping.\n",
      "File already present: ta_Amon_CESM2_amip-4xCO2_r1i1p1f1_gn_197901-201412.nc ----> Skipping.\n",
      "File already present: ta_Amon_CESM2_amip-4xCO2_r1i1p1f1_gn_197901-201412.nc ----> Skipping.\n",
      "File already present: ta_Amon_CESM2_amip-4xCO2_r1i1p1f1_gn_197901-201412.nc ----> Skipping.\n",
      "Downloading complete. Was able to complete downloading for 1 files. Failed to retrieve 0 URLs.\n"
     ]
    }
   ],
   "source": [
    "# result = esgf_search(server=\"https://esgf-node.llnl.gov/esg-search/search\",\n",
    "#                 local_node=False, files_type=\"HTTPServer\", project=\"CMIP6\",\n",
    "#                 verbose=False, format=\"application%2Fsolr%2Bjson\",\n",
    "#                 use_csrf=False, variable_id='wap', experiment_id='aqua-control', table_id='day', source_id='IPSL-CM6A-LR')\n",
    "\n",
    "var_to_download = 'ta'\n",
    "table = 'Amon'\n",
    "experiments = ('amip', 'amip-lwoff', 'aqua-control', 'aqua-control-lwoff', 'aqua-4xCO2', 'amip-4xCO2',) # ('amip', 'amip-lwoff', 'aqua-control', 'aqua-control-lwoff')\n",
    "models_to_download =[(\"HadGEM3-GC31-LL\", \"r1i1p1f3\"), (\"HadGEM3-GC31-LL\", \"r5i1p1f2\"), \n",
    "                    ('MRI-ESM2-0', 'r1i1p1f1'),\n",
    "                    ('CNRM-CM6-1', 'r1i1p1f2'),\n",
    "                    ('IPSL-CM6A-LR', 'r1i1p1f1'),\n",
    "                    ('CESM2', 'r1i1p1f1'),\n",
    "                    ]\n",
    "# models_to_download = [('MRI-ESM2-0', 'r1i1p1f1')]\n",
    "\n",
    "downloads=\"/Volumes/Jedha/CMIP6\"\n",
    "\n",
    "for model, member in models_to_download:\n",
    "    for ex in experiments:        \n",
    "        result = esgf_search(server=\"https://esgf-node.llnl.gov/esg-search/search\",\n",
    "                        local_node=False, files_type=\"HTTPServer\", project=\"CMIP6\",\n",
    "                        verbose=False, format=\"application%2Fsolr%2Bjson\",\n",
    "                        use_csrf=False, variable_id=var_to_download, experiment_id=ex, \n",
    "                        table_id=table, source_id=model, variant_label=member)\n",
    "        print(result)\n",
    "        print(f\"Start trying to download for {model}, {member}, {ex} ... Found {len(result)} URLs to try.\")\n",
    "        if len(result) > 0:\n",
    "            print(f\"NUMBER OF RESULTS: {len(result)}\")\n",
    "            completed = wget_needed_tryall(result, downloads=downloads) # wget_needed(url_list, downloads=downloads, dry_run=False)\n",
    "        else:\n",
    "            print(\"No search results were found.\")"
   ]
  },
  {
   "cell_type": "code",
   "execution_count": null,
   "metadata": {},
   "outputs": [],
   "source": [
    "result = esgf_search(files_type=\"HTTPServer\", activity_id='CMIP', table_id='CFmon', variable_id='cltcalipso', experiment_id='amip',\n",
    "                  institution_id=\"NCAR\", source_id=\"CESM2\")\n",
    "\n",
    "# NOTES:\n",
    "# All these are the optional kwargs to the search, and really are just passed to the RESTFul API by constructing a URL string.\n",
    "# Options include:\n",
    "# - member_id=\"r10i1p1f1\"\n",
    "# - source_id=\"CESM2\"\n",
    "# - institution_id=\"NCAR\"\n",
    "# - experiment_id='amip'\n",
    "# - variable_id='cltcalipso'\n",
    "# - table_id='CFmon'\n",
    "# - activity_id='CMIP'\n",
    "# - \n",
    "result"
   ]
  },
  {
   "cell_type": "code",
   "execution_count": null,
   "metadata": {},
   "outputs": [],
   "source": [
    "parse_result_urls(result)"
   ]
  },
  {
   "cell_type": "code",
   "execution_count": null,
   "metadata": {},
   "outputs": [],
   "source": [
    "wget_list(parse_result_urls(result))"
   ]
  },
  {
   "cell_type": "code",
   "execution_count": null,
   "metadata": {},
   "outputs": [],
   "source": [
    "cllcalipso = esgf_search(local_node=False, files_type=\"HTTPServer\", table_id='CFmon', variable_id='cllcalipso', experiment_id='amip', latest=True)\n",
    "parse_result_urls(cllcalipso)\n",
    "wget_list(parse_result_urls(cllcalipso), downloads=\"/Volumes/Glyph6TB/CMIP6/\")"
   ]
  },
  {
   "cell_type": "code",
   "execution_count": null,
   "metadata": {},
   "outputs": [],
   "source": [
    "parse_result_urls(cllcalipso)\n"
   ]
  },
  {
   "cell_type": "code",
   "execution_count": null,
   "metadata": {},
   "outputs": [],
   "source": [
    "diffresult = esgf_search(local_node=False, files_type=\"HTTPServer\", table_id='CFmon', variable_id='cltcalipso', experiment_id='amip', latest=True)\n",
    "parse_result_urls(diffresult)"
   ]
  },
  {
   "cell_type": "code",
   "execution_count": null,
   "metadata": {},
   "outputs": [],
   "source": [
    "wget_list(parse_result_urls(diffresult))"
   ]
  },
  {
   "cell_type": "code",
   "execution_count": null,
   "metadata": {},
   "outputs": [],
   "source": []
  },
  {
   "cell_type": "code",
   "execution_count": null,
   "metadata": {},
   "outputs": [],
   "source": [
    "Path('~').expanduser()"
   ]
  },
  {
   "cell_type": "code",
   "execution_count": null,
   "metadata": {},
   "outputs": [],
   "source": [
    "Path(\"~/Downloads\").expanduser()"
   ]
  },
  {
   "cell_type": "code",
   "execution_count": null,
   "metadata": {},
   "outputs": [],
   "source": [
    "cesm_cfmip_result = esgf_search(local_node=False, files_type=\"HTTPServer\", table_id='CFmon', variable_id='clcalipso', latest=True, institution_id=\"NCAR\")\n",
    "parse_result_urls(cesm_cfmip_result)"
   ]
  },
  {
   "cell_type": "code",
   "execution_count": null,
   "metadata": {},
   "outputs": [],
   "source": [
    "for r in cesm_cfmip_result:\n",
    "    out = []\n",
    "    s = r.split(\"/\")\n",
    "    out.appendprint(s[-7])"
   ]
  },
  {
   "cell_type": "code",
   "execution_count": null,
   "metadata": {},
   "outputs": [],
   "source": [
    "set([r.split(\"/\")[-7] for r in cesm_cfmip_result])"
   ]
  },
  {
   "cell_type": "code",
   "execution_count": null,
   "metadata": {},
   "outputs": [],
   "source": [
    "esgf_search(local_node=False, files_type=\"HTTPServer\", experiment_id='a4SST', activity_id='CFMIP', table_id='Amon')"
   ]
  },
  {
   "cell_type": "code",
   "execution_count": 16,
   "metadata": {},
   "outputs": [
    {
     "data": {
      "text/plain": [
       "False"
      ]
     },
     "execution_count": 16,
     "metadata": {},
     "output_type": "execute_result"
    }
   ],
   "source": [
    "import os\n",
    "SOMEHOST = \"https://esgf-data1.llnl.gov\"\n",
    "HOST_UP  = True if os.system(\"ping -c 5 \" + SOMEHOST.strip(\";\")) == 0 else False\n",
    "HOST_UP"
   ]
  },
  {
   "cell_type": "code",
   "execution_count": 17,
   "metadata": {},
   "outputs": [
    {
     "data": {
      "text/plain": [
       "17408"
      ]
     },
     "execution_count": 17,
     "metadata": {},
     "output_type": "execute_result"
    }
   ],
   "source": [
    "os.system(\"ping -c 5 \" + SOMEHOST)"
   ]
  },
  {
   "cell_type": "code",
   "execution_count": 21,
   "metadata": {},
   "outputs": [
    {
     "name": "stdout",
     "output_type": "stream",
     "text": [
      "200\n"
     ]
    }
   ],
   "source": [
    "\n",
    "print(urllib.request.urlopen(\"http://aims3.llnl.gov\").getcode())  # == 200 for serving being alive, apparently"
   ]
  },
  {
   "cell_type": "code",
   "execution_count": 23,
   "metadata": {},
   "outputs": [
    {
     "name": "stdout",
     "output_type": "stream",
     "text": [
      "<Response [503]>\n"
     ]
    }
   ],
   "source": [
    "rtst = requests.get('http://aims3.llnl.gov/thredds/dodsC/css03_data/CMIP6/CMIP/IPSL/IPSL-CM6A-LR/amip/r10i1p1f1/day/wap/gr/v20181109/wap_day_IPSL-CM6A-LR_amip_r10i1p1f1_gr_19580101-20141231.nc')\n",
    "print(rtst)"
   ]
  },
  {
   "cell_type": "code",
   "execution_count": 24,
   "metadata": {},
   "outputs": [
    {
     "data": {
      "text/plain": [
       "['__attrs__',\n",
       " '__bool__',\n",
       " '__class__',\n",
       " '__delattr__',\n",
       " '__dict__',\n",
       " '__dir__',\n",
       " '__doc__',\n",
       " '__enter__',\n",
       " '__eq__',\n",
       " '__exit__',\n",
       " '__format__',\n",
       " '__ge__',\n",
       " '__getattribute__',\n",
       " '__getstate__',\n",
       " '__gt__',\n",
       " '__hash__',\n",
       " '__init__',\n",
       " '__init_subclass__',\n",
       " '__iter__',\n",
       " '__le__',\n",
       " '__lt__',\n",
       " '__module__',\n",
       " '__ne__',\n",
       " '__new__',\n",
       " '__nonzero__',\n",
       " '__reduce__',\n",
       " '__reduce_ex__',\n",
       " '__repr__',\n",
       " '__setattr__',\n",
       " '__setstate__',\n",
       " '__sizeof__',\n",
       " '__str__',\n",
       " '__subclasshook__',\n",
       " '__weakref__',\n",
       " '_content',\n",
       " '_content_consumed',\n",
       " '_next',\n",
       " 'apparent_encoding',\n",
       " 'close',\n",
       " 'connection',\n",
       " 'content',\n",
       " 'cookies',\n",
       " 'elapsed',\n",
       " 'encoding',\n",
       " 'headers',\n",
       " 'history',\n",
       " 'is_permanent_redirect',\n",
       " 'is_redirect',\n",
       " 'iter_content',\n",
       " 'iter_lines',\n",
       " 'json',\n",
       " 'links',\n",
       " 'next',\n",
       " 'ok',\n",
       " 'raise_for_status',\n",
       " 'raw',\n",
       " 'reason',\n",
       " 'request',\n",
       " 'status_code',\n",
       " 'text',\n",
       " 'url']"
      ]
     },
     "execution_count": 24,
     "metadata": {},
     "output_type": "execute_result"
    }
   ],
   "source": [
    "dir(rtst)"
   ]
  },
  {
   "cell_type": "code",
   "execution_count": 27,
   "metadata": {},
   "outputs": [
    {
     "data": {
      "text/plain": [
       "b'<!DOCTYPE HTML PUBLIC \"-//IETF//DTD HTML 2.0//EN\">\\n<html><head>\\n<title>503 Service Unavailable</title>\\n</head><body>\\n<h1>Service Unavailable</h1>\\n<p>The server is temporarily unable to service your\\nrequest due to maintenance downtime or capacity\\nproblems. Please try again later.</p>\\n</body></html>\\n'"
      ]
     },
     "execution_count": 27,
     "metadata": {},
     "output_type": "execute_result"
    }
   ],
   "source": [
    "rtst.content"
   ]
  },
  {
   "cell_type": "code",
   "execution_count": 28,
   "metadata": {},
   "outputs": [
    {
     "data": {
      "text/plain": [
       "503"
      ]
     },
     "execution_count": 28,
     "metadata": {},
     "output_type": "execute_result"
    }
   ],
   "source": [
    "rtst.status_code"
   ]
  },
  {
   "cell_type": "code",
   "execution_count": 29,
   "metadata": {},
   "outputs": [],
   "source": [
    "rtst2 = requests.get('https://esgf-data1.llnl.gov/thredds/dodsC/css03_data/CMIP6/CMIP/IPSL/IPSL-CM6A-LR/amip/r12i1p1f1/day/wap/gr/v20191121/wap_day_IPSL-CM6A-LR_amip_r12i1p1f1_gr_19580101-20141231.nc')"
   ]
  },
  {
   "cell_type": "code",
   "execution_count": 31,
   "metadata": {},
   "outputs": [
    {
     "data": {
      "text/plain": [
       "b'Error {\\n    code = 400;\\n    message = \"Unrecognized request\";\\n};\\n'"
      ]
     },
     "execution_count": 31,
     "metadata": {},
     "output_type": "execute_result"
    }
   ],
   "source": [
    "rtst2.content"
   ]
  },
  {
   "cell_type": "code",
   "execution_count": 38,
   "metadata": {},
   "outputs": [],
   "source": [
    "pload = {'project':\"CMIP6\", 'type':\"File\", 'format':\"application%2Fsolr%2Bjson\", 'variable_id':\"pr\", \n",
    " 'experiment_id':\"amip-p4K-lwoff\", 'table_id':\"day\", 'source_id':\"CESM2\"}"
   ]
  },
  {
   "cell_type": "code",
   "execution_count": 39,
   "metadata": {},
   "outputs": [
    {
     "name": "stdout",
     "output_type": "stream",
     "text": [
      "<Response [501]>\n"
     ]
    }
   ],
   "source": [
    "r = requests.get(\"https://esgf-node.llnl.gov/esg-search/search\", params=pload)\n",
    "print(r)"
   ]
  },
  {
   "cell_type": "code",
   "execution_count": 40,
   "metadata": {},
   "outputs": [
    {
     "data": {
      "text/plain": [
       "'https://esgf-node.llnl.gov/esg-search/search?project=CMIP6&type=File&format=application%252Fsolr%252Bjson&variable_id=pr&experiment_id=amip-p4K-lwoff&table_id=day&source_id=CESM2'"
      ]
     },
     "execution_count": 40,
     "metadata": {},
     "output_type": "execute_result"
    }
   ],
   "source": [
    "r.url"
   ]
  },
  {
   "cell_type": "code",
   "execution_count": 42,
   "metadata": {},
   "outputs": [
    {
     "data": {
      "text/plain": [
       "'<!doctype html><html lang=\"en\"><head><title>HTTP Status 501 – Not Implemented</title><style type=\"text/css\">h1 {font-family:Tahoma,Arial,sans-serif;color:white;background-color:#525D76;font-size:22px;} h2 {font-family:Tahoma,Arial,sans-serif;color:white;background-color:#525D76;font-size:16px;} h3 {font-family:Tahoma,Arial,sans-serif;color:white;background-color:#525D76;font-size:14px;} body {font-family:Tahoma,Arial,sans-serif;color:black;background-color:white;} b {font-family:Tahoma,Arial,sans-serif;color:white;background-color:#525D76;} p {font-family:Tahoma,Arial,sans-serif;background:white;color:black;font-size:12px;} a {color:black;} a.name {color:black;} .line {height:1px;background-color:#525D76;border:none;}</style></head><body><h1>HTTP Status 501 – Not Implemented</h1><hr class=\"line\" /><p><b>Type</b> Status Report</p><p><b>Message</b> Invalid requested format: application%2Fsolr%2Bjson</p><p><b>Description</b> The server does not support the functionality required to fulfill the request.</p><hr class=\"line\" /><h3>Apache Tomcat/8.5.39</h3></body></html>'"
      ]
     },
     "execution_count": 42,
     "metadata": {},
     "output_type": "execute_result"
    }
   ],
   "source": [
    "r.text"
   ]
  },
  {
   "cell_type": "code",
   "execution_count": 43,
   "metadata": {},
   "outputs": [
    {
     "data": {
      "text/plain": [
       "'application%2Fsolr%2Bjson'"
      ]
     },
     "execution_count": 43,
     "metadata": {},
     "output_type": "execute_result"
    }
   ],
   "source": [
    "pload['format']"
   ]
  },
  {
   "cell_type": "code",
   "execution_count": 13,
   "metadata": {},
   "outputs": [
    {
     "name": "stdout",
     "output_type": "stream",
     "text": [
      "NUMBER OF RESULTS: 3\n",
      "We begin with a list of 3 URLs.\n",
      "File already present: pr_day_HadGEM3-GC31-LL_aqua-4xCO2_r1i1p1f3_gn_19790101-19881230.nc ----> Skipping.\n",
      "File already present: pr_day_HadGEM3-GC31-LL_aqua-4xCO2_r1i1p1f3_gn_19790101-19881230.nc ----> Skipping.\n",
      "File already present: pr_day_HadGEM3-GC31-LL_aqua-4xCO2_r1i1p1f3_gn_19790101-19881230.nc ----> Skipping.\n",
      "Downloading complete. Was able to complete downloading for 0 files. Failed to retrieve 0 URLs.\n",
      "NUMBER OF RESULTS: 3\n",
      "We begin with a list of 3 URLs.\n",
      "File already present: pr_day_HadGEM3-GC31-LL_aqua-p4K_r1i1p1f3_gn_19790101-19881230.nc ----> Skipping.\n",
      "File already present: pr_day_HadGEM3-GC31-LL_aqua-p4K_r1i1p1f3_gn_19790101-19881230.nc ----> Skipping.\n",
      "File already present: pr_day_HadGEM3-GC31-LL_aqua-p4K_r1i1p1f3_gn_19790101-19881230.nc ----> Skipping.\n",
      "Downloading complete. Was able to complete downloading for 0 files. Failed to retrieve 0 URLs.\n",
      "NUMBER OF RESULTS: 2\n",
      "We begin with a list of 2 URLs.\n",
      "File already present: pr_day_HadGEM3-GC31-LL_aqua-p4K-lwoff_r1i1p1f3_gn_19790101-19881230.nc ----> Skipping.\n",
      "File already present: pr_day_HadGEM3-GC31-LL_aqua-p4K-lwoff_r1i1p1f3_gn_19790101-19881230.nc ----> Skipping.\n",
      "Downloading complete. Was able to complete downloading for 0 files. Failed to retrieve 0 URLs.\n",
      "NUMBER OF RESULTS: 2\n",
      "We begin with a list of 2 URLs.\n",
      "File already present: pr_day_HadGEM3-GC31-LL_amip-p4K_r5i1p1f3_gn_19790101-20141230.nc ----> Skipping.\n",
      "File already present: pr_day_HadGEM3-GC31-LL_amip-p4K_r5i1p1f3_gn_19790101-20141230.nc ----> Skipping.\n",
      "Downloading complete. Was able to complete downloading for 0 files. Failed to retrieve 0 URLs.\n",
      "No search results were found for HadGEM3-GC31-LL - amip-p4K-lwoff.\n",
      "NUMBER OF RESULTS: 2\n",
      "We begin with a list of 2 URLs.\n",
      "File already present: pr_day_HadGEM3-GC31-LL_amip-4xCO2_r5i1p1f3_gn_19790101-20141230.nc ----> Skipping.\n",
      "File already present: pr_day_HadGEM3-GC31-LL_amip-4xCO2_r5i1p1f3_gn_19790101-20141230.nc ----> Skipping.\n",
      "Downloading complete. Was able to complete downloading for 0 files. Failed to retrieve 0 URLs.\n"
     ]
    }
   ],
   "source": [
    "# result = esgf_search(server=\"https://esgf-node.llnl.gov/esg-search/search\",\n",
    "#                 local_node=False, files_type=\"HTTPServer\", project=\"CMIP6\",\n",
    "#                 verbose=False, format=\"application%2Fsolr%2Bjson\",\n",
    "#                 use_csrf=False, variable_id='wap', experiment_id='aqua-control', table_id='day', source_id='IPSL-CM6A-LR')\n",
    "\n",
    "var_to_download = 'pr'\n",
    "table = 'day'\n",
    "experiments = ('aqua-4xCO2', 'aqua-p4K', 'aqua-p4K-lwoff', 'amip-p4K', 'amip-p4K-lwoff', 'amip-4xCO2')\n",
    "models_to_download = (\"HadGEM3-GC31-LL\",)\n",
    "\n",
    "downloads=\"/Volumes/Jedha/CMIP6\"\n",
    "\n",
    "for model in models_to_download:\n",
    "    for ex in experiments:        \n",
    "        result = esgf_search(server=\"https://esgf-node.llnl.gov/esg-search/search\",\n",
    "                        local_node=False, files_type=\"HTTPServer\", project=\"CMIP6\",\n",
    "                        verbose=False, format=\"application%2Fsolr%2Bjson\",\n",
    "                        use_csrf=False, variable_id=var_to_download, experiment_id=ex, \n",
    "                        table_id=table, source_id=model)\n",
    "#         print(f\"Start trying to download for {model}, {member}, {ex} ... Found {len(result)} URLs to try.\")\n",
    "        if len(result) > 0:\n",
    "            print(f\"NUMBER OF RESULTS: {len(result)}\")\n",
    "            completed = wget_needed_tryall(result, downloads=downloads) # wget_needed(url_list, downloads=downloads, dry_run=False)\n",
    "        else:\n",
    "            print(f\"No search results were found for {model} - {ex}.\")"
   ]
  },
  {
   "cell_type": "code",
   "execution_count": null,
   "metadata": {},
   "outputs": [],
   "source": []
  }
 ],
 "metadata": {
  "kernelspec": {
   "display_name": "Python 3",
   "language": "python",
   "name": "python3"
  },
  "language_info": {
   "codemirror_mode": {
    "name": "ipython",
    "version": 3
   },
   "file_extension": ".py",
   "mimetype": "text/x-python",
   "name": "python",
   "nbconvert_exporter": "python",
   "pygments_lexer": "ipython3",
   "version": "3.7.8"
  }
 },
 "nbformat": 4,
 "nbformat_minor": 4
}
