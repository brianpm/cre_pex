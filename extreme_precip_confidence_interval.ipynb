{
 "cells": [
  {
   "cell_type": "markdown",
   "metadata": {},
   "source": [
    "# Confidence interval around quantiles\n",
    "\n",
    "There seems to be a few ways to get confidence intervals around quantiles. I think that our confidence intervals for extreme precipitation will be very narrow because of our large sample size. Even the 99th percentile should be fine, but I want to make sure."
   ]
  },
  {
   "cell_type": "code",
   "execution_count": 1,
   "metadata": {},
   "outputs": [],
   "source": [
    "from pathlib import Path\n",
    "import xarray as xr\n",
    "import matplotlib.pyplot as plt\n",
    "import numpy as np\n",
    "import sys\n",
    "from pathlib import Path\n",
    "from importlib import import_module\n",
    "import esmlab\n",
    "\n",
    "import scipy.stats as stats  # going to use stats.mstats.mquantiles_cimj\n",
    "\n",
    "to_import = \"/Users/brianpm/Code/yellowstone/py\"\n",
    "current_path = sys.path\n",
    "if to_import not in current_path:\n",
    "    sys.path.append(to_import)\n",
    "import extreme_precipitation_functions as prf  # get_duration_and_size(events)\n",
    "import cmip_file_utils as cmip  # quick_load_var(loc, var, table, model, experiment, member)"
   ]
  },
  {
   "cell_type": "code",
   "execution_count": 5,
   "metadata": {},
   "outputs": [],
   "source": [
    "# how to reload:\n",
    "from importlib import reload\n",
    "reload(sys.modules['cmip_file_utils'])\n",
    "import cmip_file_utils as cmip"
   ]
  },
  {
   "cell_type": "code",
   "execution_count": 2,
   "metadata": {},
   "outputs": [],
   "source": [
    "def get_tropics_quantiles(da, threshold=None, q=0.99):\n",
    "    da_tropics = da.sel(lat=slice(-30, 30))  # SHOULD BE ADJUSTABLE\n",
    "    da_tropics_val = np.nanquantile(da_tropics, q)\n",
    "    if threshold is not None:\n",
    "        da_climo = da.mean(dim=\"time\")\n",
    "        da_process = np.where(\n",
    "            (da_climo >= threshold).sel(lat=slice(-30, 30)).broadcast_like(da_tropics),\n",
    "            da_tropics,\n",
    "            np.nan,\n",
    "        )\n",
    "        da_threshold_val = np.nanquantile(da_process, q)\n",
    "        print(\n",
    "            f\"Compare the tropics region ({da_tropics_val}) to the rainy tropics ({da_threshold_val})\"\n",
    "        )\n",
    "        return da_threshold_val\n",
    "    else:\n",
    "        print(f\"Quantile value: {da_tropics_val}\")\n",
    "        return da_tropics_val"
   ]
  },
  {
   "cell_type": "code",
   "execution_count": 42,
   "metadata": {},
   "outputs": [],
   "source": [
    "dloc = \"/Volumes/Glyph6TB/CMIP6\"\n",
    "tup1 = ('CNRM-CM6-1', 'aqua-control', 'r1i1p1f2')\n",
    "tup2 = ('CNRM-CM6-1', 'aqua-control-lwoff', 'r1i1p1f2')"
   ]
  },
  {
   "cell_type": "code",
   "execution_count": 43,
   "metadata": {},
   "outputs": [
    {
     "name": "stdout",
     "output_type": "stream",
     "text": [
      "CPU times: user 48.3 ms, sys: 72.9 ms, total: 121 ms\n",
      "Wall time: 1.62 s\n"
     ]
    }
   ],
   "source": [
    "%%time\n",
    "pr1 = cmip.quick_load_var(dloc, 'pr', 'day', *tup1, \n",
    "                          compute=False, \n",
    "                          **{'chunks':{'time':-1, 'lat':50, 'lon':50}})"
   ]
  },
  {
   "cell_type": "code",
   "execution_count": 44,
   "metadata": {},
   "outputs": [
    {
     "name": "stdout",
     "output_type": "stream",
     "text": [
      "CPU times: user 16.2 s, sys: 804 ms, total: 17 s\n",
      "Wall time: 17.7 s\n"
     ]
    }
   ],
   "source": [
    "%%time\n",
    "pr1_trop = pr1.sel(lat=slice(-30,30)).compute()"
   ]
  },
  {
   "cell_type": "code",
   "execution_count": 45,
   "metadata": {},
   "outputs": [
    {
     "name": "stdout",
     "output_type": "stream",
     "text": [
      "CPU times: user 45.6 ms, sys: 55.7 ms, total: 101 ms\n",
      "Wall time: 875 ms\n"
     ]
    }
   ],
   "source": [
    "%%time\n",
    "pr2 = cmip.quick_load_var(dloc, 'pr', 'day', *tup2, \n",
    "                          compute=False)"
   ]
  },
  {
   "cell_type": "code",
   "execution_count": 46,
   "metadata": {},
   "outputs": [
    {
     "name": "stdout",
     "output_type": "stream",
     "text": [
      "CPU times: user 1.68 s, sys: 161 ms, total: 1.84 s\n",
      "Wall time: 2.59 s\n"
     ]
    }
   ],
   "source": [
    "%%time\n",
    "pr2_trop = pr2.sel(lat=slice(-30,30)).compute()"
   ]
  },
  {
   "cell_type": "code",
   "execution_count": 47,
   "metadata": {},
   "outputs": [
    {
     "name": "stdout",
     "output_type": "stream",
     "text": [
      "CPU times: user 809 ms, sys: 11.1 ms, total: 820 ms\n",
      "Wall time: 819 ms\n"
     ]
    }
   ],
   "source": [
    "%%time\n",
    "# calc the quantiles\n",
    "quants = np.arange(0.05, 1, 0.05)\n",
    "quants = np.append(quants, [0.99, 0.999])\n",
    "pr1_quantiles = np.nanquantile(pr1_trop, quants)"
   ]
  },
  {
   "cell_type": "code",
   "execution_count": 48,
   "metadata": {},
   "outputs": [
    {
     "name": "stdout",
     "output_type": "stream",
     "text": [
      "CPU times: user 4min 51s, sys: 9.35 s, total: 5min\n",
      "Wall time: 3min 49s\n"
     ]
    }
   ],
   "source": [
    "%%time\n",
    "ci_lower, ci_upper = stats.mstats.mquantiles_cimj(pr1_trop.values.flatten(), quants, alpha=0.05)"
   ]
  },
  {
   "cell_type": "code",
   "execution_count": 49,
   "metadata": {},
   "outputs": [
    {
     "name": "stdout",
     "output_type": "stream",
     "text": [
      "CPU times: user 4min 56s, sys: 9.03 s, total: 5min 5s\n",
      "Wall time: 3min 53s\n"
     ]
    }
   ],
   "source": [
    "%%time\n",
    "pr2_quantiles = np.nanquantile(pr2_trop, quants)\n",
    "ci_lower2, ci_upper2 = stats.mstats.mquantiles_cimj(pr2_trop.values.flatten(), quants, alpha=0.05)"
   ]
  },
  {
   "cell_type": "code",
   "execution_count": 50,
   "metadata": {},
   "outputs": [
    {
     "data": {
      "text/plain": [
       "(0.8, 1.01)"
      ]
     },
     "execution_count": 50,
     "metadata": {},
     "output_type": "execute_result"
    },
    {
     "data": {
      "image/png": "[encoded data removed]",
      "text/plain": [
       "<Figure size 432x288 with 1 Axes>"
      ]
     },
     "metadata": {
      "needs_background": "light"
     },
     "output_type": "display_data"
    }
   ],
   "source": [
    "fig, ax = plt.subplots()\n",
    "ax.errorbar(quants, 86400.*pr1_quantiles, yerr=np.stack([86400.*ci_lower, 86400.*ci_upper]), elinewidth=3)\n",
    "ax.errorbar(quants, 86400.*pr2_quantiles, yerr=np.stack([86400.*ci_lower2, 86400.*ci_upper2]), capsize=3)\n",
    "ax.set_xlim([0.8, 1.01])"
   ]
  },
  {
   "cell_type": "code",
   "execution_count": 32,
   "metadata": {},
   "outputs": [
    {
     "data": {
      "text/plain": [
       "(2, 21)"
      ]
     },
     "execution_count": 32,
     "metadata": {},
     "output_type": "execute_result"
    }
   ],
   "source": [
    "np.stack([ci_lower, ci_upper]).shape"
   ]
  },
  {
   "cell_type": "code",
   "execution_count": null,
   "metadata": {},
   "outputs": [],
   "source": []
  }
 ],
 "metadata": {
  "kernelspec": {
   "display_name": "Python 3",
   "language": "python",
   "name": "python3"
  },
  "language_info": {
   "codemirror_mode": {
    "name": "ipython",
    "version": 3
   },
   "file_extension": ".py",
   "mimetype": "text/x-python",
   "name": "python",
   "nbconvert_exporter": "python",
   "pygments_lexer": "ipython3",
   "version": "3.8.5"
  }
 },
 "nbformat": 4,
 "nbformat_minor": 4
}
