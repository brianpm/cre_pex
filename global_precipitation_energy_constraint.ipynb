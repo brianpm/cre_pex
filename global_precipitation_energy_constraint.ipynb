{
 "cells": [
  {
   "cell_type": "code",
   "execution_count": 7,
   "metadata": {},
   "outputs": [],
   "source": [
    "# L δP = δRtoa - δRsfc - δH (O'Gorman version => fluxes positive upward)\n",
    "import numpy as np\n",
    "import xarray as xr\n",
    "import esmlab\n",
    "from pathlib import Path\n",
    "import matplotlib.pyplot as plt\n",
    "\n"
   ]
  },
  {
   "cell_type": "code",
   "execution_count": 2,
   "metadata": {},
   "outputs": [],
   "source": [
    "dloc = Path(\"/Volumes/Jedha/CMIP6\")"
   ]
  },
  {
   "cell_type": "code",
   "execution_count": 3,
   "metadata": {},
   "outputs": [],
   "source": [
    "# rlus_Amon_IPSL-CM6A-LR_amip_r1i1p1f1_gr_201501-201712.nc\n",
    "def cmip_loader(loc, v, t, m, c, r):\n",
    "    g = \"_\".join([v, t, m, c, r, \"*.nc\"])\n",
    "    fils = sorted(list(loc.glob(g)))\n",
    "    if len(fils) == 0:\n",
    "        print(f\"No files found: {g}\")\n",
    "        return None\n",
    "    elif len(fils) == 1:\n",
    "        return xr.open_dataset(fils[0])[v]\n",
    "    else:\n",
    "        return xr.open_mfdataset(fils)[v]\n",
    "        "
   ]
  },
  {
   "cell_type": "code",
   "execution_count": 54,
   "metadata": {},
   "outputs": [],
   "source": [
    "# get one variable, global average, and put into dictionary\n",
    "def get_glbavg(VAR):\n",
    "    X = {}\n",
    "    shortnames = {\"CESM2\":\"cesm\", \"CNRM-CM6-1\":\"cnrm\", \"HadGEM3-GC31-LL\":\"hadgem\", \"IPSL-CM6A-LR\":\"ipsl\",  \"MRI-ESM2-0\":\"mri\",\n",
    "                 \"amip\":\"amip\", \"amip-lwoff\":\"amip-off\", \"aqua-control\":\"aqua\", \"aqua-control-lwoff\":\"aqua-off\"}\n",
    "    for M in [\"CESM2\", \"CNRM-CM6-1\", \"HadGEM3-GC31-LL\", \"IPSL-CM6A-LR\",  \"MRI-ESM2-0\" ]:\n",
    "        for EX in [\"amip\", \"amip-lwoff\", \"aqua-control\", \"aqua-control-lwoff\"]:\n",
    "                if MODEL == \"CNRM-CM6-1\":\n",
    "                    REALIZATION = \"r1i1p1f2\"\n",
    "                elif M == \"HadGEM3-GC31-LL\":\n",
    "                    if EX == \"amip\":\n",
    "                        REALIZATION = \"r1i1p1f3\"\n",
    "                    elif EX == \"amip-lwoff\":\n",
    "                        REALIZATION = \"r5i1p1f2\"\n",
    "                    elif 'aqua' in EX:\n",
    "                        REALIZATION = \"r1i1p1f3\"\n",
    "                else:\n",
    "                    REALIZATION = \"r1i1p1f1\"\n",
    "                fullfield = cmip_loader(dloc, VAR, \"Amon\", M, EX, REALIZATION)\n",
    "                if fullfield is not None:\n",
    "                    w = np.cos(np.radians(fullfield['lat']))\n",
    "                    globalmean = esmlab.weighted_mean(fullfield.mean(dim=('lon','time')), dim=['lat'], weights=w).values.item()\n",
    "                    k = shortnames[M]+\"-\"+shortnames[EX]\n",
    "                    X[k] = globalmean\n",
    "    return X"
   ]
  },
  {
   "cell_type": "code",
   "execution_count": 36,
   "metadata": {},
   "outputs": [
    {
     "name": "stderr",
     "output_type": "stream",
     "text": [
      "/Users/brianpm/miniconda3/lib/python3.7/site-packages/xarray/conventions.py:498: SerializationWarning: variable 'rlut' has multiple fill values {1e+20, 1e+20}, decoding all values to NaN.\n",
      "  decode_timedelta=decode_timedelta,\n"
     ]
    },
    {
     "name": "stdout",
     "output_type": "stream",
     "text": [
      "No files found: rlut_Amon_MRI-ESM2-0_aqua-control_r1i1p1f1_*.nc\n",
      "No files found: rlut_Amon_MRI-ESM2-0_aqua-control-lwoff_r1i1p1f1_*.nc\n"
     ]
    },
    {
     "name": "stderr",
     "output_type": "stream",
     "text": [
      "/Users/brianpm/miniconda3/lib/python3.7/site-packages/xarray/conventions.py:498: SerializationWarning: variable 'rlutcs' has multiple fill values {1e+20, 1e+20}, decoding all values to NaN.\n",
      "  decode_timedelta=decode_timedelta,\n"
     ]
    },
    {
     "name": "stdout",
     "output_type": "stream",
     "text": [
      "No files found: rlutcs_Amon_MRI-ESM2-0_aqua-control_r1i1p1f1_*.nc\n",
      "No files found: rlutcs_Amon_MRI-ESM2-0_aqua-control-lwoff_r1i1p1f1_*.nc\n"
     ]
    }
   ],
   "source": [
    "rlut = get_glbavg(\"rlut\")\n",
    "rlutcs = get_glbavg(\"rlutcs\")\n",
    "\n",
    "lwcre = {}\n",
    "for i in rlut:\n",
    "    if i in rlutcs:\n",
    "        lwcre[i] = rlutcs[i] - rlut[i]"
   ]
  },
  {
   "cell_type": "code",
   "execution_count": 40,
   "metadata": {},
   "outputs": [
    {
     "name": "stderr",
     "output_type": "stream",
     "text": [
      "/Users/brianpm/miniconda3/lib/python3.7/site-packages/xarray/conventions.py:498: SerializationWarning: variable 'rlds' has multiple fill values {1e+20, 1e+20}, decoding all values to NaN.\n",
      "  decode_timedelta=decode_timedelta,\n"
     ]
    },
    {
     "name": "stdout",
     "output_type": "stream",
     "text": [
      "No files found: rlds_Amon_MRI-ESM2-0_aqua-control_r1i1p1f1_*.nc\n",
      "No files found: rlds_Amon_MRI-ESM2-0_aqua-control-lwoff_r1i1p1f1_*.nc\n"
     ]
    },
    {
     "name": "stderr",
     "output_type": "stream",
     "text": [
      "/Users/brianpm/miniconda3/lib/python3.7/site-packages/xarray/conventions.py:498: SerializationWarning: variable 'rldscs' has multiple fill values {1e+20, 1e+20}, decoding all values to NaN.\n",
      "  decode_timedelta=decode_timedelta,\n"
     ]
    },
    {
     "name": "stdout",
     "output_type": "stream",
     "text": [
      "No files found: rldscs_Amon_MRI-ESM2-0_aqua-control_r1i1p1f1_*.nc\n",
      "No files found: rldscs_Amon_MRI-ESM2-0_aqua-control-lwoff_r1i1p1f1_*.nc\n"
     ]
    }
   ],
   "source": [
    "rlds = get_glbavg(\"rlds\")\n",
    "rldscs = get_glbavg(\"rldscs\")\n",
    "\n",
    "lwcre_sfc = {}\n",
    "for i in rlds:\n",
    "    if i in rldscs:\n",
    "        lwcre_sfc[i] = rldscs[i] - rlds[i]"
   ]
  },
  {
   "cell_type": "code",
   "execution_count": 41,
   "metadata": {},
   "outputs": [
    {
     "data": {
      "text/plain": [
       "{'cesm-amip': -27.466924652403804,\n",
       " 'cesm-amip-off': -22.797060945353394,\n",
       " 'cesm-aqua': -40.24013889325323,\n",
       " 'cesm-aqua-off': -35.21459054792166,\n",
       " 'cnrm-amip': -25.148659947460658,\n",
       " 'cnrm-amip-off': 0.0,\n",
       " 'cnrm-aqua': -31.480549057314988,\n",
       " 'cnrm-aqua-off': 0.0,\n",
       " 'hadgem-amip': -25.996770555103183,\n",
       " 'hadgem-amip-off': 0.0,\n",
       " 'hadgem-aqua': -33.61595103938225,\n",
       " 'hadgem-aqua-off': 0.0,\n",
       " 'ipsl-amip': -29.469329833984375,\n",
       " 'ipsl-amip-off': 0.0,\n",
       " 'ipsl-aqua': -43.71173095703125,\n",
       " 'ipsl-aqua-off': 0.0,\n",
       " 'mri-amip': -27.455639596185165,\n",
       " 'mri-amip-off': -23.948713445837143}"
      ]
     },
     "execution_count": 41,
     "metadata": {},
     "output_type": "execute_result"
    }
   ],
   "source": [
    "lwcre_sfc"
   ]
  },
  {
   "cell_type": "code",
   "execution_count": 67,
   "metadata": {},
   "outputs": [
    {
     "data": {
      "image/png": "[encoded data removed]",
      "text/plain": [
       "<Figure size 432x288 with 1 Axes>"
      ]
     },
     "metadata": {
      "needs_background": "light"
     },
     "output_type": "display_data"
    }
   ],
   "source": [
    "# visualize the δOLR\n",
    "# use rlut for control, but rlutcs for lwoff\n",
    "olr_correct = {}\n",
    "for i in rlut:\n",
    "    if 'off' in i:\n",
    "        olr_correct[i] = rlutcs[i]\n",
    "    else:\n",
    "        olr_correct[i] = rlut[i]\n",
    "fig, ax = plt.subplots()\n",
    "bot=200\n",
    "ax.bar(np.arange(len(olr_correct)), np.array(list(olr_correct.values()))-bot, bottom=bot)\n",
    "ax.set_xticks(np.arange(len(olr_correct)))\n",
    "ax.set_xticklabels(olr_correct.keys(), rotation=90)\n",
    "ax.set_title(\"OLR, global & time average\")\n",
    "fig.savefig(\"/Users/brianpm/Dropbox/Projects/extremes/cmip_lwoff_OLRcorrect_bars.pdf\", bbox_inches='tight')"
   ]
  },
  {
   "cell_type": "code",
   "execution_count": 62,
   "metadata": {},
   "outputs": [],
   "source": [
    "# Note:\n",
    "# Some models (CESM2 for sure, likely MRI) have diagnostic LW fluxes that **do** include clouds,\n",
    "# so you should use the clear-sky fluxes for analysis/budgets.\n",
    "# BUT you need to use the clear-sky fluxes only for the lwoff experiments!\n",
    "VARIABLES = [\"rsdt\", \"rsut\", \"rlut\", \"rlutcs\", \"rsds\", \"rsus\", \"rlds\", \"rldscs\", \"rlus\", \"hfss\", 'hfls', 'pr', 'prw']\n",
    "\n",
    "# MODEL = \"MRI-ESM2-0\" # \"IPSL-CM6A-LR\" # \"CNRM-CM6-1\" # \"CESM2\" # \"CESM2\"  #  # \n",
    "CASE0 = \"amip\" # \"aqua-control\" #  \n",
    "CASE1 = \"amip-lwoff\" # \"aqua-control-lwoff\" #  \n",
    "# REALIZATION = \"r1i1p1f1\"\n"
   ]
  },
  {
   "cell_type": "code",
   "execution_count": 63,
   "metadata": {},
   "outputs": [
    {
     "name": "stdout",
     "output_type": "stream",
     "text": [
      "CESM2\n"
     ]
    },
    {
     "name": "stderr",
     "output_type": "stream",
     "text": [
      "/Users/brianpm/miniconda3/lib/python3.7/site-packages/xarray/conventions.py:498: SerializationWarning: variable 'rsdt' has multiple fill values {1e+20, 1e+20}, decoding all values to NaN.\n",
      "  decode_timedelta=decode_timedelta,\n",
      "/Users/brianpm/miniconda3/lib/python3.7/site-packages/xarray/conventions.py:498: SerializationWarning: variable 'rsut' has multiple fill values {1e+20, 1e+20}, decoding all values to NaN.\n",
      "  decode_timedelta=decode_timedelta,\n",
      "/Users/brianpm/miniconda3/lib/python3.7/site-packages/xarray/conventions.py:498: SerializationWarning: variable 'rlut' has multiple fill values {1e+20, 1e+20}, decoding all values to NaN.\n",
      "  decode_timedelta=decode_timedelta,\n",
      "/Users/brianpm/miniconda3/lib/python3.7/site-packages/xarray/conventions.py:498: SerializationWarning: variable 'rlutcs' has multiple fill values {1e+20, 1e+20}, decoding all values to NaN.\n",
      "  decode_timedelta=decode_timedelta,\n",
      "/Users/brianpm/miniconda3/lib/python3.7/site-packages/xarray/conventions.py:498: SerializationWarning: variable 'rsds' has multiple fill values {1e+20, 1e+20}, decoding all values to NaN.\n",
      "  decode_timedelta=decode_timedelta,\n",
      "/Users/brianpm/miniconda3/lib/python3.7/site-packages/xarray/conventions.py:498: SerializationWarning: variable 'rsus' has multiple fill values {1e+20, 1e+20}, decoding all values to NaN.\n",
      "  decode_timedelta=decode_timedelta,\n",
      "/Users/brianpm/miniconda3/lib/python3.7/site-packages/xarray/conventions.py:498: SerializationWarning: variable 'rlds' has multiple fill values {1e+20, 1e+20}, decoding all values to NaN.\n",
      "  decode_timedelta=decode_timedelta,\n",
      "/Users/brianpm/miniconda3/lib/python3.7/site-packages/xarray/conventions.py:498: SerializationWarning: variable 'rldscs' has multiple fill values {1e+20, 1e+20}, decoding all values to NaN.\n",
      "  decode_timedelta=decode_timedelta,\n",
      "/Users/brianpm/miniconda3/lib/python3.7/site-packages/xarray/conventions.py:498: SerializationWarning: variable 'rlus' has multiple fill values {1e+20, 1e+20}, decoding all values to NaN.\n",
      "  decode_timedelta=decode_timedelta,\n",
      "/Users/brianpm/miniconda3/lib/python3.7/site-packages/xarray/conventions.py:498: SerializationWarning: variable 'hfss' has multiple fill values {1e+20, 1e+20}, decoding all values to NaN.\n",
      "  decode_timedelta=decode_timedelta,\n",
      "/Users/brianpm/miniconda3/lib/python3.7/site-packages/xarray/conventions.py:498: SerializationWarning: variable 'hfls' has multiple fill values {1e+20, 1e+20}, decoding all values to NaN.\n",
      "  decode_timedelta=decode_timedelta,\n",
      "/Users/brianpm/miniconda3/lib/python3.7/site-packages/xarray/conventions.py:498: SerializationWarning: variable 'pr' has multiple fill values {1e+20, 1e+20}, decoding all values to NaN.\n",
      "  decode_timedelta=decode_timedelta,\n",
      "/Users/brianpm/miniconda3/lib/python3.7/site-packages/xarray/conventions.py:498: SerializationWarning: variable 'prw' has multiple fill values {1e+20, 1e+20}, decoding all values to NaN.\n",
      "  decode_timedelta=decode_timedelta,\n"
     ]
    },
    {
     "name": "stdout",
     "output_type": "stream",
     "text": [
      "Surface imbalance: (control) -3.962, (perturbed)  8.788, difference = 12.750\n",
      "-12.668118990253674 + 16.995954466865214 + -0.5517143161004014 = 3.7761211605111384\n",
      "δP = -3.6368985116724284\n",
      "δE = -3.6938362920707704\n",
      "δPRW = -1.1652383888711597\n",
      "CESM2 & -3.6 & -3.7 & -12.7 & 17.0 & -0.6 & -3.8\n",
      "CNRM-CM6-1\n",
      "Surface imbalance: (control)  0.253, (perturbed) 15.752, difference = 15.498\n",
      "-15.479893088902116 + 19.84039397308817 + 0.07609687212636018 = 4.436597756312413\n",
      "δP = -4.362056636814254\n",
      "δE = -4.418114290675007\n",
      "δPRW = -1.3950838162766672\n",
      "CNRM-CM6-1 & -4.4 & -4.4 & -15.5 & 19.8 & 0.1 & -4.4\n",
      "HadGEM3-GC31-LL\n",
      "Surface imbalance: (control) -0.905, (perturbed) 12.215, difference = 13.120\n",
      "-13.072275774673017 + 17.18274474505199 + -0.754578423765917 = 3.3558905466130575\n",
      "δP = -3.238369789511023\n",
      "δE = -3.3081098119939725\n",
      "δPRW = -1.4990674513702231\n",
      "HadGEM3-GC31-LL & -3.2 & -3.3 & -13.1 & 17.2 & -0.8 & -3.4\n",
      "IPSL-CM6A-LR\n",
      "Surface imbalance: (control) -2.931, (perturbed)  9.568, difference = 12.499\n",
      "-12.512710571289062 + 18.1861572265625 + -1.408651351928711 = 4.264795303344727\n",
      "δP = -4.225937843322754\n",
      "δE = -4.278312683105469\n",
      "δPRW = -1.5664501190185547\n",
      "IPSL-CM6A-LR & -4.2 & -4.3 & -12.5 & 18.2 & -1.4 & -4.3\n",
      "MRI-ESM2-0\n",
      "Surface imbalance: (control) -2.082, (perturbed) 13.852, difference = 15.933\n",
      "-15.908681658484 + 21.150947889806275 + -1.7477667650959319 = 3.494499466226344\n",
      "δP = -3.3736416212680544\n",
      "δE = -3.469716677272501\n",
      "δPRW = -2.028473406871921\n",
      "MRI-ESM2-0 & -3.4 & -3.5 & -15.9 & 21.2 & -1.7 & -3.5\n"
     ]
    }
   ],
   "source": [
    "L = 2.501e6\n",
    "\n",
    "# hold on to global avgs for plots\n",
    "toa_sw = {}\n",
    "toa_lw = {}\n",
    "sfc_sw = {}\n",
    "sfc_lw = {}\n",
    "sfc_sh = {}\n",
    "sfc_lh = {}\n",
    "\n",
    "for MODEL in [\"CESM2\", \"CNRM-CM6-1\", \"HadGEM3-GC31-LL\", \"IPSL-CM6A-LR\",  \"MRI-ESM2-0\" ]:\n",
    "    print(MODEL)\n",
    "    if MODEL == \"CNRM-CM6-1\":\n",
    "        REALIZATION0 = REALIZATION1 = \"r1i1p1f2\"\n",
    "    elif MODEL == \"HadGEM3-GC31-LL\":\n",
    "        if CASE0 == \"amip\":\n",
    "            REALIZATION0 = \"r1i1p1f3\"\n",
    "            REALIZATION1 = \"r5i1p1f2\"\n",
    "        elif CASE0 == \"aqua-control\":\n",
    "            REALIZATION0 = REALIZATION1 = \"r1i1p1f3\"            \n",
    "    else:\n",
    "        REALIZATION0 = REALIZATION1 = \"r1i1p1f1\"\n",
    "    data0 = {}\n",
    "    data1 = {}\n",
    "    has_variables = True\n",
    "    for v in VARIABLES:\n",
    "        data0[v] = cmip_loader(dloc, v, \"Amon\", MODEL, CASE0, REALIZATION0)\n",
    "        data1[v] = cmip_loader(dloc, v, \"Amon\", MODEL, CASE1, REALIZATION1)\n",
    "        if data0[v] is None:\n",
    "            data0.pop(v)\n",
    "            has_variables = False\n",
    "        if data1[v] is None:\n",
    "            data1.pop(v)\n",
    "            has_variables = False\n",
    "    if not has_variables:\n",
    "        continue\n",
    "\n",
    "    \n",
    "    glb0 = {}\n",
    "    glb1 = {}\n",
    "    for i in data0:\n",
    "        w = np.cos(np.radians(data0[i]['lat']))\n",
    "        glb0[i] = esmlab.weighted_mean(data0[i].mean(dim=('time','lon')), dim=[\"lat\"], weights=w)\n",
    "    for i in data1:\n",
    "        w = np.cos(np.radians(data1[i]['lat']))\n",
    "        glb1[i] = esmlab.weighted_mean(data1[i].mean(dim=('time','lon')), dim=[\"lat\"], weights=w)\n",
    "\n",
    "    # L δP = δRtoa - δRsfc - δH\n",
    "\n",
    "    # Atmospheric energy => positive fluxes are \"into\" the atmosphere\n",
    "    # L δP = -δRtoa - δRsfc - δH \n",
    "    \n",
    "    # use clear-sky for lwoff experiments ... (*1)\n",
    "    drtoa = (glb1['rsdt'] - glb1['rsut'] - glb1['rlutcs']) - \\\n",
    "            (glb0['rsdt'] - glb0['rsut'] - glb0['rlut'])\n",
    "    dh = glb1['hfss'] - glb0['hfss']\n",
    "    dpr = L*(glb1['pr'] - glb0['pr'])\n",
    "    dlhflx = (glb1['hfls'] - glb0['hfls'])\n",
    "    # I think that for AMIP/AQUA, the fixed SST/ice means surface imbalance is probably not as constrained, so look:\n",
    "    rsfc0 = (-glb0['rsds'] - glb0['rlds'] + glb0['rsus'] + glb0['rlus'])\n",
    "    rsfc1 = (-glb1['rsds'] - glb1['rldscs'] + glb1['rsus'] + glb1['rlus'])\n",
    "    drsfc = rsfc1 - rsfc0\n",
    "    ressurf0 = rsfc0 + glb0['hfls'] + glb0['hfss']\n",
    "    ressurf1 = rsfc1 + glb1['hfls'] + glb1['hfss']\n",
    "    print(f\"Surface imbalance: (control) {ressurf0.values:6.3f}, (perturbed) {ressurf1.values:6.3f}, difference = {(ressurf1-ressurf0).values:6.3f}\")\n",
    "    print(f\"{drtoa.values} + {drsfc.values} + {dh.values} = {(drtoa + drsfc + dh).values}\")\n",
    "    print(f\"δP = {dpr.values}\")\n",
    "    print(f\"δE = {dlhflx.values}\")\n",
    "    print(f\"δPRW = {(glb1['prw'] - glb0['prw']).values}\")\n",
    "    print(f\"{MODEL} & {dpr.values:3.1f} & {dlhflx.values:3.1f} & {drtoa.values:3.1f} & {drsfc.values:3.1f} & {dh.values:3.1f} & {(-drtoa - drsfc - dh).values:3.1f}\")\n",
    "    \n",
    "    toa_sw[\"_\".join([MODEL,CASE0])] = (glb0['rsdt'] - glb0['rsut']).values.item()\n",
    "    toa_sw[\"_\".join([MODEL,CASE1])] = (glb1['rsdt'] - glb1['rsut']).values.item() # net upward sw flux\n",
    "    toa_lw[\"_\".join([MODEL,CASE0])] = (glb0['rlut']).values.item() # upward lw flux\n",
    "    toa_lw[\"_\".join([MODEL,CASE1])] = (glb1['rlutcs']).values.item() # upward lw flux **use clearsky for LWOFF\n",
    "    sfc_sw[\"_\".join([MODEL,CASE0])] = (glb0['rsus'] - glb0['rsds']).values.item() # net upward sw flux\n",
    "    sfc_sw[\"_\".join([MODEL,CASE1])] = (glb1['rsus'] - glb1['rsds']).values.item()\n",
    "    sfc_lw[\"_\".join([MODEL,CASE0])] = (glb0['rlus'] - glb0['rlds']).values.item() # net upward lw flux\n",
    "    sfc_lw[\"_\".join([MODEL,CASE1])] = (glb1['rlus'] - glb1['rldscs']).values.item()\n",
    "    sfc_sh[\"_\".join([MODEL,CASE0])] = glb0['hfss'].values.item()\n",
    "    sfc_sh[\"_\".join([MODEL,CASE1])] = glb1['hfss'].values.item()\n",
    "    sfc_lh[\"_\".join([MODEL,CASE0])] = glb0['hfls'].values.item()\n",
    "    sfc_lh[\"_\".join([MODEL,CASE1])] = glb1['hfls'].values.item()"
   ]
  },
  {
   "cell_type": "code",
   "execution_count": 59,
   "metadata": {},
   "outputs": [
    {
     "data": {
      "text/plain": [
       "{'cesm-amip': 238.0526155592835,\n",
       " 'cesm-amip-off': 235.43461851563595,\n",
       " 'cesm-aqua': 227.29511520788338,\n",
       " 'cesm-aqua-off': 225.07610839946426,\n",
       " 'cnrm-amip': 238.1980624145999,\n",
       " 'cnrm-amip-off': 256.3543160735536,\n",
       " 'cnrm-aqua': 233.02272962854997,\n",
       " 'cnrm-aqua-off': 256.19433943648625,\n",
       " 'hadgem-amip': 240.78337220838014,\n",
       " 'hadgem-amip-off': 260.44294916634226,\n",
       " 'hadgem-aqua': 231.98320319818112,\n",
       " 'hadgem-aqua-off': 259.30868889414154,\n",
       " 'ipsl-amip': 237.94119262695312,\n",
       " 'ipsl-amip-off': 260.0086975097656,\n",
       " 'ipsl-aqua': 227.0421905517578,\n",
       " 'ipsl-aqua-off': 260.163818359375,\n",
       " 'mri-amip': 239.09466166534497,\n",
       " 'mri-amip-off': 240.00644632818089}"
      ]
     },
     "execution_count": 59,
     "metadata": {},
     "output_type": "execute_result"
    }
   ],
   "source": [
    "rlut"
   ]
  },
  {
   "cell_type": "code",
   "execution_count": 58,
   "metadata": {},
   "outputs": [
    {
     "data": {
      "text/plain": [
       "{'cesm-amip': 262.14375951216164,\n",
       " 'cesm-amip-off': 258.24031363881045,\n",
       " 'cesm-aqua': 259.2399412574777,\n",
       " 'cesm-aqua-off': 255.86578116259952,\n",
       " 'cnrm-amip': 260.38499190240776,\n",
       " 'cnrm-amip-off': 256.3543160735536,\n",
       " 'cnrm-aqua': 257.8907395343314,\n",
       " 'cnrm-aqua-off': 256.19433943648625,\n",
       " 'hadgem-amip': 263.4922761850152,\n",
       " 'hadgem-amip-off': 260.44294589139076,\n",
       " 'hadgem-aqua': 260.9797557150099,\n",
       " 'hadgem-aqua-off': 259.3086892021664,\n",
       " 'ipsl-amip': 262.8774719238281,\n",
       " 'ipsl-amip-off': 260.0086975097656,\n",
       " 'ipsl-aqua': 260.50408935546875,\n",
       " 'ipsl-aqua-off': 260.163818359375,\n",
       " 'mri-amip': 263.11159822657555,\n",
       " 'mri-amip-off': 260.09405285754366}"
      ]
     },
     "execution_count": 58,
     "metadata": {},
     "output_type": "execute_result"
    }
   ],
   "source": [
    "rlutcs"
   ]
  },
  {
   "cell_type": "code",
   "execution_count": 64,
   "metadata": {},
   "outputs": [
    {
     "data": {
      "text/plain": [
       "Text(0.5, 1.0, 'SFC Balance')"
      ]
     },
     "execution_count": 64,
     "metadata": {},
     "output_type": "execute_result"
    },
    {
     "data": {
      "image/png": "[encoded data removed]",
      "text/plain": [
       "<Figure size 432x288 with 2 Axes>"
      ]
     },
     "metadata": {
      "needs_background": "light"
     },
     "output_type": "display_data"
    }
   ],
   "source": [
    "\n",
    "fig, ax = plt.subplots(nrows=2, sharex=True)\n",
    "ax[0].bar(np.arange(1, len(toa_sw)+1), toa_sw.values(), alpha=0.5)\n",
    "ax[0].bar(np.arange(1, len(toa_lw)+1), -np.array(list(toa_lw.values())), alpha=0.5)\n",
    "ax[0].scatter(np.arange(1, len(toa_lw)+1), np.array(list(toa_sw.values()))-np.array(list(toa_lw.values())), marker='x', color='black')\n",
    "\n",
    "ax[1].bar(np.arange(1, len(sfc_sw)+1), sfc_sw.values(), alpha=0.5)\n",
    "ax[1].bar(np.arange(1, len(sfc_lw)+1), sfc_lw.values(), alpha=0.5)\n",
    "ax[1].bar(np.arange(1, len(sfc_lw)+1), sfc_sh.values(), bottom=list(sfc_lw.values()))\n",
    "ax[1].bar(np.arange(1, len(sfc_lw)+1), sfc_lh.values(), bottom=np.array(list(sfc_lw.values()))+np.array(list(sfc_sh.values())))\n",
    "ax[1].scatter(np.arange(1, len(sfc_lw)+1), np.array(list(sfc_sw.values())) + np.array(list(sfc_lw.values()))+np.array(list(sfc_lw.values()))+np.array(list(sfc_sh.values())))\n",
    "\n",
    "ax[1].set_xticks(np.arange(1, len(sfc_sw)+1))\n",
    "ax[1].set_xticklabels(sfc_sw.keys(), rotation=90)\n",
    "\n",
    "ax[0].set_title(\"TOA Balance\")\n",
    "ax[1].set_title(\"SFC Balance\")"
   ]
  },
  {
   "cell_type": "code",
   "execution_count": 68,
   "metadata": {},
   "outputs": [
    {
     "data": {
      "text/plain": [
       "Text(0.5, 1.0, 'LW_sfc, global & time average')"
      ]
     },
     "execution_count": 68,
     "metadata": {},
     "output_type": "execute_result"
    },
    {
     "data": {
      "image/png": "[encoded data removed]",
      "text/plain": [
       "<Figure size 432x288 with 1 Axes>"
      ]
     },
     "metadata": {
      "needs_background": "light"
     },
     "output_type": "display_data"
    }
   ],
   "source": [
    "# visualize the δRsfc\n",
    "fig, ax = plt.subplots()\n",
    "ax.bar(np.arange(len(sfc_lw)), np.array(list(sfc_lw.values())))\n",
    "ax.set_xticks(np.arange(len(sfc_lw)))\n",
    "ax.set_xticklabels(sfc_lw.keys(), rotation=90)\n",
    "ax.set_title(\"LW_sfc, global & time average\")\n",
    "# fig.savefig(\"/Users/brianpm/Dropbox/Projects/extremes/cmip_lwoff_OLRcorrect_bars.pdf\", bbox_inches='tight')"
   ]
  },
  {
   "cell_type": "code",
   "execution_count": 101,
   "metadata": {},
   "outputs": [
    {
     "name": "stdout",
     "output_type": "stream",
     "text": [
      "[('rsdt', 340.35496689055265), ('rsut', 91.19573888473442), ('rlut', 235.43461851563595), ('rsds', 200.56782329133765), ('rsus', 26.108805379914813), ('rlds', 334.21612020749205), ('rlus', 393.8249469077779), ('hfss', 21.097049177031543), ('hfls', 79.74416502699901), ('pr', 3.1894594603906825e-05)]\n"
     ]
    }
   ],
   "source": [
    "print([(i, glb[i].values.item()) for i in glb])"
   ]
  },
  {
   "cell_type": "code",
   "execution_count": 86,
   "metadata": {},
   "outputs": [
    {
     "data": {
      "text/plain": [
       "79.76838110437097"
      ]
     },
     "execution_count": 86,
     "metadata": {},
     "output_type": "execute_result"
    }
   ],
   "source": [
    "glb['pr'].values.item()*2.501e6"
   ]
  },
  {
   "cell_type": "code",
   "execution_count": 54,
   "metadata": {},
   "outputs": [
    {
     "data": {
      "text/plain": [
       "dict_values([241.63964891654496, 249.15922800581822, 238.68703648594055, 241.36339705599215, 240.16539001464844, 249.72018432617188, 241.13717530852193, 246.22788484223662])"
      ]
     },
     "execution_count": 54,
     "metadata": {},
     "output_type": "execute_result"
    }
   ],
   "source": [
    "toa_sw.values()"
   ]
  },
  {
   "cell_type": "code",
   "execution_count": 149,
   "metadata": {},
   "outputs": [
    {
     "name": "stderr",
     "output_type": "stream",
     "text": [
      "/Users/brianpm/miniconda3/envs/py38/lib/python3.8/site-packages/xarray/conventions.py:492: SerializationWarning: variable 'pr' has multiple fill values {1e+20, 1e+20}, decoding all values to NaN.\n",
      "  new_vars[k] = decode_cf_variable(\n"
     ]
    }
   ],
   "source": [
    "cc = xr.open_dataset(dloc / 'pr_Amon_CESM2_amip_r1i1p1f1_gn_195001-201412.nc')"
   ]
  },
  {
   "cell_type": "code",
   "execution_count": 150,
   "metadata": {},
   "outputs": [
    {
     "data": {
      "text/html": [
       "<div><svg style=\"position: absolute; width: 0; height: 0; overflow: hidden\">\n",
       "<defs>\n",
       "<symbol id=\"icon-database\" viewBox=\"0 0 32 32\">\n",
       "<path d=\"M16 0c-8.837 0-16 2.239-16 5v4c0 2.761 7.163 5 16 5s16-2.239 16-5v-4c0-2.761-7.163-5-16-5z\"></path>\n",
       "<path d=\"M16 17c-8.837 0-16-2.239-16-5v6c0 2.761 7.163 5 16 5s16-2.239 16-5v-6c0 2.761-7.163 5-16 5z\"></path>\n",
       "<path d=\"M16 26c-8.837 0-16-2.239-16-5v6c0 2.761 7.163 5 16 5s16-2.239 16-5v-6c0 2.761-7.163 5-16 5z\"></path>\n",
       "</symbol>\n",
       "<symbol id=\"icon-file-text2\" viewBox=\"0 0 32 32\">\n",
       "<path d=\"M28.681 7.159c-0.694-0.947-1.662-2.053-2.724-3.116s-2.169-2.030-3.116-2.724c-1.612-1.182-2.393-1.319-2.841-1.319h-15.5c-1.378 0-2.5 1.121-2.5 2.5v27c0 1.378 1.122 2.5 2.5 2.5h23c1.378 0 2.5-1.122 2.5-2.5v-19.5c0-0.448-0.137-1.23-1.319-2.841zM24.543 5.457c0.959 0.959 1.712 1.825 2.268 2.543h-4.811v-4.811c0.718 0.556 1.584 1.309 2.543 2.268zM28 29.5c0 0.271-0.229 0.5-0.5 0.5h-23c-0.271 0-0.5-0.229-0.5-0.5v-27c0-0.271 0.229-0.5 0.5-0.5 0 0 15.499-0 15.5 0v7c0 0.552 0.448 1 1 1h7v19.5z\"></path>\n",
       "<path d=\"M23 26h-14c-0.552 0-1-0.448-1-1s0.448-1 1-1h14c0.552 0 1 0.448 1 1s-0.448 1-1 1z\"></path>\n",
       "<path d=\"M23 22h-14c-0.552 0-1-0.448-1-1s0.448-1 1-1h14c0.552 0 1 0.448 1 1s-0.448 1-1 1z\"></path>\n",
       "<path d=\"M23 18h-14c-0.552 0-1-0.448-1-1s0.448-1 1-1h14c0.552 0 1 0.448 1 1s-0.448 1-1 1z\"></path>\n",
       "</symbol>\n",
       "</defs>\n",
       "</svg>\n",
       "<style>/* CSS stylesheet for displaying xarray objects in jupyterlab.\n",
       " *\n",
       " */\n",
       "\n",
       ":root {\n",
       "  --xr-font-color0: var(--jp-content-font-color0, rgba(0, 0, 0, 1));\n",
       "  --xr-font-color2: var(--jp-content-font-color2, rgba(0, 0, 0, 0.54));\n",
       "  --xr-font-color3: var(--jp-content-font-color3, rgba(0, 0, 0, 0.38));\n",
       "  --xr-border-color: var(--jp-border-color2, #e0e0e0);\n",
       "  --xr-disabled-color: var(--jp-layout-color3, #bdbdbd);\n",
       "  --xr-background-color: var(--jp-layout-color0, white);\n",
       "  --xr-background-color-row-even: var(--jp-layout-color1, white);\n",
       "  --xr-background-color-row-odd: var(--jp-layout-color2, #eeeeee);\n",
       "}\n",
       "\n",
       "html[theme=dark],\n",
       "body.vscode-dark {\n",
       "  --xr-font-color0: rgba(255, 255, 255, 1);\n",
       "  --xr-font-color2: rgba(255, 255, 255, 0.54);\n",
       "  --xr-font-color3: rgba(255, 255, 255, 0.38);\n",
       "  --xr-border-color: #1F1F1F;\n",
       "  --xr-disabled-color: #515151;\n",
       "  --xr-background-color: #111111;\n",
       "  --xr-background-color-row-even: #111111;\n",
       "  --xr-background-color-row-odd: #313131;\n",
       "}\n",
       "\n",
       ".xr-wrap {\n",
       "  display: block;\n",
       "  min-width: 300px;\n",
       "  max-width: 700px;\n",
       "}\n",
       "\n",
       ".xr-text-repr-fallback {\n",
       "  /* fallback to plain text repr when CSS is not injected (untrusted notebook) */\n",
       "  display: none;\n",
       "}\n",
       "\n",
       ".xr-header {\n",
       "  padding-top: 6px;\n",
       "  padding-bottom: 6px;\n",
       "  margin-bottom: 4px;\n",
       "  border-bottom: solid 1px var(--xr-border-color);\n",
       "}\n",
       "\n",
       ".xr-header > div,\n",
       ".xr-header > ul {\n",
       "  display: inline;\n",
       "  margin-top: 0;\n",
       "  margin-bottom: 0;\n",
       "}\n",
       "\n",
       ".xr-obj-type,\n",
       ".xr-array-name {\n",
       "  margin-left: 2px;\n",
       "  margin-right: 10px;\n",
       "}\n",
       "\n",
       ".xr-obj-type {\n",
       "  color: var(--xr-font-color2);\n",
       "}\n",
       "\n",
       ".xr-sections {\n",
       "  padding-left: 0 !important;\n",
       "  display: grid;\n",
       "  grid-template-columns: 150px auto auto 1fr 20px 20px;\n",
       "}\n",
       "\n",
       ".xr-section-item {\n",
       "  display: contents;\n",
       "}\n",
       "\n",
       ".xr-section-item input {\n",
       "  display: none;\n",
       "}\n",
       "\n",
       ".xr-section-item input + label {\n",
       "  color: var(--xr-disabled-color);\n",
       "}\n",
       "\n",
       ".xr-section-item input:enabled + label {\n",
       "  cursor: pointer;\n",
       "  color: var(--xr-font-color2);\n",
       "}\n",
       "\n",
       ".xr-section-item input:enabled + label:hover {\n",
       "  color: var(--xr-font-color0);\n",
       "}\n",
       "\n",
       ".xr-section-summary {\n",
       "  grid-column: 1;\n",
       "  color: var(--xr-font-color2);\n",
       "  font-weight: 500;\n",
       "}\n",
       "\n",
       ".xr-section-summary > span {\n",
       "  display: inline-block;\n",
       "  padding-left: 0.5em;\n",
       "}\n",
       "\n",
       ".xr-section-summary-in:disabled + label {\n",
       "  color: var(--xr-font-color2);\n",
       "}\n",
       "\n",
       ".xr-section-summary-in + label:before {\n",
       "  display: inline-block;\n",
       "  content: '►';\n",
       "  font-size: 11px;\n",
       "  width: 15px;\n",
       "  text-align: center;\n",
       "}\n",
       "\n",
       ".xr-section-summary-in:disabled + label:before {\n",
       "  color: var(--xr-disabled-color);\n",
       "}\n",
       "\n",
       ".xr-section-summary-in:checked + label:before {\n",
       "  content: '▼';\n",
       "}\n",
       "\n",
       ".xr-section-summary-in:checked + label > span {\n",
       "  display: none;\n",
       "}\n",
       "\n",
       ".xr-section-summary,\n",
       ".xr-section-inline-details {\n",
       "  padding-top: 4px;\n",
       "  padding-bottom: 4px;\n",
       "}\n",
       "\n",
       ".xr-section-inline-details {\n",
       "  grid-column: 2 / -1;\n",
       "}\n",
       "\n",
       ".xr-section-details {\n",
       "  display: none;\n",
       "  grid-column: 1 / -1;\n",
       "  margin-bottom: 5px;\n",
       "}\n",
       "\n",
       ".xr-section-summary-in:checked ~ .xr-section-details {\n",
       "  display: contents;\n",
       "}\n",
       "\n",
       ".xr-array-wrap {\n",
       "  grid-column: 1 / -1;\n",
       "  display: grid;\n",
       "  grid-template-columns: 20px auto;\n",
       "}\n",
       "\n",
       ".xr-array-wrap > label {\n",
       "  grid-column: 1;\n",
       "  vertical-align: top;\n",
       "}\n",
       "\n",
       ".xr-preview {\n",
       "  color: var(--xr-font-color3);\n",
       "}\n",
       "\n",
       ".xr-array-preview,\n",
       ".xr-array-data {\n",
       "  padding: 0 5px !important;\n",
       "  grid-column: 2;\n",
       "}\n",
       "\n",
       ".xr-array-data,\n",
       ".xr-array-in:checked ~ .xr-array-preview {\n",
       "  display: none;\n",
       "}\n",
       "\n",
       ".xr-array-in:checked ~ .xr-array-data,\n",
       ".xr-array-preview {\n",
       "  display: inline-block;\n",
       "}\n",
       "\n",
       ".xr-dim-list {\n",
       "  display: inline-block !important;\n",
       "  list-style: none;\n",
       "  padding: 0 !important;\n",
       "  margin: 0;\n",
       "}\n",
       "\n",
       ".xr-dim-list li {\n",
       "  display: inline-block;\n",
       "  padding: 0;\n",
       "  margin: 0;\n",
       "}\n",
       "\n",
       ".xr-dim-list:before {\n",
       "  content: '(';\n",
       "}\n",
       "\n",
       ".xr-dim-list:after {\n",
       "  content: ')';\n",
       "}\n",
       "\n",
       ".xr-dim-list li:not(:last-child):after {\n",
       "  content: ',';\n",
       "  padding-right: 5px;\n",
       "}\n",
       "\n",
       ".xr-has-index {\n",
       "  font-weight: bold;\n",
       "}\n",
       "\n",
       ".xr-var-list,\n",
       ".xr-var-item {\n",
       "  display: contents;\n",
       "}\n",
       "\n",
       ".xr-var-item > div,\n",
       ".xr-var-item label,\n",
       ".xr-var-item > .xr-var-name span {\n",
       "  background-color: var(--xr-background-color-row-even);\n",
       "  margin-bottom: 0;\n",
       "}\n",
       "\n",
       ".xr-var-item > .xr-var-name:hover span {\n",
       "  padding-right: 5px;\n",
       "}\n",
       "\n",
       ".xr-var-list > li:nth-child(odd) > div,\n",
       ".xr-var-list > li:nth-child(odd) > label,\n",
       ".xr-var-list > li:nth-child(odd) > .xr-var-name span {\n",
       "  background-color: var(--xr-background-color-row-odd);\n",
       "}\n",
       "\n",
       ".xr-var-name {\n",
       "  grid-column: 1;\n",
       "}\n",
       "\n",
       ".xr-var-dims {\n",
       "  grid-column: 2;\n",
       "}\n",
       "\n",
       ".xr-var-dtype {\n",
       "  grid-column: 3;\n",
       "  text-align: right;\n",
       "  color: var(--xr-font-color2);\n",
       "}\n",
       "\n",
       ".xr-var-preview {\n",
       "  grid-column: 4;\n",
       "}\n",
       "\n",
       ".xr-var-name,\n",
       ".xr-var-dims,\n",
       ".xr-var-dtype,\n",
       ".xr-preview,\n",
       ".xr-attrs dt {\n",
       "  white-space: nowrap;\n",
       "  overflow: hidden;\n",
       "  text-overflow: ellipsis;\n",
       "  padding-right: 10px;\n",
       "}\n",
       "\n",
       ".xr-var-name:hover,\n",
       ".xr-var-dims:hover,\n",
       ".xr-var-dtype:hover,\n",
       ".xr-attrs dt:hover {\n",
       "  overflow: visible;\n",
       "  width: auto;\n",
       "  z-index: 1;\n",
       "}\n",
       "\n",
       ".xr-var-attrs,\n",
       ".xr-var-data {\n",
       "  display: none;\n",
       "  background-color: var(--xr-background-color) !important;\n",
       "  padding-bottom: 5px !important;\n",
       "}\n",
       "\n",
       ".xr-var-attrs-in:checked ~ .xr-var-attrs,\n",
       ".xr-var-data-in:checked ~ .xr-var-data {\n",
       "  display: block;\n",
       "}\n",
       "\n",
       ".xr-var-data > table {\n",
       "  float: right;\n",
       "}\n",
       "\n",
       ".xr-var-name span,\n",
       ".xr-var-data,\n",
       ".xr-attrs {\n",
       "  padding-left: 25px !important;\n",
       "}\n",
       "\n",
       ".xr-attrs,\n",
       ".xr-var-attrs,\n",
       ".xr-var-data {\n",
       "  grid-column: 1 / -1;\n",
       "}\n",
       "\n",
       "dl.xr-attrs {\n",
       "  padding: 0;\n",
       "  margin: 0;\n",
       "  display: grid;\n",
       "  grid-template-columns: 125px auto;\n",
       "}\n",
       "\n",
       ".xr-attrs dt, dd {\n",
       "  padding: 0;\n",
       "  margin: 0;\n",
       "  float: left;\n",
       "  padding-right: 10px;\n",
       "  width: auto;\n",
       "}\n",
       "\n",
       ".xr-attrs dt {\n",
       "  font-weight: normal;\n",
       "  grid-column: 1;\n",
       "}\n",
       "\n",
       ".xr-attrs dt:hover span {\n",
       "  display: inline-block;\n",
       "  background: var(--xr-background-color);\n",
       "  padding-right: 10px;\n",
       "}\n",
       "\n",
       ".xr-attrs dd {\n",
       "  grid-column: 2;\n",
       "  white-space: pre-wrap;\n",
       "  word-break: break-all;\n",
       "}\n",
       "\n",
       ".xr-icon-database,\n",
       ".xr-icon-file-text2 {\n",
       "  display: inline-block;\n",
       "  vertical-align: middle;\n",
       "  width: 1em;\n",
       "  height: 1.5em !important;\n",
       "  stroke-width: 0;\n",
       "  stroke: currentColor;\n",
       "  fill: currentColor;\n",
       "}\n",
       "</style><pre class='xr-text-repr-fallback'>&lt;xarray.DataArray &#x27;pr&#x27; ()&gt;\n",
       "array(1.1694978e-08, dtype=float32)\n",
       "Attributes:\n",
       "    cell_measures:  area: areacella\n",
       "    cell_methods:   area: time: mean\n",
       "    comment:        at surface; includes both liquid and solid phases from al...\n",
       "    description:    at surface; includes both liquid and solid phases from al...\n",
       "    frequency:      mon\n",
       "    id:             pr\n",
       "    long_name:      Precipitation\n",
       "    mipTable:       Amon\n",
       "    out_name:       pr\n",
       "    prov:           Amon ((isd.003))\n",
       "    realm:          atmos\n",
       "    standard_name:  precipitation_flux\n",
       "    time:           time\n",
       "    time_label:     time-mean\n",
       "    time_title:     Temporal mean\n",
       "    title:          Precipitation\n",
       "    type:           real\n",
       "    units:          kg m-2 s-1\n",
       "    variable_id:    pr</pre><div class='xr-wrap' hidden><div class='xr-header'><div class='xr-obj-type'>xarray.DataArray</div><div class='xr-array-name'>'pr'</div></div><ul class='xr-sections'><li class='xr-section-item'><div class='xr-array-wrap'><input id='section-41c274e8-2eb6-4b5d-b75d-b3eaa97602e7' class='xr-array-in' type='checkbox' checked><label for='section-41c274e8-2eb6-4b5d-b75d-b3eaa97602e7' title='Show/hide data repr'><svg class='icon xr-icon-database'><use xlink:href='#icon-database'></use></svg></label><div class='xr-array-preview xr-preview'><span>1.1694978e-08</span></div><div class='xr-array-data'><pre>array(1.1694978e-08, dtype=float32)</pre></div></div></li><li class='xr-section-item'><input id='section-2425f0e8-691c-41ba-9508-cd647d15df5b' class='xr-section-summary-in' type='checkbox' disabled ><label for='section-2425f0e8-691c-41ba-9508-cd647d15df5b' class='xr-section-summary'  title='Expand/collapse section'>Coordinates: <span>(0)</span></label><div class='xr-section-inline-details'></div><div class='xr-section-details'><ul class='xr-var-list'></ul></div></li><li class='xr-section-item'><input id='section-92062e41-de1a-490e-8e60-cfafd2cd78c0' class='xr-section-summary-in' type='checkbox'  ><label for='section-92062e41-de1a-490e-8e60-cfafd2cd78c0' class='xr-section-summary' >Attributes: <span>(19)</span></label><div class='xr-section-inline-details'></div><div class='xr-section-details'><dl class='xr-attrs'><dt><span>cell_measures :</span></dt><dd>area: areacella</dd><dt><span>cell_methods :</span></dt><dd>area: time: mean</dd><dt><span>comment :</span></dt><dd>at surface; includes both liquid and solid phases from all types of clouds (both large-scale and convective)</dd><dt><span>description :</span></dt><dd>at surface; includes both liquid and solid phases from all types of clouds (both large-scale and convective)</dd><dt><span>frequency :</span></dt><dd>mon</dd><dt><span>id :</span></dt><dd>pr</dd><dt><span>long_name :</span></dt><dd>Precipitation</dd><dt><span>mipTable :</span></dt><dd>Amon</dd><dt><span>out_name :</span></dt><dd>pr</dd><dt><span>prov :</span></dt><dd>Amon ((isd.003))</dd><dt><span>realm :</span></dt><dd>atmos</dd><dt><span>standard_name :</span></dt><dd>precipitation_flux</dd><dt><span>time :</span></dt><dd>time</dd><dt><span>time_label :</span></dt><dd>time-mean</dd><dt><span>time_title :</span></dt><dd>Temporal mean</dd><dt><span>title :</span></dt><dd>Precipitation</dd><dt><span>type :</span></dt><dd>real</dd><dt><span>units :</span></dt><dd>kg m-2 s-1</dd><dt><span>variable_id :</span></dt><dd>pr</dd></dl></div></li></ul></div></div>"
      ],
      "text/plain": [
       "<xarray.DataArray 'pr' ()>\n",
       "array(1.1694978e-08, dtype=float32)\n",
       "Attributes:\n",
       "    cell_measures:  area: areacella\n",
       "    cell_methods:   area: time: mean\n",
       "    comment:        at surface; includes both liquid and solid phases from al...\n",
       "    description:    at surface; includes both liquid and solid phases from al...\n",
       "    frequency:      mon\n",
       "    id:             pr\n",
       "    long_name:      Precipitation\n",
       "    mipTable:       Amon\n",
       "    out_name:       pr\n",
       "    prov:           Amon ((isd.003))\n",
       "    realm:          atmos\n",
       "    standard_name:  precipitation_flux\n",
       "    time:           time\n",
       "    time_label:     time-mean\n",
       "    time_title:     Temporal mean\n",
       "    title:          Precipitation\n",
       "    type:           real\n",
       "    units:          kg m-2 s-1\n",
       "    variable_id:    pr"
      ]
     },
     "execution_count": 150,
     "metadata": {},
     "output_type": "execute_result"
    }
   ],
   "source": [
    "cc['pr'].max()"
   ]
  },
  {
   "cell_type": "code",
   "execution_count": 69,
   "metadata": {},
   "outputs": [
    {
     "data": {
      "text/plain": [
       "13.400000000000002"
      ]
     },
     "execution_count": 69,
     "metadata": {},
     "output_type": "execute_result"
    }
   ],
   "source": [
    "-12.6 + 23.8 + 2.2"
   ]
  },
  {
   "cell_type": "code",
   "execution_count": null,
   "metadata": {},
   "outputs": [],
   "source": []
  }
 ],
 "metadata": {
  "kernelspec": {
   "display_name": "Python 3",
   "language": "python",
   "name": "python3"
  },
  "language_info": {
   "codemirror_mode": {
    "name": "ipython",
    "version": 3
   },
   "file_extension": ".py",
   "mimetype": "text/x-python",
   "name": "python",
   "nbconvert_exporter": "python",
   "pygments_lexer": "ipython3",
   "version": "3.7.8"
  }
 },
 "nbformat": 4,
 "nbformat_minor": 4
}
