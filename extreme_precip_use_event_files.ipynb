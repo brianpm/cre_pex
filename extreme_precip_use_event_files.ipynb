{
 "cells": [
  {
   "cell_type": "code",
   "execution_count": 38,
   "metadata": {},
   "outputs": [],
   "source": [
    "from pathlib import Path\n",
    "import xarray as xr\n",
    "import matplotlib.pyplot as plt"
   ]
  },
  {
   "cell_type": "code",
   "execution_count": 3,
   "metadata": {},
   "outputs": [],
   "source": [
    "\n",
    "def quick_load_var(loc, var, table, model, experiment, member):\n",
    "    fils = sorted(\n",
    "        list(Path(loc).glob(\"_\".join([var, table, model, experiment, member, \"*.nc\"])))\n",
    "    )\n",
    "    if len(fils) == 0:\n",
    "        raise IOError(\"Can not find the files.\")\n",
    "    elif len(fils) == 1:\n",
    "        ds = xr.open_dataset(fils[0])\n",
    "    else:\n",
    "        ds = xr.open_mfdataset(fils, combine=\"by_coords\")\n",
    "    return ds[var].compute()"
   ]
  },
  {
   "cell_type": "code",
   "execution_count": 79,
   "metadata": {},
   "outputs": [],
   "source": [
    "def get_tropics_quantiles(da, threshold=None, q=0.99):\n",
    "    da_tropics = da.sel(lat=slice(-30, 30))  # SHOULD BE ADJUSTABLE\n",
    "    da_tropics_val = np.nanquantile(da_tropics, q)\n",
    "    if threshold is not None:\n",
    "        da_climo = da.mean(dim=\"time\")\n",
    "        da_process = np.where(\n",
    "            (da_climo >= threshold).sel(lat=slice(-30, 30)).broadcast_like(da_tropics),\n",
    "            da_tropics,\n",
    "            np.nan,\n",
    "        )\n",
    "        da_threshold_val = np.nanquantile(da_process, q)\n",
    "        print(\n",
    "            f\"Compare the tropics region ({da_tropics_val}) to the rainy tropics ({da_threshold_val})\"\n",
    "        )\n",
    "        return da_threshold_val\n",
    "    else:\n",
    "        print(f\"Quantile value: {da_tropics_val}\")\n",
    "        return da_tropics_val"
   ]
  },
  {
   "cell_type": "code",
   "execution_count": 13,
   "metadata": {},
   "outputs": [],
   "source": [
    "import pandas as pd\n",
    "import numpy as np\n",
    "def get_duration_and_size(lab, rettype='df'):\n",
    "    \"\"\"Returns either a Pandas DataFrame (default) or dictionary with keys that are event labels and values that are duration (days).\"\"\"\n",
    "    dur = dict()\n",
    "    # put eventID as key, values are dict: {duration: D, size: [s_0, ..., s_d]}\n",
    "    if isinstance(lab, np.ndarray):\n",
    "        labv = lab\n",
    "    else:\n",
    "        labv = lab.values  # converts to numpy array\n",
    "    for t in range(lab.shape[0]):\n",
    "        tmp = labv[t,:,:] # temporary time slice\n",
    "        present_events = set(tmp[tmp != 0]) # uniq events in this time\n",
    "        if len(present_events) > 0:\n",
    "            for ev in present_events:\n",
    "                if ev in dur:\n",
    "                    dur[ev]['duration'] += 1 # continuing\n",
    "                    dur[ev]['size'].append(np.count_nonzero(tmp==ev))\n",
    "                else:\n",
    "                    dur[ev] = dict() # new event\n",
    "                    dur[ev]['duration'] = 1\n",
    "                    dur[ev]['size'] = [np.count_nonzero(tmp==ev)]\n",
    "    if rettype == 'df':\n",
    "        # convert to dataFrame\n",
    "        df = pd.DataFrame.from_dict(dur, orient ='index')\n",
    "        # compute average size and include as a column\n",
    "        asiz = []\n",
    "        msiz = []\n",
    "        for s in df['size']:\n",
    "            asiz.append(np.mean(s))\n",
    "            msiz.append(np.max(s))\n",
    "        df['AvgSiz'] = asiz\n",
    "        df['MaxSiz'] = msiz\n",
    "        # get distribution of average size\n",
    "        return df\n",
    "    else:\n",
    "        return dur  # AvgSiz and MaxSiz not included in output dict."
   ]
  },
  {
   "cell_type": "code",
   "execution_count": 173,
   "metadata": {},
   "outputs": [],
   "source": [
    "# tup1 = (\"IPSL-CM6A-LR\", \"amip\", \"r1i1p1f1\")\n",
    "# tup2 = (\"IPSL-CM6A-LR\", \"amip-lwoff\", \"r1i1p1f1\")\n",
    "# tup1 = (\"IPSL-CM6A-LR\", \"aqua-control\", \"r1i1p1f1\")\n",
    "# tup2 = (\"IPSL-CM6A-LR\", \"aqua-control-lwoff\", \"r1i1p1f1\")\n",
    "\n",
    "# tup1 = (\"CESM2\", \"amip\", \"r1i1p1f1\")\n",
    "# tup2 = (\"CESM2\", \"amip-lwoff\", \"r1i1p1f1\")\n",
    "# tup1 = (\"CESM2\", \"aqua-control\", \"r1i1p1f1\")\n",
    "# tup2 = (\"CESM2\", \"aqua-control-lwoff\", \"r1i1p1f1\")\n",
    "\n",
    "# tup1 = (\"CNRM-CM6-1\", \"amip\", \"r1i1p1f2\")\n",
    "# tup2 = (\"CNRM-CM6-1\", \"amip-lwoff\", \"r1i1p1f2\")\n",
    "\n",
    "# tup1 = (\"CNRM-CM6-1\", \"aqua-control\", \"r1i1p1f2\")\n",
    "# tup2 = (\"CNRM-CM6-1\", \"aqua-control-lwoff\", \"r1i1p1f2\")\n",
    "\n",
    "tup1 = (\"MRI-ESM2-0\", \"amip\", \"r1i1p1f1\")\n",
    "tup2 = (\"MRI-ESM2-0\", \"amip-lwoff\", \"r1i1p1f1\")"
   ]
  },
  {
   "cell_type": "code",
   "execution_count": 174,
   "metadata": {},
   "outputs": [],
   "source": [
    "# load the precipitation data (could be other eventually)\n",
    "dloc = \"/Volumes/Glyph6TB/CMIP6\"\n",
    "\n",
    "pr1 = quick_load_var(dloc, \"pr\", \"day\", tup1[0], tup1[1], tup1[2])\n",
    "pr2 = quick_load_var(dloc, \"pr\", \"day\", *tup2)\n",
    "\n",
    "pr1 *= 86400.\n",
    "pr2 *= 86400\n",
    "\n",
    "\n",
    "if \"amip\" in tup1[1]:\n",
    "    land1 = quick_load_var(dloc, \"sftlf\", \"fx\", *tup1)\n",
    "    pr1 = pr1.where(land1 <= 0)\n",
    "if \"amip\" in tup2[1]:\n",
    "    land2 = quick_load_var(dloc, \"sftlf\", \"fx\", *tup2)\n",
    "    pr2 = pr2.where(land2 <= 0)\n",
    "\n"
   ]
  },
  {
   "cell_type": "code",
   "execution_count": 175,
   "metadata": {},
   "outputs": [],
   "source": [
    "# load the events\n",
    "ev1 = xr.open_dataset(Path(dloc) / (\"pr_events_\"+\"_\".join(tup1)+\".nc\"))['precip_events']\n",
    "ev2 = xr.open_dataset(Path(dloc) / (\"pr_events_\"+\"_\".join(tup2)+\".nc\"))['precip_events']"
   ]
  },
  {
   "cell_type": "code",
   "execution_count": 176,
   "metadata": {},
   "outputs": [],
   "source": [
    "pr1 = pr1.sel(lat=slice(-30,30))\n",
    "pr2 = pr2.sel(lat=slice(-30,30))"
   ]
  },
  {
   "cell_type": "code",
   "execution_count": 177,
   "metadata": {},
   "outputs": [],
   "source": [
    "# What if we only consider events that are longer than 1-day\n",
    "dursiz1 = get_duration_and_size(ev1)\n",
    "dursiz2 = get_duration_and_size(ev2)"
   ]
  },
  {
   "cell_type": "code",
   "execution_count": 178,
   "metadata": {},
   "outputs": [],
   "source": [
    "duration_crit = 2  # critical value for duration"
   ]
  },
  {
   "cell_type": "code",
   "execution_count": 179,
   "metadata": {},
   "outputs": [],
   "source": [
    "evlong1 = dursiz1.where(dursiz1['duration'] > duration_crit).dropna()\n",
    "# evlong1 only has event labels for longer events.\n",
    "# now we have to go and get the precipitation within those events\n",
    "evmask1 = np.in1d(ev1, evlong1.index.values).reshape(ev1.shape)\n",
    "pr1_long_events = pr1.where(evmask1)\n",
    "# now what to do with them?"
   ]
  },
  {
   "cell_type": "code",
   "execution_count": 180,
   "metadata": {},
   "outputs": [
    {
     "name": "stdout",
     "output_type": "stream",
     "text": [
      "CPU times: user 7.66 s, sys: 2.43 s, total: 10.1 s\n",
      "Wall time: 10.1 s\n"
     ]
    }
   ],
   "source": [
    "%%time\n",
    "pr1_all_events = pr1.where(np.in1d(ev1, dursiz1.index.values).reshape(ev1.shape))"
   ]
  },
  {
   "cell_type": "code",
   "execution_count": 181,
   "metadata": {},
   "outputs": [],
   "source": [
    "# do the same calcs for 2nd simulation:\n",
    "pr2_all_events = pr2.where(np.in1d(ev2, dursiz2.index.values).reshape(ev2.shape))\n",
    "evlong2 = dursiz2.where(dursiz2['duration'] > duration_crit).dropna()\n",
    "evmask2 = np.in1d(ev2, evlong2.index.values).reshape(ev2.shape)\n",
    "pr2_long_events = pr2.where(evmask2)"
   ]
  },
  {
   "cell_type": "code",
   "execution_count": 182,
   "metadata": {},
   "outputs": [],
   "source": [
    "# non-organized extreme precipitation is just the rest:\n",
    "evshort1 = dursiz1.where(dursiz1['duration'] <= duration_crit).dropna()\n",
    "evmask1sh = np.in1d(ev1, evshort1.index.values).reshape(ev1.shape)\n",
    "pr1_short_events = pr1.where(evmask1sh)\n",
    "\n",
    "evshort2 = dursiz2.where(dursiz2['duration'] <= duration_crit).dropna()\n",
    "evmask2sh = np.in1d(ev2, evshort2.index.values).reshape(ev2.shape)\n",
    "pr2_short_events = pr2.where(evmask2sh)\n"
   ]
  },
  {
   "cell_type": "code",
   "execution_count": 183,
   "metadata": {},
   "outputs": [],
   "source": [
    "# look at the distribution\n",
    "# first of all precipitation:\n",
    "hpr1, hpredge1 = np.histogram(pr1.values, bins=np.arange(-10., 210., 10), density=True)\n",
    "hpr1ctr = hpredge1[1:] + np.diff(hpredge1)\n",
    "hpr1frq = hpr1*np.diff(hpredge1)\n",
    "\n",
    "# second, all \"extreme\" precipitation:\n",
    "hpr1all, hpredge1all = np.histogram(pr1_all_events.values, bins=np.arange(-10., 210., 10), density=True)\n",
    "hpr1allctr = hpredge1all[1:] + np.diff(hpredge1all)\n",
    "hpr1allfrq = hpr1all*np.diff(hpredge1all)\n",
    "\n",
    "\n",
    "# finally, only \"extended extreme\" \n",
    "hpr1long, hpredge1long = np.histogram(pr1_long_events.values, bins=np.arange(-10., 210., 10), density=True)\n",
    "hpr1longctr = hpredge1long[1:] + np.diff(hpredge1long)\n",
    "hpr1longfrq = hpr1long*np.diff(hpredge1long)\n",
    "\n",
    "# PLUS --> non-organized extreme precip (r for random)\n",
    "h_prr1, h_prr1_edge = np.histogram(pr1_short_events.values, bins=np.arange(-10., 210., 10), density=True)\n",
    "h_prr1_ctr = h_prr1_edge[1:] + np.diff(h_prr1_edge)\n",
    "h_prr1_frq = h_prr1 * np.diff(h_prr1_edge)\n",
    "\n",
    "# 2nds simulation\n",
    "h_pr2, h_pr2_edge = np.histogram(pr2.values, bins=np.arange(-10., 210., 10), density=True)\n",
    "h_pr2_ctr = h_pr2_edge[1:] + np.diff(h_pr2_edge)\n",
    "h_pr2_frq = h_pr2 * np.diff(h_pr2_edge)\n",
    "\n",
    "h_prx2, h_prx2_edge = np.histogram(pr2_all_events.values, bins=np.arange(-10., 210., 10), density=True)\n",
    "h_prx2_ctr = h_prx2_edge[1:] + np.diff(h_prx2_edge)\n",
    "h_prx2_frq = h_prx2 * np.diff(h_prx2_edge)\n",
    "\n",
    "h_prxl2, h_prxl2_edge = np.histogram(pr2_long_events.values, bins=np.arange(-10., 210., 10), density=True)\n",
    "h_prxl2_ctr = h_prxl2_edge[1:] + np.diff(h_prxl2_edge)\n",
    "h_prxl2_frq = h_prxl2 * np.diff(h_prxl2_edge)\n",
    "\n",
    "h_prr2, h_prr2_edge = np.histogram(pr2_short_events.values, bins=np.arange(-10., 210., 10), density=True)\n",
    "h_prr2_ctr = h_prr2_edge[1:] + np.diff(h_prr2_edge)\n",
    "h_prr2_frq = h_prr2 * np.diff(h_prr2_edge)\n",
    "\n"
   ]
  },
  {
   "cell_type": "code",
   "execution_count": 186,
   "metadata": {},
   "outputs": [
    {
     "data": {
      "text/plain": [
       "[]"
      ]
     },
     "execution_count": 186,
     "metadata": {},
     "output_type": "execute_result"
    },
    {
     "data": {
      "image/png": "[encoded data removed]",
      "text/plain": [
       "<Figure size 432x288 with 1 Axes>"
      ]
     },
     "metadata": {
      "needs_background": "light"
     },
     "output_type": "display_data"
    }
   ],
   "source": [
    "fig, ax = plt.subplots()\n",
    "ax.step(hpr1ctr, hpr1frq, where='mid', color='C0', linewidth=3, alpha=.5)\n",
    "ax.step(hpr1allctr, hpr1allfrq, where='mid', color='C1', linewidth=3, alpha=.5)\n",
    "ax.step(hpr1longctr, hpr1longfrq, where='mid', color='C2', linewidth=3, alpha=.5)\n",
    "ax.step(h_prr1_ctr, h_prr1_frq, where='mid', color='C3', alpha=.5)\n",
    "\n",
    "ax.step(h_pr2_ctr, h_pr2_frq, where='mid', color='C0', linestyle=\"dashed\")\n",
    "ax.step(h_prx2_ctr, h_prx2_frq, where='mid', color='C1',linestyle='dashed')\n",
    "ax.step(h_prxl2_ctr, h_prxl2_frq, where='mid', color='C2',linestyle='dashed')\n",
    "ax.step(h_prr2_ctr, h_prr2_frq, where='mid', color='C3', linestyle='dashed')\n",
    "\n",
    "# ax.step(hpr2ctr, hpr2frq, where='mid')\n",
    "ax.set_xlabel(\"Precipitation (mm/day)\")\n",
    "ax.set_ylabel(\"(fraction)\")\n",
    "\n",
    "ax.semilogy()"
   ]
  },
  {
   "cell_type": "code",
   "execution_count": 185,
   "metadata": {},
   "outputs": [
    {
     "name": "stdout",
     "output_type": "stream",
     "text": [
      "Quantile value: 34.88654716491703\n",
      "Quantile value: 28.994909439086996\n",
      "Extreme contribution in control: 0.142, long-events 0.121\n",
      "In LWoff: 0.101, long-events 0.083\n"
     ]
    }
   ],
   "source": [
    "# Question: How much of the rain is associated with strong events that last > duration_critical?\n",
    "pr1_crit = get_tropics_quantiles(pr1, threshold=None, q=0.99)\n",
    "pr2_crit = get_tropics_quantiles(pr2, q=0.99)\n",
    "\n",
    "pr1_tot = pr1.sum()\n",
    "pr1_xsum = pr1.where(pr1 >= pr1_crit).sum()\n",
    "pr1_xcontrib = pr1_xsum / pr1_tot\n",
    "pr1_xlcontrib = pr1_long_events.sum()  / pr1_tot\n",
    "\n",
    "pr2_tot = pr2.sum()\n",
    "pr2_xsum = pr2.where(pr2 >= pr2_crit).sum()\n",
    "pr2_xcontrib = pr2_xsum / pr2_tot\n",
    "pr2_xlcontrib = pr2_long_events.sum() / pr2_tot\n",
    "\n",
    "print(f\"Extreme contribution in control: {pr1_xcontrib.values:.3f}, long-events {pr1_xlcontrib.values:.3f}\")\n",
    "print(f\"In LWoff: {pr2_xcontrib.values:.3f}, long-events {pr2_xlcontrib.values:.3f}\")"
   ]
  },
  {
   "cell_type": "code",
   "execution_count": null,
   "metadata": {},
   "outputs": [],
   "source": []
  }
 ],
 "metadata": {
  "kernelspec": {
   "display_name": "Python 3",
   "language": "python",
   "name": "python3"
  },
  "language_info": {
   "codemirror_mode": {
    "name": "ipython",
    "version": 3
   },
   "file_extension": ".py",
   "mimetype": "text/x-python",
   "name": "python",
   "nbconvert_exporter": "python",
   "pygments_lexer": "ipython3",
   "version": "3.8.5"
  }
 },
 "nbformat": 4,
 "nbformat_minor": 4
}
