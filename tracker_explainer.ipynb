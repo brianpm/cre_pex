{
 "cells": [
  {
   "cell_type": "code",
   "execution_count": 2,
   "metadata": {},
   "outputs": [],
   "source": [
    "import xarray as xr\n",
    "import numpy as np\n",
    "import matplotlib.pyplot as plt\n",
    "from matplotlib import colors"
   ]
  },
  {
   "cell_type": "code",
   "execution_count": 3,
   "metadata": {},
   "outputs": [],
   "source": [
    "import detect_and_track as dt"
   ]
  },
  {
   "cell_type": "code",
   "execution_count": 4,
   "metadata": {},
   "outputs": [],
   "source": [
    "%%capture\n",
    "from tqdm.notebook import tqdm\n",
    "tqdm().pandas()\n",
    "## This is for progress bars only ... not sure what `%%capture` does."
   ]
  },
  {
   "cell_type": "code",
   "execution_count": 5,
   "metadata": {},
   "outputs": [],
   "source": [
    "from scipy.ndimage import label, generate_binary_structure\n",
    "def alt_get_labels3d_np(da, crit):\n",
    "    \"\"\"Label events through time. (numpy array) \n",
    "    \n",
    "    This version uses a specific structure matrix that\n",
    "    is equivalent to specifying overlap in time.\n",
    "    The difference from using a default generate_binary_structure(3, 2)\n",
    "    matrix is that it handles merging/splitting a little more aggressively.\n",
    "    \"\"\"\n",
    "    mask = np.where(da >= crit, 1, 0)\n",
    "    assert len(mask.shape) == 3  # has to be time,lat,lon\n",
    "    structure_matrix = np.array([[[False,  False, False],\n",
    "        [ False,  True,  False],\n",
    "        [False,  False, False]],\n",
    "\n",
    "       [[ True,  True,  True],\n",
    "        [ True,  True,  True],\n",
    "        [ True,  True,  True]],\n",
    "\n",
    "       [[False,  False, False],\n",
    "        [ False,  True,  False],\n",
    "        [False,  False, False]]])\n",
    "    la, nf = label(mask, structure=structure_matrix)\n",
    "    # nf is just an integer\n",
    "    return la, nf"
   ]
  },
  {
   "cell_type": "code",
   "execution_count": 6,
   "metadata": {},
   "outputs": [],
   "source": [
    "def event_updater(arr, transformer_dict):\n",
    "    \"\"\"Updates labels to new values.\"\"\"\n",
    "    if isinstance(arr, xr.DataArray):\n",
    "        lll = arr.values\n",
    "    else:\n",
    "        lll = arr\n",
    "    new_labels = lll.copy()\n",
    "    for k in transformer_dict:\n",
    "        # make sure to identify points in lll otherwise you could be flipping values in new_labels.\n",
    "        new_labels = np.where(lll==k, transformer_dict[k], new_labels)\n",
    "    if isinstance(arr, xr.DataArray):\n",
    "        new_labels = xr.DataArray(new_labels, dims=arr.dims, coords=arr.coords)\n",
    "    return new_labels\n",
    "\n",
    "\n",
    "def stitchLabels(labels):\n",
    "    \"\"\"Temporal concatenation of overlapping events.\"\"\"\n",
    "    # \n",
    "    # rules:\n",
    "    # start from time=0 and march forward\n",
    "    # for each new time:\n",
    "    # - if an event does not overlap in space with a labeled event in time-1, it is given the next available label\n",
    "    # - if an event overlaps one previous event, it inherits that label\n",
    "    # - if an event overlaps more than one previous event, it inherits the smallest of the labels\n",
    "    # This allows splitting of events\n",
    "    print(f\"SHAPE: {labels.shape} => {labels.shape[0]}\")\n",
    "    output = labels.copy()\n",
    "    # initialize the labels:\n",
    "    last_id = np.max(labels[0,:,:])\n",
    "    for i in range(1,labels.shape[0]):\n",
    "        slice1 = labels[i,:,:]\n",
    "        nlbls = np.max(slice1)  # number of labels to check in current time.\n",
    "#         print(f\"Time: {i}, number of labels: {nlbls}\")\n",
    "        if nlbls == 0:\n",
    "            continue # no labels to deal with\n",
    "        slice0 = output[i-1,:,:] # make sure to look back at output b/c it has the \"correct\" labels.\n",
    "        transformer = {}  # dict: keys are the \"current label\" and values are the \"correct\" label\n",
    "        # every event gets an entry in transformer\n",
    "        for b in range(1,nlbls+1):  # there are nlbls that start at 1\n",
    "            previous_labels = np.where(slice1 == b, slice0, np.nan)\n",
    "            ppl = np.unique(previous_labels[~np.isnan(previous_labels)])\n",
    "            ppl = ppl[ppl!=0] # don't include non-events\n",
    "#             print(f\"b = {b}, ppl = {ppl}\")\n",
    "            if len(ppl) == 0:\n",
    "                # indicates no overlap\n",
    "                last_id += 1 \n",
    "#                 print(f\"No prev. label at point, so assign to {last_id}\")\n",
    "                transformer[b] = last_id\n",
    "            elif len(ppl) == 1:\n",
    "                # overlaps a single event, so continue that event\n",
    "                transformer[b] = int(ppl[0])\n",
    "            else:\n",
    "                # continue the \"oldest\" event\n",
    "                transformer[b] = int(np.min(ppl))\n",
    "#         print(f\"Time {i} Transformer: {transformer}\")\n",
    "        # update:\n",
    "        output[i,:,:] = event_updater(slice1, transformer)\n",
    "    return output\n",
    "        "
   ]
  },
  {
   "cell_type": "code",
   "execution_count": 7,
   "metadata": {},
   "outputs": [
    {
     "data": {
      "text/plain": [
       "Text(0.5, 0.98, 'MERGE')"
      ]
     },
     "execution_count": 7,
     "metadata": {},
     "output_type": "execute_result"
    },
    {
     "data": {
      "image/png": "[encoded data removed]",
      "text/plain": [
       "<Figure size 432x720 with 10 Axes>"
      ]
     },
     "metadata": {
      "needs_background": "light"
     },
     "output_type": "display_data"
    }
   ],
   "source": [
    "example01 = np.zeros((5,10,10))  # time, x, y\n",
    "example01[0, [3,5], [3,5]] = 1\n",
    "example01[0, 3, 5] = 1\n",
    "example01[0, 5, 3] = 1\n",
    "example01[1, [3,4], [3,4]] = 1\n",
    "example01[[2,3], [4], [4]] = 1\n",
    "\n",
    "# labs, numb = dt.get_labels_np(example01, 1)\n",
    "# labs = stitchLabels(labs)\n",
    "labs, numb = alt_get_labels3d_np(example01, 1)\n",
    "\n",
    "\n",
    "# create discrete colormap\n",
    "cmap = colors.ListedColormap(['white', 'blue', 'dodgerblue', 'red', 'firebrick'])\n",
    "bounds = [0,1,2,3,4,5]\n",
    "norm = colors.BoundaryNorm(bounds, cmap.N)\n",
    "\n",
    "fig, ax = plt.subplots(figsize=(6,10),nrows=5, ncols=2, sharey=True, sharex=True)\n",
    "for i in range(5):\n",
    "    ax[i,0].pcolormesh(example01[i,:,:])\n",
    "    ax[i,1].pcolormesh(labs[i,:,:], cmap=cmap, norm=norm)\n",
    "    ax[i,0].set_title(f\"time = {i}\")\n",
    "    \n",
    "[a.grid(which='major', axis='both', linestyle='-', color='gray', linewidth=1) for a in ax.ravel()]\n",
    "[a.set_xticks(np.arange(0, 10, 1)) for a in ax.ravel() ]\n",
    "[a.set_yticks(np.arange(0, 10, 1)) for a in ax.ravel()];\n",
    "fig.suptitle(\"MERGE\")"
   ]
  },
  {
   "cell_type": "code",
   "execution_count": 8,
   "metadata": {},
   "outputs": [
    {
     "name": "stdout",
     "output_type": "stream",
     "text": [
      "[[[0 0 0 0 0 0 0 0 0 0]\n",
      "  [0 0 0 0 0 0 0 0 0 0]\n",
      "  [0 0 0 0 0 0 0 0 0 0]\n",
      "  [0 0 0 1 0 2 0 0 0 0]\n",
      "  [0 0 0 0 0 0 0 0 0 0]\n",
      "  [0 0 0 3 0 4 0 0 0 0]\n",
      "  [0 0 0 0 0 0 0 0 0 0]\n",
      "  [0 0 0 0 0 0 0 0 0 0]\n",
      "  [0 0 0 0 0 0 0 0 0 0]\n",
      "  [0 0 0 0 0 0 0 0 0 0]]\n",
      "\n",
      " [[0 0 0 0 0 0 0 0 0 0]\n",
      "  [0 0 0 0 0 0 0 0 0 0]\n",
      "  [0 0 0 0 0 0 0 0 0 0]\n",
      "  [0 0 0 1 0 0 0 0 0 0]\n",
      "  [0 0 0 0 1 0 0 0 0 0]\n",
      "  [0 0 0 0 0 0 0 0 0 0]\n",
      "  [0 0 0 0 0 0 0 0 0 0]\n",
      "  [0 0 0 0 0 0 0 0 0 0]\n",
      "  [0 0 0 0 0 0 0 0 0 0]\n",
      "  [0 0 0 0 0 0 0 0 0 0]]\n",
      "\n",
      " [[0 0 0 0 0 0 0 0 0 0]\n",
      "  [0 0 0 0 0 0 0 0 0 0]\n",
      "  [0 0 0 0 0 0 0 0 0 0]\n",
      "  [0 0 0 0 0 0 0 0 0 0]\n",
      "  [0 0 0 0 1 0 0 0 0 0]\n",
      "  [0 0 0 0 0 0 0 0 0 0]\n",
      "  [0 0 0 0 0 0 0 0 0 0]\n",
      "  [0 0 0 0 0 0 0 0 0 0]\n",
      "  [0 0 0 0 0 0 0 0 0 0]\n",
      "  [0 0 0 0 0 0 0 0 0 0]]\n",
      "\n",
      " [[0 0 0 0 0 0 0 0 0 0]\n",
      "  [0 0 0 0 0 0 0 0 0 0]\n",
      "  [0 0 0 0 0 0 0 0 0 0]\n",
      "  [0 0 0 0 0 0 0 0 0 0]\n",
      "  [0 0 0 0 1 0 0 0 0 0]\n",
      "  [0 0 0 0 0 0 0 0 0 0]\n",
      "  [0 0 0 0 0 0 0 0 0 0]\n",
      "  [0 0 0 0 0 0 0 0 0 0]\n",
      "  [0 0 0 0 0 0 0 0 0 0]\n",
      "  [0 0 0 0 0 0 0 0 0 0]]\n",
      "\n",
      " [[0 0 0 0 0 0 0 0 0 0]\n",
      "  [0 0 0 0 0 0 0 0 0 0]\n",
      "  [0 0 0 0 0 0 0 0 0 0]\n",
      "  [0 0 0 0 0 0 0 0 0 0]\n",
      "  [0 0 0 0 0 0 0 0 0 0]\n",
      "  [0 0 0 0 0 0 0 0 0 0]\n",
      "  [0 0 0 0 0 0 0 0 0 0]\n",
      "  [0 0 0 0 0 0 0 0 0 0]\n",
      "  [0 0 0 0 0 0 0 0 0 0]\n",
      "  [0 0 0 0 0 0 0 0 0 0]]]\n"
     ]
    }
   ],
   "source": [
    "print(labs)"
   ]
  },
  {
   "cell_type": "code",
   "execution_count": 9,
   "metadata": {},
   "outputs": [
    {
     "data": {
      "image/png": "[encoded data removed]",
      "text/plain": [
       "<Figure size 432x720 with 10 Axes>"
      ]
     },
     "metadata": {
      "needs_background": "light"
     },
     "output_type": "display_data"
    }
   ],
   "source": [
    "example02 = np.zeros((5,10,10))  # time, x, y\n",
    "example02[0, 3, 3] = 1\n",
    "example02[1, [3,4,5], 3] = 1\n",
    "example02[2, [3,5], 3] = 1\n",
    "example02[3, [2,3], 3] = 1\n",
    "example02[3:, 5, [3,4]] = 1\n",
    "\n",
    "# labs, numb = dt.get_labels_np(example02, 1)\n",
    "# labs = stitchLabels(labs)\n",
    "\n",
    "labs, numb = alt_get_labels3d_np(example02, 1)\n",
    "\n",
    "# create discrete colormap\n",
    "cmap = colors.ListedColormap(['white', 'blue', 'dodgerblue', 'red', 'firebrick'])\n",
    "bounds = [0,1,2,3,4,5]\n",
    "norm = colors.BoundaryNorm(bounds, cmap.N)\n",
    "\n",
    "fig, ax = plt.subplots(figsize=(6,10),nrows=5, ncols=2, sharey=True, sharex=True)\n",
    "for i in range(5):\n",
    "    ax[i,0].pcolormesh(example02[i,:,:])\n",
    "    ax[i,1].pcolormesh(labs[i,:,:], cmap=cmap, norm=norm)\n",
    "    ax[i,0].set_title(f\"time = {i}\")\n",
    "    \n",
    "[a.grid(which='major', axis='both', linestyle='-', color='gray', linewidth=1) for a in ax.ravel()]\n",
    "[a.set_xticks(np.arange(0, 10, 1)) for a in ax.ravel() ]\n",
    "[a.set_yticks(np.arange(0, 10, 1)) for a in ax.ravel()];\n",
    "\n"
   ]
  },
  {
   "cell_type": "code",
   "execution_count": 10,
   "metadata": {},
   "outputs": [
    {
     "data": {
      "image/png": "[encoded data removed]",
      "text/plain": [
       "<Figure size 648x720 with 15 Axes>"
      ]
     },
     "metadata": {
      "needs_background": "light"
     },
     "output_type": "display_data"
    }
   ],
   "source": [
    "example03 = np.zeros((5,10,10))  # time, x, y\n",
    "example03[0, 3, 3] = 1\n",
    "example03[1, [3,4,5], 3] = 1\n",
    "example03[2, [3,5], 3] = 1\n",
    "example03[3, [2,3], 4] = 1\n",
    "example03[3:, 5, [3,4]] = 1\n",
    "example03[4, [2,3], 5] = 1\n",
    "\n",
    "\n",
    "# labs, numb = dt.get_labels_np(example03, 1)\n",
    "# labs = stitchLabels(labs)\n",
    "\n",
    "labsA, numbA = dt.get_labels3d_np(example03, 1)\n",
    "\n",
    "labs, numb = alt_get_labels3d_np(example03, 1)\n",
    "\n",
    "# create discrete colormap\n",
    "cmap = colors.ListedColormap(['white', 'blue', 'dodgerblue', 'red', 'firebrick'])\n",
    "bounds = [0,1,2,3,4,5]\n",
    "norm = colors.BoundaryNorm(bounds, cmap.N)\n",
    "\n",
    "fig, ax = plt.subplots(figsize=(9,10),nrows=5, ncols=3, sharey=True, sharex=True)\n",
    "for i in range(5):\n",
    "    ax[i,0].pcolormesh(example03[i,:,:])\n",
    "    ax[i,1].pcolormesh(labs[i,:,:], cmap=cmap, norm=norm)\n",
    "    ax[i,2].pcolormesh(labsA[i,:,:], cmap=cmap, norm=norm)\n",
    "    ax[i,0].set_title(f\"time = {i}\")\n",
    "    \n",
    "[a.grid(which='major', axis='both', linestyle='-', color='gray', linewidth=1) for a in ax.ravel()]\n",
    "[a.set_xticks(np.arange(0, 10, 1)) for a in ax.ravel() ]\n",
    "[a.set_yticks(np.arange(0, 10, 1)) for a in ax.ravel()];\n",
    "\n",
    "\n"
   ]
  },
  {
   "cell_type": "code",
   "execution_count": 11,
   "metadata": {},
   "outputs": [
    {
     "data": {
      "image/png": "[encoded data removed]",
      "text/plain": [
       "<Figure size 432x720 with 10 Axes>"
      ]
     },
     "metadata": {
      "needs_background": "light"
     },
     "output_type": "display_data"
    }
   ],
   "source": [
    "example04 = np.zeros((5,10,10))  # time, x, y\n",
    "example04[0, 3, 3] = 1\n",
    "example04[:, [1,2], 5] = 1\n",
    "example04[1, [3,4,5], 3] = 1\n",
    "example04[2, [3,5], 3] = 1\n",
    "example04[3, [2,3], 4] = 1\n",
    "example04[3:, 5, [3,4]] = 1\n",
    "example04[4, [2,3], 5] = 1\n",
    "\n",
    "\n",
    "# labs, numb = dt.get_labels_np(example04, 1)\n",
    "# labs = stitchLabels(labs)\n",
    "labs, numb = alt_get_labels3d_np(example04, 1)\n",
    "\n",
    "# create discrete colormap\n",
    "cmap = colors.ListedColormap(['white', 'blue', 'dodgerblue', 'red', 'firebrick'])\n",
    "bounds = [0,1,2,3,4,5]\n",
    "norm = colors.BoundaryNorm(bounds, cmap.N)\n",
    "\n",
    "fig, ax = plt.subplots(figsize=(6,10),nrows=5, ncols=2, sharey=True, sharex=True)\n",
    "for i in range(5):\n",
    "    ax[i,0].pcolormesh(example04[i,:,:])\n",
    "    ax[i,1].pcolormesh(labs[i,:,:], cmap=cmap, norm=norm)\n",
    "    ax[i,0].set_title(f\"time = {i}\")\n",
    "    \n",
    "[a.grid(which='major', axis='both', linestyle='-', color='gray', linewidth=1) for a in ax.ravel()]\n",
    "[a.set_xticks(np.arange(0, 10, 1)) for a in ax.ravel() ]\n",
    "[a.set_yticks(np.arange(0, 10, 1)) for a in ax.ravel()];"
   ]
  },
  {
   "cell_type": "code",
   "execution_count": 12,
   "metadata": {},
   "outputs": [
    {
     "data": {
      "image/png": "[encoded data removed]",
      "text/plain": [
       "<Figure size 648x720 with 15 Axes>"
      ]
     },
     "metadata": {
      "needs_background": "light"
     },
     "output_type": "display_data"
    }
   ],
   "source": [
    "example05 = np.zeros((5,10,10))  # time, x, y\n",
    "example05[0, 3, 3] = 1\n",
    "example05[:, [1,2], 5] = 1\n",
    "example05[1, [3,4,5], 3] = 1\n",
    "example05[2, [3,5], 3] = 1\n",
    "example05[3, [2,3], 4] = 1\n",
    "example05[3:, 5, [3,4]] = 1\n",
    "example05[4, [2,3], 5] = 1\n",
    "\n",
    "\n",
    "# labs, numb = dt.get_labels_np(example03, 1)\n",
    "# labs = stitchLabels(labs)\n",
    "\n",
    "labsA, numbA = dt.get_labels3d_np(example05, 1)\n",
    "\n",
    "labs, numb = alt_get_labels3d_np(example05, 1)\n",
    "\n",
    "# create discrete colormap\n",
    "cmap = colors.ListedColormap(['white', 'blue', 'dodgerblue', 'red', 'firebrick'])\n",
    "bounds = [0,1,2,3,4,5]\n",
    "norm = colors.BoundaryNorm(bounds, cmap.N)\n",
    "\n",
    "fig, ax = plt.subplots(figsize=(9,10),nrows=5, ncols=3, sharey=True, sharex=True)\n",
    "for i in range(5):\n",
    "    ax[i,0].pcolormesh(example05[i,:,:])\n",
    "    ax[i,1].pcolormesh(labs[i,:,:], cmap=cmap, norm=norm)\n",
    "    ax[i,2].pcolormesh(labsA[i,:,:], cmap=cmap, norm=norm)\n",
    "    ax[i,0].set_title(f\"time = {i}\")\n",
    "    \n",
    "[a.grid(which='major', axis='both', linestyle='-', color='gray', linewidth=1) for a in ax.ravel()]\n",
    "[a.set_xticks(np.arange(0, 10, 1)) for a in ax.ravel() ]\n",
    "[a.set_yticks(np.arange(0, 10, 1)) for a in ax.ravel()];\n"
   ]
  },
  {
   "cell_type": "code",
   "execution_count": 50,
   "metadata": {},
   "outputs": [
    {
     "name": "stdout",
     "output_type": "stream",
     "text": [
      "1\n",
      "2\n",
      "3\n",
      "4\n",
      "5\n",
      "6\n",
      "7\n",
      "8\n",
      "9\n"
     ]
    }
   ],
   "source": [
    "for i in range(1, 10):\n",
    "    print(i)"
   ]
  },
  {
   "cell_type": "code",
   "execution_count": 98,
   "metadata": {},
   "outputs": [],
   "source": [
    "A = np.array([np.nan, 3, np.nan, 0, np.nan, 3, 0, 0, 1])\n",
    "B = np.unique(A[~np.isnan(A)])"
   ]
  },
  {
   "cell_type": "code",
   "execution_count": 103,
   "metadata": {},
   "outputs": [
    {
     "data": {
      "text/plain": [
       "array([0., 1., 3.])"
      ]
     },
     "execution_count": 103,
     "metadata": {},
     "output_type": "execute_result"
    }
   ],
   "source": [
    "np.unique(A[~np.isnan(A)])"
   ]
  },
  {
   "cell_type": "code",
   "execution_count": 63,
   "metadata": {},
   "outputs": [],
   "source": [
    "def proc_np(arr):\n",
    "    arr *= 2"
   ]
  },
  {
   "cell_type": "code",
   "execution_count": 109,
   "metadata": {},
   "outputs": [
    {
     "name": "stdout",
     "output_type": "stream",
     "text": [
      "[1 4]\n"
     ]
    }
   ],
   "source": [
    "A = np.array([0, 1, 4])\n",
    "A = A[A!=0]\n",
    "print(A)"
   ]
  },
  {
   "cell_type": "code",
   "execution_count": 104,
   "metadata": {},
   "outputs": [
    {
     "data": {
      "text/plain": [
       "array([0, 1])"
      ]
     },
     "execution_count": 104,
     "metadata": {},
     "output_type": "execute_result"
    }
   ],
   "source": [
    "np.intersect1d(np.nonzero(A), ~np.isnan(A))"
   ]
  },
  {
   "cell_type": "code",
   "execution_count": 107,
   "metadata": {},
   "outputs": [
    {
     "data": {
      "text/plain": [
       "array([ True,  True,  True, False,  True,  True, False, False,  True])"
      ]
     },
     "execution_count": 107,
     "metadata": {},
     "output_type": "execute_result"
    }
   ],
   "source": [
    "A != 0"
   ]
  },
  {
   "cell_type": "code",
   "execution_count": 40,
   "metadata": {},
   "outputs": [
    {
     "data": {
      "text/plain": [
       "array([[[False,  True, False],\n",
       "        [ True,  True,  True],\n",
       "        [False,  True, False]],\n",
       "\n",
       "       [[ True,  True,  True],\n",
       "        [ True,  True,  True],\n",
       "        [ True,  True,  True]],\n",
       "\n",
       "       [[False,  True, False],\n",
       "        [ True,  True,  True],\n",
       "        [False,  True, False]]])"
      ]
     },
     "execution_count": 40,
     "metadata": {},
     "output_type": "execute_result"
    }
   ],
   "source": [
    "generate_binary_structure(3,2)"
   ]
  },
  {
   "cell_type": "code",
   "execution_count": null,
   "metadata": {},
   "outputs": [],
   "source": []
  }
 ],
 "metadata": {
  "kernelspec": {
   "display_name": "Python 3",
   "language": "python",
   "name": "python3"
  },
  "language_info": {
   "codemirror_mode": {
    "name": "ipython",
    "version": 3
   },
   "file_extension": ".py",
   "mimetype": "text/x-python",
   "name": "python",
   "nbconvert_exporter": "python",
   "pygments_lexer": "ipython3",
   "version": "3.7.8"
  }
 },
 "nbformat": 4,
 "nbformat_minor": 4
}
